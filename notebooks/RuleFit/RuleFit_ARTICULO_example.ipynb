{
 "cells": [
  {
   "cell_type": "code",
   "execution_count": 15,
   "outputs": [],
   "source": [
    "from sklearn.datasets import load_iris\n",
    "import pandas as pd\n",
    "from sklearn.model_selection import train_test_split\n",
    "import numpy as np\n",
    "import pandas as pd\n",
    "from sklearn.datasets import load_iris\n",
    "from sklearn.utils import Bunch\n",
    "from sklearn.datasets._base import load_csv_data\n",
    "from sklearn import metrics\n",
    "from sklearn.preprocessing import OneHotEncoder\n",
    "from sklearn.compose import make_column_transformer"
   ],
   "metadata": {
    "collapsed": false,
    "ExecuteTime": {
     "start_time": "2023-04-19T13:19:39.901480Z",
     "end_time": "2023-04-19T13:19:39.950026Z"
    }
   }
  },
  {
   "cell_type": "markdown",
   "source": [
    "# Load Dataset"
   ],
   "metadata": {
    "collapsed": false
   }
  },
  {
   "cell_type": "code",
   "execution_count": 16,
   "outputs": [
    {
     "data": {
      "text/plain": "   EMERGENCY_DIA_SHORT_F05  EMERGENCY_DIA_SHORT_J12  EMERGENCY_DIA_SHORT_R06  \\\n0                      0.0                      0.0                      0.0   \n1                      0.0                      0.0                      0.0   \n2                      0.0                      0.0                      0.0   \n3                      0.0                      0.0                      0.0   \n4                      0.0                      0.0                      0.0   \n\n   EMERGENCY_DIA_SHORT_K52  EMERGENCY_DIA_SHORT_I10  EMERGENCY_DIA_SHORT_J22  \\\n0                      0.0                      0.0                      0.0   \n1                      0.0                      0.0                      0.0   \n2                      0.0                      0.0                      0.0   \n3                      0.0                      0.0                      0.0   \n4                      0.0                      0.0                      0.0   \n\n   EMERGENCY_DIA_SHORT_J84  EMERGENCY_DIA_SHORT_E87  EMERGENCY_DIA_SHORT_R09  \\\n0                      0.0                      0.0                      0.0   \n1                      0.0                      0.0                      0.0   \n2                      0.0                      0.0                      0.0   \n3                      0.0                      0.0                      0.0   \n4                      0.0                      0.0                      0.0   \n\n   EMERGENCY_DIA_SHORT_J98  ...  ANTECEDENTS_PROC_BW03ZZZ  \\\n0                      0.0  ...                       1.0   \n1                      0.0  ...                       1.0   \n2                      0.0  ...                       1.0   \n3                      0.0  ...                       0.0   \n4                      0.0  ...                       1.0   \n\n   ANTECEDENTS_PROC_0TPBX0Z  ANTECEDENTS_PROC_F0796FZ  \\\n0                       0.0                       0.0   \n1                       0.0                       0.0   \n2                       0.0                       0.0   \n3                       0.0                       0.0   \n4                       0.0                       0.0   \n\n   ANTECEDENTS_PROC_4A12X4Z  ANTECEDENTS_PROC_3E03329  SEXO  AGE_LOWER_40  \\\n0                       0.0                       1.0     0             0   \n1                       0.0                       1.0     0             0   \n2                       0.0                       1.0     0             0   \n3                       0.0                       0.0     1             0   \n4                       0.0                       0.0     1             0   \n\n   AGE_40_60  AGE_HIGHER_60  RESULT  \n0          0              1       1  \n1          1              0       0  \n2          0              1       0  \n3          1              0       0  \n4          0              1       1  \n\n[5 rows x 120 columns]",
      "text/html": "<div>\n<style scoped>\n    .dataframe tbody tr th:only-of-type {\n        vertical-align: middle;\n    }\n\n    .dataframe tbody tr th {\n        vertical-align: top;\n    }\n\n    .dataframe thead th {\n        text-align: right;\n    }\n</style>\n<table border=\"1\" class=\"dataframe\">\n  <thead>\n    <tr style=\"text-align: right;\">\n      <th></th>\n      <th>EMERGENCY_DIA_SHORT_F05</th>\n      <th>EMERGENCY_DIA_SHORT_J12</th>\n      <th>EMERGENCY_DIA_SHORT_R06</th>\n      <th>EMERGENCY_DIA_SHORT_K52</th>\n      <th>EMERGENCY_DIA_SHORT_I10</th>\n      <th>EMERGENCY_DIA_SHORT_J22</th>\n      <th>EMERGENCY_DIA_SHORT_J84</th>\n      <th>EMERGENCY_DIA_SHORT_E87</th>\n      <th>EMERGENCY_DIA_SHORT_R09</th>\n      <th>EMERGENCY_DIA_SHORT_J98</th>\n      <th>...</th>\n      <th>ANTECEDENTS_PROC_BW03ZZZ</th>\n      <th>ANTECEDENTS_PROC_0TPBX0Z</th>\n      <th>ANTECEDENTS_PROC_F0796FZ</th>\n      <th>ANTECEDENTS_PROC_4A12X4Z</th>\n      <th>ANTECEDENTS_PROC_3E03329</th>\n      <th>SEXO</th>\n      <th>AGE_LOWER_40</th>\n      <th>AGE_40_60</th>\n      <th>AGE_HIGHER_60</th>\n      <th>RESULT</th>\n    </tr>\n  </thead>\n  <tbody>\n    <tr>\n      <th>0</th>\n      <td>0.0</td>\n      <td>0.0</td>\n      <td>0.0</td>\n      <td>0.0</td>\n      <td>0.0</td>\n      <td>0.0</td>\n      <td>0.0</td>\n      <td>0.0</td>\n      <td>0.0</td>\n      <td>0.0</td>\n      <td>...</td>\n      <td>1.0</td>\n      <td>0.0</td>\n      <td>0.0</td>\n      <td>0.0</td>\n      <td>1.0</td>\n      <td>0</td>\n      <td>0</td>\n      <td>0</td>\n      <td>1</td>\n      <td>1</td>\n    </tr>\n    <tr>\n      <th>1</th>\n      <td>0.0</td>\n      <td>0.0</td>\n      <td>0.0</td>\n      <td>0.0</td>\n      <td>0.0</td>\n      <td>0.0</td>\n      <td>0.0</td>\n      <td>0.0</td>\n      <td>0.0</td>\n      <td>0.0</td>\n      <td>...</td>\n      <td>1.0</td>\n      <td>0.0</td>\n      <td>0.0</td>\n      <td>0.0</td>\n      <td>1.0</td>\n      <td>0</td>\n      <td>0</td>\n      <td>1</td>\n      <td>0</td>\n      <td>0</td>\n    </tr>\n    <tr>\n      <th>2</th>\n      <td>0.0</td>\n      <td>0.0</td>\n      <td>0.0</td>\n      <td>0.0</td>\n      <td>0.0</td>\n      <td>0.0</td>\n      <td>0.0</td>\n      <td>0.0</td>\n      <td>0.0</td>\n      <td>0.0</td>\n      <td>...</td>\n      <td>1.0</td>\n      <td>0.0</td>\n      <td>0.0</td>\n      <td>0.0</td>\n      <td>1.0</td>\n      <td>0</td>\n      <td>0</td>\n      <td>0</td>\n      <td>1</td>\n      <td>0</td>\n    </tr>\n    <tr>\n      <th>3</th>\n      <td>0.0</td>\n      <td>0.0</td>\n      <td>0.0</td>\n      <td>0.0</td>\n      <td>0.0</td>\n      <td>0.0</td>\n      <td>0.0</td>\n      <td>0.0</td>\n      <td>0.0</td>\n      <td>0.0</td>\n      <td>...</td>\n      <td>0.0</td>\n      <td>0.0</td>\n      <td>0.0</td>\n      <td>0.0</td>\n      <td>0.0</td>\n      <td>1</td>\n      <td>0</td>\n      <td>1</td>\n      <td>0</td>\n      <td>0</td>\n    </tr>\n    <tr>\n      <th>4</th>\n      <td>0.0</td>\n      <td>0.0</td>\n      <td>0.0</td>\n      <td>0.0</td>\n      <td>0.0</td>\n      <td>0.0</td>\n      <td>0.0</td>\n      <td>0.0</td>\n      <td>0.0</td>\n      <td>0.0</td>\n      <td>...</td>\n      <td>1.0</td>\n      <td>0.0</td>\n      <td>0.0</td>\n      <td>0.0</td>\n      <td>0.0</td>\n      <td>1</td>\n      <td>0</td>\n      <td>0</td>\n      <td>1</td>\n      <td>1</td>\n    </tr>\n  </tbody>\n</table>\n<p>5 rows × 120 columns</p>\n</div>"
     },
     "execution_count": 16,
     "metadata": {},
     "output_type": "execute_result"
    }
   ],
   "source": [
    "# Load Dataset\n",
    "target_true = '1'\n",
    "target_false = '0'\n",
    "test_size = 0.2\n",
    "filename = 'clean_dataset'\n",
    "\n",
    "\n",
    "\n",
    "data_file_name = f'../../data/{filename}.csv'\n",
    "pandas_dataset = pd.read_csv(data_file_name)\n",
    "\n",
    "target_value_name = pandas_dataset.columns[-1]\n",
    "feature_names = pandas_dataset.columns[0:-1]\n",
    "\n",
    "pandas_dataset.head()"
   ],
   "metadata": {
    "collapsed": false,
    "ExecuteTime": {
     "start_time": "2023-04-19T13:19:39.911913Z",
     "end_time": "2023-04-19T13:19:40.003127Z"
    }
   }
  },
  {
   "cell_type": "markdown",
   "source": [
    "# Divide dataset"
   ],
   "metadata": {
    "collapsed": false
   }
  },
  {
   "cell_type": "code",
   "execution_count": 17,
   "outputs": [
    {
     "name": "stdout",
     "output_type": "stream",
     "text": [
      "\n",
      "Sizes (without target):\n",
      "Original size (1744, 119)\n",
      "Train size (1395, 119)\n",
      "Test size (349, 119)\n"
     ]
    }
   ],
   "source": [
    "X = pandas_dataset[feature_names]\n",
    "y = pandas_dataset[target_value_name]\n",
    "\n",
    "dataset = Bunch(\n",
    "        data=X.to_numpy(),\n",
    "        target=y.to_numpy(),\n",
    "        target_names=target_value_name,\n",
    "        feature_names=X.columns\n",
    ")\n",
    "\n",
    "#Define dataset\n",
    "X_train, X_test, y_train, y_test = train_test_split(dataset.data, dataset.target, test_size=test_size, random_state=1)\n",
    "encoded_train_pandas_dataset = pd.DataFrame(data= np.c_[X_train, y_train], columns= list(dataset['feature_names']) + [target_value_name])\n",
    "encoded_test_pandas_dataset = pd.DataFrame(data= np.c_[X_test, y_test], columns= list(dataset['feature_names']) + [target_value_name])\n",
    "print()\n",
    "print('Sizes (without target):')\n",
    "print(f'Original size {dataset.data.shape}')\n",
    "print(f'Train size {X_train.shape}')\n",
    "print(f'Test size {X_test.shape}')"
   ],
   "metadata": {
    "collapsed": false,
    "ExecuteTime": {
     "start_time": "2023-04-19T13:19:39.952161Z",
     "end_time": "2023-04-19T13:19:40.017146Z"
    }
   }
  },
  {
   "cell_type": "markdown",
   "source": [
    "# DEFINE RULEFIT"
   ],
   "metadata": {
    "collapsed": false
   }
  },
  {
   "cell_type": "code",
   "execution_count": 18,
   "outputs": [],
   "source": [
    "from sklearn.model_selection import train_test_split\n",
    "from imodels import get_clean_dataset, HSTreeClassifierCV, RuleFitClassifier, \\\n",
    "    SkopeRulesClassifier, OneRClassifier  # import any imodels model here\n",
    "\n",
    "\n",
    "# fit the model\n",
    "model = RuleFitClassifier()  # initialize a tree model and specify only 4 leaf nodes\n"
   ],
   "metadata": {
    "collapsed": false,
    "ExecuteTime": {
     "start_time": "2023-04-19T13:19:39.958333Z",
     "end_time": "2023-04-19T13:19:40.017328Z"
    }
   }
  },
  {
   "cell_type": "markdown",
   "source": [
    "# FIT"
   ],
   "metadata": {
    "collapsed": false
   }
  },
  {
   "cell_type": "code",
   "execution_count": 19,
   "outputs": [],
   "source": [
    "\n",
    "model.fit(X_train, y_train, feature_names=feature_names)   # fit model\n",
    "preds = model.predict(X_test) # discrete predictions: shape is (n_test, 1)\n",
    "preds_proba = model.predict_proba(X_test) # predicted probabilities: shape is (n_test, n_classes)"
   ],
   "metadata": {
    "collapsed": false,
    "ExecuteTime": {
     "start_time": "2023-04-19T13:19:39.966336Z",
     "end_time": "2023-04-19T13:19:43.106381Z"
    }
   }
  },
  {
   "cell_type": "markdown",
   "source": [
    "# PRINT MODEL"
   ],
   "metadata": {
    "collapsed": false
   }
  },
  {
   "cell_type": "code",
   "execution_count": 20,
   "outputs": [
    {
     "name": "stdout",
     "output_type": "stream",
     "text": [
      "Number of rules: 18\n",
      "> AGE_HIGHER_60 <= 0.5\n",
      "> AGE_HIGHER_60 <= 0.5 and ANTECEDENTS_DIA_SHORT_R99 <= 0.5\n",
      "> ANTECEDENTS_PROC_0BH17EZ <= 0.5 and ANTECEDENTS_PROC_3E0337Z <= 0.5 and ANTECEDENTS_PROC_8E0ZXY6 > 0.5\n",
      "> AGE_HIGHER_60 <= 0.5 and ANTECEDENTS_DIA_SHORT_G20 <= 0.5\n",
      "> AGE_HIGHER_60 > 0.5 and ANTECEDENTS_DIA_SHORT_F05 <= 0.5 and ANTECEDENTS_DIA_SHORT_J80 <= 0.5 and ANTECEDENTS_DIA_SHORT_R99 <= 0.5 and ANTECEDENTS_PROC_3E0337Z <= 0.5 and ANTECEDENTS_PROC_8E0ZXY6 > 0.5\n",
      "> ANTECEDENTS_DIA_SHORT_F09 <= 0.5 and ANTECEDENTS_DIA_SHORT_J80 <= 0.5 and ANTECEDENTS_DIA_SHORT_R99 <= 0.5 and ANTECEDENTS_PROC_3E013NZ <= 0.5 and ANTECEDENTS_PROC_3E03328 <= 0.5 and EMERGENCY_DIA_SHORT_R06 <= 0.5\n",
      "> ANTECEDENTS_DIA_SHORT_G20 <= 0.5 and ANTECEDENTS_DIA_SHORT_R99 <= 0.5 and ANTECEDENTS_PROC_3E013NZ <= 0.5 and ANTECEDENTS_PROC_8E0ZXY6 > 0.5\n",
      "> ANTECEDENTS_DIA_SHORT_F05 <= 0.5 and ANTECEDENTS_DIA_SHORT_R99 <= 0.5 and EMERGENCY_DIA_SHORT_J96 <= 0.5\n",
      "> ANTECEDENTS_DIA_SHORT_J80 <= 0.5 and ANTECEDENTS_DIA_SHORT_R99 <= 0.5\n",
      "> ANTECEDENTS_PROC_3E013NZ <= 0.5 and ANTECEDENTS_PROC_3E0337Z <= 0.5 and ANTECEDENTS_PROC_5A1955Z <= 0.5 and EMERGENCY_DIA_SHORT_I50 <= 0.5\n",
      "> ANTECEDENTS_DIA_SHORT_F05 <= 0.5 and ANTECEDENTS_DIA_SHORT_F09 <= 0.5 and ANTECEDENTS_DIA_SHORT_R99 <= 0.5 and ANTECEDENTS_PROC_0BH17EZ <= 0.5 and ANTECEDENTS_PROC_3E013NZ <= 0.5\n",
      "> ANTECEDENTS_DIA_SHORT_J80 <= 0.5 and ANTECEDENTS_DIA_SHORT_R99 <= 0.5 and ANTECEDENTS_PROC_3E013NZ <= 0.5\n",
      "> AGE_HIGHER_60 > 0.5\n",
      "> AGE_HIGHER_60 > 0.5 and ANTECEDENTS_PROC_3E013GC <= 0.5\n",
      "> AGE_HIGHER_60 > 0.5 and ANTECEDENTS_PROC_3E03329 > 0.5 and ANTECEDENTS_PROC_3E0337Z > 0.5\n",
      "> AGE_HIGHER_60 > 0.5 and ANTECEDENTS_PROC_3E0337Z > 0.5 and EMERGENCY_DIA_SHORT_J12 <= 0.5 and EMERGENCY_DIA_SHORT_J98 <= 0.5\n",
      "> AGE_HIGHER_60 > 0.5 and ANTECEDENTS_PROC_3E0330M <= 0.5 and ANTECEDENTS_PROC_3E0337Z > 0.5 and SEXO <= 0.5\n",
      "> AGE_40_60 <= 0.5 and ANTECEDENTS_PROC_3E0333Z > 0.5 and ANTECEDENTS_PROC_3E0337Z > 0.5 and ANTECEDENTS_PROC_3E033NZ > 0.5\n"
     ]
    }
   ],
   "source": [
    "#print(model) # print the model\n",
    "print(f'Number of rules: {len(model.rules_)}')\n",
    "for rule in model.rules_:\n",
    "    print(f'> {rule}')"
   ],
   "metadata": {
    "collapsed": false,
    "ExecuteTime": {
     "start_time": "2023-04-19T13:19:43.106774Z",
     "end_time": "2023-04-19T13:19:43.112901Z"
    }
   }
  },
  {
   "cell_type": "markdown",
   "source": [
    "# EFICACIA"
   ],
   "metadata": {
    "collapsed": false
   }
  },
  {
   "cell_type": "code",
   "execution_count": 21,
   "outputs": [
    {
     "name": "stdout",
     "output_type": "stream",
     "text": [
      "RF accuracy: 84.53%\n"
     ]
    }
   ],
   "source": [
    "ensemble_accuracy = metrics.accuracy_score(y_test, preds, normalize=True)\n",
    "print('RF accuracy:',str(\"{:.2f}\".format(100*ensemble_accuracy))+'%')"
   ],
   "metadata": {
    "collapsed": false,
    "ExecuteTime": {
     "start_time": "2023-04-19T13:19:43.115101Z",
     "end_time": "2023-04-19T13:19:43.120214Z"
    }
   }
  },
  {
   "cell_type": "code",
   "execution_count": 21,
   "outputs": [],
   "source": [],
   "metadata": {
    "collapsed": false,
    "ExecuteTime": {
     "start_time": "2023-04-19T13:19:43.119865Z",
     "end_time": "2023-04-19T13:19:43.123648Z"
    }
   }
  }
 ],
 "metadata": {
  "kernelspec": {
   "display_name": "Python 3",
   "language": "python",
   "name": "python3"
  },
  "language_info": {
   "codemirror_mode": {
    "name": "ipython",
    "version": 2
   },
   "file_extension": ".py",
   "mimetype": "text/x-python",
   "name": "python",
   "nbconvert_exporter": "python",
   "pygments_lexer": "ipython2",
   "version": "2.7.6"
  }
 },
 "nbformat": 4,
 "nbformat_minor": 0
}
