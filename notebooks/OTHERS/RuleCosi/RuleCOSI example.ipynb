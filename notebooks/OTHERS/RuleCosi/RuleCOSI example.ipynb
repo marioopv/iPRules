{
 "cells": [
  {
   "cell_type": "markdown",
   "metadata": {},
   "source": [
    "# Demo of the combination and simplification algorithm"
   ]
  },
  {
   "cell_type": "code",
   "execution_count": 1,
   "metadata": {
    "ExecuteTime": {
     "start_time": "2023-04-28T13:02:38.031824Z",
     "end_time": "2023-04-28T13:02:39.308569Z"
    }
   },
   "outputs": [],
   "source": [
    "import pandas as pd\n"
   ]
  },
  {
   "cell_type": "markdown",
   "metadata": {},
   "source": [
    "## For using the library, just import the _RuleCOSIClassifier_ class from **rulecosi** package"
   ]
  },
  {
   "cell_type": "markdown",
   "metadata": {},
   "source": [
    "The algorithm works with several type of tree ensembles and it uses the **sklearn** implementations.\n",
    "- Bagging Trees\n",
    "- RandomForests\n",
    "- Gradient Boosting Trees (original implementation)\n",
    "- XGBoost\n",
    "- Light GBM\n",
    "- CatBoost"
   ]
  },
  {
   "cell_type": "code",
   "execution_count": 2,
   "metadata": {
    "ExecuteTime": {
     "start_time": "2023-04-28T13:02:39.312224Z",
     "end_time": "2023-04-28T13:02:40.010964Z"
    }
   },
   "outputs": [],
   "source": [
    "#from catboost import CatBoostClassifier\n",
    "#from lightgbm import LGBMClassifier\n",
    "from xgboost import XGBClassifier\n",
    "\n",
    "#from sklearn.ensemble import BaggingClassifier, RandomForestClassifier, GradientBoostingClassifier\n",
    "\n",
    "import numpy as np\n",
    "from sklearn.utils import Bunch\n",
    "from sklearn.model_selection import train_test_split\n",
    "from sklearn.metrics import classification_report\n",
    "from sklearn.metrics import make_scorer"
   ]
  },
  {
   "cell_type": "markdown",
   "metadata": {},
   "source": [
    "### Load a sample dataset and split the data\n",
    "\n",
    "We use the Wisconsin diagnostic breast cancer dataset. There are two classes, malignant (0) and benign (1)."
   ]
  },
  {
   "cell_type": "code",
   "execution_count": 3,
   "metadata": {
    "ExecuteTime": {
     "start_time": "2023-04-28T13:02:40.013546Z",
     "end_time": "2023-04-28T13:02:40.029517Z"
    }
   },
   "outputs": [
    {
     "data": {
      "text/plain": "   ClumpThickness  CellSize  CellShape  MarginalAdhesion  EpithelialSize  \\\n0               5         1          1                 1               2   \n1               5         4          4                 5               7   \n2               3         1          1                 1               2   \n3               6         8          8                 1               3   \n4               4         1          1                 3               2   \n\n   BareNuclei  BlandChromatin  NormalNucleoli  Mitoses  Class  \n0           1               3               1        1      1  \n1          10               3               2        1      1  \n2           2               3               1        1      1  \n3           4               3               7        1      1  \n4           1               3               1        1      1  ",
      "text/html": "<div>\n<style scoped>\n    .dataframe tbody tr th:only-of-type {\n        vertical-align: middle;\n    }\n\n    .dataframe tbody tr th {\n        vertical-align: top;\n    }\n\n    .dataframe thead th {\n        text-align: right;\n    }\n</style>\n<table border=\"1\" class=\"dataframe\">\n  <thead>\n    <tr style=\"text-align: right;\">\n      <th></th>\n      <th>ClumpThickness</th>\n      <th>CellSize</th>\n      <th>CellShape</th>\n      <th>MarginalAdhesion</th>\n      <th>EpithelialSize</th>\n      <th>BareNuclei</th>\n      <th>BlandChromatin</th>\n      <th>NormalNucleoli</th>\n      <th>Mitoses</th>\n      <th>Class</th>\n    </tr>\n  </thead>\n  <tbody>\n    <tr>\n      <th>0</th>\n      <td>5</td>\n      <td>1</td>\n      <td>1</td>\n      <td>1</td>\n      <td>2</td>\n      <td>1</td>\n      <td>3</td>\n      <td>1</td>\n      <td>1</td>\n      <td>1</td>\n    </tr>\n    <tr>\n      <th>1</th>\n      <td>5</td>\n      <td>4</td>\n      <td>4</td>\n      <td>5</td>\n      <td>7</td>\n      <td>10</td>\n      <td>3</td>\n      <td>2</td>\n      <td>1</td>\n      <td>1</td>\n    </tr>\n    <tr>\n      <th>2</th>\n      <td>3</td>\n      <td>1</td>\n      <td>1</td>\n      <td>1</td>\n      <td>2</td>\n      <td>2</td>\n      <td>3</td>\n      <td>1</td>\n      <td>1</td>\n      <td>1</td>\n    </tr>\n    <tr>\n      <th>3</th>\n      <td>6</td>\n      <td>8</td>\n      <td>8</td>\n      <td>1</td>\n      <td>3</td>\n      <td>4</td>\n      <td>3</td>\n      <td>7</td>\n      <td>1</td>\n      <td>1</td>\n    </tr>\n    <tr>\n      <th>4</th>\n      <td>4</td>\n      <td>1</td>\n      <td>1</td>\n      <td>3</td>\n      <td>2</td>\n      <td>1</td>\n      <td>3</td>\n      <td>1</td>\n      <td>1</td>\n      <td>1</td>\n    </tr>\n  </tbody>\n</table>\n</div>"
     },
     "execution_count": 3,
     "metadata": {},
     "output_type": "execute_result"
    }
   ],
   "source": [
    "\n",
    "test_size = 0.2\n",
    "filename = 'wisconsin'\n",
    "\n",
    "\n",
    "\n",
    "\n",
    "data_file_name = f'../../../data/{filename}.csv'\n",
    "pandas_dataset = pd.read_csv(data_file_name)\n",
    "\n",
    "target_value_name = pandas_dataset.columns[-1]\n",
    "feature_names = pandas_dataset.columns[0:-1]\n",
    "\n",
    "pandas_dataset.head()"
   ]
  },
  {
   "cell_type": "code",
   "execution_count": 4,
   "metadata": {
    "ExecuteTime": {
     "start_time": "2023-04-28T13:02:40.034418Z",
     "end_time": "2023-04-28T13:02:40.069111Z"
    }
   },
   "outputs": [
    {
     "name": "stdout",
     "output_type": "stream",
     "text": [
      "\n",
      "Sizes (without target):\n",
      "Original size (683, 9)\n",
      "Train size (546, 9)\n",
      "Test size (137, 9)\n"
     ]
    }
   ],
   "source": [
    "X = pandas_dataset[feature_names]\n",
    "y = pandas_dataset[target_value_name]\n",
    "\n",
    "dataset = Bunch(\n",
    "        data=X.to_numpy(),\n",
    "        target=y.to_numpy(),\n",
    "        target_names=target_value_name,\n",
    "        feature_names=X.columns\n",
    ")\n",
    "\n",
    "#Define dataset\n",
    "X_train, X_test, y_train, y_test = train_test_split(dataset.data, dataset.target, test_size=test_size, random_state=1)\n",
    "encoded_train_pandas_dataset = pd.DataFrame(data= np.c_[X_train, y_train], columns= list(dataset['feature_names']) + [target_value_name])\n",
    "encoded_test_pandas_dataset = pd.DataFrame(data= np.c_[X_test, y_test], columns= list(dataset['feature_names']) + [target_value_name])\n",
    "print()\n",
    "print('Sizes (without target):')\n",
    "print(f'Original size {dataset.data.shape}')\n",
    "print(f'Train size {X_train.shape}')\n",
    "print(f'Test size {X_test.shape}')"
   ]
  },
  {
   "cell_type": "markdown",
   "metadata": {},
   "source": [
    "### Simplifying an XGBoost classifier\n",
    "\n",
    "We create a XGBClassifier instance. The ensemble can be fitted, or it can be just instantiated and RuleCOSI will fit the ensemble first and then simplify it."
   ]
  },
  {
   "cell_type": "code",
   "execution_count": 5,
   "metadata": {
    "ExecuteTime": {
     "start_time": "2023-04-28T13:02:40.042183Z",
     "end_time": "2023-04-28T13:02:40.069273Z"
    }
   },
   "outputs": [],
   "source": [
    "ens = XGBClassifier(random_state=1212)"
   ]
  },
  {
   "cell_type": "markdown",
   "metadata": {},
   "source": [
    "This is done by instanciating a **RuleCOSIClassifier** class with the desired parameters, _n\\_estimator_, _tree\\_max\\_depth_, _conf\\_threshold_ and _min\\_samples_."
   ]
  },
  {
   "cell_type": "code",
   "execution_count": 6,
   "metadata": {
    "ExecuteTime": {
     "start_time": "2023-04-28T13:02:40.044395Z",
     "end_time": "2023-04-28T13:02:40.242271Z"
    }
   },
   "outputs": [],
   "source": [
    "\n",
    "\n",
    "from rulecosi import RuleCOSIClassifier\n",
    "\n",
    "rc = RuleCOSIClassifier(base_ensemble=ens,\n",
    "                        metric='f1',n_estimators=100, tree_max_depth=3, \n",
    "                        conf_threshold=0.9, cov_threshold=0.0,\n",
    "                        random_state=1212, column_names=dataset.feature_names)"
   ]
  },
  {
   "cell_type": "code",
   "execution_count": null,
   "metadata": {
    "pycharm": {
     "is_executing": true
    }
   },
   "outputs": [],
   "source": [
    "%%time\n",
    "rc.fit(X_train, y_train)"
   ]
  },
  {
   "cell_type": "markdown",
   "metadata": {
    "pycharm": {
     "is_executing": true
    }
   },
   "source": [
    "## Examining the simplified rules\n",
    "\n",
    "The rules will be stored in the _simplified\\_ruleset_ \\_ attribute of the RuleCOSI object. The function _print\\_rules_ print the rules and its heuristics on the console. It can also return a string object or a pandas DataFrame object to be used for further analysis. Additionally, the decimal digits displayed on the heuristics values and the condition thresholds can be modified with the _heuristics\\_digits_ and the _condition\\_digits_ parameters."
   ],
   "outputs": []
  },
  {
   "cell_type": "code",
   "execution_count": null,
   "metadata": {
    "pycharm": {
     "is_executing": true
    }
   },
   "outputs": [],
   "source": [
    "rc.simplified_ruleset_.print_rules(heuristics_digits=4, condition_digits=1)"
   ]
  },
  {
   "cell_type": "code",
   "execution_count": null,
   "metadata": {
    "pycharm": {
     "is_executing": true
    }
   },
   "outputs": [],
   "source": [
    "rc.simplified_ruleset_.print_rules(return_object='dataframe',heuristics_digits=4, condition_digits=1)"
   ]
  },
  {
   "cell_type": "code",
   "execution_count": null,
   "outputs": [],
   "source": [
    "print(len(rc.simplified_ruleset_))"
   ],
   "metadata": {
    "collapsed": false,
    "pycharm": {
     "is_executing": true
    }
   }
  },
  {
   "cell_type": "markdown",
   "metadata": {},
   "source": [
    "## Checking the classification performance of the simplified rule-based classifier"
   ],
   "outputs": [
    {
     "ename": "NameError",
     "evalue": "name 'rc' is not defined",
     "output_type": "error",
     "traceback": [
      "\u001B[0;31m---------------------------------------------------------------------------\u001B[0m",
      "\u001B[0;31mNameError\u001B[0m                                 Traceback (most recent call last)",
      "Cell \u001B[0;32mIn[4], line 1\u001B[0m\n\u001B[0;32m----> 1\u001B[0m \u001B[43mrc\u001B[49m\u001B[38;5;241m.\u001B[39msimplified_ruleset_\u001B[38;5;241m.\u001B[39mprint_rules(return_object\u001B[38;5;241m=\u001B[39m\u001B[38;5;124m'\u001B[39m\u001B[38;5;124mdataframe\u001B[39m\u001B[38;5;124m'\u001B[39m,heuristics_digits\u001B[38;5;241m=\u001B[39m\u001B[38;5;241m4\u001B[39m, condition_digits\u001B[38;5;241m=\u001B[39m\u001B[38;5;241m1\u001B[39m)\n",
      "\u001B[0;31mNameError\u001B[0m: name 'rc' is not defined"
     ]
    }
   ],
   "execution_count": 4
  },
  {
   "cell_type": "code",
   "execution_count": null,
   "metadata": {
    "pycharm": {
     "is_executing": true
    }
   },
   "outputs": [],
   "source": [
    "# this function is used for counting the number of rules extracted from the tree ensemble (original ruelesets)\n",
    "def get_n_rules(rulesets):\n",
    "    n_rules = 0\n",
    "    for ruleset in rulesets:\n",
    "        for rule in ruleset:\n",
    "            n_rules += 1\n",
    "    return n_rules"
   ]
  },
  {
   "cell_type": "code",
   "execution_count": null,
   "metadata": {
    "ExecuteTime": {
     "start_time": "2023-04-26T15:32:40.779875Z",
     "end_time": "2023-04-26T15:32:40.793420Z"
    },
    "pycharm": {
     "is_executing": true
    }
   },
   "outputs": [],
   "source": [
    "print(f'== Original XGBoost ensemble ==')\n",
    "print(f'Number of trees: {rc.base_ensemble_.n_estimators} trees')\n",
    "print(f'Number of rules: {get_n_rules(rc.original_rulesets_)} rules\\n')\n",
    "\n",
    "print(f'== Simplified rules ==')\n",
    "rc.simplified_ruleset_.print_rules()\n",
    "y_pred = rc.predict(X_test)\n",
    "if isinstance(rc.base_ensemble, XGBClassifier):\n",
    "    y_pred_ens = rc.base_ensemble_.predict(X_test, validate_features=False)\n",
    "else:\n",
    "    y_pred_ens = rc.base_ensemble_.predict(X_test)\n",
    "print(\"Combinations: {}\".format(rc.n_combinations_))\n",
    "print(\"Time: {}\\n\".format(rc.combination_time_))\n",
    "print(f'====== Classification performance of XGBoost ======')\n",
    "print(classification_report(y_test, y_pred_ens,digits=4))\n",
    "print(f'\\n====== Classification performance of simplified rules ======')\n",
    "print(classification_report(y_test, y_pred,digits=4))\n",
    "print('\\n')\n"
   ]
  },
  {
   "cell_type": "code",
   "execution_count": null,
   "metadata": {
    "pycharm": {
     "is_executing": true
    }
   },
   "outputs": [],
   "source": []
  }
 ],
 "metadata": {
  "kernelspec": {
   "name": "python3",
   "language": "python",
   "display_name": "Python 3 (ipykernel)"
  },
  "language_info": {
   "codemirror_mode": {
    "name": "ipython",
    "version": 3
   },
   "file_extension": ".py",
   "mimetype": "text/x-python",
   "name": "python",
   "nbconvert_exporter": "python",
   "pygments_lexer": "ipython3",
   "version": "3.9.12"
  }
 },
 "nbformat": 4,
 "nbformat_minor": 4
}
