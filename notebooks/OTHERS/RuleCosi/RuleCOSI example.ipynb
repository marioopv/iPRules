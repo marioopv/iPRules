{
 "cells": [
  {
   "cell_type": "markdown",
   "metadata": {},
   "source": [
    "# Demo of the combination and simplification algorithm"
   ]
  },
  {
   "cell_type": "code",
   "execution_count": 173,
   "metadata": {
    "ExecuteTime": {
     "end_time": "2023-06-03T16:34:31.890637Z",
     "start_time": "2023-06-03T16:34:31.846033Z"
    }
   },
   "outputs": [],
   "source": [
    "import pandas as pd\n"
   ]
  },
  {
   "cell_type": "markdown",
   "metadata": {},
   "source": [
    "## For using the library, just import the _RuleCOSIClassifier_ class from **rulecosi** package"
   ]
  },
  {
   "cell_type": "markdown",
   "metadata": {},
   "source": [
    "The algorithm works with several type of tree ensembles and it uses the **sklearn** implementations.\n",
    "- Bagging Trees\n",
    "- RandomForests\n",
    "- Gradient Boosting Trees (original implementation)\n",
    "- XGBoost\n",
    "- Light GBM\n",
    "- CatBoost"
   ]
  },
  {
   "cell_type": "code",
   "execution_count": 174,
   "metadata": {
    "ExecuteTime": {
     "end_time": "2023-06-03T16:34:31.892307Z",
     "start_time": "2023-06-03T16:34:31.853371Z"
    }
   },
   "outputs": [],
   "source": [
    "#from catboost import CatBoostClassifier\n",
    "#from lightgbm import LGBMClassifier\n",
    "from xgboost import XGBClassifier\n",
    "\n",
    "#from sklearn.ensemble import BaggingClassifier, RandomForestClassifier, GradientBoostingClassifier\n",
    "\n",
    "import numpy as np\n",
    "from sklearn.utils import Bunch\n",
    "from sklearn.model_selection import train_test_split\n",
    "from sklearn.metrics import classification_report\n",
    "from sklearn.metrics import make_scorer"
   ]
  },
  {
   "cell_type": "markdown",
   "metadata": {},
   "source": [
    "### Load a sample dataset and split the data\n",
    "\n",
    "We use the Wisconsin diagnostic breast cancer dataset. There are two classes, malignant (0) and benign (1)."
   ]
  },
  {
   "cell_type": "code",
   "execution_count": 175,
   "metadata": {
    "ExecuteTime": {
     "end_time": "2023-06-03T16:34:34.680110Z",
     "start_time": "2023-06-03T16:34:31.860653Z"
    }
   },
   "outputs": [
    {
     "data": {
      "text/plain": "    F1_b   F1_o   F1_x  F2_b   F2_o   F2_x  F3_b   F3_o   F3_x  F4_b  ...  \\\n0   True  False  False  True  False  False  True  False  False  True  ...   \n1   True  False  False  True  False  False  True  False  False  True  ...   \n2   True  False  False  True  False  False  True  False  False  True  ...   \n3   True  False  False  True  False  False  True  False  False  True  ...   \n4  False   True  False  True  False  False  True  False  False  True  ...   \n\n   F40_b  F40_o  F40_x  F41_b  F41_o  F41_x  F42_b  F42_o  F42_x  Class  \n0   True  False  False   True  False  False   True  False  False   True  \n1   True  False  False   True  False  False   True  False  False   True  \n2   True  False  False   True  False  False   True  False  False   True  \n3   True  False  False   True  False  False   True  False  False   True  \n4   True  False  False   True  False  False   True  False  False   True  \n\n[5 rows x 127 columns]",
      "text/html": "<div>\n<style scoped>\n    .dataframe tbody tr th:only-of-type {\n        vertical-align: middle;\n    }\n\n    .dataframe tbody tr th {\n        vertical-align: top;\n    }\n\n    .dataframe thead th {\n        text-align: right;\n    }\n</style>\n<table border=\"1\" class=\"dataframe\">\n  <thead>\n    <tr style=\"text-align: right;\">\n      <th></th>\n      <th>F1_b</th>\n      <th>F1_o</th>\n      <th>F1_x</th>\n      <th>F2_b</th>\n      <th>F2_o</th>\n      <th>F2_x</th>\n      <th>F3_b</th>\n      <th>F3_o</th>\n      <th>F3_x</th>\n      <th>F4_b</th>\n      <th>...</th>\n      <th>F40_b</th>\n      <th>F40_o</th>\n      <th>F40_x</th>\n      <th>F41_b</th>\n      <th>F41_o</th>\n      <th>F41_x</th>\n      <th>F42_b</th>\n      <th>F42_o</th>\n      <th>F42_x</th>\n      <th>Class</th>\n    </tr>\n  </thead>\n  <tbody>\n    <tr>\n      <th>0</th>\n      <td>True</td>\n      <td>False</td>\n      <td>False</td>\n      <td>True</td>\n      <td>False</td>\n      <td>False</td>\n      <td>True</td>\n      <td>False</td>\n      <td>False</td>\n      <td>True</td>\n      <td>...</td>\n      <td>True</td>\n      <td>False</td>\n      <td>False</td>\n      <td>True</td>\n      <td>False</td>\n      <td>False</td>\n      <td>True</td>\n      <td>False</td>\n      <td>False</td>\n      <td>True</td>\n    </tr>\n    <tr>\n      <th>1</th>\n      <td>True</td>\n      <td>False</td>\n      <td>False</td>\n      <td>True</td>\n      <td>False</td>\n      <td>False</td>\n      <td>True</td>\n      <td>False</td>\n      <td>False</td>\n      <td>True</td>\n      <td>...</td>\n      <td>True</td>\n      <td>False</td>\n      <td>False</td>\n      <td>True</td>\n      <td>False</td>\n      <td>False</td>\n      <td>True</td>\n      <td>False</td>\n      <td>False</td>\n      <td>True</td>\n    </tr>\n    <tr>\n      <th>2</th>\n      <td>True</td>\n      <td>False</td>\n      <td>False</td>\n      <td>True</td>\n      <td>False</td>\n      <td>False</td>\n      <td>True</td>\n      <td>False</td>\n      <td>False</td>\n      <td>True</td>\n      <td>...</td>\n      <td>True</td>\n      <td>False</td>\n      <td>False</td>\n      <td>True</td>\n      <td>False</td>\n      <td>False</td>\n      <td>True</td>\n      <td>False</td>\n      <td>False</td>\n      <td>True</td>\n    </tr>\n    <tr>\n      <th>3</th>\n      <td>True</td>\n      <td>False</td>\n      <td>False</td>\n      <td>True</td>\n      <td>False</td>\n      <td>False</td>\n      <td>True</td>\n      <td>False</td>\n      <td>False</td>\n      <td>True</td>\n      <td>...</td>\n      <td>True</td>\n      <td>False</td>\n      <td>False</td>\n      <td>True</td>\n      <td>False</td>\n      <td>False</td>\n      <td>True</td>\n      <td>False</td>\n      <td>False</td>\n      <td>True</td>\n    </tr>\n    <tr>\n      <th>4</th>\n      <td>False</td>\n      <td>True</td>\n      <td>False</td>\n      <td>True</td>\n      <td>False</td>\n      <td>False</td>\n      <td>True</td>\n      <td>False</td>\n      <td>False</td>\n      <td>True</td>\n      <td>...</td>\n      <td>True</td>\n      <td>False</td>\n      <td>False</td>\n      <td>True</td>\n      <td>False</td>\n      <td>False</td>\n      <td>True</td>\n      <td>False</td>\n      <td>False</td>\n      <td>True</td>\n    </tr>\n  </tbody>\n</table>\n<p>5 rows × 127 columns</p>\n</div>"
     },
     "execution_count": 175,
     "metadata": {},
     "output_type": "execute_result"
    }
   ],
   "source": [
    "\n",
    "from notebooks.IPRules.read_datasets import read_dataset\n",
    "test_size = 0.1\n",
    "name = \"connect-4\"\n",
    "\n",
    "path = f'../../..'\n",
    "dataset_path_name = f'{path}/data/{name}.csv'\n",
    "X, y, dataset, target_value_name, pandas_dataset = read_dataset(name, dataset_path_name)\n",
    "\n",
    "pandas_dataset.head()"
   ]
  },
  {
   "cell_type": "code",
   "execution_count": 176,
   "metadata": {
    "ExecuteTime": {
     "end_time": "2023-06-03T16:34:34.796706Z",
     "start_time": "2023-06-03T16:34:34.684394Z"
    }
   },
   "outputs": [
    {
     "name": "stdout",
     "output_type": "stream",
     "text": [
      "Sizes (without target):\n",
      "Original size (67557, 126)\n",
      "Train size (60801, 126)\n",
      "Test size (6756, 126)\n",
      "encoded_train_pandas_dataset size (60801, 127)\n",
      "encoded_test_pandas_dataset size (6756, 127)\n"
     ]
    }
   ],
   "source": [
    "#Define dataset\n",
    "X_train, X_test, y_train, y_test = train_test_split(dataset.data, dataset.target, test_size=test_size, random_state=1)\n",
    "encoded_train_pandas_dataset = pd.DataFrame(data= np.c_[X_train, y_train], columns= list(dataset['feature_names']) + [target_value_name])\n",
    "encoded_test_pandas_dataset = pd.DataFrame(data= np.c_[X_test, y_test], columns= list(dataset['feature_names']) + [target_value_name])\n",
    "print('Sizes (without target):')\n",
    "print(f'Original size {dataset.data.shape}')\n",
    "print(f'Train size {X_train.shape}')\n",
    "print(f'Test size {X_test.shape}')\n",
    "print(f'encoded_train_pandas_dataset size {encoded_train_pandas_dataset.shape}')\n",
    "print(f'encoded_test_pandas_dataset size {encoded_test_pandas_dataset.shape}')"
   ]
  },
  {
   "cell_type": "markdown",
   "metadata": {},
   "source": [
    "### Simplifying an XGBoost classifier\n",
    "\n",
    "We create a XGBClassifier instance. The ensemble can be fitted, or it can be just instantiated and RuleCOSI will fit the ensemble first and then simplify it."
   ]
  },
  {
   "cell_type": "code",
   "execution_count": 177,
   "metadata": {
    "ExecuteTime": {
     "end_time": "2023-06-03T16:34:34.797011Z",
     "start_time": "2023-06-03T16:34:34.772Z"
    }
   },
   "outputs": [],
   "source": [
    "#ens = XGBClassifier(random_state=1212)"
   ]
  },
  {
   "cell_type": "markdown",
   "metadata": {},
   "source": [
    "This is done by instanciating a **RuleCOSIClassifier** class with the desired parameters, _n\\_estimator_, _tree\\_max\\_depth_, _conf\\_threshold_ and _min\\_samples_."
   ]
  },
  {
   "cell_type": "code",
   "execution_count": 178,
   "metadata": {
    "ExecuteTime": {
     "end_time": "2023-06-03T16:34:34.797190Z",
     "start_time": "2023-06-03T16:34:34.781784Z"
    }
   },
   "outputs": [],
   "source": [
    "\n",
    "\n",
    "from sklearn.ensemble import RandomForestClassifier\n",
    "from rulecosi import RuleCOSIClassifier\n",
    "\n",
    "ensemble = RandomForestClassifier(n_estimators=500, max_depth=6, criterion=\"gini\")\n",
    "rc = RuleCOSIClassifier(base_ensemble=ensemble, column_names=dataset.feature_names)"
   ]
  },
  {
   "cell_type": "code",
   "execution_count": 179,
   "metadata": {
    "pycharm": {
     "is_executing": true
    },
    "ExecuteTime": {
     "end_time": "2023-06-03T16:34:36.436547Z",
     "start_time": "2023-06-03T16:34:34.791141Z"
    }
   },
   "outputs": [
    {
     "name": "stdout",
     "output_type": "stream",
     "text": [
      "Elapsed TOTAL TIME: 1.641 seconds\n",
      "CPU times: user 1.52 s, sys: 36.9 ms, total: 1.55 s\n",
      "Wall time: 1.64 s\n"
     ]
    }
   ],
   "source": [
    "%%time\n",
    "import time\n",
    "start_time = time.time()\n",
    "rc.fit(X_train, y_train)\n",
    "elapsed_time = time.time() - start_time\n",
    "print(f\"Elapsed TOTAL TIME: {elapsed_time:.3f} seconds\")\n"
   ]
  },
  {
   "cell_type": "markdown",
   "metadata": {
    "pycharm": {
     "is_executing": true
    }
   },
   "source": [
    "## Examining the simplified rules\n",
    "\n",
    "The rules will be stored in the _simplified\\_ruleset_ \\_ attribute of the RuleCOSI object. The function _print\\_rules_ print the rules and its heuristics on the console. It can also return a string object or a pandas DataFrame object to be used for further analysis. Additionally, the decimal digits displayed on the heuristics values and the condition thresholds can be modified with the _heuristics\\_digits_ and the _condition\\_digits_ parameters."
   ],
   "outputs": []
  },
  {
   "cell_type": "code",
   "execution_count": 180,
   "metadata": {
    "pycharm": {
     "is_executing": true
    },
    "ExecuteTime": {
     "end_time": "2023-06-03T16:34:36.454375Z",
     "start_time": "2023-06-03T16:34:36.436175Z"
    }
   },
   "outputs": [
    {
     "name": "stdout",
     "output_type": "stream",
     "text": [
      "cov \tconf \tsupp \tsamples \t\trule\n",
      "0.2947\t0.8162\t0.2406\t[3293,14626]\tr_1: (F15_o ≤ 0.5) ˄ (F19_o ≤ 0.5) ˄ (F20_o ≤ 0.5) ˄ (F21_o ≤ 0.5) ˄ (F37_x ≤ 0.5) ˄ (F8_o ≤ 0.5) → [ True]\n",
      "0.1088\t0.6896\t0.0751\t[2054,4564]\tr_2: (F15_o ≤ 0.5) ˄ (F20_o ≤ 0.5) ˄ (F21_o ≤ 0.5) ˄ (F37_x ≤ 0.5) → [ True]\n",
      "0.1061\t0.7022\t0.0745\t[1922,4532]\tr_3: (F14_o ≤ 0.5) ˄ (F19_o ≤ 0.5) ˄ (F20_o ≤ 0.5) ˄ (F21_o ≤ 0.5) ˄ (F26_o ≤ 0.5) ˄ (F8_o ≤ 0.5) → [ True]\n",
      "0.0898\t0.7224\t0.0649\t[1515,3943]\tr_4: (F15_o ≤ 0.5) ˄ (F20_o ≤ 0.5) ˄ (F21_o ≤ 0.5) ˄ (F37_x ≤ 0.5) ˄ (F8_o ≤ 0.5) → [ True]\n",
      "0.0412\t0.7764\t0.0320\t[560,1944]\tr_5: (F19_o ≤ 0.5) ˄ (F1_x ≤ 0.5) ˄ (F21_o ≤ 0.5) ˄ (F26_o ≤ 0.5) ˄ (F37_x ≤ 0.5) ˄ (F8_o ≤ 0.5) → [ True]\n",
      "0.0299\t0.5642\t0.0168\t[791,1024]\tr_6: (F1_x ≤ 0.5) ˄ (F21_o ≤ 0.5) ˄ (F26_o ≤ 0.5) ˄ (F37_x ≤ 0.5) ˄ (F8_o ≤ 0.5) → [ True]\n",
      "0.0177\t0.8386\t0.0149\t[174,904]\tr_7: (F20_x > 0.5) ˄ (F21_o ≤ 0.5) ˄ (F26_x ≤ 0.5) → [ True]\n",
      "0.0170\t0.6854\t0.0116\t[325,708]\tr_8: (F19_o ≤ 0.5) ˄ (F21_o ≤ 0.5) ˄ (F26_o ≤ 0.5) ˄ (F38_o > 0.5) ˄ (F8_o ≤ 0.5) → [ True]\n",
      "0.0120\t0.6676\t0.0080\t[242,486]\tr_9: (F19_o ≤ 0.5) ˄ (F21_o ≤ 0.5) ˄ (F26_o ≤ 0.5) ˄ (F38_o > 0.5) → [ True]\n",
      "0.0128\t0.6018\t0.0077\t[311,470]\tr_10: (F14_o ≤ 0.5) ˄ (F19_o ≤ 0.5) ˄ (F20_o ≤ 0.5) ˄ (F26_o ≤ 0.5) ˄ (F37_x ≤ 0.5) ˄ (F7_x ≤ 0.5) ˄ (F8_o ≤ 0.5) → [ True]\n",
      "0.0121\t0.5929\t0.0072\t[300,437]\tr_11: (F14_o ≤ 0.5) ˄ (F19_o ≤ 0.5) ˄ (F20_o ≤ 0.5) ˄ (F26_o ≤ 0.5) ˄ (F7_x ≤ 0.5) → [ True]\n",
      "0.0079\t0.7303\t0.0058\t[352,130]\tr_12: (F14_x > 0.5) ˄ (F15_o > 0.5) ˄ (F8_o > 0.5) → [False]\n",
      "0.0077\t0.6745\t0.0052\t[153,317]\tr_13: (F1_x ≤ 0.5) ˄ (F21_x > 0.5) ˄ (F8_o ≤ 0.5) → [ True]\n",
      "0.0076\t0.6091\t0.0046\t[181,282]\tr_14: (F10_x ≤ 0.5) ˄ (F1_x ≤ 0.5) ˄ (F21_o ≤ 0.5) ˄ (F26_o ≤ 0.5) ˄ (F37_x ≤ 0.5) → [ True]\n",
      "0.0062\t0.6976\t0.0043\t[114,263]\tr_15: (F20_o ≤ 0.5) ˄ (F26_x > 0.5) ˄ (F7_x ≤ 0.5) → [ True]\n",
      "0.0035\t0.8679\t0.0030\t[28,184]\tr_16: (F14_x > 0.5) ˄ (F15_o ≤ 0.5) ˄ (F19_o ≤ 0.5) ˄ (F20_o ≤ 0.5) ˄ (F21_o ≤ 0.5) → [ True]\n",
      "0.0053\t0.5621\t0.0030\t[141,181]\tr_17: (F14_o ≤ 0.5) ˄ (F15_o ≤ 0.5) ˄ (F19_o ≤ 0.5) ˄ (F1_x ≤ 0.5) ˄ (F37_x ≤ 0.5) ˄ (F7_x ≤ 0.5) → [ True]\n",
      "0.0027\t0.7651\t0.0021\t[39,127]\tr_18: (F20_o ≤ 0.5) ˄ (F26_o ≤ 0.5) ˄ (F38_o > 0.5) ˄ (F8_x > 0.5) → [ True]\n",
      "0.0021\t0.9457\t0.0020\t[122,7]\t\tr_19: (F14_x ≤ 0.5) ˄ (F19_o > 0.5) ˄ (F20_o > 0.5) ˄ (F21_o > 0.5) → [False]\n",
      "0.0021\t0.8077\t0.0017\t[25,105]\tr_20: (F14_x > 0.5) ˄ (F15_o ≤ 0.5) ˄ (F19_o ≤ 0.5) ˄ (F21_o ≤ 0.5) → [ True]\n",
      "0.0016\t0.6700\t0.0011\t[33,67]\t\tr_21: (F10_x > 0.5) ˄ (F14_o ≤ 0.5) ˄ (F14_x ≤ 0.5) ˄ (F19_o ≤ 0.5) ˄ (F20_o ≤ 0.5) ˄ (F26_o ≤ 0.5) → [ True]\n",
      "0.0012\t0.5733\t0.0007\t[32,43]\t\tr_22: (F19_o ≤ 0.5) ˄ (F26_x > 0.5) ˄ (F27_b > 0.5) ˄ (F7_x ≤ 0.5) → [ True]\n",
      "0.0012\t0.5286\t0.0006\t[33,37]\t\tr_23: (F10_x ≤ 0.5) ˄ (F1_x ≤ 0.5) ˄ (F21_x > 0.5) → [ True]\n",
      "0.0006\t0.8919\t0.0005\t[4,33]\t\tr_24: (F10_x > 0.5) ˄ (F15_o ≤ 0.5) ˄ (F20_o ≤ 0.5) ˄ (F37_x ≤ 0.5) → [ True]\n",
      "0.0005\t0.9375\t0.0005\t[2,30]\t\tr_25: (F14_x > 0.5) ˄ (F15_o ≤ 0.5) ˄ (F1_x ≤ 0.5) ˄ (F21_o ≤ 0.5) ˄ (F37_x ≤ 0.5) → [ True]\n",
      "0.0007\t0.6136\t0.0004\t[17,27]\t\tr_26: (F19_o > 0.5) ˄ (F20_o ≤ 0.5) ˄ (F21_o ≤ 0.5) ˄ (F26_x > 0.5) ˄ (F37_x > 0.5) ˄ (F8_o ≤ 0.5) → [ True]\n",
      "0.0005\t0.6774\t0.0003\t[10,21]\t\tr_27: (F19_o ≤ 0.5) ˄ (F1_x ≤ 0.5) ˄ (F26_o ≤ 0.5) ˄ (F38_o > 0.5) ˄ (F7_x ≤ 0.5) ˄ (F8_o ≤ 0.5) → [ True]\n",
      "0.0003\t1.0000\t0.0003\t[20,0]\t\tr_28: (F14_x > 0.5) ˄ (F21_o > 0.5) ˄ (F7_x > 0.5) ˄ (F8_o > 0.5) → [False]\n",
      "0.0004\t0.6538\t0.0003\t[9,17]\t\tr_29: (F26_x > 0.5) ˄ (F27_b > 0.5) ˄ (F37_x > 0.5) ˄ (F7_x ≤ 0.5) → [ True]\n",
      "0.0003\t1.0000\t0.0003\t[0,16]\t\tr_30: (F26_x > 0.5) ˄ (F27_x > 0.5) ˄ (F37_x > 0.5) ˄ (F8_o ≤ 0.5) → [ True]\n",
      "0.0003\t0.7500\t0.0002\t[5,15]\t\tr_31: (F10_x > 0.5) ˄ (F14_o ≤ 0.5) ˄ (F14_x ≤ 0.5) ˄ (F20_o ≤ 0.5) ˄ (F26_o ≤ 0.5) ˄ (F7_x ≤ 0.5) → [ True]\n",
      "0.0003\t0.6190\t0.0002\t[8,13]\t\tr_32: (F15_o ≤ 0.5) ˄ (F19_o ≤ 0.5) ˄ (F1_x ≤ 0.5) ˄ (F21_o ≤ 0.5) ˄ (F37_x ≤ 0.5) ˄ (F8_o ≤ 0.5) → [ True]\n",
      "0.0001\t1.0000\t0.0001\t[0,8]\t\tr_33: (F14_o ≤ 0.5) ˄ (F19_o ≤ 0.5) ˄ (F26_x ≤ 0.5) ˄ (F28_x > 0.5) ˄ (F37_x ≤ 0.5) ˄ (F8_o ≤ 0.5) → [ True]\n",
      "0.0002\t0.6154\t0.0001\t[5,8]\t\tr_34: (F1_x ≤ 0.5) ˄ (F21_x > 0.5) → [ True]\n",
      "0.0002\t0.6364\t0.0001\t[4,7]\t\tr_35: (F10_x > 0.5) ˄ (F21_o > 0.5) ˄ (F8_o > 0.5) → [ True]\n",
      "0.0001\t0.5714\t0.0001\t[3,4]\t\tr_36: (F14_o ≤ 0.5) ˄ (F15_o ≤ 0.5) ˄ (F1_x ≤ 0.5) ˄ (F37_x ≤ 0.5) ˄ (F7_x ≤ 0.5) ˄ (F8_o > 0.5) → [ True]\n",
      "0.0001\t0.7500\t0.0000\t[1,3]\t\tr_37: (F14_x > 0.5) ˄ (F15_o ≤ 0.5) ˄ (F1_x ≤ 0.5) ˄ (F37_x ≤ 0.5) ˄ (F7_x ≤ 0.5) ˄ (F8_o > 0.5) → [ True]\n",
      "0.0000\t1.0000\t0.0000\t[0,1]\t\tr_38: (F26_o ≤ 0.5) ˄ (F27_x > 0.5) ˄ (F38_o > 0.5) → [ True]\n",
      "0.0000\t1.0000\t0.0000\t[0,1]\t\tr_39: (F14_o ≤ 0.5) ˄ (F20_o ≤ 0.5) ˄ (F26_x ≤ 0.5) ˄ (F28_x > 0.5) ˄ (F37_x ≤ 0.5) ˄ (F8_o ≤ 0.5) → [ True]\n",
      "0.2037\t0.6438\t0.1312\t[7975,4413]\tr_40: ( ) → [False]\n",
      "\n"
     ]
    }
   ],
   "source": [
    "rc.simplified_ruleset_.print_rules(heuristics_digits=4, condition_digits=1)"
   ]
  },
  {
   "cell_type": "code",
   "execution_count": 181,
   "metadata": {
    "pycharm": {
     "is_executing": true
    },
    "ExecuteTime": {
     "end_time": "2023-06-03T16:34:36.493455Z",
     "start_time": "2023-06-03T16:34:36.462864Z"
    }
   },
   "outputs": [
    {
     "data": {
      "text/plain": "       cov    conf    supp       samples     #  \\\n0   0.2947  0.8162  0.2406  [3293,14626]   r_1   \n1   0.1088  0.6896  0.0751   [2054,4564]   r_2   \n2   0.1061  0.7022  0.0745   [1922,4532]   r_3   \n3   0.0898  0.7224  0.0649   [1515,3943]   r_4   \n4   0.0412  0.7764  0.0320    [560,1944]   r_5   \n5   0.0299  0.5642  0.0168    [791,1024]   r_6   \n6   0.0177  0.8386  0.0149     [174,904]   r_7   \n7   0.0170  0.6854  0.0116     [325,708]   r_8   \n8   0.0120  0.6676  0.0080     [242,486]   r_9   \n9   0.0128  0.6018  0.0077     [311,470]  r_10   \n10  0.0121  0.5929  0.0072     [300,437]  r_11   \n11  0.0079  0.7303  0.0058     [352,130]  r_12   \n12  0.0077  0.6745  0.0052     [153,317]  r_13   \n13  0.0076  0.6091  0.0046     [181,282]  r_14   \n14  0.0062  0.6976  0.0043     [114,263]  r_15   \n15  0.0035  0.8679  0.0030      [28,184]  r_16   \n16  0.0053  0.5621  0.0030     [141,181]  r_17   \n17  0.0027  0.7651  0.0021      [39,127]  r_18   \n18  0.0021  0.9457  0.0020       [122,7]  r_19   \n19  0.0021  0.8077  0.0017      [25,105]  r_20   \n20  0.0016  0.6700  0.0011       [33,67]  r_21   \n21  0.0012  0.5733  0.0007       [32,43]  r_22   \n22  0.0012  0.5286  0.0006       [33,37]  r_23   \n23  0.0006  0.8919  0.0005        [4,33]  r_24   \n24  0.0005  0.9375  0.0005        [2,30]  r_25   \n25  0.0007  0.6136  0.0004       [17,27]  r_26   \n26  0.0005  0.6774  0.0003       [10,21]  r_27   \n27  0.0003  1.0000  0.0003        [20,0]  r_28   \n28  0.0004  0.6538  0.0003        [9,17]  r_29   \n29  0.0003  1.0000  0.0003        [0,16]  r_30   \n30  0.0003  0.7500  0.0002        [5,15]  r_31   \n31  0.0003  0.6190  0.0002        [8,13]  r_32   \n32  0.0001  1.0000  0.0001         [0,8]  r_33   \n33  0.0002  0.6154  0.0001         [5,8]  r_34   \n34  0.0002  0.6364  0.0001         [4,7]  r_35   \n35  0.0001  0.5714  0.0001         [3,4]  r_36   \n36  0.0001  0.7500  0.0000         [1,3]  r_37   \n37  0.0000  1.0000  0.0000         [0,1]  r_38   \n38  0.0000  1.0000  0.0000         [0,1]  r_39   \n39  0.2037  0.6438  0.1312   [7975,4413]  r_40   \n\n                                                    A        y  \n0   (F15_o ≤ 0.5) ˄ (F19_o ≤ 0.5) ˄ (F20_o ≤ 0.5) ...   [True]  \n1   (F15_o ≤ 0.5) ˄ (F20_o ≤ 0.5) ˄ (F21_o ≤ 0.5) ...   [True]  \n2   (F14_o ≤ 0.5) ˄ (F19_o ≤ 0.5) ˄ (F20_o ≤ 0.5) ...   [True]  \n3   (F15_o ≤ 0.5) ˄ (F20_o ≤ 0.5) ˄ (F21_o ≤ 0.5) ...   [True]  \n4   (F19_o ≤ 0.5) ˄ (F1_x ≤ 0.5) ˄ (F21_o ≤ 0.5) ˄...   [True]  \n5   (F1_x ≤ 0.5) ˄ (F21_o ≤ 0.5) ˄ (F26_o ≤ 0.5) ˄...   [True]  \n6       (F20_x > 0.5) ˄ (F21_o ≤ 0.5) ˄ (F26_x ≤ 0.5)   [True]  \n7   (F19_o ≤ 0.5) ˄ (F21_o ≤ 0.5) ˄ (F26_o ≤ 0.5) ...   [True]  \n8   (F19_o ≤ 0.5) ˄ (F21_o ≤ 0.5) ˄ (F26_o ≤ 0.5) ...   [True]  \n9   (F14_o ≤ 0.5) ˄ (F19_o ≤ 0.5) ˄ (F20_o ≤ 0.5) ...   [True]  \n10  (F14_o ≤ 0.5) ˄ (F19_o ≤ 0.5) ˄ (F20_o ≤ 0.5) ...   [True]  \n11       (F14_x > 0.5) ˄ (F15_o > 0.5) ˄ (F8_o > 0.5)  [False]  \n12        (F1_x ≤ 0.5) ˄ (F21_x > 0.5) ˄ (F8_o ≤ 0.5)   [True]  \n13  (F10_x ≤ 0.5) ˄ (F1_x ≤ 0.5) ˄ (F21_o ≤ 0.5) ˄...   [True]  \n14       (F20_o ≤ 0.5) ˄ (F26_x > 0.5) ˄ (F7_x ≤ 0.5)   [True]  \n15  (F14_x > 0.5) ˄ (F15_o ≤ 0.5) ˄ (F19_o ≤ 0.5) ...   [True]  \n16  (F14_o ≤ 0.5) ˄ (F15_o ≤ 0.5) ˄ (F19_o ≤ 0.5) ...   [True]  \n17  (F20_o ≤ 0.5) ˄ (F26_o ≤ 0.5) ˄ (F38_o > 0.5) ...   [True]  \n18  (F14_x ≤ 0.5) ˄ (F19_o > 0.5) ˄ (F20_o > 0.5) ...  [False]  \n19  (F14_x > 0.5) ˄ (F15_o ≤ 0.5) ˄ (F19_o ≤ 0.5) ...   [True]  \n20  (F10_x > 0.5) ˄ (F14_o ≤ 0.5) ˄ (F14_x ≤ 0.5) ...   [True]  \n21  (F19_o ≤ 0.5) ˄ (F26_x > 0.5) ˄ (F27_b > 0.5) ...   [True]  \n22       (F10_x ≤ 0.5) ˄ (F1_x ≤ 0.5) ˄ (F21_x > 0.5)   [True]  \n23  (F10_x > 0.5) ˄ (F15_o ≤ 0.5) ˄ (F20_o ≤ 0.5) ...   [True]  \n24  (F14_x > 0.5) ˄ (F15_o ≤ 0.5) ˄ (F1_x ≤ 0.5) ˄...   [True]  \n25  (F19_o > 0.5) ˄ (F20_o ≤ 0.5) ˄ (F21_o ≤ 0.5) ...   [True]  \n26  (F19_o ≤ 0.5) ˄ (F1_x ≤ 0.5) ˄ (F26_o ≤ 0.5) ˄...   [True]  \n27  (F14_x > 0.5) ˄ (F21_o > 0.5) ˄ (F7_x > 0.5) ˄...  [False]  \n28  (F26_x > 0.5) ˄ (F27_b > 0.5) ˄ (F37_x > 0.5) ...   [True]  \n29  (F26_x > 0.5) ˄ (F27_x > 0.5) ˄ (F37_x > 0.5) ...   [True]  \n30  (F10_x > 0.5) ˄ (F14_o ≤ 0.5) ˄ (F14_x ≤ 0.5) ...   [True]  \n31  (F15_o ≤ 0.5) ˄ (F19_o ≤ 0.5) ˄ (F1_x ≤ 0.5) ˄...   [True]  \n32  (F14_o ≤ 0.5) ˄ (F19_o ≤ 0.5) ˄ (F26_x ≤ 0.5) ...   [True]  \n33                       (F1_x ≤ 0.5) ˄ (F21_x > 0.5)   [True]  \n34       (F10_x > 0.5) ˄ (F21_o > 0.5) ˄ (F8_o > 0.5)   [True]  \n35  (F14_o ≤ 0.5) ˄ (F15_o ≤ 0.5) ˄ (F1_x ≤ 0.5) ˄...   [True]  \n36  (F14_x > 0.5) ˄ (F15_o ≤ 0.5) ˄ (F1_x ≤ 0.5) ˄...   [True]  \n37      (F26_o ≤ 0.5) ˄ (F27_x > 0.5) ˄ (F38_o > 0.5)   [True]  \n38  (F14_o ≤ 0.5) ˄ (F20_o ≤ 0.5) ˄ (F26_x ≤ 0.5) ...   [True]  \n39                                                 ()  [False]  ",
      "text/html": "<div>\n<style scoped>\n    .dataframe tbody tr th:only-of-type {\n        vertical-align: middle;\n    }\n\n    .dataframe tbody tr th {\n        vertical-align: top;\n    }\n\n    .dataframe thead th {\n        text-align: right;\n    }\n</style>\n<table border=\"1\" class=\"dataframe\">\n  <thead>\n    <tr style=\"text-align: right;\">\n      <th></th>\n      <th>cov</th>\n      <th>conf</th>\n      <th>supp</th>\n      <th>samples</th>\n      <th>#</th>\n      <th>A</th>\n      <th>y</th>\n    </tr>\n  </thead>\n  <tbody>\n    <tr>\n      <th>0</th>\n      <td>0.2947</td>\n      <td>0.8162</td>\n      <td>0.2406</td>\n      <td>[3293,14626]</td>\n      <td>r_1</td>\n      <td>(F15_o ≤ 0.5) ˄ (F19_o ≤ 0.5) ˄ (F20_o ≤ 0.5) ...</td>\n      <td>[True]</td>\n    </tr>\n    <tr>\n      <th>1</th>\n      <td>0.1088</td>\n      <td>0.6896</td>\n      <td>0.0751</td>\n      <td>[2054,4564]</td>\n      <td>r_2</td>\n      <td>(F15_o ≤ 0.5) ˄ (F20_o ≤ 0.5) ˄ (F21_o ≤ 0.5) ...</td>\n      <td>[True]</td>\n    </tr>\n    <tr>\n      <th>2</th>\n      <td>0.1061</td>\n      <td>0.7022</td>\n      <td>0.0745</td>\n      <td>[1922,4532]</td>\n      <td>r_3</td>\n      <td>(F14_o ≤ 0.5) ˄ (F19_o ≤ 0.5) ˄ (F20_o ≤ 0.5) ...</td>\n      <td>[True]</td>\n    </tr>\n    <tr>\n      <th>3</th>\n      <td>0.0898</td>\n      <td>0.7224</td>\n      <td>0.0649</td>\n      <td>[1515,3943]</td>\n      <td>r_4</td>\n      <td>(F15_o ≤ 0.5) ˄ (F20_o ≤ 0.5) ˄ (F21_o ≤ 0.5) ...</td>\n      <td>[True]</td>\n    </tr>\n    <tr>\n      <th>4</th>\n      <td>0.0412</td>\n      <td>0.7764</td>\n      <td>0.0320</td>\n      <td>[560,1944]</td>\n      <td>r_5</td>\n      <td>(F19_o ≤ 0.5) ˄ (F1_x ≤ 0.5) ˄ (F21_o ≤ 0.5) ˄...</td>\n      <td>[True]</td>\n    </tr>\n    <tr>\n      <th>5</th>\n      <td>0.0299</td>\n      <td>0.5642</td>\n      <td>0.0168</td>\n      <td>[791,1024]</td>\n      <td>r_6</td>\n      <td>(F1_x ≤ 0.5) ˄ (F21_o ≤ 0.5) ˄ (F26_o ≤ 0.5) ˄...</td>\n      <td>[True]</td>\n    </tr>\n    <tr>\n      <th>6</th>\n      <td>0.0177</td>\n      <td>0.8386</td>\n      <td>0.0149</td>\n      <td>[174,904]</td>\n      <td>r_7</td>\n      <td>(F20_x &gt; 0.5) ˄ (F21_o ≤ 0.5) ˄ (F26_x ≤ 0.5)</td>\n      <td>[True]</td>\n    </tr>\n    <tr>\n      <th>7</th>\n      <td>0.0170</td>\n      <td>0.6854</td>\n      <td>0.0116</td>\n      <td>[325,708]</td>\n      <td>r_8</td>\n      <td>(F19_o ≤ 0.5) ˄ (F21_o ≤ 0.5) ˄ (F26_o ≤ 0.5) ...</td>\n      <td>[True]</td>\n    </tr>\n    <tr>\n      <th>8</th>\n      <td>0.0120</td>\n      <td>0.6676</td>\n      <td>0.0080</td>\n      <td>[242,486]</td>\n      <td>r_9</td>\n      <td>(F19_o ≤ 0.5) ˄ (F21_o ≤ 0.5) ˄ (F26_o ≤ 0.5) ...</td>\n      <td>[True]</td>\n    </tr>\n    <tr>\n      <th>9</th>\n      <td>0.0128</td>\n      <td>0.6018</td>\n      <td>0.0077</td>\n      <td>[311,470]</td>\n      <td>r_10</td>\n      <td>(F14_o ≤ 0.5) ˄ (F19_o ≤ 0.5) ˄ (F20_o ≤ 0.5) ...</td>\n      <td>[True]</td>\n    </tr>\n    <tr>\n      <th>10</th>\n      <td>0.0121</td>\n      <td>0.5929</td>\n      <td>0.0072</td>\n      <td>[300,437]</td>\n      <td>r_11</td>\n      <td>(F14_o ≤ 0.5) ˄ (F19_o ≤ 0.5) ˄ (F20_o ≤ 0.5) ...</td>\n      <td>[True]</td>\n    </tr>\n    <tr>\n      <th>11</th>\n      <td>0.0079</td>\n      <td>0.7303</td>\n      <td>0.0058</td>\n      <td>[352,130]</td>\n      <td>r_12</td>\n      <td>(F14_x &gt; 0.5) ˄ (F15_o &gt; 0.5) ˄ (F8_o &gt; 0.5)</td>\n      <td>[False]</td>\n    </tr>\n    <tr>\n      <th>12</th>\n      <td>0.0077</td>\n      <td>0.6745</td>\n      <td>0.0052</td>\n      <td>[153,317]</td>\n      <td>r_13</td>\n      <td>(F1_x ≤ 0.5) ˄ (F21_x &gt; 0.5) ˄ (F8_o ≤ 0.5)</td>\n      <td>[True]</td>\n    </tr>\n    <tr>\n      <th>13</th>\n      <td>0.0076</td>\n      <td>0.6091</td>\n      <td>0.0046</td>\n      <td>[181,282]</td>\n      <td>r_14</td>\n      <td>(F10_x ≤ 0.5) ˄ (F1_x ≤ 0.5) ˄ (F21_o ≤ 0.5) ˄...</td>\n      <td>[True]</td>\n    </tr>\n    <tr>\n      <th>14</th>\n      <td>0.0062</td>\n      <td>0.6976</td>\n      <td>0.0043</td>\n      <td>[114,263]</td>\n      <td>r_15</td>\n      <td>(F20_o ≤ 0.5) ˄ (F26_x &gt; 0.5) ˄ (F7_x ≤ 0.5)</td>\n      <td>[True]</td>\n    </tr>\n    <tr>\n      <th>15</th>\n      <td>0.0035</td>\n      <td>0.8679</td>\n      <td>0.0030</td>\n      <td>[28,184]</td>\n      <td>r_16</td>\n      <td>(F14_x &gt; 0.5) ˄ (F15_o ≤ 0.5) ˄ (F19_o ≤ 0.5) ...</td>\n      <td>[True]</td>\n    </tr>\n    <tr>\n      <th>16</th>\n      <td>0.0053</td>\n      <td>0.5621</td>\n      <td>0.0030</td>\n      <td>[141,181]</td>\n      <td>r_17</td>\n      <td>(F14_o ≤ 0.5) ˄ (F15_o ≤ 0.5) ˄ (F19_o ≤ 0.5) ...</td>\n      <td>[True]</td>\n    </tr>\n    <tr>\n      <th>17</th>\n      <td>0.0027</td>\n      <td>0.7651</td>\n      <td>0.0021</td>\n      <td>[39,127]</td>\n      <td>r_18</td>\n      <td>(F20_o ≤ 0.5) ˄ (F26_o ≤ 0.5) ˄ (F38_o &gt; 0.5) ...</td>\n      <td>[True]</td>\n    </tr>\n    <tr>\n      <th>18</th>\n      <td>0.0021</td>\n      <td>0.9457</td>\n      <td>0.0020</td>\n      <td>[122,7]</td>\n      <td>r_19</td>\n      <td>(F14_x ≤ 0.5) ˄ (F19_o &gt; 0.5) ˄ (F20_o &gt; 0.5) ...</td>\n      <td>[False]</td>\n    </tr>\n    <tr>\n      <th>19</th>\n      <td>0.0021</td>\n      <td>0.8077</td>\n      <td>0.0017</td>\n      <td>[25,105]</td>\n      <td>r_20</td>\n      <td>(F14_x &gt; 0.5) ˄ (F15_o ≤ 0.5) ˄ (F19_o ≤ 0.5) ...</td>\n      <td>[True]</td>\n    </tr>\n    <tr>\n      <th>20</th>\n      <td>0.0016</td>\n      <td>0.6700</td>\n      <td>0.0011</td>\n      <td>[33,67]</td>\n      <td>r_21</td>\n      <td>(F10_x &gt; 0.5) ˄ (F14_o ≤ 0.5) ˄ (F14_x ≤ 0.5) ...</td>\n      <td>[True]</td>\n    </tr>\n    <tr>\n      <th>21</th>\n      <td>0.0012</td>\n      <td>0.5733</td>\n      <td>0.0007</td>\n      <td>[32,43]</td>\n      <td>r_22</td>\n      <td>(F19_o ≤ 0.5) ˄ (F26_x &gt; 0.5) ˄ (F27_b &gt; 0.5) ...</td>\n      <td>[True]</td>\n    </tr>\n    <tr>\n      <th>22</th>\n      <td>0.0012</td>\n      <td>0.5286</td>\n      <td>0.0006</td>\n      <td>[33,37]</td>\n      <td>r_23</td>\n      <td>(F10_x ≤ 0.5) ˄ (F1_x ≤ 0.5) ˄ (F21_x &gt; 0.5)</td>\n      <td>[True]</td>\n    </tr>\n    <tr>\n      <th>23</th>\n      <td>0.0006</td>\n      <td>0.8919</td>\n      <td>0.0005</td>\n      <td>[4,33]</td>\n      <td>r_24</td>\n      <td>(F10_x &gt; 0.5) ˄ (F15_o ≤ 0.5) ˄ (F20_o ≤ 0.5) ...</td>\n      <td>[True]</td>\n    </tr>\n    <tr>\n      <th>24</th>\n      <td>0.0005</td>\n      <td>0.9375</td>\n      <td>0.0005</td>\n      <td>[2,30]</td>\n      <td>r_25</td>\n      <td>(F14_x &gt; 0.5) ˄ (F15_o ≤ 0.5) ˄ (F1_x ≤ 0.5) ˄...</td>\n      <td>[True]</td>\n    </tr>\n    <tr>\n      <th>25</th>\n      <td>0.0007</td>\n      <td>0.6136</td>\n      <td>0.0004</td>\n      <td>[17,27]</td>\n      <td>r_26</td>\n      <td>(F19_o &gt; 0.5) ˄ (F20_o ≤ 0.5) ˄ (F21_o ≤ 0.5) ...</td>\n      <td>[True]</td>\n    </tr>\n    <tr>\n      <th>26</th>\n      <td>0.0005</td>\n      <td>0.6774</td>\n      <td>0.0003</td>\n      <td>[10,21]</td>\n      <td>r_27</td>\n      <td>(F19_o ≤ 0.5) ˄ (F1_x ≤ 0.5) ˄ (F26_o ≤ 0.5) ˄...</td>\n      <td>[True]</td>\n    </tr>\n    <tr>\n      <th>27</th>\n      <td>0.0003</td>\n      <td>1.0000</td>\n      <td>0.0003</td>\n      <td>[20,0]</td>\n      <td>r_28</td>\n      <td>(F14_x &gt; 0.5) ˄ (F21_o &gt; 0.5) ˄ (F7_x &gt; 0.5) ˄...</td>\n      <td>[False]</td>\n    </tr>\n    <tr>\n      <th>28</th>\n      <td>0.0004</td>\n      <td>0.6538</td>\n      <td>0.0003</td>\n      <td>[9,17]</td>\n      <td>r_29</td>\n      <td>(F26_x &gt; 0.5) ˄ (F27_b &gt; 0.5) ˄ (F37_x &gt; 0.5) ...</td>\n      <td>[True]</td>\n    </tr>\n    <tr>\n      <th>29</th>\n      <td>0.0003</td>\n      <td>1.0000</td>\n      <td>0.0003</td>\n      <td>[0,16]</td>\n      <td>r_30</td>\n      <td>(F26_x &gt; 0.5) ˄ (F27_x &gt; 0.5) ˄ (F37_x &gt; 0.5) ...</td>\n      <td>[True]</td>\n    </tr>\n    <tr>\n      <th>30</th>\n      <td>0.0003</td>\n      <td>0.7500</td>\n      <td>0.0002</td>\n      <td>[5,15]</td>\n      <td>r_31</td>\n      <td>(F10_x &gt; 0.5) ˄ (F14_o ≤ 0.5) ˄ (F14_x ≤ 0.5) ...</td>\n      <td>[True]</td>\n    </tr>\n    <tr>\n      <th>31</th>\n      <td>0.0003</td>\n      <td>0.6190</td>\n      <td>0.0002</td>\n      <td>[8,13]</td>\n      <td>r_32</td>\n      <td>(F15_o ≤ 0.5) ˄ (F19_o ≤ 0.5) ˄ (F1_x ≤ 0.5) ˄...</td>\n      <td>[True]</td>\n    </tr>\n    <tr>\n      <th>32</th>\n      <td>0.0001</td>\n      <td>1.0000</td>\n      <td>0.0001</td>\n      <td>[0,8]</td>\n      <td>r_33</td>\n      <td>(F14_o ≤ 0.5) ˄ (F19_o ≤ 0.5) ˄ (F26_x ≤ 0.5) ...</td>\n      <td>[True]</td>\n    </tr>\n    <tr>\n      <th>33</th>\n      <td>0.0002</td>\n      <td>0.6154</td>\n      <td>0.0001</td>\n      <td>[5,8]</td>\n      <td>r_34</td>\n      <td>(F1_x ≤ 0.5) ˄ (F21_x &gt; 0.5)</td>\n      <td>[True]</td>\n    </tr>\n    <tr>\n      <th>34</th>\n      <td>0.0002</td>\n      <td>0.6364</td>\n      <td>0.0001</td>\n      <td>[4,7]</td>\n      <td>r_35</td>\n      <td>(F10_x &gt; 0.5) ˄ (F21_o &gt; 0.5) ˄ (F8_o &gt; 0.5)</td>\n      <td>[True]</td>\n    </tr>\n    <tr>\n      <th>35</th>\n      <td>0.0001</td>\n      <td>0.5714</td>\n      <td>0.0001</td>\n      <td>[3,4]</td>\n      <td>r_36</td>\n      <td>(F14_o ≤ 0.5) ˄ (F15_o ≤ 0.5) ˄ (F1_x ≤ 0.5) ˄...</td>\n      <td>[True]</td>\n    </tr>\n    <tr>\n      <th>36</th>\n      <td>0.0001</td>\n      <td>0.7500</td>\n      <td>0.0000</td>\n      <td>[1,3]</td>\n      <td>r_37</td>\n      <td>(F14_x &gt; 0.5) ˄ (F15_o ≤ 0.5) ˄ (F1_x ≤ 0.5) ˄...</td>\n      <td>[True]</td>\n    </tr>\n    <tr>\n      <th>37</th>\n      <td>0.0000</td>\n      <td>1.0000</td>\n      <td>0.0000</td>\n      <td>[0,1]</td>\n      <td>r_38</td>\n      <td>(F26_o ≤ 0.5) ˄ (F27_x &gt; 0.5) ˄ (F38_o &gt; 0.5)</td>\n      <td>[True]</td>\n    </tr>\n    <tr>\n      <th>38</th>\n      <td>0.0000</td>\n      <td>1.0000</td>\n      <td>0.0000</td>\n      <td>[0,1]</td>\n      <td>r_39</td>\n      <td>(F14_o ≤ 0.5) ˄ (F20_o ≤ 0.5) ˄ (F26_x ≤ 0.5) ...</td>\n      <td>[True]</td>\n    </tr>\n    <tr>\n      <th>39</th>\n      <td>0.2037</td>\n      <td>0.6438</td>\n      <td>0.1312</td>\n      <td>[7975,4413]</td>\n      <td>r_40</td>\n      <td>()</td>\n      <td>[False]</td>\n    </tr>\n  </tbody>\n</table>\n</div>"
     },
     "execution_count": 181,
     "metadata": {},
     "output_type": "execute_result"
    }
   ],
   "source": [
    "rc.simplified_ruleset_.print_rules(return_object='dataframe',heuristics_digits=4, condition_digits=1)"
   ]
  },
  {
   "cell_type": "code",
   "execution_count": 182,
   "outputs": [
    {
     "data": {
      "text/plain": "40"
     },
     "execution_count": 182,
     "metadata": {},
     "output_type": "execute_result"
    }
   ],
   "source": [
    "len(rc.simplified_ruleset_.rules)"
   ],
   "metadata": {
    "collapsed": false,
    "ExecuteTime": {
     "end_time": "2023-06-03T16:34:36.494007Z",
     "start_time": "2023-06-03T16:34:36.467422Z"
    }
   }
  },
  {
   "cell_type": "markdown",
   "metadata": {},
   "source": [
    "## Checking the classification performance of the simplified rule-based classifier"
   ],
   "outputs": [
    {
     "ename": "NameError",
     "evalue": "name 'rc' is not defined",
     "output_type": "error",
     "traceback": [
      "\u001B[0;31m---------------------------------------------------------------------------\u001B[0m",
      "\u001B[0;31mNameError\u001B[0m                                 Traceback (most recent call last)",
      "Cell \u001B[0;32mIn[4], line 1\u001B[0m\n\u001B[0;32m----> 1\u001B[0m \u001B[43mrc\u001B[49m\u001B[38;5;241m.\u001B[39msimplified_ruleset_\u001B[38;5;241m.\u001B[39mprint_rules(return_object\u001B[38;5;241m=\u001B[39m\u001B[38;5;124m'\u001B[39m\u001B[38;5;124mdataframe\u001B[39m\u001B[38;5;124m'\u001B[39m,heuristics_digits\u001B[38;5;241m=\u001B[39m\u001B[38;5;241m4\u001B[39m, condition_digits\u001B[38;5;241m=\u001B[39m\u001B[38;5;241m1\u001B[39m)\n",
      "\u001B[0;31mNameError\u001B[0m: name 'rc' is not defined"
     ]
    }
   ],
   "execution_count": 4
  },
  {
   "cell_type": "code",
   "execution_count": 183,
   "metadata": {
    "pycharm": {
     "is_executing": true
    },
    "ExecuteTime": {
     "end_time": "2023-06-03T16:34:36.555121Z",
     "start_time": "2023-06-03T16:34:36.477583Z"
    }
   },
   "outputs": [
    {
     "name": "stdout",
     "output_type": "stream",
     "text": [
      "== Simplified rules ==\n",
      "Combinations: 376\n",
      "Time: 1.4246468544006348\n",
      "\n",
      "====== Classification performance ENSEMBLE ======\n",
      "              precision    recall  f1-score   support\n",
      "\n",
      "       False     0.9333    0.0061    0.0122      2281\n",
      "        True     0.6637    0.9998    0.7978      4475\n",
      "\n",
      "    accuracy                         0.6643      6756\n",
      "   macro avg     0.7985    0.5030    0.4050      6756\n",
      "weighted avg     0.7547    0.6643    0.5326      6756\n",
      "\n",
      "\n",
      "====== Classification performance of simplified rules ======\n",
      "              precision    recall  f1-score   support\n",
      "\n",
      "       False     0.6600    0.4169    0.5110      2281\n",
      "        True     0.7498    0.8905    0.8141      4475\n",
      "\n",
      "    accuracy                         0.7306      6756\n",
      "   macro avg     0.7049    0.6537    0.6626      6756\n",
      "weighted avg     0.7194    0.7306    0.7118      6756\n",
      "\n",
      "\n",
      "\n"
     ]
    }
   ],
   "source": [
    "\n",
    "print(f'== Simplified rules ==')\n",
    "y_pred = rc.predict(X_test)\n",
    "if isinstance(rc.base_ensemble, XGBClassifier):\n",
    "    y_pred_ens = rc.base_ensemble_.predict(X_test, validate_features=False)\n",
    "else:\n",
    "    y_pred_ens = rc.base_ensemble_.predict(X_test)\n",
    "print(\"Combinations: {}\".format(rc.n_combinations_))\n",
    "print(\"Time: {}\\n\".format(rc.combination_time_))\n",
    "print(f'====== Classification performance ENSEMBLE ======')\n",
    "print(classification_report(y_test, y_pred_ens,digits=4))\n",
    "print(f'\\n====== Classification performance of simplified rules ======')\n",
    "print(classification_report(y_test, y_pred,digits=4))\n",
    "print('\\n')\n"
   ]
  },
  {
   "cell_type": "code",
   "execution_count": 183,
   "metadata": {
    "pycharm": {
     "is_executing": true
    },
    "ExecuteTime": {
     "end_time": "2023-06-03T16:34:36.555850Z",
     "start_time": "2023-06-03T16:34:36.521071Z"
    }
   },
   "outputs": [],
   "source": []
  }
 ],
 "metadata": {
  "kernelspec": {
   "name": "python3",
   "language": "python",
   "display_name": "Python 3 (ipykernel)"
  },
  "language_info": {
   "codemirror_mode": {
    "name": "ipython",
    "version": 3
   },
   "file_extension": ".py",
   "mimetype": "text/x-python",
   "name": "python",
   "nbconvert_exporter": "python",
   "pygments_lexer": "ipython3",
   "version": "3.9.12"
  }
 },
 "nbformat": 4,
 "nbformat_minor": 4
}
