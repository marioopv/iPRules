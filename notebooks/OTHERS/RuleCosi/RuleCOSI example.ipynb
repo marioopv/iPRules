{
 "cells": [
  {
   "cell_type": "markdown",
   "metadata": {},
   "source": [
    "# Demo of the combination and simplification algorithm"
   ]
  },
  {
   "cell_type": "code",
   "execution_count": 13,
   "metadata": {
    "ExecuteTime": {
     "end_time": "2023-05-23T14:13:13.989722Z",
     "start_time": "2023-05-23T14:13:13.860038Z"
    }
   },
   "outputs": [],
   "source": [
    "import pandas as pd\n"
   ]
  },
  {
   "cell_type": "markdown",
   "metadata": {},
   "source": [
    "## For using the library, just import the _RuleCOSIClassifier_ class from **rulecosi** package"
   ]
  },
  {
   "cell_type": "markdown",
   "metadata": {},
   "source": [
    "The algorithm works with several type of tree ensembles and it uses the **sklearn** implementations.\n",
    "- Bagging Trees\n",
    "- RandomForests\n",
    "- Gradient Boosting Trees (original implementation)\n",
    "- XGBoost\n",
    "- Light GBM\n",
    "- CatBoost"
   ]
  },
  {
   "cell_type": "code",
   "execution_count": 14,
   "metadata": {
    "ExecuteTime": {
     "end_time": "2023-05-23T14:13:13.993840Z",
     "start_time": "2023-05-23T14:13:13.874292Z"
    }
   },
   "outputs": [],
   "source": [
    "#from catboost import CatBoostClassifier\n",
    "#from lightgbm import LGBMClassifier\n",
    "from xgboost import XGBClassifier\n",
    "\n",
    "#from sklearn.ensemble import BaggingClassifier, RandomForestClassifier, GradientBoostingClassifier\n",
    "\n",
    "import numpy as np\n",
    "from sklearn.utils import Bunch\n",
    "from sklearn.model_selection import train_test_split\n",
    "from sklearn.metrics import classification_report\n",
    "from sklearn.metrics import make_scorer"
   ]
  },
  {
   "cell_type": "markdown",
   "metadata": {},
   "source": [
    "### Load a sample dataset and split the data\n",
    "\n",
    "We use the Wisconsin diagnostic breast cancer dataset. There are two classes, malignant (0) and benign (1)."
   ]
  },
  {
   "cell_type": "code",
   "execution_count": 15,
   "metadata": {
    "ExecuteTime": {
     "end_time": "2023-05-23T14:13:13.994430Z",
     "start_time": "2023-05-23T14:13:13.891326Z"
    }
   },
   "outputs": [
    {
     "data": {
      "text/plain": "   sex_1  sex_2  age_High  age_Low  age_Medium  age_VeryHigh  age_VeryLow  \\\n0   True  False     False     True       False         False        False   \n1   True  False     False     True       False         False        False   \n2   True  False      True    False       False         False        False   \n3   True  False     False     True       False         False        False   \n4   True  False     False    False       False          True        False   \n\n   Time_High  Time_Low  Time_Medium  ...  Number_of_Warts_10  \\\n0      False     False        False  ...               False   \n1      False     False         True  ...               False   \n2       True     False        False  ...               False   \n3      False     False        False  ...               False   \n4       True     False        False  ...               False   \n\n   Number_of_Warts_11  Number_of_Warts_12  Type_1  Type_2  Type_3  Area_Low  \\\n0               False               False    True   False   False     False   \n1               False               False    True   False   False     False   \n2               False               False   False   False    True     False   \n3               False               False   False   False    True     False   \n4               False               False    True   False   False     False   \n\n   Area_VeryHigh  Area_VeryLow  target_value  \n0          False          True         False  \n1          False          True          True  \n2          False          True         False  \n3           True         False         False  \n4          False          True         False  \n\n[5 rows x 31 columns]",
      "text/html": "<div>\n<style scoped>\n    .dataframe tbody tr th:only-of-type {\n        vertical-align: middle;\n    }\n\n    .dataframe tbody tr th {\n        vertical-align: top;\n    }\n\n    .dataframe thead th {\n        text-align: right;\n    }\n</style>\n<table border=\"1\" class=\"dataframe\">\n  <thead>\n    <tr style=\"text-align: right;\">\n      <th></th>\n      <th>sex_1</th>\n      <th>sex_2</th>\n      <th>age_High</th>\n      <th>age_Low</th>\n      <th>age_Medium</th>\n      <th>age_VeryHigh</th>\n      <th>age_VeryLow</th>\n      <th>Time_High</th>\n      <th>Time_Low</th>\n      <th>Time_Medium</th>\n      <th>...</th>\n      <th>Number_of_Warts_10</th>\n      <th>Number_of_Warts_11</th>\n      <th>Number_of_Warts_12</th>\n      <th>Type_1</th>\n      <th>Type_2</th>\n      <th>Type_3</th>\n      <th>Area_Low</th>\n      <th>Area_VeryHigh</th>\n      <th>Area_VeryLow</th>\n      <th>target_value</th>\n    </tr>\n  </thead>\n  <tbody>\n    <tr>\n      <th>0</th>\n      <td>True</td>\n      <td>False</td>\n      <td>False</td>\n      <td>True</td>\n      <td>False</td>\n      <td>False</td>\n      <td>False</td>\n      <td>False</td>\n      <td>False</td>\n      <td>False</td>\n      <td>...</td>\n      <td>False</td>\n      <td>False</td>\n      <td>False</td>\n      <td>True</td>\n      <td>False</td>\n      <td>False</td>\n      <td>False</td>\n      <td>False</td>\n      <td>True</td>\n      <td>False</td>\n    </tr>\n    <tr>\n      <th>1</th>\n      <td>True</td>\n      <td>False</td>\n      <td>False</td>\n      <td>True</td>\n      <td>False</td>\n      <td>False</td>\n      <td>False</td>\n      <td>False</td>\n      <td>False</td>\n      <td>True</td>\n      <td>...</td>\n      <td>False</td>\n      <td>False</td>\n      <td>False</td>\n      <td>True</td>\n      <td>False</td>\n      <td>False</td>\n      <td>False</td>\n      <td>False</td>\n      <td>True</td>\n      <td>True</td>\n    </tr>\n    <tr>\n      <th>2</th>\n      <td>True</td>\n      <td>False</td>\n      <td>True</td>\n      <td>False</td>\n      <td>False</td>\n      <td>False</td>\n      <td>False</td>\n      <td>True</td>\n      <td>False</td>\n      <td>False</td>\n      <td>...</td>\n      <td>False</td>\n      <td>False</td>\n      <td>False</td>\n      <td>False</td>\n      <td>False</td>\n      <td>True</td>\n      <td>False</td>\n      <td>False</td>\n      <td>True</td>\n      <td>False</td>\n    </tr>\n    <tr>\n      <th>3</th>\n      <td>True</td>\n      <td>False</td>\n      <td>False</td>\n      <td>True</td>\n      <td>False</td>\n      <td>False</td>\n      <td>False</td>\n      <td>False</td>\n      <td>False</td>\n      <td>False</td>\n      <td>...</td>\n      <td>False</td>\n      <td>False</td>\n      <td>False</td>\n      <td>False</td>\n      <td>False</td>\n      <td>True</td>\n      <td>False</td>\n      <td>True</td>\n      <td>False</td>\n      <td>False</td>\n    </tr>\n    <tr>\n      <th>4</th>\n      <td>True</td>\n      <td>False</td>\n      <td>False</td>\n      <td>False</td>\n      <td>False</td>\n      <td>True</td>\n      <td>False</td>\n      <td>True</td>\n      <td>False</td>\n      <td>False</td>\n      <td>...</td>\n      <td>False</td>\n      <td>False</td>\n      <td>False</td>\n      <td>True</td>\n      <td>False</td>\n      <td>False</td>\n      <td>False</td>\n      <td>False</td>\n      <td>True</td>\n      <td>False</td>\n    </tr>\n  </tbody>\n</table>\n<p>5 rows × 31 columns</p>\n</div>"
     },
     "execution_count": 15,
     "metadata": {},
     "output_type": "execute_result"
    }
   ],
   "source": [
    "\n",
    "from notebooks.IPRules.read_datasets import read_dataset\n",
    "test_size = 0.1\n",
    "name = \"criotherapy\"\n",
    "\n",
    "path = f'../../..'\n",
    "dataset_path_name = f'{path}/data/{name}.csv'\n",
    "X, y, dataset, target_value_name, pandas_dataset = read_dataset(name, dataset_path_name)\n",
    "\n",
    "pandas_dataset.head()"
   ]
  },
  {
   "cell_type": "code",
   "execution_count": 16,
   "metadata": {
    "ExecuteTime": {
     "end_time": "2023-05-23T14:13:14.014523Z",
     "start_time": "2023-05-23T14:13:14.000323Z"
    }
   },
   "outputs": [
    {
     "name": "stdout",
     "output_type": "stream",
     "text": [
      "Sizes (without target):\n",
      "Original size (90, 30)\n",
      "Train size (81, 30)\n",
      "Test size (9, 30)\n",
      "encoded_train_pandas_dataset size (81, 31)\n",
      "encoded_test_pandas_dataset size (9, 31)\n"
     ]
    }
   ],
   "source": [
    "#Define dataset\n",
    "X_train, X_test, y_train, y_test = train_test_split(dataset.data, dataset.target, test_size=test_size, random_state=1)\n",
    "encoded_train_pandas_dataset = pd.DataFrame(data= np.c_[X_train, y_train], columns= list(dataset['feature_names']) + [target_value_name])\n",
    "encoded_test_pandas_dataset = pd.DataFrame(data= np.c_[X_test, y_test], columns= list(dataset['feature_names']) + [target_value_name])\n",
    "print('Sizes (without target):')\n",
    "print(f'Original size {dataset.data.shape}')\n",
    "print(f'Train size {X_train.shape}')\n",
    "print(f'Test size {X_test.shape}')\n",
    "print(f'encoded_train_pandas_dataset size {encoded_train_pandas_dataset.shape}')\n",
    "print(f'encoded_test_pandas_dataset size {encoded_test_pandas_dataset.shape}')"
   ]
  },
  {
   "cell_type": "markdown",
   "metadata": {},
   "source": [
    "### Simplifying an XGBoost classifier\n",
    "\n",
    "We create a XGBClassifier instance. The ensemble can be fitted, or it can be just instantiated and RuleCOSI will fit the ensemble first and then simplify it."
   ]
  },
  {
   "cell_type": "code",
   "execution_count": 17,
   "metadata": {
    "ExecuteTime": {
     "end_time": "2023-05-23T14:13:14.014930Z",
     "start_time": "2023-05-23T14:13:14.001099Z"
    }
   },
   "outputs": [],
   "source": [
    "#ens = XGBClassifier(random_state=1212)"
   ]
  },
  {
   "cell_type": "markdown",
   "metadata": {},
   "source": [
    "This is done by instanciating a **RuleCOSIClassifier** class with the desired parameters, _n\\_estimator_, _tree\\_max\\_depth_, _conf\\_threshold_ and _min\\_samples_."
   ]
  },
  {
   "cell_type": "code",
   "execution_count": 18,
   "metadata": {
    "ExecuteTime": {
     "end_time": "2023-05-23T14:13:14.084675Z",
     "start_time": "2023-05-23T14:13:14.033085Z"
    }
   },
   "outputs": [],
   "source": [
    "\n",
    "\n",
    "from sklearn.ensemble import RandomForestClassifier\n",
    "from rulecosi import RuleCOSIClassifier\n",
    "\n",
    "ensemble = RandomForestClassifier(n_estimators=100, criterion=\"gini\")\n",
    "rc = RuleCOSIClassifier(base_ensemble=ensemble,\n",
    "                        metric='f1',n_estimators=100, tree_max_depth=3, \n",
    "                        conf_threshold=0.9, cov_threshold=0.0,\n",
    "                        random_state=1212, column_names=dataset.feature_names)"
   ]
  },
  {
   "cell_type": "code",
   "execution_count": 19,
   "metadata": {
    "pycharm": {
     "is_executing": true
    },
    "ExecuteTime": {
     "end_time": "2023-05-23T14:13:15.653937Z",
     "start_time": "2023-05-23T14:13:14.045145Z"
    }
   },
   "outputs": [
    {
     "name": "stdout",
     "output_type": "stream",
     "text": [
      "Elapsed TOTAL TIME: 1.610 seconds\n",
      "CPU times: user 866 ms, sys: 22.7 ms, total: 889 ms\n",
      "Wall time: 1.61 s\n"
     ]
    }
   ],
   "source": [
    "%%time\n",
    "import time\n",
    "start_time = time.time()\n",
    "rc.fit(X_train, y_train)\n",
    "elapsed_time = time.time() - start_time\n",
    "print(f\"Elapsed TOTAL TIME: {elapsed_time:.3f} seconds\")\n"
   ]
  },
  {
   "cell_type": "markdown",
   "metadata": {
    "pycharm": {
     "is_executing": true
    }
   },
   "source": [
    "## Examining the simplified rules\n",
    "\n",
    "The rules will be stored in the _simplified\\_ruleset_ \\_ attribute of the RuleCOSI object. The function _print\\_rules_ print the rules and its heuristics on the console. It can also return a string object or a pandas DataFrame object to be used for further analysis. Additionally, the decimal digits displayed on the heuristics values and the condition thresholds can be modified with the _heuristics\\_digits_ and the _condition\\_digits_ parameters."
   ],
   "outputs": []
  },
  {
   "cell_type": "code",
   "execution_count": 20,
   "metadata": {
    "pycharm": {
     "is_executing": true
    },
    "ExecuteTime": {
     "end_time": "2023-05-23T14:13:15.664574Z",
     "start_time": "2023-05-23T14:13:15.658007Z"
    }
   },
   "outputs": [
    {
     "name": "stdout",
     "output_type": "stream",
     "text": [
      "cov \tconf \tsupp \tsamples \t\trule\n",
      "0.3704\t1.0000\t0.3704\t[0,30]\t\tr_1: (Time_High ≤ 0.5) ˄ (Time_VeryHigh ≤ 0.5) ˄ (age_VeryHigh ≤ 0.5) → [ True]\n",
      "0.2346\t1.0000\t0.2346\t[19,0]\t\tr_2: (Number_of_Warts_2 ≤ 0.5) ˄ (Time_VeryHigh > 0.5) ˄ (age_VeryLow ≤ 0.5) → [False]\n",
      "0.0741\t1.0000\t0.0741\t[0,6]\t\tr_3: (Number_of_Warts_6 ≤ 0.5) ˄ (Time_VeryHigh ≤ 0.5) ˄ (Type_3 ≤ 0.5) ˄ (age_Low ≤ 0.5) ˄ (age_VeryHigh ≤ 0.5) → [ True]\n",
      "0.0247\t1.0000\t0.0247\t[2,0]\t\tr_4: (Time_VeryHigh > 0.5) ˄ (Type_3 > 0.5) → [False]\n",
      "0.0123\t1.0000\t0.0123\t[0,1]\t\tr_5: (Time_VeryHigh ≤ 0.5) ˄ (Type_3 ≤ 0.5) ˄ (age_VeryLow > 0.5) → [ True]\n",
      "0.0123\t1.0000\t0.0123\t[1,0]\t\tr_6: (Time_VeryHigh > 0.5) ˄ (Type_2 ≤ 0.5) ˄ (age_VeryLow ≤ 0.5) → [False]\n",
      "0.2716\t0.7273\t0.1975\t[16,6]\t\tr_7: ( ) → [False]\n",
      "\n"
     ]
    }
   ],
   "source": [
    "rc.simplified_ruleset_.print_rules(heuristics_digits=4, condition_digits=1)"
   ]
  },
  {
   "cell_type": "code",
   "execution_count": 21,
   "metadata": {
    "pycharm": {
     "is_executing": true
    },
    "ExecuteTime": {
     "end_time": "2023-05-23T14:13:15.753582Z",
     "start_time": "2023-05-23T14:13:15.673184Z"
    }
   },
   "outputs": [
    {
     "data": {
      "text/plain": "      cov    conf    supp samples    #  \\\n0  0.3704  1.0000  0.3704  [0,30]  r_1   \n1  0.2346  1.0000  0.2346  [19,0]  r_2   \n2  0.0741  1.0000  0.0741   [0,6]  r_3   \n3  0.0247  1.0000  0.0247   [2,0]  r_4   \n4  0.0123  1.0000  0.0123   [0,1]  r_5   \n5  0.0123  1.0000  0.0123   [1,0]  r_6   \n6  0.2716  0.7273  0.1975  [16,6]  r_7   \n\n                                                   A        y  \n0  (Time_High ≤ 0.5) ˄ (Time_VeryHigh ≤ 0.5) ˄ (a...   [True]  \n1  (Number_of_Warts_2 ≤ 0.5) ˄ (Time_VeryHigh > 0...  [False]  \n2  (Number_of_Warts_6 ≤ 0.5) ˄ (Time_VeryHigh ≤ 0...   [True]  \n3             (Time_VeryHigh > 0.5) ˄ (Type_3 > 0.5)  [False]  \n4  (Time_VeryHigh ≤ 0.5) ˄ (Type_3 ≤ 0.5) ˄ (age_...   [True]  \n5  (Time_VeryHigh > 0.5) ˄ (Type_2 ≤ 0.5) ˄ (age_...  [False]  \n6                                                 ()  [False]  ",
      "text/html": "<div>\n<style scoped>\n    .dataframe tbody tr th:only-of-type {\n        vertical-align: middle;\n    }\n\n    .dataframe tbody tr th {\n        vertical-align: top;\n    }\n\n    .dataframe thead th {\n        text-align: right;\n    }\n</style>\n<table border=\"1\" class=\"dataframe\">\n  <thead>\n    <tr style=\"text-align: right;\">\n      <th></th>\n      <th>cov</th>\n      <th>conf</th>\n      <th>supp</th>\n      <th>samples</th>\n      <th>#</th>\n      <th>A</th>\n      <th>y</th>\n    </tr>\n  </thead>\n  <tbody>\n    <tr>\n      <th>0</th>\n      <td>0.3704</td>\n      <td>1.0000</td>\n      <td>0.3704</td>\n      <td>[0,30]</td>\n      <td>r_1</td>\n      <td>(Time_High ≤ 0.5) ˄ (Time_VeryHigh ≤ 0.5) ˄ (a...</td>\n      <td>[True]</td>\n    </tr>\n    <tr>\n      <th>1</th>\n      <td>0.2346</td>\n      <td>1.0000</td>\n      <td>0.2346</td>\n      <td>[19,0]</td>\n      <td>r_2</td>\n      <td>(Number_of_Warts_2 ≤ 0.5) ˄ (Time_VeryHigh &gt; 0...</td>\n      <td>[False]</td>\n    </tr>\n    <tr>\n      <th>2</th>\n      <td>0.0741</td>\n      <td>1.0000</td>\n      <td>0.0741</td>\n      <td>[0,6]</td>\n      <td>r_3</td>\n      <td>(Number_of_Warts_6 ≤ 0.5) ˄ (Time_VeryHigh ≤ 0...</td>\n      <td>[True]</td>\n    </tr>\n    <tr>\n      <th>3</th>\n      <td>0.0247</td>\n      <td>1.0000</td>\n      <td>0.0247</td>\n      <td>[2,0]</td>\n      <td>r_4</td>\n      <td>(Time_VeryHigh &gt; 0.5) ˄ (Type_3 &gt; 0.5)</td>\n      <td>[False]</td>\n    </tr>\n    <tr>\n      <th>4</th>\n      <td>0.0123</td>\n      <td>1.0000</td>\n      <td>0.0123</td>\n      <td>[0,1]</td>\n      <td>r_5</td>\n      <td>(Time_VeryHigh ≤ 0.5) ˄ (Type_3 ≤ 0.5) ˄ (age_...</td>\n      <td>[True]</td>\n    </tr>\n    <tr>\n      <th>5</th>\n      <td>0.0123</td>\n      <td>1.0000</td>\n      <td>0.0123</td>\n      <td>[1,0]</td>\n      <td>r_6</td>\n      <td>(Time_VeryHigh &gt; 0.5) ˄ (Type_2 ≤ 0.5) ˄ (age_...</td>\n      <td>[False]</td>\n    </tr>\n    <tr>\n      <th>6</th>\n      <td>0.2716</td>\n      <td>0.7273</td>\n      <td>0.1975</td>\n      <td>[16,6]</td>\n      <td>r_7</td>\n      <td>()</td>\n      <td>[False]</td>\n    </tr>\n  </tbody>\n</table>\n</div>"
     },
     "execution_count": 21,
     "metadata": {},
     "output_type": "execute_result"
    }
   ],
   "source": [
    "rc.simplified_ruleset_.print_rules(return_object='dataframe',heuristics_digits=4, condition_digits=1)"
   ]
  },
  {
   "cell_type": "code",
   "execution_count": 22,
   "outputs": [],
   "source": [
    "#print(len(rc.simplified_ruleset_))"
   ],
   "metadata": {
    "collapsed": false,
    "pycharm": {
     "is_executing": true
    },
    "ExecuteTime": {
     "end_time": "2023-05-23T14:13:15.764549Z",
     "start_time": "2023-05-23T14:13:15.679093Z"
    }
   }
  },
  {
   "cell_type": "markdown",
   "metadata": {},
   "source": [
    "## Checking the classification performance of the simplified rule-based classifier"
   ],
   "outputs": [
    {
     "ename": "NameError",
     "evalue": "name 'rc' is not defined",
     "output_type": "error",
     "traceback": [
      "\u001B[0;31m---------------------------------------------------------------------------\u001B[0m",
      "\u001B[0;31mNameError\u001B[0m                                 Traceback (most recent call last)",
      "Cell \u001B[0;32mIn[4], line 1\u001B[0m\n\u001B[0;32m----> 1\u001B[0m \u001B[43mrc\u001B[49m\u001B[38;5;241m.\u001B[39msimplified_ruleset_\u001B[38;5;241m.\u001B[39mprint_rules(return_object\u001B[38;5;241m=\u001B[39m\u001B[38;5;124m'\u001B[39m\u001B[38;5;124mdataframe\u001B[39m\u001B[38;5;124m'\u001B[39m,heuristics_digits\u001B[38;5;241m=\u001B[39m\u001B[38;5;241m4\u001B[39m, condition_digits\u001B[38;5;241m=\u001B[39m\u001B[38;5;241m1\u001B[39m)\n",
      "\u001B[0;31mNameError\u001B[0m: name 'rc' is not defined"
     ]
    }
   ],
   "execution_count": 4
  },
  {
   "cell_type": "code",
   "execution_count": 23,
   "metadata": {
    "pycharm": {
     "is_executing": true
    },
    "ExecuteTime": {
     "end_time": "2023-05-23T14:13:15.777183Z",
     "start_time": "2023-05-23T14:13:15.685270Z"
    }
   },
   "outputs": [],
   "source": [
    "# this function is used for counting the number of rules extracted from the tree ensemble (original ruelesets)\n",
    "def get_n_rules(rulesets):\n",
    "    n_rules = 0\n",
    "    for ruleset in rulesets:\n",
    "        for rule in ruleset:\n",
    "            n_rules += 1\n",
    "    return n_rules"
   ]
  },
  {
   "cell_type": "code",
   "execution_count": 24,
   "metadata": {
    "pycharm": {
     "is_executing": true
    },
    "ExecuteTime": {
     "end_time": "2023-05-23T14:13:15.783156Z",
     "start_time": "2023-05-23T14:13:15.693704Z"
    }
   },
   "outputs": [
    {
     "name": "stdout",
     "output_type": "stream",
     "text": [
      "== Original ensemble ==\n",
      "Number of trees: 100 trees\n",
      "Number of rules: 627 rules\n",
      "\n",
      "== Simplified rules ==\n",
      "cov \tconf \tsupp \tsamples \t\trule\n",
      "0.3704\t1.0000\t0.3704\t[0,30]\t\tr_1: (Time_High ≤ 0.500) ˄ (Time_VeryHigh ≤ 0.500) ˄ (age_VeryHigh ≤ 0.500) → [ True]\n",
      "0.2346\t1.0000\t0.2346\t[19,0]\t\tr_2: (Number_of_Warts_2 ≤ 0.500) ˄ (Time_VeryHigh > 0.500) ˄ (age_VeryLow ≤ 0.500) → [False]\n",
      "0.0741\t1.0000\t0.0741\t[0,6]\t\tr_3: (Number_of_Warts_6 ≤ 0.500) ˄ (Time_VeryHigh ≤ 0.500) ˄ (Type_3 ≤ 0.500) ˄ (age_Low ≤ 0.500) ˄ (age_VeryHigh ≤ 0.500) → [ True]\n",
      "0.0247\t1.0000\t0.0247\t[2,0]\t\tr_4: (Time_VeryHigh > 0.500) ˄ (Type_3 > 0.500) → [False]\n",
      "0.0123\t1.0000\t0.0123\t[0,1]\t\tr_5: (Time_VeryHigh ≤ 0.500) ˄ (Type_3 ≤ 0.500) ˄ (age_VeryLow > 0.500) → [ True]\n",
      "0.0123\t1.0000\t0.0123\t[1,0]\t\tr_6: (Time_VeryHigh > 0.500) ˄ (Type_2 ≤ 0.500) ˄ (age_VeryLow ≤ 0.500) → [False]\n",
      "0.2716\t0.7273\t0.1975\t[16,6]\t\tr_7: ( ) → [False]\n",
      "\n",
      "Combinations: 1457\n",
      "Time: 1.4322178363800049\n",
      "\n",
      "====== Classification performance ENSEMBLE ======\n",
      "              precision    recall  f1-score   support\n",
      "\n",
      "       False     1.0000    0.7500    0.8571         4\n",
      "        True     0.8333    1.0000    0.9091         5\n",
      "\n",
      "    accuracy                         0.8889         9\n",
      "   macro avg     0.9167    0.8750    0.8831         9\n",
      "weighted avg     0.9074    0.8889    0.8860         9\n",
      "\n",
      "\n",
      "====== Classification performance of simplified rules ======\n",
      "              precision    recall  f1-score   support\n",
      "\n",
      "       False     1.0000    0.7500    0.8571         4\n",
      "        True     0.8333    1.0000    0.9091         5\n",
      "\n",
      "    accuracy                         0.8889         9\n",
      "   macro avg     0.9167    0.8750    0.8831         9\n",
      "weighted avg     0.9074    0.8889    0.8860         9\n",
      "\n",
      "\n",
      "\n"
     ]
    }
   ],
   "source": [
    "print(f'== Original ensemble ==')\n",
    "print(f'Number of trees: {rc.base_ensemble_.n_estimators} trees')\n",
    "print(f'Number of rules: {get_n_rules(rc.original_rulesets_)} rules\\n')\n",
    "\n",
    "print(f'== Simplified rules ==')\n",
    "rc.simplified_ruleset_.print_rules()\n",
    "y_pred = rc.predict(X_test)\n",
    "if isinstance(rc.base_ensemble, XGBClassifier):\n",
    "    y_pred_ens = rc.base_ensemble_.predict(X_test, validate_features=False)\n",
    "else:\n",
    "    y_pred_ens = rc.base_ensemble_.predict(X_test)\n",
    "print(\"Combinations: {}\".format(rc.n_combinations_))\n",
    "print(\"Time: {}\\n\".format(rc.combination_time_))\n",
    "print(f'====== Classification performance ENSEMBLE ======')\n",
    "print(classification_report(y_test, y_pred_ens,digits=4))\n",
    "print(f'\\n====== Classification performance of simplified rules ======')\n",
    "print(classification_report(y_test, y_pred,digits=4))\n",
    "print('\\n')\n"
   ]
  },
  {
   "cell_type": "code",
   "execution_count": 24,
   "metadata": {
    "pycharm": {
     "is_executing": true
    },
    "ExecuteTime": {
     "end_time": "2023-05-23T14:13:15.791894Z",
     "start_time": "2023-05-23T14:13:15.741603Z"
    }
   },
   "outputs": [],
   "source": []
  }
 ],
 "metadata": {
  "kernelspec": {
   "name": "python3",
   "language": "python",
   "display_name": "Python 3 (ipykernel)"
  },
  "language_info": {
   "codemirror_mode": {
    "name": "ipython",
    "version": 3
   },
   "file_extension": ".py",
   "mimetype": "text/x-python",
   "name": "python",
   "nbconvert_exporter": "python",
   "pygments_lexer": "ipython3",
   "version": "3.9.12"
  }
 },
 "nbformat": 4,
 "nbformat_minor": 4
}
