{
 "cells": [
  {
   "cell_type": "code",
   "execution_count": 1,
   "metadata": {
    "jupyter": {
     "source_hidden": true
    },
    "ExecuteTime": {
     "start_time": "2023-04-26T15:50:18.211726Z",
     "end_time": "2023-04-26T15:50:18.240842Z"
    }
   },
   "outputs": [],
   "source": [
    "from IPython.display import Image"
   ]
  },
  {
   "cell_type": "markdown",
   "metadata": {},
   "source": [
    "# Demo of the combination and simplification algorithm"
   ]
  },
  {
   "cell_type": "code",
   "execution_count": 2,
   "metadata": {
    "ExecuteTime": {
     "start_time": "2023-04-26T15:50:18.223899Z",
     "end_time": "2023-04-26T15:50:19.838066Z"
    }
   },
   "outputs": [],
   "source": [
    "import pandas as pd"
   ]
  },
  {
   "cell_type": "markdown",
   "metadata": {},
   "source": [
    "## For using the library, just import the _RuleCOSIClassifier_ class from **rulecosi** package"
   ]
  },
  {
   "cell_type": "code",
   "execution_count": 3,
   "metadata": {
    "ExecuteTime": {
     "start_time": "2023-04-26T15:50:19.839504Z",
     "end_time": "2023-04-26T15:50:21.060510Z"
    }
   },
   "outputs": [],
   "source": [
    "from rulecosi import RuleCOSIClassifier"
   ]
  },
  {
   "cell_type": "markdown",
   "metadata": {},
   "source": [
    "The algorithm works with several type of tree ensembles and it uses the **sklearn** implementations.\n",
    "- Bagging Trees\n",
    "- RandomForests\n",
    "- Gradient Boosting Trees (original implementation)\n",
    "- XGBoost\n",
    "- Light GBM\n",
    "- CatBoost"
   ]
  },
  {
   "cell_type": "code",
   "execution_count": 4,
   "metadata": {
    "ExecuteTime": {
     "start_time": "2023-04-26T15:50:21.065109Z",
     "end_time": "2023-04-26T15:50:21.130583Z"
    }
   },
   "outputs": [],
   "source": [
    "#from catboost import CatBoostClassifier\n",
    "#from lightgbm import LGBMClassifier\n",
    "from xgboost import XGBClassifier\n",
    "\n",
    "#from sklearn.ensemble import BaggingClassifier, RandomForestClassifier, GradientBoostingClassifier\n",
    "\n",
    "from sklearn.model_selection import train_test_split\n",
    "from sklearn.metrics import classification_report\n",
    "from sklearn.metrics import make_scorer"
   ]
  },
  {
   "cell_type": "markdown",
   "metadata": {},
   "source": [
    "### Load a sample dataset and split the data\n",
    "\n",
    "We use the Wisconsin diagnostic breast cancer dataset. There are two classes, malignant (0) and benign (1)."
   ]
  },
  {
   "cell_type": "code",
   "execution_count": 5,
   "metadata": {
    "ExecuteTime": {
     "start_time": "2023-04-26T15:50:21.133919Z",
     "end_time": "2023-04-26T15:50:21.146255Z"
    }
   },
   "outputs": [],
   "source": [
    "data = pd.read_csv('data/wisconsin.csv')"
   ]
  },
  {
   "cell_type": "code",
   "execution_count": 6,
   "metadata": {
    "ExecuteTime": {
     "start_time": "2023-04-26T15:50:21.145428Z",
     "end_time": "2023-04-26T15:50:21.163457Z"
    }
   },
   "outputs": [
    {
     "data": {
      "text/plain": "   ClumpThickness  CellSize  CellShape  MarginalAdhesion  EpithelialSize  \\\n0               5         1          1                 1               2   \n1               5         4          4                 5               7   \n2               3         1          1                 1               2   \n3               6         8          8                 1               3   \n4               4         1          1                 3               2   \n\n   BareNuclei  BlandChromatin  NormalNucleoli  Mitoses  Class  \n0           1               3               1        1      1  \n1          10               3               2        1      1  \n2           2               3               1        1      1  \n3           4               3               7        1      1  \n4           1               3               1        1      1  ",
      "text/html": "<div>\n<style scoped>\n    .dataframe tbody tr th:only-of-type {\n        vertical-align: middle;\n    }\n\n    .dataframe tbody tr th {\n        vertical-align: top;\n    }\n\n    .dataframe thead th {\n        text-align: right;\n    }\n</style>\n<table border=\"1\" class=\"dataframe\">\n  <thead>\n    <tr style=\"text-align: right;\">\n      <th></th>\n      <th>ClumpThickness</th>\n      <th>CellSize</th>\n      <th>CellShape</th>\n      <th>MarginalAdhesion</th>\n      <th>EpithelialSize</th>\n      <th>BareNuclei</th>\n      <th>BlandChromatin</th>\n      <th>NormalNucleoli</th>\n      <th>Mitoses</th>\n      <th>Class</th>\n    </tr>\n  </thead>\n  <tbody>\n    <tr>\n      <th>0</th>\n      <td>5</td>\n      <td>1</td>\n      <td>1</td>\n      <td>1</td>\n      <td>2</td>\n      <td>1</td>\n      <td>3</td>\n      <td>1</td>\n      <td>1</td>\n      <td>1</td>\n    </tr>\n    <tr>\n      <th>1</th>\n      <td>5</td>\n      <td>4</td>\n      <td>4</td>\n      <td>5</td>\n      <td>7</td>\n      <td>10</td>\n      <td>3</td>\n      <td>2</td>\n      <td>1</td>\n      <td>1</td>\n    </tr>\n    <tr>\n      <th>2</th>\n      <td>3</td>\n      <td>1</td>\n      <td>1</td>\n      <td>1</td>\n      <td>2</td>\n      <td>2</td>\n      <td>3</td>\n      <td>1</td>\n      <td>1</td>\n      <td>1</td>\n    </tr>\n    <tr>\n      <th>3</th>\n      <td>6</td>\n      <td>8</td>\n      <td>8</td>\n      <td>1</td>\n      <td>3</td>\n      <td>4</td>\n      <td>3</td>\n      <td>7</td>\n      <td>1</td>\n      <td>1</td>\n    </tr>\n    <tr>\n      <th>4</th>\n      <td>4</td>\n      <td>1</td>\n      <td>1</td>\n      <td>3</td>\n      <td>2</td>\n      <td>1</td>\n      <td>3</td>\n      <td>1</td>\n      <td>1</td>\n      <td>1</td>\n    </tr>\n  </tbody>\n</table>\n</div>"
     },
     "execution_count": 6,
     "metadata": {},
     "output_type": "execute_result"
    }
   ],
   "source": [
    "data.head()"
   ]
  },
  {
   "cell_type": "code",
   "execution_count": 7,
   "metadata": {
    "ExecuteTime": {
     "start_time": "2023-04-26T15:50:21.166260Z",
     "end_time": "2023-04-26T15:50:21.182072Z"
    }
   },
   "outputs": [],
   "source": [
    "X = data.drop(['Class'], axis=1)\n",
    "y = data['Class']"
   ]
  },
  {
   "cell_type": "code",
   "execution_count": 8,
   "metadata": {
    "ExecuteTime": {
     "start_time": "2023-04-26T15:50:21.172963Z",
     "end_time": "2023-04-26T15:50:21.192522Z"
    }
   },
   "outputs": [],
   "source": [
    "X_train, X_test, y_train, y_test = train_test_split(X, y, test_size=0.10, random_state=1212)"
   ]
  },
  {
   "cell_type": "markdown",
   "metadata": {},
   "source": [
    "### Simplifying an XGBoost classifier\n",
    "\n",
    "We create a XGBClassifier instance. The ensemble can be fitted, or it can be just instantiated and RuleCOSI will fit the ensemble first and then simplify it."
   ]
  },
  {
   "cell_type": "code",
   "execution_count": 9,
   "metadata": {
    "ExecuteTime": {
     "start_time": "2023-04-26T15:50:21.185378Z",
     "end_time": "2023-04-26T15:50:21.211413Z"
    }
   },
   "outputs": [],
   "source": [
    "from sklearn.ensemble import RandomForestClassifier\n",
    "\n",
    "ens = RandomForestClassifier()"
   ]
  },
  {
   "cell_type": "markdown",
   "metadata": {},
   "source": [
    "This is done by instanciating a **RuleCOSIClassifier** class with the desired parameters, _n\\_estimator_, _tree\\_max\\_depth_, _conf\\_threshold_ and _min\\_samples_."
   ]
  },
  {
   "cell_type": "code",
   "execution_count": 10,
   "metadata": {
    "ExecuteTime": {
     "start_time": "2023-04-26T15:50:21.204412Z",
     "end_time": "2023-04-26T15:50:21.269870Z"
    }
   },
   "outputs": [],
   "source": [
    "rc = RuleCOSIClassifier(base_ensemble=ens, \n",
    "                        metric='f1',n_estimators=100, tree_max_depth=3, \n",
    "                        conf_threshold=0.9, cov_threshold=0.0,\n",
    "                        random_state=1212, column_names=X_train.columns)"
   ]
  },
  {
   "cell_type": "code",
   "execution_count": 11,
   "metadata": {
    "ExecuteTime": {
     "start_time": "2023-04-26T15:50:21.218307Z",
     "end_time": "2023-04-26T15:50:24.267018Z"
    }
   },
   "outputs": [
    {
     "name": "stdout",
     "output_type": "stream",
     "text": [
      "CPU times: user 2.7 s, sys: 61.2 ms, total: 2.76 s\n",
      "Wall time: 3.02 s\n"
     ]
    },
    {
     "data": {
      "text/plain": "RuleCOSIClassifier(base_ensemble=RandomForestClassifier(max_depth=3),\n                   column_names=Index(['ClumpThickness', 'CellSize', 'CellShape', 'MarginalAdhesion',\n       'EpithelialSize', 'BareNuclei', 'BlandChromatin', 'NormalNucleoli',\n       'Mitoses'],\n      dtype='object'),\n                   conf_threshold=0.9, n_estimators=100, random_state=1212)",
      "text/html": "<style>#sk-container-id-1 {color: black;background-color: white;}#sk-container-id-1 pre{padding: 0;}#sk-container-id-1 div.sk-toggleable {background-color: white;}#sk-container-id-1 label.sk-toggleable__label {cursor: pointer;display: block;width: 100%;margin-bottom: 0;padding: 0.3em;box-sizing: border-box;text-align: center;}#sk-container-id-1 label.sk-toggleable__label-arrow:before {content: \"▸\";float: left;margin-right: 0.25em;color: #696969;}#sk-container-id-1 label.sk-toggleable__label-arrow:hover:before {color: black;}#sk-container-id-1 div.sk-estimator:hover label.sk-toggleable__label-arrow:before {color: black;}#sk-container-id-1 div.sk-toggleable__content {max-height: 0;max-width: 0;overflow: hidden;text-align: left;background-color: #f0f8ff;}#sk-container-id-1 div.sk-toggleable__content pre {margin: 0.2em;color: black;border-radius: 0.25em;background-color: #f0f8ff;}#sk-container-id-1 input.sk-toggleable__control:checked~div.sk-toggleable__content {max-height: 200px;max-width: 100%;overflow: auto;}#sk-container-id-1 input.sk-toggleable__control:checked~label.sk-toggleable__label-arrow:before {content: \"▾\";}#sk-container-id-1 div.sk-estimator input.sk-toggleable__control:checked~label.sk-toggleable__label {background-color: #d4ebff;}#sk-container-id-1 div.sk-label input.sk-toggleable__control:checked~label.sk-toggleable__label {background-color: #d4ebff;}#sk-container-id-1 input.sk-hidden--visually {border: 0;clip: rect(1px 1px 1px 1px);clip: rect(1px, 1px, 1px, 1px);height: 1px;margin: -1px;overflow: hidden;padding: 0;position: absolute;width: 1px;}#sk-container-id-1 div.sk-estimator {font-family: monospace;background-color: #f0f8ff;border: 1px dotted black;border-radius: 0.25em;box-sizing: border-box;margin-bottom: 0.5em;}#sk-container-id-1 div.sk-estimator:hover {background-color: #d4ebff;}#sk-container-id-1 div.sk-parallel-item::after {content: \"\";width: 100%;border-bottom: 1px solid gray;flex-grow: 1;}#sk-container-id-1 div.sk-label:hover label.sk-toggleable__label {background-color: #d4ebff;}#sk-container-id-1 div.sk-serial::before {content: \"\";position: absolute;border-left: 1px solid gray;box-sizing: border-box;top: 0;bottom: 0;left: 50%;z-index: 0;}#sk-container-id-1 div.sk-serial {display: flex;flex-direction: column;align-items: center;background-color: white;padding-right: 0.2em;padding-left: 0.2em;position: relative;}#sk-container-id-1 div.sk-item {position: relative;z-index: 1;}#sk-container-id-1 div.sk-parallel {display: flex;align-items: stretch;justify-content: center;background-color: white;position: relative;}#sk-container-id-1 div.sk-item::before, #sk-container-id-1 div.sk-parallel-item::before {content: \"\";position: absolute;border-left: 1px solid gray;box-sizing: border-box;top: 0;bottom: 0;left: 50%;z-index: -1;}#sk-container-id-1 div.sk-parallel-item {display: flex;flex-direction: column;z-index: 1;position: relative;background-color: white;}#sk-container-id-1 div.sk-parallel-item:first-child::after {align-self: flex-end;width: 50%;}#sk-container-id-1 div.sk-parallel-item:last-child::after {align-self: flex-start;width: 50%;}#sk-container-id-1 div.sk-parallel-item:only-child::after {width: 0;}#sk-container-id-1 div.sk-dashed-wrapped {border: 1px dashed gray;margin: 0 0.4em 0.5em 0.4em;box-sizing: border-box;padding-bottom: 0.4em;background-color: white;}#sk-container-id-1 div.sk-label label {font-family: monospace;font-weight: bold;display: inline-block;line-height: 1.2em;}#sk-container-id-1 div.sk-label-container {text-align: center;}#sk-container-id-1 div.sk-container {/* jupyter's `normalize.less` sets `[hidden] { display: none; }` but bootstrap.min.css set `[hidden] { display: none !important; }` so we also need the `!important` here to be able to override the default hidden behavior on the sphinx rendered scikit-learn.org. See: https://github.com/scikit-learn/scikit-learn/issues/21755 */display: inline-block !important;position: relative;}#sk-container-id-1 div.sk-text-repr-fallback {display: none;}</style><div id=\"sk-container-id-1\" class=\"sk-top-container\"><div class=\"sk-text-repr-fallback\"><pre>RuleCOSIClassifier(base_ensemble=RandomForestClassifier(max_depth=3),\n                   column_names=Index([&#x27;ClumpThickness&#x27;, &#x27;CellSize&#x27;, &#x27;CellShape&#x27;, &#x27;MarginalAdhesion&#x27;,\n       &#x27;EpithelialSize&#x27;, &#x27;BareNuclei&#x27;, &#x27;BlandChromatin&#x27;, &#x27;NormalNucleoli&#x27;,\n       &#x27;Mitoses&#x27;],\n      dtype=&#x27;object&#x27;),\n                   conf_threshold=0.9, n_estimators=100, random_state=1212)</pre><b>In a Jupyter environment, please rerun this cell to show the HTML representation or trust the notebook. <br />On GitHub, the HTML representation is unable to render, please try loading this page with nbviewer.org.</b></div><div class=\"sk-container\" hidden><div class=\"sk-item sk-dashed-wrapped\"><div class=\"sk-label-container\"><div class=\"sk-label sk-toggleable\"><input class=\"sk-toggleable__control sk-hidden--visually\" id=\"sk-estimator-id-1\" type=\"checkbox\" ><label for=\"sk-estimator-id-1\" class=\"sk-toggleable__label sk-toggleable__label-arrow\">RuleCOSIClassifier</label><div class=\"sk-toggleable__content\"><pre>RuleCOSIClassifier(base_ensemble=RandomForestClassifier(max_depth=3),\n                   column_names=Index([&#x27;ClumpThickness&#x27;, &#x27;CellSize&#x27;, &#x27;CellShape&#x27;, &#x27;MarginalAdhesion&#x27;,\n       &#x27;EpithelialSize&#x27;, &#x27;BareNuclei&#x27;, &#x27;BlandChromatin&#x27;, &#x27;NormalNucleoli&#x27;,\n       &#x27;Mitoses&#x27;],\n      dtype=&#x27;object&#x27;),\n                   conf_threshold=0.9, n_estimators=100, random_state=1212)</pre></div></div></div><div class=\"sk-parallel\"><div class=\"sk-parallel-item\"><div class=\"sk-item\"><div class=\"sk-label-container\"><div class=\"sk-label sk-toggleable\"><input class=\"sk-toggleable__control sk-hidden--visually\" id=\"sk-estimator-id-2\" type=\"checkbox\" ><label for=\"sk-estimator-id-2\" class=\"sk-toggleable__label sk-toggleable__label-arrow\">base_ensemble: RandomForestClassifier</label><div class=\"sk-toggleable__content\"><pre>RandomForestClassifier(max_depth=3)</pre></div></div></div><div class=\"sk-serial\"><div class=\"sk-item\"><div class=\"sk-estimator sk-toggleable\"><input class=\"sk-toggleable__control sk-hidden--visually\" id=\"sk-estimator-id-3\" type=\"checkbox\" ><label for=\"sk-estimator-id-3\" class=\"sk-toggleable__label sk-toggleable__label-arrow\">RandomForestClassifier</label><div class=\"sk-toggleable__content\"><pre>RandomForestClassifier(max_depth=3)</pre></div></div></div></div></div></div></div></div></div></div>"
     },
     "execution_count": 11,
     "metadata": {},
     "output_type": "execute_result"
    }
   ],
   "source": [
    "%%time\n",
    "rc.fit(X_train, y_train)"
   ]
  },
  {
   "cell_type": "markdown",
   "metadata": {},
   "source": [
    "## Examining the simplified rules\n",
    "\n",
    "The rules will be stored in the _simplified\\_ruleset_ \\_ attribute of the RuleCOSI object. The function _print\\_rules_ print the rules and its heuristics on the console. It can also return a string object or a pandas DataFrame object to be used for further analysis. Additionally, the decimal digits displayed on the heuristics values and the condition thresholds can be modified with the _heuristics\\_digits_ and the _condition\\_digits_ parameters."
   ]
  },
  {
   "cell_type": "code",
   "execution_count": 12,
   "metadata": {
    "ExecuteTime": {
     "start_time": "2023-04-26T15:50:24.264378Z",
     "end_time": "2023-04-26T15:50:24.353166Z"
    }
   },
   "outputs": [
    {
     "name": "stdout",
     "output_type": "stream",
     "text": [
      "cov \tconf \tsupp \tsamples \t\trule\n",
      "0.5928\t1.0000\t0.5928\t[0,364]\t\tr_1: (BareNuclei ≤ 2.5) ˄ (CellSize ≤ 3.5) ˄ (EpithelialSize ≤ 4.5) → [1]\n",
      "0.1889\t1.0000\t0.1889\t[116,0]\t\tr_2: (CellSize > 4.5) ˄ (MarginalAdhesion > 1.5) ˄ (NormalNucleoli > 2.5) → [0]\n",
      "0.0586\t0.9722\t0.0570\t[35,1]\t\tr_3: (BareNuclei > 3.5) ˄ (CellShape > 4.5) ˄ (MarginalAdhesion > 1.5) → [0]\n",
      "0.0358\t1.0000\t0.0358\t[22,0]\t\tr_4: (BareNuclei > 8.5) ˄ (BlandChromatin > 3.5) → [0]\n",
      "0.0293\t1.0000\t0.0293\t[0,18]\t\tr_5: (BareNuclei ≤ 5.5) ˄ (BlandChromatin ≤ 3.5) ˄ (CellSize ≤ 4.5) ˄ (MarginalAdhesion ≤ 2.5) ˄ (NormalNucleoli ≤ 2.5) → [1]\n",
      "0.0228\t0.9286\t0.0212\t[13,1]\t\tr_6: (BareNuclei > 1.5) ˄ (CellSize > 3.5) ˄ (ClumpThickness > 6.5) → [0]\n",
      "0.0098\t1.0000\t0.0098\t[6,0]\t\tr_7: (BareNuclei > 2.5) ˄ (ClumpThickness > 6.5) → [0]\n",
      "0.0065\t1.0000\t0.0065\t[0,4]\t\tr_8: (BareNuclei ≤ 4.5) ˄ (BlandChromatin ≤ 3.5) ˄ (CellSize ≤ 2.5) ˄ (NormalNucleoli ≤ 2.5) → [1]\n",
      "0.0033\t1.0000\t0.0033\t[2,0]\t\tr_9: (CellSize > 4.5) ˄ (ClumpThickness > 6.5) → [0]\n",
      "0.0033\t1.0000\t0.0033\t[2,0]\t\tr_10: (CellSize > 3.5) ˄ (MarginalAdhesion > 5.5) → [0]\n",
      "0.0016\t1.0000\t0.0016\t[1,0]\t\tr_11: (BlandChromatin > 3.5) ˄ (MarginalAdhesion > 5.5) → [0]\n",
      "0.0016\t1.0000\t0.0016\t[0,1]\t\tr_12: (BlandChromatin ≤ 3.5) ˄ (MarginalAdhesion ≤ 2.5) ˄ (Mitoses ≤ 1.5) ˄ (NormalNucleoli ≤ 2.5) → [1]\n",
      "0.0016\t1.0000\t0.0016\t[0,1]\t\tr_13: (BareNuclei ≤ 3.5) ˄ (BlandChromatin ≤ 3.5) ˄ (CellShape ≤ 3.5) ˄ (Mitoses ≤ 1.5) → [1]\n",
      "0.0440\t0.6296\t0.0277\t[17,10]\t\tr_14: ( ) → [0]\n",
      "\n"
     ]
    }
   ],
   "source": [
    "rc.simplified_ruleset_.print_rules(heuristics_digits=4, condition_digits=1)"
   ]
  },
  {
   "cell_type": "code",
   "execution_count": 13,
   "metadata": {
    "ExecuteTime": {
     "start_time": "2023-04-26T15:50:24.278810Z",
     "end_time": "2023-04-26T15:50:24.354593Z"
    }
   },
   "outputs": [
    {
     "data": {
      "text/plain": "       cov    conf    supp  samples     #  \\\n0   0.5928  1.0000  0.5928  [0,364]   r_1   \n1   0.1889  1.0000  0.1889  [116,0]   r_2   \n2   0.0586  0.9722  0.0570   [35,1]   r_3   \n3   0.0358  1.0000  0.0358   [22,0]   r_4   \n4   0.0293  1.0000  0.0293   [0,18]   r_5   \n5   0.0228  0.9286  0.0212   [13,1]   r_6   \n6   0.0098  1.0000  0.0098    [6,0]   r_7   \n7   0.0065  1.0000  0.0065    [0,4]   r_8   \n8   0.0033  1.0000  0.0033    [2,0]   r_9   \n9   0.0033  1.0000  0.0033    [2,0]  r_10   \n10  0.0016  1.0000  0.0016    [1,0]  r_11   \n11  0.0016  1.0000  0.0016    [0,1]  r_12   \n12  0.0016  1.0000  0.0016    [0,1]  r_13   \n13  0.0440  0.6296  0.0277  [17,10]  r_14   \n\n                                                    A    y  \n0   (BareNuclei ≤ 2.5) ˄ (CellSize ≤ 3.5) ˄ (Epith...  [1]  \n1   (CellSize > 4.5) ˄ (MarginalAdhesion > 1.5) ˄ ...  [0]  \n2   (BareNuclei > 3.5) ˄ (CellShape > 4.5) ˄ (Marg...  [0]  \n3         (BareNuclei > 8.5) ˄ (BlandChromatin > 3.5)  [0]  \n4   (BareNuclei ≤ 5.5) ˄ (BlandChromatin ≤ 3.5) ˄ ...  [1]  \n5   (BareNuclei > 1.5) ˄ (CellSize > 3.5) ˄ (Clump...  [0]  \n6         (BareNuclei > 2.5) ˄ (ClumpThickness > 6.5)  [0]  \n7   (BareNuclei ≤ 4.5) ˄ (BlandChromatin ≤ 3.5) ˄ ...  [1]  \n8           (CellSize > 4.5) ˄ (ClumpThickness > 6.5)  [0]  \n9         (CellSize > 3.5) ˄ (MarginalAdhesion > 5.5)  [0]  \n10  (BlandChromatin > 3.5) ˄ (MarginalAdhesion > 5.5)  [0]  \n11  (BlandChromatin ≤ 3.5) ˄ (MarginalAdhesion ≤ 2...  [1]  \n12  (BareNuclei ≤ 3.5) ˄ (BlandChromatin ≤ 3.5) ˄ ...  [1]  \n13                                                 ()  [0]  ",
      "text/html": "<div>\n<style scoped>\n    .dataframe tbody tr th:only-of-type {\n        vertical-align: middle;\n    }\n\n    .dataframe tbody tr th {\n        vertical-align: top;\n    }\n\n    .dataframe thead th {\n        text-align: right;\n    }\n</style>\n<table border=\"1\" class=\"dataframe\">\n  <thead>\n    <tr style=\"text-align: right;\">\n      <th></th>\n      <th>cov</th>\n      <th>conf</th>\n      <th>supp</th>\n      <th>samples</th>\n      <th>#</th>\n      <th>A</th>\n      <th>y</th>\n    </tr>\n  </thead>\n  <tbody>\n    <tr>\n      <th>0</th>\n      <td>0.5928</td>\n      <td>1.0000</td>\n      <td>0.5928</td>\n      <td>[0,364]</td>\n      <td>r_1</td>\n      <td>(BareNuclei ≤ 2.5) ˄ (CellSize ≤ 3.5) ˄ (Epith...</td>\n      <td>[1]</td>\n    </tr>\n    <tr>\n      <th>1</th>\n      <td>0.1889</td>\n      <td>1.0000</td>\n      <td>0.1889</td>\n      <td>[116,0]</td>\n      <td>r_2</td>\n      <td>(CellSize &gt; 4.5) ˄ (MarginalAdhesion &gt; 1.5) ˄ ...</td>\n      <td>[0]</td>\n    </tr>\n    <tr>\n      <th>2</th>\n      <td>0.0586</td>\n      <td>0.9722</td>\n      <td>0.0570</td>\n      <td>[35,1]</td>\n      <td>r_3</td>\n      <td>(BareNuclei &gt; 3.5) ˄ (CellShape &gt; 4.5) ˄ (Marg...</td>\n      <td>[0]</td>\n    </tr>\n    <tr>\n      <th>3</th>\n      <td>0.0358</td>\n      <td>1.0000</td>\n      <td>0.0358</td>\n      <td>[22,0]</td>\n      <td>r_4</td>\n      <td>(BareNuclei &gt; 8.5) ˄ (BlandChromatin &gt; 3.5)</td>\n      <td>[0]</td>\n    </tr>\n    <tr>\n      <th>4</th>\n      <td>0.0293</td>\n      <td>1.0000</td>\n      <td>0.0293</td>\n      <td>[0,18]</td>\n      <td>r_5</td>\n      <td>(BareNuclei ≤ 5.5) ˄ (BlandChromatin ≤ 3.5) ˄ ...</td>\n      <td>[1]</td>\n    </tr>\n    <tr>\n      <th>5</th>\n      <td>0.0228</td>\n      <td>0.9286</td>\n      <td>0.0212</td>\n      <td>[13,1]</td>\n      <td>r_6</td>\n      <td>(BareNuclei &gt; 1.5) ˄ (CellSize &gt; 3.5) ˄ (Clump...</td>\n      <td>[0]</td>\n    </tr>\n    <tr>\n      <th>6</th>\n      <td>0.0098</td>\n      <td>1.0000</td>\n      <td>0.0098</td>\n      <td>[6,0]</td>\n      <td>r_7</td>\n      <td>(BareNuclei &gt; 2.5) ˄ (ClumpThickness &gt; 6.5)</td>\n      <td>[0]</td>\n    </tr>\n    <tr>\n      <th>7</th>\n      <td>0.0065</td>\n      <td>1.0000</td>\n      <td>0.0065</td>\n      <td>[0,4]</td>\n      <td>r_8</td>\n      <td>(BareNuclei ≤ 4.5) ˄ (BlandChromatin ≤ 3.5) ˄ ...</td>\n      <td>[1]</td>\n    </tr>\n    <tr>\n      <th>8</th>\n      <td>0.0033</td>\n      <td>1.0000</td>\n      <td>0.0033</td>\n      <td>[2,0]</td>\n      <td>r_9</td>\n      <td>(CellSize &gt; 4.5) ˄ (ClumpThickness &gt; 6.5)</td>\n      <td>[0]</td>\n    </tr>\n    <tr>\n      <th>9</th>\n      <td>0.0033</td>\n      <td>1.0000</td>\n      <td>0.0033</td>\n      <td>[2,0]</td>\n      <td>r_10</td>\n      <td>(CellSize &gt; 3.5) ˄ (MarginalAdhesion &gt; 5.5)</td>\n      <td>[0]</td>\n    </tr>\n    <tr>\n      <th>10</th>\n      <td>0.0016</td>\n      <td>1.0000</td>\n      <td>0.0016</td>\n      <td>[1,0]</td>\n      <td>r_11</td>\n      <td>(BlandChromatin &gt; 3.5) ˄ (MarginalAdhesion &gt; 5.5)</td>\n      <td>[0]</td>\n    </tr>\n    <tr>\n      <th>11</th>\n      <td>0.0016</td>\n      <td>1.0000</td>\n      <td>0.0016</td>\n      <td>[0,1]</td>\n      <td>r_12</td>\n      <td>(BlandChromatin ≤ 3.5) ˄ (MarginalAdhesion ≤ 2...</td>\n      <td>[1]</td>\n    </tr>\n    <tr>\n      <th>12</th>\n      <td>0.0016</td>\n      <td>1.0000</td>\n      <td>0.0016</td>\n      <td>[0,1]</td>\n      <td>r_13</td>\n      <td>(BareNuclei ≤ 3.5) ˄ (BlandChromatin ≤ 3.5) ˄ ...</td>\n      <td>[1]</td>\n    </tr>\n    <tr>\n      <th>13</th>\n      <td>0.0440</td>\n      <td>0.6296</td>\n      <td>0.0277</td>\n      <td>[17,10]</td>\n      <td>r_14</td>\n      <td>()</td>\n      <td>[0]</td>\n    </tr>\n  </tbody>\n</table>\n</div>"
     },
     "execution_count": 13,
     "metadata": {},
     "output_type": "execute_result"
    }
   ],
   "source": [
    "rc.simplified_ruleset_.print_rules(return_object='dataframe',heuristics_digits=4, condition_digits=1)"
   ]
  },
  {
   "cell_type": "markdown",
   "metadata": {},
   "source": [
    "## Checking the classification performance of the simplified rule-based classifier"
   ]
  },
  {
   "cell_type": "code",
   "execution_count": 14,
   "metadata": {
    "ExecuteTime": {
     "start_time": "2023-04-26T15:50:24.363106Z",
     "end_time": "2023-04-26T15:50:24.477023Z"
    }
   },
   "outputs": [],
   "source": [
    "# this function is used for counting the number of rules extracted from the tree ensemble (original ruelesets)\n",
    "def get_n_rules(rulesets):\n",
    "    n_rules = 0\n",
    "    for ruleset in rulesets:\n",
    "        for rule in ruleset:\n",
    "            n_rules += 1\n",
    "    return n_rules"
   ]
  },
  {
   "cell_type": "code",
   "execution_count": 15,
   "metadata": {
    "ExecuteTime": {
     "start_time": "2023-04-26T15:50:24.443217Z",
     "end_time": "2023-04-26T15:50:24.586510Z"
    }
   },
   "outputs": [
    {
     "name": "stdout",
     "output_type": "stream",
     "text": [
      "== Original XGBoost ensemble ==\n",
      "Number of trees: 100 trees\n",
      "Number of rules: 766 rules\n",
      "\n",
      "== Simplified rules ==\n",
      "cov \tconf \tsupp \tsamples \t\trule\n",
      "0.5928\t1.0000\t0.5928\t[0,364]\t\tr_1: (BareNuclei ≤ 2.500) ˄ (CellSize ≤ 3.500) ˄ (EpithelialSize ≤ 4.500) → [1]\n",
      "0.1889\t1.0000\t0.1889\t[116,0]\t\tr_2: (CellSize > 4.500) ˄ (MarginalAdhesion > 1.500) ˄ (NormalNucleoli > 2.500) → [0]\n",
      "0.0586\t0.9722\t0.0570\t[35,1]\t\tr_3: (BareNuclei > 3.500) ˄ (CellShape > 4.500) ˄ (MarginalAdhesion > 1.500) → [0]\n",
      "0.0358\t1.0000\t0.0358\t[22,0]\t\tr_4: (BareNuclei > 8.500) ˄ (BlandChromatin > 3.500) → [0]\n",
      "0.0293\t1.0000\t0.0293\t[0,18]\t\tr_5: (BareNuclei ≤ 5.500) ˄ (BlandChromatin ≤ 3.500) ˄ (CellSize ≤ 4.500) ˄ (MarginalAdhesion ≤ 2.500) ˄ (NormalNucleoli ≤ 2.500) → [1]\n",
      "0.0228\t0.9286\t0.0212\t[13,1]\t\tr_6: (BareNuclei > 1.500) ˄ (CellSize > 3.500) ˄ (ClumpThickness > 6.500) → [0]\n",
      "0.0098\t1.0000\t0.0098\t[6,0]\t\tr_7: (BareNuclei > 2.500) ˄ (ClumpThickness > 6.500) → [0]\n",
      "0.0065\t1.0000\t0.0065\t[0,4]\t\tr_8: (BareNuclei ≤ 4.500) ˄ (BlandChromatin ≤ 3.500) ˄ (CellSize ≤ 2.500) ˄ (NormalNucleoli ≤ 2.500) → [1]\n",
      "0.0033\t1.0000\t0.0033\t[2,0]\t\tr_9: (CellSize > 4.500) ˄ (ClumpThickness > 6.500) → [0]\n",
      "0.0033\t1.0000\t0.0033\t[2,0]\t\tr_10: (CellSize > 3.500) ˄ (MarginalAdhesion > 5.500) → [0]\n",
      "0.0016\t1.0000\t0.0016\t[1,0]\t\tr_11: (BlandChromatin > 3.500) ˄ (MarginalAdhesion > 5.500) → [0]\n",
      "0.0016\t1.0000\t0.0016\t[0,1]\t\tr_12: (BlandChromatin ≤ 3.500) ˄ (MarginalAdhesion ≤ 2.500) ˄ (Mitoses ≤ 1.500) ˄ (NormalNucleoli ≤ 2.500) → [1]\n",
      "0.0016\t1.0000\t0.0016\t[0,1]\t\tr_13: (BareNuclei ≤ 3.500) ˄ (BlandChromatin ≤ 3.500) ˄ (CellShape ≤ 3.500) ˄ (Mitoses ≤ 1.500) → [1]\n",
      "0.0440\t0.6296\t0.0277\t[17,10]\t\tr_14: ( ) → [0]\n",
      "\n",
      "Combinations: 4617\n",
      "Time: 2.804838180541992\n",
      "\n",
      "====== Classification performance of XGBoost ======\n",
      "              precision    recall  f1-score   support\n",
      "\n",
      "           0     0.9615    1.0000    0.9804        25\n",
      "           1     1.0000    0.9773    0.9885        44\n",
      "\n",
      "    accuracy                         0.9855        69\n",
      "   macro avg     0.9808    0.9886    0.9844        69\n",
      "weighted avg     0.9861    0.9855    0.9856        69\n",
      "\n",
      "\n",
      "====== Classification performance of simplified rules ======\n",
      "              precision    recall  f1-score   support\n",
      "\n",
      "           0     0.8929    1.0000    0.9434        25\n",
      "           1     1.0000    0.9318    0.9647        44\n",
      "\n",
      "    accuracy                         0.9565        69\n",
      "   macro avg     0.9464    0.9659    0.9541        69\n",
      "weighted avg     0.9612    0.9565    0.9570        69\n",
      "\n",
      "\n",
      "\n"
     ]
    },
    {
     "name": "stderr",
     "output_type": "stream",
     "text": [
      "/Users/marioparron/anaconda3/envs/iPRules/lib/python3.10/site-packages/sklearn/base.py:413: UserWarning: X has feature names, but RandomForestClassifier was fitted without feature names\n",
      "  warnings.warn(\n"
     ]
    }
   ],
   "source": [
    "print(f'== Original XGBoost ensemble ==')\n",
    "print(f'Number of trees: {rc.base_ensemble_.n_estimators} trees')\n",
    "print(f'Number of rules: {get_n_rules(rc.original_rulesets_)} rules\\n')\n",
    "\n",
    "print(f'== Simplified rules ==')\n",
    "rc.simplified_ruleset_.print_rules()\n",
    "y_pred = rc.predict(X_test)\n",
    "if isinstance(rc.base_ensemble, XGBClassifier):\n",
    "    y_pred_ens = rc.base_ensemble_.predict(X_test, validate_features=False)\n",
    "else:\n",
    "    y_pred_ens = rc.base_ensemble_.predict(X_test)\n",
    "print(\"Combinations: {}\".format(rc.n_combinations_))\n",
    "print(\"Time: {}\\n\".format(rc.combination_time_))\n",
    "print(f'====== Classification performance of XGBoost ======')\n",
    "print(classification_report(y_test, y_pred_ens,digits=4))\n",
    "print(f'\\n====== Classification performance of simplified rules ======')\n",
    "print(classification_report(y_test, y_pred,digits=4))\n",
    "print('\\n')\n"
   ]
  },
  {
   "cell_type": "code",
   "execution_count": 15,
   "metadata": {
    "ExecuteTime": {
     "start_time": "2023-04-26T15:50:24.497264Z",
     "end_time": "2023-04-26T15:50:24.650342Z"
    }
   },
   "outputs": [],
   "source": []
  }
 ],
 "metadata": {
  "kernelspec": {
   "name": "python3",
   "language": "python",
   "display_name": "Python 3 (ipykernel)"
  },
  "language_info": {
   "codemirror_mode": {
    "name": "ipython",
    "version": 3
   },
   "file_extension": ".py",
   "mimetype": "text/x-python",
   "name": "python",
   "nbconvert_exporter": "python",
   "pygments_lexer": "ipython3",
   "version": "3.9.12"
  }
 },
 "nbformat": 4,
 "nbformat_minor": 4
}
