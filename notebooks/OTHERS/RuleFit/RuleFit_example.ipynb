{
 "cells": [
  {
   "cell_type": "code",
   "execution_count": 7,
   "metadata": {
    "collapsed": true
   },
   "outputs": [
    {
     "name": "stdout",
     "output_type": "stream",
     "text": [
      "['SITE', 'LOC', 'ambulatory', 'Predisposed', 'HighriskDiving', 'HighriskFall', 'HighriskHanging', 'HighriskHitByCar', 'HighriskMVC', 'HighriskOtherMV', 'AxialLoadAnyDoc', 'axialloadtop', 'Clotheslining', 'AlteredMentalStatus2', 'FocalNeuroFindings2', 'PainNeck2', 'PosMidNeckTenderness2', 'TenderNeck2', 'Torticollis2', 'SubInjHead2', 'SubInjFace2', 'SubInjExt2', 'SubInjTorsoTrunk2', 'IsEms', 'Position_IDEMS', 'Position_L', 'Position_PA', 'Position_S', 'Position_W', 'PtCompPainHead2', 'PtCompPainFace2', 'PtCompPainExt2', 'PtCompPainTorsoTrunk2', 'PtTenderHead2', 'PtTenderFace2', 'PtTenderExt2', 'PtTenderTorsoTrunk2', 'AgeInYears', 'gender_F']\n",
      "> ------------------------------\n",
      "> Greedy Rule List\n",
      "> ------------------------------\n",
      "↓\n",
      "15.14% risk (2484 pts)\n",
      "\tif ~SITE ==> 16.8% risk (1863 pts)\n",
      "↓\n",
      "14.19% risk (621 pts)\n",
      "\tif SITE ==> 17.9% risk (156 pts)\n",
      "↓\n",
      "14.11% risk (465 pts)\n",
      "\tif ~SITE ==> 14.299999999999999% risk (217 pts)\n",
      "\n",
      "[{'col': 'SITE', 'index_col': 0, 'cutoff': 14.5, 'val': 0.15136876006441224, 'flip': True, 'val_right': 0.16800858829844337, 'num_pts': 2484, 'num_pts_right': 1863}, {'col': 'SITE', 'index_col': 0, 'cutoff': 16.5, 'val': 0.14193548387096774, 'flip': False, 'val_right': 0.1794871794871795, 'num_pts': 621, 'num_pts_right': 156}, {'col': 'SITE', 'index_col': 0, 'cutoff': 15.5, 'val': 0.14112903225806453, 'flip': True, 'val_right': 0.14285714285714285, 'num_pts': 465, 'num_pts_right': 217}]\n"
     ]
    }
   ],
   "source": [
    "from sklearn.model_selection import train_test_split\n",
    "from imodels import get_clean_dataset, HSTreeClassifierCV, RuleFitClassifier, \\\n",
    "    SkopeRulesClassifier, OneRClassifier  # import any imodels model here\n",
    "\n",
    "# prepare data (a sample clinical dataset)\n",
    "X, y, feature_names = get_clean_dataset('csi_pecarn_pred')\n",
    "X_train, X_test, y_train, y_test = train_test_split(X, y, random_state=42)\n",
    "\n",
    "# fit the model\n",
    "model = RuleFitClassifier()  # initialize a tree model and specify only 4 leaf nodes\n",
    "model.fit(X_train, y_train, feature_names=feature_names)   # fit model\n",
    "preds = model.predict(X_test) # discrete predictions: shape is (n_test, 1)\n",
    "preds_proba = model.predict_proba(X_test) # predicted probabilities: shape is (n_test, n_classes)\n",
    "print(model) # print the model\n",
    "print(model.rules_)"
   ]
  },
  {
   "cell_type": "code",
   "execution_count": 7,
   "outputs": [],
   "source": [],
   "metadata": {
    "collapsed": false
   }
  }
 ],
 "metadata": {
  "kernelspec": {
   "display_name": "Python 3",
   "language": "python",
   "name": "python3"
  },
  "language_info": {
   "codemirror_mode": {
    "name": "ipython",
    "version": 2
   },
   "file_extension": ".py",
   "mimetype": "text/x-python",
   "name": "python",
   "nbconvert_exporter": "python",
   "pygments_lexer": "ipython2",
   "version": "2.7.6"
  }
 },
 "nbformat": 4,
 "nbformat_minor": 0
}
