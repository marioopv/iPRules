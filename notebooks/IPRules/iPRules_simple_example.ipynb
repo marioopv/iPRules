{
 "cells": [
  {
   "cell_type": "markdown",
   "metadata": {},
   "source": [
    "\n"
   ]
  },
  {
   "cell_type": "markdown",
   "metadata": {},
   "source": [
    "# iPRules"
   ]
  },
  {
   "cell_type": "markdown",
   "metadata": {},
   "source": [
    "# Statics"
   ]
  },
  {
   "cell_type": "code",
   "execution_count": 14,
   "metadata": {},
   "outputs": [],
   "source": [
    "from sklearn.datasets import load_iris\n",
    "import pandas as pd\n",
    "from sklearn.model_selection import train_test_split\n",
    "import numpy as np\n",
    "import pandas as pd\n",
    "from sklearn.datasets import load_iris\n",
    "from sklearn.utils import Bunch\n",
    "from sklearn.datasets._base import load_csv_data\n",
    "from sklearn import metrics\n",
    "from sklearn.preprocessing import OneHotEncoder\n",
    "from sklearn.compose import make_column_transformer\n",
    "import csv"
   ]
  },
  {
   "cell_type": "markdown",
   "metadata": {},
   "source": [
    "## Load Dataset"
   ]
  },
  {
   "cell_type": "code",
   "execution_count": 15,
   "metadata": {},
   "outputs": [
    {
     "data": {
      "text/plain": "  cap_shape cap_surface cap_color bruises3F odor gill_attachment gill_spacing  \\\n0         x           s         n         t    p               f            c   \n1         x           s         y         t    a               f            c   \n2         b           s         w         t    l               f            c   \n3         x           y         w         t    p               f            c   \n4         x           s         g         f    n               f            w   \n\n  gill_size gill_color stalk_shape  ... stalk_color_above_ring  \\\n0         n          k           e  ...                      w   \n1         b          k           e  ...                      w   \n2         b          n           e  ...                      w   \n3         n          n           e  ...                      w   \n4         b          k           t  ...                      w   \n\n  stalk_color_below_ring veil_type veil_color ring_number ring_type  \\\n0                      w         p          w           o         p   \n1                      w         p          w           o         p   \n2                      w         p          w           o         p   \n3                      w         p          w           o         p   \n4                      w         p          w           o         e   \n\n  spore_print_color population habitat target_value  \n0                 k          s       u            1  \n1                 n          n       g            0  \n2                 n          n       m            0  \n3                 k          s       u            1  \n4                 n          a       g            0  \n\n[5 rows x 23 columns]",
      "text/html": "<div>\n<style scoped>\n    .dataframe tbody tr th:only-of-type {\n        vertical-align: middle;\n    }\n\n    .dataframe tbody tr th {\n        vertical-align: top;\n    }\n\n    .dataframe thead th {\n        text-align: right;\n    }\n</style>\n<table border=\"1\" class=\"dataframe\">\n  <thead>\n    <tr style=\"text-align: right;\">\n      <th></th>\n      <th>cap_shape</th>\n      <th>cap_surface</th>\n      <th>cap_color</th>\n      <th>bruises3F</th>\n      <th>odor</th>\n      <th>gill_attachment</th>\n      <th>gill_spacing</th>\n      <th>gill_size</th>\n      <th>gill_color</th>\n      <th>stalk_shape</th>\n      <th>...</th>\n      <th>stalk_color_above_ring</th>\n      <th>stalk_color_below_ring</th>\n      <th>veil_type</th>\n      <th>veil_color</th>\n      <th>ring_number</th>\n      <th>ring_type</th>\n      <th>spore_print_color</th>\n      <th>population</th>\n      <th>habitat</th>\n      <th>target_value</th>\n    </tr>\n  </thead>\n  <tbody>\n    <tr>\n      <th>0</th>\n      <td>x</td>\n      <td>s</td>\n      <td>n</td>\n      <td>t</td>\n      <td>p</td>\n      <td>f</td>\n      <td>c</td>\n      <td>n</td>\n      <td>k</td>\n      <td>e</td>\n      <td>...</td>\n      <td>w</td>\n      <td>w</td>\n      <td>p</td>\n      <td>w</td>\n      <td>o</td>\n      <td>p</td>\n      <td>k</td>\n      <td>s</td>\n      <td>u</td>\n      <td>1</td>\n    </tr>\n    <tr>\n      <th>1</th>\n      <td>x</td>\n      <td>s</td>\n      <td>y</td>\n      <td>t</td>\n      <td>a</td>\n      <td>f</td>\n      <td>c</td>\n      <td>b</td>\n      <td>k</td>\n      <td>e</td>\n      <td>...</td>\n      <td>w</td>\n      <td>w</td>\n      <td>p</td>\n      <td>w</td>\n      <td>o</td>\n      <td>p</td>\n      <td>n</td>\n      <td>n</td>\n      <td>g</td>\n      <td>0</td>\n    </tr>\n    <tr>\n      <th>2</th>\n      <td>b</td>\n      <td>s</td>\n      <td>w</td>\n      <td>t</td>\n      <td>l</td>\n      <td>f</td>\n      <td>c</td>\n      <td>b</td>\n      <td>n</td>\n      <td>e</td>\n      <td>...</td>\n      <td>w</td>\n      <td>w</td>\n      <td>p</td>\n      <td>w</td>\n      <td>o</td>\n      <td>p</td>\n      <td>n</td>\n      <td>n</td>\n      <td>m</td>\n      <td>0</td>\n    </tr>\n    <tr>\n      <th>3</th>\n      <td>x</td>\n      <td>y</td>\n      <td>w</td>\n      <td>t</td>\n      <td>p</td>\n      <td>f</td>\n      <td>c</td>\n      <td>n</td>\n      <td>n</td>\n      <td>e</td>\n      <td>...</td>\n      <td>w</td>\n      <td>w</td>\n      <td>p</td>\n      <td>w</td>\n      <td>o</td>\n      <td>p</td>\n      <td>k</td>\n      <td>s</td>\n      <td>u</td>\n      <td>1</td>\n    </tr>\n    <tr>\n      <th>4</th>\n      <td>x</td>\n      <td>s</td>\n      <td>g</td>\n      <td>f</td>\n      <td>n</td>\n      <td>f</td>\n      <td>w</td>\n      <td>b</td>\n      <td>k</td>\n      <td>t</td>\n      <td>...</td>\n      <td>w</td>\n      <td>w</td>\n      <td>p</td>\n      <td>w</td>\n      <td>o</td>\n      <td>e</td>\n      <td>n</td>\n      <td>a</td>\n      <td>g</td>\n      <td>0</td>\n    </tr>\n  </tbody>\n</table>\n<p>5 rows × 23 columns</p>\n</div>"
     },
     "execution_count": 15,
     "metadata": {},
     "output_type": "execute_result"
    }
   ],
   "source": [
    "# Load Dataset\n",
    "#iris\n",
    "#dataset = load_iris()\n",
    "target_value_name = 'class'\n",
    "\n",
    "# Mushrooms\n",
    "filename = 'mushrooms'\n",
    "target_true = 'p'\n",
    "target_false = 'e'\n",
    "test_size = 0.33\n",
    "min_number_class_per_node = 3\n",
    "\n",
    "\n",
    "data_file_name = f'../../data/{filename}.csv'\n",
    "pandas_dataset = pd.read_csv(data_file_name)\n",
    "\n",
    "pandas_dataset.columns = [sub.replace('%', '') for sub in pandas_dataset.columns]\n",
    "target_value_name = pandas_dataset.columns[-1]\n",
    "\n",
    "pandas_dataset[target_value_name] = pandas_dataset[target_value_name].map({target_false:0,target_true:1})\n",
    "\n",
    "pandas_dataset.columns = [sub.replace('-', '_').replace(' ', '').replace('class', 'target_value') for sub in pandas_dataset.columns]\n",
    "target_value_name = pandas_dataset.columns[-1]\n",
    "feature_names = pandas_dataset.columns[0:-1]\n",
    "\n",
    "\n",
    "#dataset.feature_names = [sub.replace(' ', '').replace('(cm)', '') for sub in dataset.feature_names]\n",
    "\n",
    "pandas_dataset.head()"
   ]
  },
  {
   "cell_type": "markdown",
   "metadata": {},
   "source": [
    "# One Hot Encoding"
   ]
  },
  {
   "cell_type": "code",
   "execution_count": 16,
   "metadata": {},
   "outputs": [
    {
     "data": {
      "text/plain": "   cap_shape_b  cap_shape_c  cap_shape_f  cap_shape_k  cap_shape_s  \\\n0          0.0          0.0          0.0          0.0          0.0   \n1          0.0          0.0          0.0          0.0          0.0   \n2          1.0          0.0          0.0          0.0          0.0   \n3          0.0          0.0          0.0          0.0          0.0   \n4          0.0          0.0          0.0          0.0          0.0   \n\n   cap_shape_x  cap_surface_f  cap_surface_g  cap_surface_s  cap_surface_y  \\\n0          1.0            0.0            0.0            1.0            0.0   \n1          1.0            0.0            0.0            1.0            0.0   \n2          0.0            0.0            0.0            1.0            0.0   \n3          1.0            0.0            0.0            0.0            1.0   \n4          1.0            0.0            0.0            1.0            0.0   \n\n   ...  population_v  population_y  habitat_d  habitat_g  habitat_l  \\\n0  ...           0.0           0.0        0.0        0.0        0.0   \n1  ...           0.0           0.0        0.0        1.0        0.0   \n2  ...           0.0           0.0        0.0        0.0        0.0   \n3  ...           0.0           0.0        0.0        0.0        0.0   \n4  ...           0.0           0.0        0.0        1.0        0.0   \n\n   habitat_m  habitat_p  habitat_u  habitat_w  target_value  \n0        0.0        0.0        1.0        0.0             1  \n1        0.0        0.0        0.0        0.0             0  \n2        1.0        0.0        0.0        0.0             0  \n3        0.0        0.0        1.0        0.0             1  \n4        0.0        0.0        0.0        0.0             0  \n\n[5 rows x 118 columns]",
      "text/html": "<div>\n<style scoped>\n    .dataframe tbody tr th:only-of-type {\n        vertical-align: middle;\n    }\n\n    .dataframe tbody tr th {\n        vertical-align: top;\n    }\n\n    .dataframe thead th {\n        text-align: right;\n    }\n</style>\n<table border=\"1\" class=\"dataframe\">\n  <thead>\n    <tr style=\"text-align: right;\">\n      <th></th>\n      <th>cap_shape_b</th>\n      <th>cap_shape_c</th>\n      <th>cap_shape_f</th>\n      <th>cap_shape_k</th>\n      <th>cap_shape_s</th>\n      <th>cap_shape_x</th>\n      <th>cap_surface_f</th>\n      <th>cap_surface_g</th>\n      <th>cap_surface_s</th>\n      <th>cap_surface_y</th>\n      <th>...</th>\n      <th>population_v</th>\n      <th>population_y</th>\n      <th>habitat_d</th>\n      <th>habitat_g</th>\n      <th>habitat_l</th>\n      <th>habitat_m</th>\n      <th>habitat_p</th>\n      <th>habitat_u</th>\n      <th>habitat_w</th>\n      <th>target_value</th>\n    </tr>\n  </thead>\n  <tbody>\n    <tr>\n      <th>0</th>\n      <td>0.0</td>\n      <td>0.0</td>\n      <td>0.0</td>\n      <td>0.0</td>\n      <td>0.0</td>\n      <td>1.0</td>\n      <td>0.0</td>\n      <td>0.0</td>\n      <td>1.0</td>\n      <td>0.0</td>\n      <td>...</td>\n      <td>0.0</td>\n      <td>0.0</td>\n      <td>0.0</td>\n      <td>0.0</td>\n      <td>0.0</td>\n      <td>0.0</td>\n      <td>0.0</td>\n      <td>1.0</td>\n      <td>0.0</td>\n      <td>1</td>\n    </tr>\n    <tr>\n      <th>1</th>\n      <td>0.0</td>\n      <td>0.0</td>\n      <td>0.0</td>\n      <td>0.0</td>\n      <td>0.0</td>\n      <td>1.0</td>\n      <td>0.0</td>\n      <td>0.0</td>\n      <td>1.0</td>\n      <td>0.0</td>\n      <td>...</td>\n      <td>0.0</td>\n      <td>0.0</td>\n      <td>0.0</td>\n      <td>1.0</td>\n      <td>0.0</td>\n      <td>0.0</td>\n      <td>0.0</td>\n      <td>0.0</td>\n      <td>0.0</td>\n      <td>0</td>\n    </tr>\n    <tr>\n      <th>2</th>\n      <td>1.0</td>\n      <td>0.0</td>\n      <td>0.0</td>\n      <td>0.0</td>\n      <td>0.0</td>\n      <td>0.0</td>\n      <td>0.0</td>\n      <td>0.0</td>\n      <td>1.0</td>\n      <td>0.0</td>\n      <td>...</td>\n      <td>0.0</td>\n      <td>0.0</td>\n      <td>0.0</td>\n      <td>0.0</td>\n      <td>0.0</td>\n      <td>1.0</td>\n      <td>0.0</td>\n      <td>0.0</td>\n      <td>0.0</td>\n      <td>0</td>\n    </tr>\n    <tr>\n      <th>3</th>\n      <td>0.0</td>\n      <td>0.0</td>\n      <td>0.0</td>\n      <td>0.0</td>\n      <td>0.0</td>\n      <td>1.0</td>\n      <td>0.0</td>\n      <td>0.0</td>\n      <td>0.0</td>\n      <td>1.0</td>\n      <td>...</td>\n      <td>0.0</td>\n      <td>0.0</td>\n      <td>0.0</td>\n      <td>0.0</td>\n      <td>0.0</td>\n      <td>0.0</td>\n      <td>0.0</td>\n      <td>1.0</td>\n      <td>0.0</td>\n      <td>1</td>\n    </tr>\n    <tr>\n      <th>4</th>\n      <td>0.0</td>\n      <td>0.0</td>\n      <td>0.0</td>\n      <td>0.0</td>\n      <td>0.0</td>\n      <td>1.0</td>\n      <td>0.0</td>\n      <td>0.0</td>\n      <td>1.0</td>\n      <td>0.0</td>\n      <td>...</td>\n      <td>0.0</td>\n      <td>0.0</td>\n      <td>0.0</td>\n      <td>1.0</td>\n      <td>0.0</td>\n      <td>0.0</td>\n      <td>0.0</td>\n      <td>0.0</td>\n      <td>0.0</td>\n      <td>0</td>\n    </tr>\n  </tbody>\n</table>\n<p>5 rows × 118 columns</p>\n</div>"
     },
     "execution_count": 16,
     "metadata": {},
     "output_type": "execute_result"
    }
   ],
   "source": [
    "enc = OneHotEncoder(sparse_output=False)\n",
    "encoded_array = enc.fit_transform(pandas_dataset.loc[:,feature_names])\n",
    "encoded_feature_names = enc.get_feature_names_out()\n",
    "df_encoded = pd.DataFrame(encoded_array,columns=encoded_feature_names)\n",
    "encoded_pandas_dataset = pd.concat([df_encoded, pandas_dataset],axis=1)\n",
    "encoded_pandas_dataset.drop(labels= feature_names,axis=1,inplace=True)\n",
    "encoded_pandas_dataset.head()"
   ]
  },
  {
   "cell_type": "code",
   "execution_count": 17,
   "metadata": {},
   "outputs": [],
   "source": [
    "#print(pandas_dataset.shape)\n",
    "\n",
    "# One hot encoding + not doing anything in the rest\n",
    "#ct = make_column_transformer(\n",
    "#    (OneHotEncoder(), feature_names),\n",
    "#    n_jobs=3,\n",
    "#    remainder='passthrough',\n",
    "#    sparse_threshold=0)\n",
    "\n",
    "#pandas_dataset_encoded = ct.fit_transform(pandas_dataset).T\n",
    "\n",
    "#print(pandas_dataset_encoded[0])\n",
    "\n",
    "#column_names = (ct.named_transformers_[\"onehotencoder\"].get_feature_names_out().tolist()\n",
    "#               + [target_value_name])\n",
    "\n",
    "#encoded_dataset = pd.DataFrame(pandas_dataset_encoded, column_names)\n",
    "\n",
    "#encoded_dataset.head()"
   ]
  },
  {
   "cell_type": "code",
   "execution_count": 18,
   "metadata": {},
   "outputs": [],
   "source": [
    "X = encoded_pandas_dataset[encoded_feature_names]\n",
    "y = encoded_pandas_dataset[target_value_name]\n",
    "\n",
    "encoded_dataset = Bunch(\n",
    "        data=X.to_numpy(),\n",
    "        target=y.to_numpy(),\n",
    "        target_names=target_value_name,\n",
    "        feature_names=X.columns\n",
    ")\n",
    "\n",
    "#X_display = pandas_dataset.drop([target_value_name], axis=1)\n",
    "#y_display = pandas_dataset[target_value_name]\n",
    "\n",
    "#encoded_pandas_dataset = pd.DataFrame(data= np.c_[dataset['data'], dataset['target']], columns= list(dataset['feature_names']) + ['target'])\n",
    "#encoded_pandas_dataset.head()\n"
   ]
  },
  {
   "cell_type": "markdown",
   "metadata": {},
   "source": [
    "# Divide dataset"
   ]
  },
  {
   "cell_type": "code",
   "execution_count": 19,
   "metadata": {},
   "outputs": [
    {
     "name": "stdout",
     "output_type": "stream",
     "text": [
      "\n",
      "Sizes (without target):\n",
      "Original size (8124, 117)\n",
      "Train size (5443, 117)\n",
      "Test size (2681, 117)\n"
     ]
    }
   ],
   "source": [
    "#Define dataset\n",
    "X_train, X_test, y_train, y_test = train_test_split(encoded_dataset.data, encoded_dataset.target, test_size=test_size, random_state=1)\n",
    "encoded_train_pandas_dataset = pd.DataFrame(data= np.c_[X_train, y_train], columns= list(encoded_dataset['feature_names']) + [target_value_name])\n",
    "encoded_test_pandas_dataset = pd.DataFrame(data= np.c_[X_test, y_test], columns= list(encoded_dataset['feature_names']) + [target_value_name])\n",
    "print()\n",
    "print('Sizes (without target):')\n",
    "print(f'Original size {encoded_dataset.data.shape}')\n",
    "print(f'Train size {X_train.shape}')\n",
    "print(f'Test size {X_test.shape}')"
   ]
  },
  {
   "cell_type": "markdown",
   "metadata": {},
   "source": [
    "## Define Random Forest"
   ]
  },
  {
   "cell_type": "code",
   "execution_count": 20,
   "metadata": {},
   "outputs": [],
   "source": [
    "from sklearn.ensemble import RandomForestClassifier\n",
    "from sklearn.model_selection import GridSearchCV\n",
    "from sklearn.metrics import precision_score, make_scorer, recall_score, accuracy_score\n",
    "\n",
    "# Define scorer\n",
    "ensemble = RandomForestClassifier(n_estimators=100)"
   ]
  },
  {
   "cell_type": "markdown",
   "metadata": {},
   "source": [
    "## iPRules"
   ]
  },
  {
   "cell_type": "code",
   "execution_count": 21,
   "metadata": {},
   "outputs": [
    {
     "name": "stdout",
     "output_type": "stream",
     "text": [
      "Fit Ensemble Model\n",
      "Extract feature importance list\n",
      "Generate new tree based on list\n",
      "Generate obtained patterns tree\n"
     ]
    },
    {
     "data": {
      "text/plain": "iPRules(base_ensemble=RandomForestClassifier(),\n        feature_names=Index(['cap_shape_b', 'cap_shape_c', 'cap_shape_f', 'cap_shape_k',\n       'cap_shape_s', 'cap_shape_x', 'cap_surface_f', 'cap_surface_g',\n       'cap_surface_s', 'cap_surface_y',\n       ...\n       'population_s', 'population_v', 'population_y', 'habitat_d',\n       'habitat_g', 'habitat_l', 'habitat_m', 'habitat_p', 'habitat_u',\n       'habitat_w'],\n      dtype='object', length=117),\n        target_value_name='target_value')",
      "text/html": "<style>#sk-container-id-2 {color: black;background-color: white;}#sk-container-id-2 pre{padding: 0;}#sk-container-id-2 div.sk-toggleable {background-color: white;}#sk-container-id-2 label.sk-toggleable__label {cursor: pointer;display: block;width: 100%;margin-bottom: 0;padding: 0.3em;box-sizing: border-box;text-align: center;}#sk-container-id-2 label.sk-toggleable__label-arrow:before {content: \"▸\";float: left;margin-right: 0.25em;color: #696969;}#sk-container-id-2 label.sk-toggleable__label-arrow:hover:before {color: black;}#sk-container-id-2 div.sk-estimator:hover label.sk-toggleable__label-arrow:before {color: black;}#sk-container-id-2 div.sk-toggleable__content {max-height: 0;max-width: 0;overflow: hidden;text-align: left;background-color: #f0f8ff;}#sk-container-id-2 div.sk-toggleable__content pre {margin: 0.2em;color: black;border-radius: 0.25em;background-color: #f0f8ff;}#sk-container-id-2 input.sk-toggleable__control:checked~div.sk-toggleable__content {max-height: 200px;max-width: 100%;overflow: auto;}#sk-container-id-2 input.sk-toggleable__control:checked~label.sk-toggleable__label-arrow:before {content: \"▾\";}#sk-container-id-2 div.sk-estimator input.sk-toggleable__control:checked~label.sk-toggleable__label {background-color: #d4ebff;}#sk-container-id-2 div.sk-label input.sk-toggleable__control:checked~label.sk-toggleable__label {background-color: #d4ebff;}#sk-container-id-2 input.sk-hidden--visually {border: 0;clip: rect(1px 1px 1px 1px);clip: rect(1px, 1px, 1px, 1px);height: 1px;margin: -1px;overflow: hidden;padding: 0;position: absolute;width: 1px;}#sk-container-id-2 div.sk-estimator {font-family: monospace;background-color: #f0f8ff;border: 1px dotted black;border-radius: 0.25em;box-sizing: border-box;margin-bottom: 0.5em;}#sk-container-id-2 div.sk-estimator:hover {background-color: #d4ebff;}#sk-container-id-2 div.sk-parallel-item::after {content: \"\";width: 100%;border-bottom: 1px solid gray;flex-grow: 1;}#sk-container-id-2 div.sk-label:hover label.sk-toggleable__label {background-color: #d4ebff;}#sk-container-id-2 div.sk-serial::before {content: \"\";position: absolute;border-left: 1px solid gray;box-sizing: border-box;top: 0;bottom: 0;left: 50%;z-index: 0;}#sk-container-id-2 div.sk-serial {display: flex;flex-direction: column;align-items: center;background-color: white;padding-right: 0.2em;padding-left: 0.2em;position: relative;}#sk-container-id-2 div.sk-item {position: relative;z-index: 1;}#sk-container-id-2 div.sk-parallel {display: flex;align-items: stretch;justify-content: center;background-color: white;position: relative;}#sk-container-id-2 div.sk-item::before, #sk-container-id-2 div.sk-parallel-item::before {content: \"\";position: absolute;border-left: 1px solid gray;box-sizing: border-box;top: 0;bottom: 0;left: 50%;z-index: -1;}#sk-container-id-2 div.sk-parallel-item {display: flex;flex-direction: column;z-index: 1;position: relative;background-color: white;}#sk-container-id-2 div.sk-parallel-item:first-child::after {align-self: flex-end;width: 50%;}#sk-container-id-2 div.sk-parallel-item:last-child::after {align-self: flex-start;width: 50%;}#sk-container-id-2 div.sk-parallel-item:only-child::after {width: 0;}#sk-container-id-2 div.sk-dashed-wrapped {border: 1px dashed gray;margin: 0 0.4em 0.5em 0.4em;box-sizing: border-box;padding-bottom: 0.4em;background-color: white;}#sk-container-id-2 div.sk-label label {font-family: monospace;font-weight: bold;display: inline-block;line-height: 1.2em;}#sk-container-id-2 div.sk-label-container {text-align: center;}#sk-container-id-2 div.sk-container {/* jupyter's `normalize.less` sets `[hidden] { display: none; }` but bootstrap.min.css set `[hidden] { display: none !important; }` so we also need the `!important` here to be able to override the default hidden behavior on the sphinx rendered scikit-learn.org. See: https://github.com/scikit-learn/scikit-learn/issues/21755 */display: inline-block !important;position: relative;}#sk-container-id-2 div.sk-text-repr-fallback {display: none;}</style><div id=\"sk-container-id-2\" class=\"sk-top-container\"><div class=\"sk-text-repr-fallback\"><pre>&gt; ------------------------------\n&gt; iPRules:\n&gt; Number of patterns17:\n&gt; ------------------------------\nRegla 0: odor_n == 0.0 &amp; odor_f == 0.0 &amp; gill_size_n == 1.0 &amp; gill_size_b == 0.0 &amp; spore_print_color_h == 0.0 &amp; stalk_surface_above_ring_k == 0.0 &amp; ring_type_p == 1.0 &amp; gill_color_b == 0.0 &amp; stalk_surface_below_ring_k == 0.0 &amp; gill_spacing_c == 0.0 &amp; population_v == 1.0 &amp; bruises3F_f\nRegla 1: odor_n == 1.0 &amp; odor_f == 0.0 &amp; gill_size_n == 0.0 &amp; gill_size_b == 1.0 &amp; spore_print_color_h == 0.0 &amp; stalk_surface_above_ring_k == 0.0 &amp; ring_type_p\nRegla 2: odor_n == 1.0 &amp; odor_f == 0.0 &amp; gill_size_n == 1.0 &amp; gill_size_b == 0.0 &amp; spore_print_color_h\nRegla 3: odor_n == 1.0 &amp; odor_f == 0.0 &amp; gill_size_n == 1.0 &amp; gill_size_b == 0.0 &amp; spore_print_color_h == 0.0 &amp; stalk_surface_above_ring_k\nRegla 4: odor_n == 0.0 &amp; odor_f == 0.0 &amp; gill_size_n == 1.0 &amp; gill_size_b == 0.0 &amp; spore_print_color_h == 0.0 &amp; stalk_surface_above_ring_k\nRegla 5: odor_n == 0.0 &amp; odor_f\nRegla 6: odor_n == 0.0 &amp; odor_f == 0.0 &amp; gill_size_n == 1.0 &amp; gill_size_b == 0.0 &amp; spore_print_color_h == 0.0 &amp; stalk_surface_above_ring_k == 0.0 &amp; ring_type_p == 1.0 &amp; gill_color_b == 0.0 &amp; stalk_surface_below_ring_k == 0.0 &amp; gill_spacing_c == 0.0 &amp; population_v\nRegla 7: odor_n == 0.0 &amp; odor_f == 0.0 &amp; gill_size_n == 1.0 &amp; gill_size_b == 0.0 &amp; spore_print_color_h == 0.0 &amp; stalk_surface_above_ring_k == 0.0 &amp; ring_type_p == 1.0 &amp; gill_color_b == 0.0 &amp; stalk_surface_below_ring_k == 0.0 &amp; gill_spacing_c\nRegla 8: odor_n == 0.0 &amp; odor_f == 0.0 &amp; gill_size_n == 0.0 &amp; gill_size_b == 1.0 &amp; spore_print_color_h == 0.0 &amp; stalk_surface_above_ring_k\nRegla 9: odor_n == 1.0 &amp; odor_f == 0.0 &amp; gill_size_n == 1.0 &amp; gill_size_b == 0.0 &amp; spore_print_color_h == 0.0 &amp; stalk_surface_above_ring_k == 0.0 &amp; ring_type_p == 1.0 &amp; gill_color_b == 0.0 &amp; stalk_surface_below_ring_k == 0.0 &amp; gill_spacing_c\nRegla 10: odor_n == 1.0 &amp; odor_f == 0.0 &amp; gill_size_n == 1.0 &amp; gill_size_b == 0.0 &amp; spore_print_color_h == 0.0 &amp; stalk_surface_above_ring_k == 0.0 &amp; ring_type_p == 0.0 &amp; gill_color_b == 0.0 &amp; stalk_surface_below_ring_k == 0.0 &amp; gill_spacing_c == 0.0 &amp; population_v\nRegla 11: odor_n == 0.0 &amp; odor_f == 0.0 &amp; gill_size_n\nRegla 12: odor_n == 1.0 &amp; odor_f == 0.0 &amp; gill_size_n\nRegla 13: odor_n == 0.0 &amp; odor_f == 0.0 &amp; gill_size_n == 1.0 &amp; gill_size_b == 0.0 &amp; spore_print_color_h == 0.0 &amp; stalk_surface_above_ring_k == 0.0 &amp; ring_type_p\nRegla 14: odor_n\nRegla 15: odor_n == 1.0 &amp; odor_f == 0.0 &amp; gill_size_n == 0.0 &amp; gill_size_b == 1.0 &amp; spore_print_color_h == 0.0 &amp; stalk_surface_above_ring_k == 0.0 &amp; ring_type_p == 1.0 &amp; gill_color_b == 0.0 &amp; stalk_surface_below_ring_k == 0.0 &amp; gill_spacing_c == 1.0 &amp; population_v\nRegla 16: odor_n == 1.0 &amp; odor_f == 0.0 &amp; gill_size_n == 0.0 &amp; gill_size_b == 1.0 &amp; spore_print_color_h == 0.0 &amp; stalk_surface_above_ring_k == 0.0 &amp; ring_type_p == 1.0 &amp; gill_color_b == 0.0 &amp; stalk_surface_below_ring_k == 0.0 &amp; gill_spacing_c == 1.0 &amp; population_v == 1.0 &amp; bruises3F_f\n</pre><b>In a Jupyter environment, please rerun this cell to show the HTML representation or trust the notebook. <br />On GitHub, the HTML representation is unable to render, please try loading this page with nbviewer.org.</b></div><div class=\"sk-container\" hidden><div class=\"sk-item sk-dashed-wrapped\"><div class=\"sk-label-container\"><div class=\"sk-label sk-toggleable\"><input class=\"sk-toggleable__control sk-hidden--visually\" id=\"sk-estimator-id-4\" type=\"checkbox\" ><label for=\"sk-estimator-id-4\" class=\"sk-toggleable__label sk-toggleable__label-arrow\">iPRules</label><div class=\"sk-toggleable__content\"><pre>&gt; ------------------------------\n&gt; iPRules:\n&gt; Number of patterns17:\n&gt; ------------------------------\nRegla 0: odor_n == 0.0 &amp; odor_f == 0.0 &amp; gill_size_n == 1.0 &amp; gill_size_b == 0.0 &amp; spore_print_color_h == 0.0 &amp; stalk_surface_above_ring_k == 0.0 &amp; ring_type_p == 1.0 &amp; gill_color_b == 0.0 &amp; stalk_surface_below_ring_k == 0.0 &amp; gill_spacing_c == 0.0 &amp; population_v == 1.0 &amp; bruises3F_f\nRegla 1: odor_n == 1.0 &amp; odor_f == 0.0 &amp; gill_size_n == 0.0 &amp; gill_size_b == 1.0 &amp; spore_print_color_h == 0.0 &amp; stalk_surface_above_ring_k == 0.0 &amp; ring_type_p\nRegla 2: odor_n == 1.0 &amp; odor_f == 0.0 &amp; gill_size_n == 1.0 &amp; gill_size_b == 0.0 &amp; spore_print_color_h\nRegla 3: odor_n == 1.0 &amp; odor_f == 0.0 &amp; gill_size_n == 1.0 &amp; gill_size_b == 0.0 &amp; spore_print_color_h == 0.0 &amp; stalk_surface_above_ring_k\nRegla 4: odor_n == 0.0 &amp; odor_f == 0.0 &amp; gill_size_n == 1.0 &amp; gill_size_b == 0.0 &amp; spore_print_color_h == 0.0 &amp; stalk_surface_above_ring_k\nRegla 5: odor_n == 0.0 &amp; odor_f\nRegla 6: odor_n == 0.0 &amp; odor_f == 0.0 &amp; gill_size_n == 1.0 &amp; gill_size_b == 0.0 &amp; spore_print_color_h == 0.0 &amp; stalk_surface_above_ring_k == 0.0 &amp; ring_type_p == 1.0 &amp; gill_color_b == 0.0 &amp; stalk_surface_below_ring_k == 0.0 &amp; gill_spacing_c == 0.0 &amp; population_v\nRegla 7: odor_n == 0.0 &amp; odor_f == 0.0 &amp; gill_size_n == 1.0 &amp; gill_size_b == 0.0 &amp; spore_print_color_h == 0.0 &amp; stalk_surface_above_ring_k == 0.0 &amp; ring_type_p == 1.0 &amp; gill_color_b == 0.0 &amp; stalk_surface_below_ring_k == 0.0 &amp; gill_spacing_c\nRegla 8: odor_n == 0.0 &amp; odor_f == 0.0 &amp; gill_size_n == 0.0 &amp; gill_size_b == 1.0 &amp; spore_print_color_h == 0.0 &amp; stalk_surface_above_ring_k\nRegla 9: odor_n == 1.0 &amp; odor_f == 0.0 &amp; gill_size_n == 1.0 &amp; gill_size_b == 0.0 &amp; spore_print_color_h == 0.0 &amp; stalk_surface_above_ring_k == 0.0 &amp; ring_type_p == 1.0 &amp; gill_color_b == 0.0 &amp; stalk_surface_below_ring_k == 0.0 &amp; gill_spacing_c\nRegla 10: odor_n == 1.0 &amp; odor_f == 0.0 &amp; gill_size_n == 1.0 &amp; gill_size_b == 0.0 &amp; spore_print_color_h == 0.0 &amp; stalk_surface_above_ring_k == 0.0 &amp; ring_type_p == 0.0 &amp; gill_color_b == 0.0 &amp; stalk_surface_below_ring_k == 0.0 &amp; gill_spacing_c == 0.0 &amp; population_v\nRegla 11: odor_n == 0.0 &amp; odor_f == 0.0 &amp; gill_size_n\nRegla 12: odor_n == 1.0 &amp; odor_f == 0.0 &amp; gill_size_n\nRegla 13: odor_n == 0.0 &amp; odor_f == 0.0 &amp; gill_size_n == 1.0 &amp; gill_size_b == 0.0 &amp; spore_print_color_h == 0.0 &amp; stalk_surface_above_ring_k == 0.0 &amp; ring_type_p\nRegla 14: odor_n\nRegla 15: odor_n == 1.0 &amp; odor_f == 0.0 &amp; gill_size_n == 0.0 &amp; gill_size_b == 1.0 &amp; spore_print_color_h == 0.0 &amp; stalk_surface_above_ring_k == 0.0 &amp; ring_type_p == 1.0 &amp; gill_color_b == 0.0 &amp; stalk_surface_below_ring_k == 0.0 &amp; gill_spacing_c == 1.0 &amp; population_v\nRegla 16: odor_n == 1.0 &amp; odor_f == 0.0 &amp; gill_size_n == 0.0 &amp; gill_size_b == 1.0 &amp; spore_print_color_h == 0.0 &amp; stalk_surface_above_ring_k == 0.0 &amp; ring_type_p == 1.0 &amp; gill_color_b == 0.0 &amp; stalk_surface_below_ring_k == 0.0 &amp; gill_spacing_c == 1.0 &amp; population_v == 1.0 &amp; bruises3F_f\n</pre></div></div></div><div class=\"sk-parallel\"><div class=\"sk-parallel-item\"><div class=\"sk-item\"><div class=\"sk-label-container\"><div class=\"sk-label sk-toggleable\"><input class=\"sk-toggleable__control sk-hidden--visually\" id=\"sk-estimator-id-5\" type=\"checkbox\" ><label for=\"sk-estimator-id-5\" class=\"sk-toggleable__label sk-toggleable__label-arrow\">base_ensemble: RandomForestClassifier</label><div class=\"sk-toggleable__content\"><pre>RandomForestClassifier()</pre></div></div></div><div class=\"sk-serial\"><div class=\"sk-item\"><div class=\"sk-estimator sk-toggleable\"><input class=\"sk-toggleable__control sk-hidden--visually\" id=\"sk-estimator-id-6\" type=\"checkbox\" ><label for=\"sk-estimator-id-6\" class=\"sk-toggleable__label sk-toggleable__label-arrow\">RandomForestClassifier</label><div class=\"sk-toggleable__content\"><pre>RandomForestClassifier()</pre></div></div></div></div></div></div></div></div></div></div>"
     },
     "execution_count": 21,
     "metadata": {},
     "output_type": "execute_result"
    }
   ],
   "source": [
    "from iPRules.iPRules import iPRules\n",
    "\n",
    "# initialize\n",
    "tree = iPRules(\n",
    "                base_ensemble=ensemble,\n",
    "                feature_names=encoded_dataset.feature_names,\n",
    "                target_value_name = encoded_dataset.target_names,\n",
    "                chi_square_probability = 0.95,\n",
    "                scale_feature_coefficient = 0.85,\n",
    "                min_number_class_per_node = min_number_class_per_node\n",
    "            )\n",
    "\n",
    "# Fit model\n",
    "tree.fit(encoded_train_pandas_dataset, X_train, y_train)"
   ]
  },
  {
   "cell_type": "markdown",
   "metadata": {},
   "source": [
    "# Print Model"
   ]
  },
  {
   "cell_type": "code",
   "execution_count": 22,
   "metadata": {},
   "outputs": [
    {
     "name": "stdout",
     "output_type": "stream",
     "text": [
      "> ------------------------------\n",
      "> iPRules:\n",
      "> Number of patterns17:\n",
      "> ------------------------------\n",
      "Regla 0: odor_n == 0.0 & odor_f == 0.0 & gill_size_n == 1.0 & gill_size_b == 0.0 & spore_print_color_h == 0.0 & stalk_surface_above_ring_k == 0.0 & ring_type_p == 1.0 & gill_color_b == 0.0 & stalk_surface_below_ring_k == 0.0 & gill_spacing_c == 0.0 & population_v == 1.0 & bruises3F_f\n",
      "Regla 1: odor_n == 1.0 & odor_f == 0.0 & gill_size_n == 0.0 & gill_size_b == 1.0 & spore_print_color_h == 0.0 & stalk_surface_above_ring_k == 0.0 & ring_type_p\n",
      "Regla 2: odor_n == 1.0 & odor_f == 0.0 & gill_size_n == 1.0 & gill_size_b == 0.0 & spore_print_color_h\n",
      "Regla 3: odor_n == 1.0 & odor_f == 0.0 & gill_size_n == 1.0 & gill_size_b == 0.0 & spore_print_color_h == 0.0 & stalk_surface_above_ring_k\n",
      "Regla 4: odor_n == 0.0 & odor_f == 0.0 & gill_size_n == 1.0 & gill_size_b == 0.0 & spore_print_color_h == 0.0 & stalk_surface_above_ring_k\n",
      "Regla 5: odor_n == 0.0 & odor_f\n",
      "Regla 6: odor_n == 0.0 & odor_f == 0.0 & gill_size_n == 1.0 & gill_size_b == 0.0 & spore_print_color_h == 0.0 & stalk_surface_above_ring_k == 0.0 & ring_type_p == 1.0 & gill_color_b == 0.0 & stalk_surface_below_ring_k == 0.0 & gill_spacing_c == 0.0 & population_v\n",
      "Regla 7: odor_n == 0.0 & odor_f == 0.0 & gill_size_n == 1.0 & gill_size_b == 0.0 & spore_print_color_h == 0.0 & stalk_surface_above_ring_k == 0.0 & ring_type_p == 1.0 & gill_color_b == 0.0 & stalk_surface_below_ring_k == 0.0 & gill_spacing_c\n",
      "Regla 8: odor_n == 0.0 & odor_f == 0.0 & gill_size_n == 0.0 & gill_size_b == 1.0 & spore_print_color_h == 0.0 & stalk_surface_above_ring_k\n",
      "Regla 9: odor_n == 1.0 & odor_f == 0.0 & gill_size_n == 1.0 & gill_size_b == 0.0 & spore_print_color_h == 0.0 & stalk_surface_above_ring_k == 0.0 & ring_type_p == 1.0 & gill_color_b == 0.0 & stalk_surface_below_ring_k == 0.0 & gill_spacing_c\n",
      "Regla 10: odor_n == 1.0 & odor_f == 0.0 & gill_size_n == 1.0 & gill_size_b == 0.0 & spore_print_color_h == 0.0 & stalk_surface_above_ring_k == 0.0 & ring_type_p == 0.0 & gill_color_b == 0.0 & stalk_surface_below_ring_k == 0.0 & gill_spacing_c == 0.0 & population_v\n",
      "Regla 11: odor_n == 0.0 & odor_f == 0.0 & gill_size_n\n",
      "Regla 12: odor_n == 1.0 & odor_f == 0.0 & gill_size_n\n",
      "Regla 13: odor_n == 0.0 & odor_f == 0.0 & gill_size_n == 1.0 & gill_size_b == 0.0 & spore_print_color_h == 0.0 & stalk_surface_above_ring_k == 0.0 & ring_type_p\n",
      "Regla 14: odor_n\n",
      "Regla 15: odor_n == 1.0 & odor_f == 0.0 & gill_size_n == 0.0 & gill_size_b == 1.0 & spore_print_color_h == 0.0 & stalk_surface_above_ring_k == 0.0 & ring_type_p == 1.0 & gill_color_b == 0.0 & stalk_surface_below_ring_k == 0.0 & gill_spacing_c == 1.0 & population_v\n",
      "Regla 16: odor_n == 1.0 & odor_f == 0.0 & gill_size_n == 0.0 & gill_size_b == 1.0 & spore_print_color_h == 0.0 & stalk_surface_above_ring_k == 0.0 & ring_type_p == 1.0 & gill_color_b == 0.0 & stalk_surface_below_ring_k == 0.0 & gill_spacing_c == 1.0 & population_v == 1.0 & bruises3F_f\n",
      "\n"
     ]
    }
   ],
   "source": [
    "print(tree)"
   ]
  },
  {
   "cell_type": "markdown",
   "metadata": {},
   "source": [
    "# Predict"
   ]
  },
  {
   "cell_type": "code",
   "execution_count": 23,
   "outputs": [
    {
     "name": "stdout",
     "output_type": "stream",
     "text": [
      "12\n",
      "15\n",
      "Negative Rules 12 \n",
      "odor_n == 0.0 & odor_f == 0.0 & gill_size_n == 1.0 & gill_size_b == 0.0 & spore_print_color_h == 0.0 & stalk_surface_above_ring_k == 0.0 & ring_type_p == 1.0 & gill_color_b == 0.0 & stalk_surface_below_ring_k == 0.0 & gill_spacing_c == 0.0 & population_v == 1.0 & bruises3F_f == 1 \n",
      "\n",
      "odor_n == 1.0 & odor_f == 0.0 & gill_size_n == 1.0 & gill_size_b == 0.0 & spore_print_color_h == 0.0 & stalk_surface_above_ring_k == 1 \n",
      "\n",
      "odor_n == 0.0 & odor_f == 0.0 & gill_size_n == 1.0 & gill_size_b == 0.0 & spore_print_color_h == 0.0 & stalk_surface_above_ring_k == 0 \n",
      "\n",
      "odor_n == 0.0 & odor_f == 0.0 & gill_size_n == 1.0 & gill_size_b == 0.0 & spore_print_color_h == 0.0 & stalk_surface_above_ring_k == 1 \n",
      "\n",
      "odor_n == 0.0 & odor_f == 1 \n",
      "\n",
      "odor_n == 0.0 & odor_f == 0.0 & gill_size_n == 1.0 & gill_size_b == 0.0 & spore_print_color_h == 0.0 & stalk_surface_above_ring_k == 0.0 & ring_type_p == 1.0 & gill_color_b == 0.0 & stalk_surface_below_ring_k == 0.0 & gill_spacing_c == 0.0 & population_v == 0 \n",
      "\n",
      "odor_n == 0.0 & odor_f == 0.0 & gill_size_n == 1.0 & gill_size_b == 0.0 & spore_print_color_h == 0.0 & stalk_surface_above_ring_k == 0.0 & ring_type_p == 1.0 & gill_color_b == 0.0 & stalk_surface_below_ring_k == 0.0 & gill_spacing_c == 1 \n",
      "\n",
      "odor_n == 0.0 & odor_f == 0.0 & gill_size_n == 0.0 & gill_size_b == 1.0 & spore_print_color_h == 0.0 & stalk_surface_above_ring_k == 1 \n",
      "\n",
      "odor_n == 1.0 & odor_f == 0.0 & gill_size_n == 1.0 & gill_size_b == 0.0 & spore_print_color_h == 0.0 & stalk_surface_above_ring_k == 0.0 & ring_type_p == 1.0 & gill_color_b == 0.0 & stalk_surface_below_ring_k == 0.0 & gill_spacing_c == 0 \n",
      "\n",
      "odor_n == 1.0 & odor_f == 0.0 & gill_size_n == 1.0 & gill_size_b == 0.0 & spore_print_color_h == 0.0 & stalk_surface_above_ring_k == 0.0 & ring_type_p == 0.0 & gill_color_b == 0.0 & stalk_surface_below_ring_k == 0.0 & gill_spacing_c == 0.0 & population_v == 0 \n",
      "\n",
      "odor_n == 0.0 & odor_f == 0.0 & gill_size_n == 1 \n",
      "\n",
      "odor_n == 0.0 & odor_f == 0.0 & gill_size_n == 1.0 & gill_size_b == 0.0 & spore_print_color_h == 0.0 & stalk_surface_above_ring_k == 0.0 & ring_type_p == 0 \n",
      "\n",
      "Positive Rules 15 \n",
      "odor_n == 0.0 & odor_f == 0.0 & gill_size_n == 1.0 & gill_size_b == 0.0 & spore_print_color_h == 0.0 & stalk_surface_above_ring_k == 0.0 & ring_type_p == 1.0 & gill_color_b == 0.0 & stalk_surface_below_ring_k == 0.0 & gill_spacing_c == 0.0 & population_v == 1.0 & bruises3F_f == 0 \n",
      "\n",
      "odor_n == 1.0 & odor_f == 0.0 & gill_size_n == 0.0 & gill_size_b == 1.0 & spore_print_color_h == 0.0 & stalk_surface_above_ring_k == 0.0 & ring_type_p == 0 \n",
      "\n",
      "odor_n == 1.0 & odor_f == 0.0 & gill_size_n == 0.0 & gill_size_b == 1.0 & spore_print_color_h == 0.0 & stalk_surface_above_ring_k == 0.0 & ring_type_p == 1 \n",
      "\n",
      "odor_n == 1.0 & odor_f == 0.0 & gill_size_n == 1.0 & gill_size_b == 0.0 & spore_print_color_h == 1 \n",
      "\n",
      "odor_n == 1.0 & odor_f == 0.0 & gill_size_n == 1.0 & gill_size_b == 0.0 & spore_print_color_h == 0.0 & stalk_surface_above_ring_k == 0 \n",
      "\n",
      "odor_n == 0.0 & odor_f == 0.0 & gill_size_n == 0.0 & gill_size_b == 1.0 & spore_print_color_h == 0.0 & stalk_surface_above_ring_k == 0 \n",
      "\n",
      "odor_n == 1.0 & odor_f == 0.0 & gill_size_n == 1.0 & gill_size_b == 0.0 & spore_print_color_h == 0.0 & stalk_surface_above_ring_k == 0.0 & ring_type_p == 1.0 & gill_color_b == 0.0 & stalk_surface_below_ring_k == 0.0 & gill_spacing_c == 1 \n",
      "\n",
      "odor_n == 1.0 & odor_f == 0.0 & gill_size_n == 1.0 & gill_size_b == 0.0 & spore_print_color_h == 0.0 & stalk_surface_above_ring_k == 0.0 & ring_type_p == 0.0 & gill_color_b == 0.0 & stalk_surface_below_ring_k == 0.0 & gill_spacing_c == 0.0 & population_v == 1 \n",
      "\n",
      "odor_n == 0.0 & odor_f == 0.0 & gill_size_n == 0 \n",
      "\n",
      "odor_n == 1.0 & odor_f == 0.0 & gill_size_n == 0 \n",
      "\n",
      "odor_n == 1 \n",
      "\n",
      "odor_n == 1.0 & odor_f == 0.0 & gill_size_n == 0.0 & gill_size_b == 1.0 & spore_print_color_h == 0.0 & stalk_surface_above_ring_k == 0.0 & ring_type_p == 1.0 & gill_color_b == 0.0 & stalk_surface_below_ring_k == 0.0 & gill_spacing_c == 1.0 & population_v == 0 \n",
      "\n",
      "odor_n == 1.0 & odor_f == 0.0 & gill_size_n == 0.0 & gill_size_b == 1.0 & spore_print_color_h == 0.0 & stalk_surface_above_ring_k == 0.0 & ring_type_p == 1.0 & gill_color_b == 0.0 & stalk_surface_below_ring_k == 0.0 & gill_spacing_c == 1.0 & population_v == 1 \n",
      "\n",
      "odor_n == 1.0 & odor_f == 0.0 & gill_size_n == 0.0 & gill_size_b == 1.0 & spore_print_color_h == 0.0 & stalk_surface_above_ring_k == 0.0 & ring_type_p == 1.0 & gill_color_b == 0.0 & stalk_surface_below_ring_k == 0.0 & gill_spacing_c == 1.0 & population_v == 1.0 & bruises3F_f == 0 \n",
      "\n",
      "odor_n == 1.0 & odor_f == 0.0 & gill_size_n == 0.0 & gill_size_b == 1.0 & spore_print_color_h == 0.0 & stalk_surface_above_ring_k == 0.0 & ring_type_p == 1.0 & gill_color_b == 0.0 & stalk_surface_below_ring_k == 0.0 & gill_spacing_c == 1.0 & population_v == 1.0 & bruises3F_f == 1 \n",
      "\n"
     ]
    }
   ],
   "source": [
    "#Divide las combinaciones en si el patrón lo muestran en supervivencia o fallecimiento.\n",
    "negative_categorized_rules, positive_categorized_rules = tree.categorize_patterns(encoded_train_pandas_dataset, 0.9)\n",
    "\n",
    "print(len(negative_categorized_rules))\n",
    "print(len(positive_categorized_rules))\n",
    "\n",
    "print(f'Negative Rules {len(negative_categorized_rules)} ')\n",
    "sum_total = 0\n",
    "sum_specific = 0\n",
    "all_rules = []\n",
    "for rule, number_specific_case, number_total in negative_categorized_rules:\n",
    "    sum_total += number_total\n",
    "    sum_specific += number_specific_case\n",
    "    all_rules += [rule]\n",
    "    print(f'{rule} \\n')\n",
    "\n",
    "print(f'Positive Rules {len(positive_categorized_rules)} ')\n",
    "for rule, number_specific_case, number_total in positive_categorized_rules:\n",
    "    sum_total += number_total\n",
    "    sum_specific += number_specific_case\n",
    "    all_rules += [rule]\n",
    "    print(f'{rule} \\n')"
   ],
   "metadata": {
    "collapsed": false
   }
  },
  {
   "cell_type": "code",
   "execution_count": 27,
   "outputs": [
    {
     "name": "stdout",
     "output_type": "stream",
     "text": [
      " Rules 27 \n",
      "odor_n == 0.0 & odor_f == 0.0 & gill_size_n == 0 \n",
      "\n",
      "odor_n == 0.0 & odor_f == 0.0 & gill_size_n == 0.0 & gill_size_b == 1.0 & spore_print_color_h == 0.0 & stalk_surface_above_ring_k == 0 \n",
      "\n",
      "odor_n == 0.0 & odor_f == 0.0 & gill_size_n == 0.0 & gill_size_b == 1.0 & spore_print_color_h == 0.0 & stalk_surface_above_ring_k == 1 \n",
      "\n",
      "odor_n == 0.0 & odor_f == 0.0 & gill_size_n == 1 \n",
      "\n",
      "odor_n == 0.0 & odor_f == 0.0 & gill_size_n == 1.0 & gill_size_b == 0.0 & spore_print_color_h == 0.0 & stalk_surface_above_ring_k == 0 \n",
      "\n",
      "odor_n == 0.0 & odor_f == 0.0 & gill_size_n == 1.0 & gill_size_b == 0.0 & spore_print_color_h == 0.0 & stalk_surface_above_ring_k == 0.0 & ring_type_p == 0 \n",
      "\n",
      "odor_n == 0.0 & odor_f == 0.0 & gill_size_n == 1.0 & gill_size_b == 0.0 & spore_print_color_h == 0.0 & stalk_surface_above_ring_k == 0.0 & ring_type_p == 1.0 & gill_color_b == 0.0 & stalk_surface_below_ring_k == 0.0 & gill_spacing_c == 0.0 & population_v == 0 \n",
      "\n",
      "odor_n == 0.0 & odor_f == 0.0 & gill_size_n == 1.0 & gill_size_b == 0.0 & spore_print_color_h == 0.0 & stalk_surface_above_ring_k == 0.0 & ring_type_p == 1.0 & gill_color_b == 0.0 & stalk_surface_below_ring_k == 0.0 & gill_spacing_c == 0.0 & population_v == 1.0 & bruises3F_f == 0 \n",
      "\n",
      "odor_n == 0.0 & odor_f == 0.0 & gill_size_n == 1.0 & gill_size_b == 0.0 & spore_print_color_h == 0.0 & stalk_surface_above_ring_k == 0.0 & ring_type_p == 1.0 & gill_color_b == 0.0 & stalk_surface_below_ring_k == 0.0 & gill_spacing_c == 0.0 & population_v == 1.0 & bruises3F_f == 1 \n",
      "\n",
      "odor_n == 0.0 & odor_f == 0.0 & gill_size_n == 1.0 & gill_size_b == 0.0 & spore_print_color_h == 0.0 & stalk_surface_above_ring_k == 0.0 & ring_type_p == 1.0 & gill_color_b == 0.0 & stalk_surface_below_ring_k == 0.0 & gill_spacing_c == 1 \n",
      "\n",
      "odor_n == 0.0 & odor_f == 0.0 & gill_size_n == 1.0 & gill_size_b == 0.0 & spore_print_color_h == 0.0 & stalk_surface_above_ring_k == 1 \n",
      "\n",
      "odor_n == 0.0 & odor_f == 1 \n",
      "\n",
      "odor_n == 1 \n",
      "\n",
      "odor_n == 1.0 & odor_f == 0.0 & gill_size_n == 0 \n",
      "\n",
      "odor_n == 1.0 & odor_f == 0.0 & gill_size_n == 0.0 & gill_size_b == 1.0 & spore_print_color_h == 0.0 & stalk_surface_above_ring_k == 0.0 & ring_type_p == 0 \n",
      "\n",
      "odor_n == 1.0 & odor_f == 0.0 & gill_size_n == 0.0 & gill_size_b == 1.0 & spore_print_color_h == 0.0 & stalk_surface_above_ring_k == 0.0 & ring_type_p == 1 \n",
      "\n",
      "odor_n == 1.0 & odor_f == 0.0 & gill_size_n == 0.0 & gill_size_b == 1.0 & spore_print_color_h == 0.0 & stalk_surface_above_ring_k == 0.0 & ring_type_p == 1.0 & gill_color_b == 0.0 & stalk_surface_below_ring_k == 0.0 & gill_spacing_c == 1.0 & population_v == 0 \n",
      "\n",
      "odor_n == 1.0 & odor_f == 0.0 & gill_size_n == 0.0 & gill_size_b == 1.0 & spore_print_color_h == 0.0 & stalk_surface_above_ring_k == 0.0 & ring_type_p == 1.0 & gill_color_b == 0.0 & stalk_surface_below_ring_k == 0.0 & gill_spacing_c == 1.0 & population_v == 1 \n",
      "\n",
      "odor_n == 1.0 & odor_f == 0.0 & gill_size_n == 0.0 & gill_size_b == 1.0 & spore_print_color_h == 0.0 & stalk_surface_above_ring_k == 0.0 & ring_type_p == 1.0 & gill_color_b == 0.0 & stalk_surface_below_ring_k == 0.0 & gill_spacing_c == 1.0 & population_v == 1.0 & bruises3F_f == 0 \n",
      "\n",
      "odor_n == 1.0 & odor_f == 0.0 & gill_size_n == 0.0 & gill_size_b == 1.0 & spore_print_color_h == 0.0 & stalk_surface_above_ring_k == 0.0 & ring_type_p == 1.0 & gill_color_b == 0.0 & stalk_surface_below_ring_k == 0.0 & gill_spacing_c == 1.0 & population_v == 1.0 & bruises3F_f == 1 \n",
      "\n",
      "odor_n == 1.0 & odor_f == 0.0 & gill_size_n == 1.0 & gill_size_b == 0.0 & spore_print_color_h == 0.0 & stalk_surface_above_ring_k == 0 \n",
      "\n",
      "odor_n == 1.0 & odor_f == 0.0 & gill_size_n == 1.0 & gill_size_b == 0.0 & spore_print_color_h == 0.0 & stalk_surface_above_ring_k == 0.0 & ring_type_p == 0.0 & gill_color_b == 0.0 & stalk_surface_below_ring_k == 0.0 & gill_spacing_c == 0.0 & population_v == 0 \n",
      "\n",
      "odor_n == 1.0 & odor_f == 0.0 & gill_size_n == 1.0 & gill_size_b == 0.0 & spore_print_color_h == 0.0 & stalk_surface_above_ring_k == 0.0 & ring_type_p == 0.0 & gill_color_b == 0.0 & stalk_surface_below_ring_k == 0.0 & gill_spacing_c == 0.0 & population_v == 1 \n",
      "\n",
      "odor_n == 1.0 & odor_f == 0.0 & gill_size_n == 1.0 & gill_size_b == 0.0 & spore_print_color_h == 0.0 & stalk_surface_above_ring_k == 0.0 & ring_type_p == 1.0 & gill_color_b == 0.0 & stalk_surface_below_ring_k == 0.0 & gill_spacing_c == 0 \n",
      "\n",
      "odor_n == 1.0 & odor_f == 0.0 & gill_size_n == 1.0 & gill_size_b == 0.0 & spore_print_color_h == 0.0 & stalk_surface_above_ring_k == 0.0 & ring_type_p == 1.0 & gill_color_b == 0.0 & stalk_surface_below_ring_k == 0.0 & gill_spacing_c == 1 \n",
      "\n",
      "odor_n == 1.0 & odor_f == 0.0 & gill_size_n == 1.0 & gill_size_b == 0.0 & spore_print_color_h == 0.0 & stalk_surface_above_ring_k == 1 \n",
      "\n",
      "odor_n == 1.0 & odor_f == 0.0 & gill_size_n == 1.0 & gill_size_b == 0.0 & spore_print_color_h == 1 \n",
      "\n"
     ]
    }
   ],
   "source": [
    "sortedList = sorted(all_rules)\n",
    "print(f' Rules {len(sortedList)} ')\n",
    "for rules in sortedList:\n",
    "    print(f'{rules} \\n')"
   ],
   "metadata": {
    "collapsed": false
   }
  },
  {
   "cell_type": "code",
   "execution_count": 25,
   "outputs": [
    {
     "name": "stdout",
     "output_type": "stream",
     "text": [
      "Casualties accuracy: 96.68%\n",
      "Survival accuracy: 97.06%\n",
      "Top model RF accuracy: 100.00%\n"
     ]
    }
   ],
   "source": [
    "\n",
    "y_pred_test = ensemble.predict(X_test)\n",
    "accuracy = metrics.accuracy_score(y_test, y_pred_test)\n",
    "#Returns death and survival patterns where there's a % of the total cases of that specific type.\n",
    "\n",
    "\n",
    "negative_acc = 0\n",
    "negative_total = 0\n",
    "\n",
    "positive_acc = 0\n",
    "positive_total = 0\n",
    "\n",
    "data_file_name = f'../../data/{filename}_combinations_negatives.csv'\n",
    "\n",
    "for pattern in negative_categorized_rules:\n",
    "    negative_acc += pattern[1]\n",
    "    negative_total += pattern[2]\n",
    "\n",
    "for pattern in positive_categorized_rules:\n",
    "    positive_acc += pattern[1]\n",
    "    positive_total += pattern[2]\n",
    "\n",
    "\n",
    "with open(f'../../data/{filename}_combinations_negatives.csv','w',encoding='UTF8') as file:\n",
    "    writer = csv.writer(file)\n",
    "    writer.writerow(['Combinacion','Casos_encontrados','Casos_totales'])\n",
    "    for pattern in negative_categorized_rules:\n",
    "        writer.writerow(pattern)\n",
    "    file.close()\n",
    "\n",
    "with open(f'../../data/{filename}_combinations_positives.csv','w',encoding='UTF8') as file:\n",
    "    writer = csv.writer(file)\n",
    "    writer.writerow(['Combinacion','Casos_encontrados','Casos_totales'])\n",
    "    for pattern in positive_categorized_rules:\n",
    "        writer.writerow(pattern)\n",
    "    file.close()\n",
    "\n",
    "\n",
    "print('Casualties accuracy:',str(\"{:.2f}\".format(100*(negative_acc/negative_total)))+'%')\n",
    "print('Survival accuracy:',str(\"{:.2f}\".format(100*(positive_acc/positive_total)))+'%')\n",
    "print('Top model RF accuracy:',str(\"{:.2f}\".format(100*accuracy))+'%')"
   ],
   "metadata": {
    "collapsed": false
   }
  },
  {
   "cell_type": "code",
   "execution_count": 26,
   "metadata": {},
   "outputs": [
    {
     "ename": "AttributeError",
     "evalue": "'NoneType' object has no attribute 'predict'",
     "output_type": "error",
     "traceback": [
      "\u001B[0;31m---------------------------------------------------------------------------\u001B[0m",
      "\u001B[0;31mAttributeError\u001B[0m                            Traceback (most recent call last)",
      "Cell \u001B[0;32mIn[26], line 1\u001B[0m\n\u001B[0;32m----> 1\u001B[0m tree_preds \u001B[38;5;241m=\u001B[39m \u001B[43mtree\u001B[49m\u001B[38;5;241;43m.\u001B[39;49m\u001B[43mpredict\u001B[49m\u001B[43m(\u001B[49m\u001B[43mX_test\u001B[49m\u001B[43m)\u001B[49m\n\u001B[1;32m      2\u001B[0m \u001B[38;5;28mprint\u001B[39m(\u001B[38;5;124m'\u001B[39m\u001B[38;5;124mThe accuracy of the Tree model is :\u001B[39m\u001B[38;5;130;01m\\t\u001B[39;00m\u001B[38;5;124m'\u001B[39m,metrics\u001B[38;5;241m.\u001B[39maccuracy_score(tree_preds,y_test))\n",
      "File \u001B[0;32m~/anaconda3/envs/iPRules/lib/python3.10/site-packages/sklearn/tree/_classes.py:427\u001B[0m, in \u001B[0;36mBaseDecisionTree.predict\u001B[0;34m(self, X, check_input)\u001B[0m\n\u001B[1;32m    425\u001B[0m check_is_fitted(\u001B[38;5;28mself\u001B[39m)\n\u001B[1;32m    426\u001B[0m X \u001B[38;5;241m=\u001B[39m \u001B[38;5;28mself\u001B[39m\u001B[38;5;241m.\u001B[39m_validate_X_predict(X, check_input)\n\u001B[0;32m--> 427\u001B[0m proba \u001B[38;5;241m=\u001B[39m \u001B[38;5;28;43mself\u001B[39;49m\u001B[38;5;241;43m.\u001B[39;49m\u001B[43mtree_\u001B[49m\u001B[38;5;241;43m.\u001B[39;49m\u001B[43mpredict\u001B[49m(X)\n\u001B[1;32m    428\u001B[0m n_samples \u001B[38;5;241m=\u001B[39m X\u001B[38;5;241m.\u001B[39mshape[\u001B[38;5;241m0\u001B[39m]\n\u001B[1;32m    430\u001B[0m \u001B[38;5;66;03m# Classification\u001B[39;00m\n",
      "\u001B[0;31mAttributeError\u001B[0m: 'NoneType' object has no attribute 'predict'"
     ]
    }
   ],
   "source": [
    "tree_preds = tree.predict(X_test)\n",
    "print('The accuracy of the Tree model is :\\t',metrics.accuracy_score(tree_preds,y_test))"
   ]
  },
  {
   "cell_type": "markdown",
   "metadata": {},
   "source": [
    "# SHAP explainer"
   ]
  },
  {
   "cell_type": "code",
   "execution_count": null,
   "metadata": {},
   "outputs": [],
   "source": [
    "import shap\n",
    "\n",
    "# Create Tree Explainer object that can calculate shap values\n",
    "explainer = shap.TreeExplainer(ensemble)\n",
    "\n",
    "# Evaluate SHAP values\n",
    "shap_values = explainer.shap_values(X_test)\n",
    "shap.summary_plot(shap_values, X_train, feature_names=encoded_dataset.feature_names)"
   ]
  },
  {
   "cell_type": "markdown",
   "metadata": {},
   "source": [
    "# Relation"
   ]
  },
  {
   "cell_type": "code",
   "execution_count": null,
   "metadata": {},
   "outputs": [],
   "source": [
    "shap.summary_plot(shap_values, X_train, feature_names=encoded_dataset.feature_names, plot_type=\"dot\")"
   ]
  },
  {
   "cell_type": "code",
   "execution_count": null,
   "metadata": {},
   "outputs": [],
   "source": []
  }
 ],
 "metadata": {
  "colab": {
   "provenance": []
  },
  "kernelspec": {
   "display_name": "Python 3 (ipykernel)",
   "language": "python",
   "name": "python3"
  },
  "language_info": {
   "codemirror_mode": {
    "name": "ipython",
    "version": 3
   },
   "file_extension": ".py",
   "mimetype": "text/x-python",
   "name": "python",
   "nbconvert_exporter": "python",
   "pygments_lexer": "ipython3",
   "version": "3.10.10"
  }
 },
 "nbformat": 4,
 "nbformat_minor": 1
}
