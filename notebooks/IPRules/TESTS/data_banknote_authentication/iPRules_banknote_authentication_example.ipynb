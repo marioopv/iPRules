{
 "cells": [
  {
   "cell_type": "markdown",
   "metadata": {},
   "source": [
    "\n"
   ]
  },
  {
   "cell_type": "markdown",
   "metadata": {},
   "source": [
    "# Rules Extraction"
   ]
  },
  {
   "cell_type": "markdown",
   "metadata": {},
   "source": [
    "# Statics"
   ]
  },
  {
   "cell_type": "code",
   "execution_count": 8,
   "metadata": {
    "ExecuteTime": {
     "start_time": "2023-04-26T10:28:56.732148Z",
     "end_time": "2023-04-26T10:28:56.781326Z"
    }
   },
   "outputs": [],
   "source": [
    "from sklearn.datasets import load_iris\n",
    "import pandas as pd\n",
    "from sklearn.model_selection import train_test_split\n",
    "import numpy as np\n",
    "import pandas as pd\n",
    "from sklearn.datasets import load_iris\n",
    "from sklearn.utils import Bunch\n",
    "from sklearn.datasets._base import load_csv_data\n",
    "from sklearn import metrics\n",
    "from sklearn.preprocessing import OneHotEncoder\n",
    "from sklearn.compose import make_column_transformer\n",
    "import csv"
   ]
  },
  {
   "cell_type": "markdown",
   "metadata": {},
   "source": [
    "## Load Dataset"
   ]
  },
  {
   "cell_type": "code",
   "execution_count": 9,
   "metadata": {
    "ExecuteTime": {
     "start_time": "2023-04-26T10:28:56.738988Z",
     "end_time": "2023-04-26T10:28:56.833413Z"
    }
   },
   "outputs": [
    {
     "data": {
      "text/plain": "   variance  skewness  curtosis  entropy  target_value\n0   3.62160    8.6661   -2.8073 -0.44699             0\n1   4.54590    8.1674   -2.4586 -1.46210             0\n2   3.86600   -2.6383    1.9242  0.10645             0\n3   3.45660    9.5228   -4.0112 -3.59440             0\n4   0.32924   -4.4552    4.5718 -0.98880             0",
      "text/html": "<div>\n<style scoped>\n    .dataframe tbody tr th:only-of-type {\n        vertical-align: middle;\n    }\n\n    .dataframe tbody tr th {\n        vertical-align: top;\n    }\n\n    .dataframe thead th {\n        text-align: right;\n    }\n</style>\n<table border=\"1\" class=\"dataframe\">\n  <thead>\n    <tr style=\"text-align: right;\">\n      <th></th>\n      <th>variance</th>\n      <th>skewness</th>\n      <th>curtosis</th>\n      <th>entropy</th>\n      <th>target_value</th>\n    </tr>\n  </thead>\n  <tbody>\n    <tr>\n      <th>0</th>\n      <td>3.62160</td>\n      <td>8.6661</td>\n      <td>-2.8073</td>\n      <td>-0.44699</td>\n      <td>0</td>\n    </tr>\n    <tr>\n      <th>1</th>\n      <td>4.54590</td>\n      <td>8.1674</td>\n      <td>-2.4586</td>\n      <td>-1.46210</td>\n      <td>0</td>\n    </tr>\n    <tr>\n      <th>2</th>\n      <td>3.86600</td>\n      <td>-2.6383</td>\n      <td>1.9242</td>\n      <td>0.10645</td>\n      <td>0</td>\n    </tr>\n    <tr>\n      <th>3</th>\n      <td>3.45660</td>\n      <td>9.5228</td>\n      <td>-4.0112</td>\n      <td>-3.59440</td>\n      <td>0</td>\n    </tr>\n    <tr>\n      <th>4</th>\n      <td>0.32924</td>\n      <td>-4.4552</td>\n      <td>4.5718</td>\n      <td>-0.98880</td>\n      <td>0</td>\n    </tr>\n  </tbody>\n</table>\n</div>"
     },
     "execution_count": 9,
     "metadata": {},
     "output_type": "execute_result"
    }
   ],
   "source": [
    "# Load Dataset\n",
    "#iris\n",
    "#dataset = load_iris()\n",
    "target_value_name = 'class'\n",
    "\n",
    "# Mushrooms\n",
    "filename = 'data_banknote_authentication'\n",
    "list_of_continuous_columns = [\"variance\", \"skewness\", \"curtosis\", \"entropy\"]\n",
    "test_size = 0.2\n",
    "\n",
    "\n",
    "data_file_name = f'../../../../data/{filename}.csv'\n",
    "pandas_dataset = pd.read_csv(data_file_name)\n",
    "pandas_dataset = pandas_dataset.replace('?', 'unknown')\n",
    "pandas_dataset = pandas_dataset.dropna()\n",
    "pandas_dataset.columns = [sub.replace('%', '') for sub in pandas_dataset.columns]\n",
    "target_value_name = pandas_dataset.columns[-1]\n",
    "\n",
    "\n",
    "pandas_dataset.columns = [sub.replace('-', '_').replace(' ', '').replace('class', 'target_value') for sub in pandas_dataset.columns]\n",
    "target_value_name = pandas_dataset.columns[-1]\n",
    "feature_names = pandas_dataset.columns[0:-1]\n",
    "\n",
    "\n",
    "#dataset.feature_names = [sub.replace(' ', '').replace('(cm)', '') for sub in dataset.feature_names]\n",
    "\n",
    "pandas_dataset.head()"
   ]
  },
  {
   "cell_type": "markdown",
   "metadata": {},
   "source": [
    "# One Hot Encoding"
   ]
  },
  {
   "cell_type": "code",
   "execution_count": 10,
   "metadata": {
    "ExecuteTime": {
     "start_time": "2023-04-26T10:28:56.753332Z",
     "end_time": "2023-04-26T10:28:57.028459Z"
    }
   },
   "outputs": [
    {
     "data": {
      "text/plain": "   variance_L_High  variance_L_Low  variance_L_Medium  variance_L_VeryHigh  \\\n0              0.0             0.0                0.0                  0.0   \n1              0.0             0.0                0.0                  0.0   \n2              0.0             0.0                0.0                  0.0   \n3              0.0             0.0                0.0                  0.0   \n4              0.0             0.0                0.0                  0.0   \n\n   variance_L_VeryLow  variance_R_High  variance_R_Low  variance_R_Medium  \\\n0                 0.0              0.0             0.0                1.0   \n1                 0.0              1.0             0.0                0.0   \n2                 0.0              0.0             0.0                1.0   \n3                 0.0              0.0             0.0                1.0   \n4                 0.0              0.0             0.0                0.0   \n\n   variance_R_VeryHigh  variance_R_VeryLow  ...  entropy_L_Low  \\\n0                  0.0                 0.0  ...            0.0   \n1                  0.0                 0.0  ...            0.0   \n2                  0.0                 0.0  ...            0.0   \n3                  0.0                 0.0  ...            0.0   \n4                  0.0                 1.0  ...            0.0   \n\n   entropy_L_Medium  entropy_L_VeryHigh  entropy_L_VeryLow  entropy_R_High  \\\n0               0.0                 0.0                0.0             0.0   \n1               0.0                 0.0                0.0             0.0   \n2               0.0                 0.0                0.0             0.0   \n3               0.0                 1.0                0.0             0.0   \n4               0.0                 0.0                0.0             0.0   \n\n   entropy_R_Low  entropy_R_Medium  entropy_R_VeryHigh  entropy_R_VeryLow  \\\n0            0.0               1.0                 0.0                0.0   \n1            1.0               0.0                 0.0                0.0   \n2            0.0               1.0                 0.0                0.0   \n3            0.0               0.0                 0.0                0.0   \n4            1.0               0.0                 0.0                0.0   \n\n   target_value  \n0             0  \n1             0  \n2             0  \n3             0  \n4             0  \n\n[5 rows x 41 columns]",
      "text/html": "<div>\n<style scoped>\n    .dataframe tbody tr th:only-of-type {\n        vertical-align: middle;\n    }\n\n    .dataframe tbody tr th {\n        vertical-align: top;\n    }\n\n    .dataframe thead th {\n        text-align: right;\n    }\n</style>\n<table border=\"1\" class=\"dataframe\">\n  <thead>\n    <tr style=\"text-align: right;\">\n      <th></th>\n      <th>variance_L_High</th>\n      <th>variance_L_Low</th>\n      <th>variance_L_Medium</th>\n      <th>variance_L_VeryHigh</th>\n      <th>variance_L_VeryLow</th>\n      <th>variance_R_High</th>\n      <th>variance_R_Low</th>\n      <th>variance_R_Medium</th>\n      <th>variance_R_VeryHigh</th>\n      <th>variance_R_VeryLow</th>\n      <th>...</th>\n      <th>entropy_L_Low</th>\n      <th>entropy_L_Medium</th>\n      <th>entropy_L_VeryHigh</th>\n      <th>entropy_L_VeryLow</th>\n      <th>entropy_R_High</th>\n      <th>entropy_R_Low</th>\n      <th>entropy_R_Medium</th>\n      <th>entropy_R_VeryHigh</th>\n      <th>entropy_R_VeryLow</th>\n      <th>target_value</th>\n    </tr>\n  </thead>\n  <tbody>\n    <tr>\n      <th>0</th>\n      <td>0.0</td>\n      <td>0.0</td>\n      <td>0.0</td>\n      <td>0.0</td>\n      <td>0.0</td>\n      <td>0.0</td>\n      <td>0.0</td>\n      <td>1.0</td>\n      <td>0.0</td>\n      <td>0.0</td>\n      <td>...</td>\n      <td>0.0</td>\n      <td>0.0</td>\n      <td>0.0</td>\n      <td>0.0</td>\n      <td>0.0</td>\n      <td>0.0</td>\n      <td>1.0</td>\n      <td>0.0</td>\n      <td>0.0</td>\n      <td>0</td>\n    </tr>\n    <tr>\n      <th>1</th>\n      <td>0.0</td>\n      <td>0.0</td>\n      <td>0.0</td>\n      <td>0.0</td>\n      <td>0.0</td>\n      <td>1.0</td>\n      <td>0.0</td>\n      <td>0.0</td>\n      <td>0.0</td>\n      <td>0.0</td>\n      <td>...</td>\n      <td>0.0</td>\n      <td>0.0</td>\n      <td>0.0</td>\n      <td>0.0</td>\n      <td>0.0</td>\n      <td>1.0</td>\n      <td>0.0</td>\n      <td>0.0</td>\n      <td>0.0</td>\n      <td>0</td>\n    </tr>\n    <tr>\n      <th>2</th>\n      <td>0.0</td>\n      <td>0.0</td>\n      <td>0.0</td>\n      <td>0.0</td>\n      <td>0.0</td>\n      <td>0.0</td>\n      <td>0.0</td>\n      <td>1.0</td>\n      <td>0.0</td>\n      <td>0.0</td>\n      <td>...</td>\n      <td>0.0</td>\n      <td>0.0</td>\n      <td>0.0</td>\n      <td>0.0</td>\n      <td>0.0</td>\n      <td>0.0</td>\n      <td>1.0</td>\n      <td>0.0</td>\n      <td>0.0</td>\n      <td>0</td>\n    </tr>\n    <tr>\n      <th>3</th>\n      <td>0.0</td>\n      <td>0.0</td>\n      <td>0.0</td>\n      <td>0.0</td>\n      <td>0.0</td>\n      <td>0.0</td>\n      <td>0.0</td>\n      <td>1.0</td>\n      <td>0.0</td>\n      <td>0.0</td>\n      <td>...</td>\n      <td>0.0</td>\n      <td>0.0</td>\n      <td>1.0</td>\n      <td>0.0</td>\n      <td>0.0</td>\n      <td>0.0</td>\n      <td>0.0</td>\n      <td>0.0</td>\n      <td>0.0</td>\n      <td>0</td>\n    </tr>\n    <tr>\n      <th>4</th>\n      <td>0.0</td>\n      <td>0.0</td>\n      <td>0.0</td>\n      <td>0.0</td>\n      <td>0.0</td>\n      <td>0.0</td>\n      <td>0.0</td>\n      <td>0.0</td>\n      <td>0.0</td>\n      <td>1.0</td>\n      <td>...</td>\n      <td>0.0</td>\n      <td>0.0</td>\n      <td>0.0</td>\n      <td>0.0</td>\n      <td>0.0</td>\n      <td>1.0</td>\n      <td>0.0</td>\n      <td>0.0</td>\n      <td>0.0</td>\n      <td>0</td>\n    </tr>\n  </tbody>\n</table>\n<p>5 rows × 41 columns</p>\n</div>"
     },
     "execution_count": 10,
     "metadata": {},
     "output_type": "execute_result"
    }
   ],
   "source": [
    "from notebooks.IPRules.test_utils import continuous_to_discrete_column\n",
    "\n",
    "\n",
    "def one_hot_encode_dataframe(data, feature_names):\n",
    "    enc = OneHotEncoder(sparse_output=False)\n",
    "    encoded_array = enc.fit_transform(data.loc[:,feature_names])\n",
    "    encoded_feature_names = enc.get_feature_names_out()\n",
    "    df_encoded = pd.DataFrame(encoded_array,columns=encoded_feature_names)\n",
    "    encoded_pandas_dataset = pd.concat([df_encoded, data],axis=1)\n",
    "    encoded_pandas_dataset.drop(labels= feature_names,axis=1,inplace=True)\n",
    "    return encoded_pandas_dataset, encoded_feature_names\n",
    "\n",
    "pandas_dataset = continuous_to_discrete_column(pandas_dataset,list_of_continuous_columns)\n",
    "encoded_pandas_dataset, encoded_feature_names = one_hot_encode_dataframe(pandas_dataset, feature_names)\n",
    "encoded_pandas_dataset.head()"
   ]
  },
  {
   "cell_type": "code",
   "execution_count": 11,
   "metadata": {
    "ExecuteTime": {
     "start_time": "2023-04-26T10:28:57.031754Z",
     "end_time": "2023-04-26T10:28:57.040057Z"
    }
   },
   "outputs": [],
   "source": [
    "X = encoded_pandas_dataset[encoded_feature_names]\n",
    "y = encoded_pandas_dataset[target_value_name]\n",
    "\n",
    "encoded_dataset = Bunch(\n",
    "        data=X.to_numpy(),\n",
    "        target=y.to_numpy(),\n",
    "        target_names=target_value_name,\n",
    "        feature_names=X.columns\n",
    ")\n",
    "\n",
    "#X_display = pandas_dataset.drop([target_value_name], axis=1)\n",
    "#y_display = pandas_dataset[target_value_name]\n",
    "\n",
    "#encoded_pandas_dataset = pd.DataFrame(data= np.c_[dataset['data'], dataset['target']], columns= list(dataset['feature_names']) + ['target'])\n",
    "#encoded_pandas_dataset.head()\n"
   ]
  },
  {
   "cell_type": "markdown",
   "metadata": {},
   "source": [
    "# Divide dataset"
   ]
  },
  {
   "cell_type": "code",
   "execution_count": 12,
   "metadata": {
    "ExecuteTime": {
     "start_time": "2023-04-26T10:28:57.042564Z",
     "end_time": "2023-04-26T10:28:57.120052Z"
    }
   },
   "outputs": [
    {
     "name": "stdout",
     "output_type": "stream",
     "text": [
      "\n",
      "Sizes (without target):\n",
      "Original size (1372, 40)\n",
      "Train size (1097, 40)\n",
      "Test size (275, 40)\n"
     ]
    }
   ],
   "source": [
    "#Define dataset\n",
    "X_train, X_test, y_train, y_test = train_test_split(encoded_dataset.data, encoded_dataset.target, test_size=test_size, random_state=1)\n",
    "encoded_train_pandas_dataset = pd.DataFrame(data= np.c_[X_train, y_train], columns= list(encoded_dataset['feature_names']) + [target_value_name])\n",
    "encoded_test_pandas_dataset = pd.DataFrame(data= np.c_[X_test, y_test], columns= list(encoded_dataset['feature_names']) + [target_value_name])\n",
    "print()\n",
    "print('Sizes (without target):')\n",
    "print(f'Original size {encoded_dataset.data.shape}')\n",
    "print(f'Train size {X_train.shape}')\n",
    "print(f'Test size {X_test.shape}')"
   ]
  },
  {
   "cell_type": "markdown",
   "metadata": {},
   "source": [
    "## Define Random Forest"
   ]
  },
  {
   "cell_type": "code",
   "execution_count": 13,
   "metadata": {
    "ExecuteTime": {
     "start_time": "2023-04-26T10:28:57.095123Z",
     "end_time": "2023-04-26T10:28:57.288108Z"
    }
   },
   "outputs": [
    {
     "data": {
      "text/plain": "RandomForestClassifier()",
      "text/html": "<style>#sk-container-id-2 {color: black;background-color: white;}#sk-container-id-2 pre{padding: 0;}#sk-container-id-2 div.sk-toggleable {background-color: white;}#sk-container-id-2 label.sk-toggleable__label {cursor: pointer;display: block;width: 100%;margin-bottom: 0;padding: 0.3em;box-sizing: border-box;text-align: center;}#sk-container-id-2 label.sk-toggleable__label-arrow:before {content: \"▸\";float: left;margin-right: 0.25em;color: #696969;}#sk-container-id-2 label.sk-toggleable__label-arrow:hover:before {color: black;}#sk-container-id-2 div.sk-estimator:hover label.sk-toggleable__label-arrow:before {color: black;}#sk-container-id-2 div.sk-toggleable__content {max-height: 0;max-width: 0;overflow: hidden;text-align: left;background-color: #f0f8ff;}#sk-container-id-2 div.sk-toggleable__content pre {margin: 0.2em;color: black;border-radius: 0.25em;background-color: #f0f8ff;}#sk-container-id-2 input.sk-toggleable__control:checked~div.sk-toggleable__content {max-height: 200px;max-width: 100%;overflow: auto;}#sk-container-id-2 input.sk-toggleable__control:checked~label.sk-toggleable__label-arrow:before {content: \"▾\";}#sk-container-id-2 div.sk-estimator input.sk-toggleable__control:checked~label.sk-toggleable__label {background-color: #d4ebff;}#sk-container-id-2 div.sk-label input.sk-toggleable__control:checked~label.sk-toggleable__label {background-color: #d4ebff;}#sk-container-id-2 input.sk-hidden--visually {border: 0;clip: rect(1px 1px 1px 1px);clip: rect(1px, 1px, 1px, 1px);height: 1px;margin: -1px;overflow: hidden;padding: 0;position: absolute;width: 1px;}#sk-container-id-2 div.sk-estimator {font-family: monospace;background-color: #f0f8ff;border: 1px dotted black;border-radius: 0.25em;box-sizing: border-box;margin-bottom: 0.5em;}#sk-container-id-2 div.sk-estimator:hover {background-color: #d4ebff;}#sk-container-id-2 div.sk-parallel-item::after {content: \"\";width: 100%;border-bottom: 1px solid gray;flex-grow: 1;}#sk-container-id-2 div.sk-label:hover label.sk-toggleable__label {background-color: #d4ebff;}#sk-container-id-2 div.sk-serial::before {content: \"\";position: absolute;border-left: 1px solid gray;box-sizing: border-box;top: 0;bottom: 0;left: 50%;z-index: 0;}#sk-container-id-2 div.sk-serial {display: flex;flex-direction: column;align-items: center;background-color: white;padding-right: 0.2em;padding-left: 0.2em;position: relative;}#sk-container-id-2 div.sk-item {position: relative;z-index: 1;}#sk-container-id-2 div.sk-parallel {display: flex;align-items: stretch;justify-content: center;background-color: white;position: relative;}#sk-container-id-2 div.sk-item::before, #sk-container-id-2 div.sk-parallel-item::before {content: \"\";position: absolute;border-left: 1px solid gray;box-sizing: border-box;top: 0;bottom: 0;left: 50%;z-index: -1;}#sk-container-id-2 div.sk-parallel-item {display: flex;flex-direction: column;z-index: 1;position: relative;background-color: white;}#sk-container-id-2 div.sk-parallel-item:first-child::after {align-self: flex-end;width: 50%;}#sk-container-id-2 div.sk-parallel-item:last-child::after {align-self: flex-start;width: 50%;}#sk-container-id-2 div.sk-parallel-item:only-child::after {width: 0;}#sk-container-id-2 div.sk-dashed-wrapped {border: 1px dashed gray;margin: 0 0.4em 0.5em 0.4em;box-sizing: border-box;padding-bottom: 0.4em;background-color: white;}#sk-container-id-2 div.sk-label label {font-family: monospace;font-weight: bold;display: inline-block;line-height: 1.2em;}#sk-container-id-2 div.sk-label-container {text-align: center;}#sk-container-id-2 div.sk-container {/* jupyter's `normalize.less` sets `[hidden] { display: none; }` but bootstrap.min.css set `[hidden] { display: none !important; }` so we also need the `!important` here to be able to override the default hidden behavior on the sphinx rendered scikit-learn.org. See: https://github.com/scikit-learn/scikit-learn/issues/21755 */display: inline-block !important;position: relative;}#sk-container-id-2 div.sk-text-repr-fallback {display: none;}</style><div id=\"sk-container-id-2\" class=\"sk-top-container\"><div class=\"sk-text-repr-fallback\"><pre>RandomForestClassifier()</pre><b>In a Jupyter environment, please rerun this cell to show the HTML representation or trust the notebook. <br />On GitHub, the HTML representation is unable to render, please try loading this page with nbviewer.org.</b></div><div class=\"sk-container\" hidden><div class=\"sk-item\"><div class=\"sk-estimator sk-toggleable\"><input class=\"sk-toggleable__control sk-hidden--visually\" id=\"sk-estimator-id-2\" type=\"checkbox\" checked><label for=\"sk-estimator-id-2\" class=\"sk-toggleable__label sk-toggleable__label-arrow\">RandomForestClassifier</label><div class=\"sk-toggleable__content\"><pre>RandomForestClassifier()</pre></div></div></div></div></div>"
     },
     "execution_count": 13,
     "metadata": {},
     "output_type": "execute_result"
    }
   ],
   "source": [
    "from sklearn.ensemble import RandomForestClassifier\n",
    "from sklearn.model_selection import GridSearchCV\n",
    "from sklearn.metrics import precision_score, make_scorer, recall_score, accuracy_score\n",
    "\n",
    "# Define scorer\n",
    "ensemble = RandomForestClassifier(criterion=\"gini\")\n",
    "ensemble.fit(X_train, y_train)"
   ]
  },
  {
   "cell_type": "markdown",
   "metadata": {},
   "source": [
    "## iPRules"
   ]
  },
  {
   "cell_type": "code",
   "execution_count": 14,
   "outputs": [
    {
     "name": "stdout",
     "output_type": "stream",
     "text": [
      "->Extract feature importance list\n"
     ]
    },
    {
     "data": {
      "text/plain": "<Figure size 640x480 with 1 Axes>",
      "image/png": "[encoded data removed]"
     },
     "metadata": {},
     "output_type": "display_data"
    },
    {
     "name": "stdout",
     "output_type": "stream",
     "text": [
      "\t Original features 40\n",
      "\t Selected features 35\n",
      "\t Percentage of selected rules: 87.5 %\n",
      "->Generate new tree based on list\n",
      "Elapsed time to compute the binary_tree_generator: 137.252 seconds\n",
      "->Generate obtained patterns tree\n",
      "Elapsed time to compute the obtain_pattern_list_of_valid_nodes_with_pvalue: 0.507 seconds\n",
      "->Categorize patterns\n",
      "Elapsed time to compute the categorize_patterns: 0.778 seconds\n"
     ]
    },
    {
     "data": {
      "text/plain": "<iPRules.iPRules.iPRules at 0x7f8baddec460>"
     },
     "execution_count": 14,
     "metadata": {},
     "output_type": "execute_result"
    }
   ],
   "source": [
    "from iPRules.iPRules import iPRules\n",
    "\n",
    "# initialize\n",
    "rules = iPRules(\n",
    "                feature_names=encoded_dataset.feature_names,\n",
    "                target_value_name = encoded_dataset.target_names,\n",
    "                display_features = True,\n",
    "                display_logs = True,\n",
    "                chi_square_percent_point_function = 0.95,\n",
    "                scale_feature_coefficient = 0.05,\n",
    "                min_accuracy_coefficient = 0.95,\n",
    "                min_number_class_per_node = 3\n",
    "            )\n",
    "# Fit model\n",
    "rules.fit(encoded_train_pandas_dataset, ensemble.feature_importances_)"
   ],
   "metadata": {
    "collapsed": false,
    "ExecuteTime": {
     "start_time": "2023-04-26T10:28:57.292751Z",
     "end_time": "2023-04-26T10:31:16.050435Z"
    }
   }
  },
  {
   "cell_type": "markdown",
   "source": [
    "# Print Model"
   ],
   "metadata": {
    "collapsed": false
   }
  },
  {
   "cell_type": "code",
   "execution_count": 15,
   "outputs": [
    {
     "name": "stdout",
     "output_type": "stream",
     "text": [
      "> ++++++++++++++++++++++++++++\n",
      "> iPRules --  Number of Rules 29:\n",
      "> ++++++++++++++++++++++++++++\n",
      "> ------------------------------\n",
      " ** Target value: 0 ** Target: 163 ** Total: 163 ** Accuracy: 1.0 ** Complexity: 1 ** Chi2 critical_value: 3.841458820694124 ** P_value: 9.902768847384159e-36\n",
      "\t Query: variance_R_Medium == 1\n",
      "> ------------------------------\n",
      "> ------------------------------\n",
      " ** Target value: 1 ** Target: 87 ** Total: 87 ** Accuracy: 1.0 ** Complexity: 3 ** Chi2 critical_value: 3.841458820694124 ** P_value: 1.697972226048722e-27\n",
      "\t Query: variance_R_Medium == 0.0  &  variance_L_High == 0.0  &  variance_L_Medium == 1\n",
      "> ------------------------------\n",
      "> ------------------------------\n",
      " ** Target value: 0 ** Target: 78 ** Total: 78 ** Accuracy: 1.0 ** Complexity: 5 ** Chi2 critical_value: 3.841458820694124 ** P_value: 6.8580227424315884e-18\n",
      "\t Query: variance_R_Medium == 0.0  &  variance_L_High == 0.0  &  variance_L_Medium == 0.0  &  skewness_R_High == 0.0  &  variance_R_High == 1\n",
      "> ------------------------------\n",
      "> ------------------------------\n",
      " ** Target value: 0 ** Target: 7 ** Total: 7 ** Accuracy: 1.0 ** Complexity: 8 ** Chi2 critical_value: 3.841458820694124 ** P_value: 0.002136275850395971\n",
      "\t Query: variance_R_Medium == 0.0  &  variance_L_High == 0.0  &  variance_L_Medium == 0.0  &  skewness_R_High == 0.0  &  variance_R_High == 0.0  &  variance_L_VeryHigh == 0.0  &  variance_R_Low == 0.0  &  skewness_R_VeryHigh == 1\n",
      "> ------------------------------\n",
      "> ------------------------------\n",
      " ** Target value: 1 ** Target: 39 ** Total: 39 ** Accuracy: 1.0 ** Complexity: 9 ** Chi2 critical_value: 3.841458820694124 ** P_value: 3.0649123072269718e-09\n",
      "\t Query: variance_R_Medium == 0.0  &  variance_L_High == 0.0  &  variance_L_Medium == 0.0  &  skewness_R_High == 0.0  &  variance_R_High == 0.0  &  variance_L_VeryHigh == 0.0  &  variance_R_Low == 0.0  &  skewness_R_VeryHigh == 0.0  &  curtosis_L_VeryLow == 1\n",
      "> ------------------------------\n",
      "> ------------------------------\n",
      " ** Target value: 1 ** Target: 7 ** Total: 7 ** Accuracy: 1.0 ** Complexity: 15 ** Chi2 critical_value: 3.841458820694124 ** P_value: 0.0076765999833485225\n",
      "\t Query: variance_R_Medium == 0.0  &  variance_L_High == 0.0  &  variance_L_Medium == 0.0  &  skewness_R_High == 0.0  &  variance_R_High == 0.0  &  variance_L_VeryHigh == 0.0  &  variance_R_Low == 0.0  &  skewness_R_VeryHigh == 0.0  &  curtosis_L_VeryLow == 0.0  &  variance_R_VeryLow == 0.0  &  skewness_R_Medium == 1.0  &  curtosis_R_VeryLow == 0.0  &  skewness_R_Low == 0.0  &  skewness_R_VeryLow == 0.0  &  variance_L_Low == 1\n",
      "> ------------------------------\n",
      "> ------------------------------\n",
      " ** Target value: 1 ** Target: 6 ** Total: 6 ** Accuracy: 1.0 ** Complexity: 17 ** Chi2 critical_value: 3.841458820694124 ** P_value: 0.0003115915935315487\n",
      "\t Query: variance_R_Medium == 0.0  &  variance_L_High == 0.0  &  variance_L_Medium == 0.0  &  skewness_R_High == 0.0  &  variance_R_High == 0.0  &  variance_L_VeryHigh == 0.0  &  variance_R_Low == 0.0  &  skewness_R_VeryHigh == 0.0  &  curtosis_L_VeryLow == 0.0  &  variance_R_VeryLow == 0.0  &  skewness_R_Medium == 1.0  &  curtosis_R_VeryLow == 0.0  &  skewness_R_Low == 0.0  &  skewness_R_VeryLow == 0.0  &  variance_L_Low == 0.0  &  entropy_R_High == 0.0  &  variance_L_VeryLow == 1\n",
      "> ------------------------------\n",
      "> ------------------------------\n",
      " ** Target value: 0 ** Target: 7 ** Total: 7 ** Accuracy: 1.0 ** Complexity: 17 ** Chi2 critical_value: 3.841458820694124 ** P_value: 0.0003115915935315487\n",
      "\t Query: variance_R_Medium == 0.0  &  variance_L_High == 0.0  &  variance_L_Medium == 0.0  &  skewness_R_High == 0.0  &  variance_R_High == 0.0  &  variance_L_VeryHigh == 0.0  &  variance_R_Low == 0.0  &  skewness_R_VeryHigh == 0.0  &  curtosis_L_VeryLow == 0.0  &  variance_R_VeryLow == 0.0  &  skewness_R_Medium == 1.0  &  curtosis_R_VeryLow == 0.0  &  skewness_R_Low == 0.0  &  skewness_R_VeryLow == 0.0  &  variance_L_Low == 0.0  &  entropy_R_High == 0.0  &  variance_L_VeryLow == 0\n",
      "> ------------------------------\n",
      "> ------------------------------\n",
      " ** Target value: 0 ** Target: 23 ** Total: 23 ** Accuracy: 1.0 ** Complexity: 11 ** Chi2 critical_value: 3.841458820694124 ** P_value: 2.8095625869748613e-05\n",
      "\t Query: variance_R_Medium == 0.0  &  variance_L_High == 0.0  &  variance_L_Medium == 0.0  &  skewness_R_High == 0.0  &  variance_R_High == 0.0  &  variance_L_VeryHigh == 0.0  &  variance_R_Low == 0.0  &  skewness_R_VeryHigh == 0.0  &  curtosis_L_VeryLow == 0.0  &  variance_R_VeryLow == 1.0  &  skewness_R_Medium == 1\n",
      "> ------------------------------\n",
      "> ------------------------------\n",
      " ** Target value: 0 ** Target: 7 ** Total: 7 ** Accuracy: 1.0 ** Complexity: 12 ** Chi2 critical_value: 3.841458820694124 ** P_value: 0.007613493658560004\n",
      "\t Query: variance_R_Medium == 0.0  &  variance_L_High == 0.0  &  variance_L_Medium == 0.0  &  skewness_R_High == 0.0  &  variance_R_High == 0.0  &  variance_L_VeryHigh == 0.0  &  variance_R_Low == 0.0  &  skewness_R_VeryHigh == 0.0  &  curtosis_L_VeryLow == 0.0  &  variance_R_VeryLow == 1.0  &  skewness_R_Medium == 0.0  &  curtosis_R_VeryLow == 1\n",
      "> ------------------------------\n",
      "> ------------------------------\n",
      " ** Target value: 1 ** Target: 6 ** Total: 6 ** Accuracy: 1.0 ** Complexity: 16 ** Chi2 critical_value: 3.841458820694124 ** P_value: 0.0007963642196051547\n",
      "\t Query: variance_R_Medium == 0.0  &  variance_L_High == 0.0  &  variance_L_Medium == 0.0  &  skewness_R_High == 0.0  &  variance_R_High == 0.0  &  variance_L_VeryHigh == 0.0  &  variance_R_Low == 0.0  &  skewness_R_VeryHigh == 0.0  &  curtosis_L_VeryLow == 0.0  &  variance_R_VeryLow == 1.0  &  skewness_R_Medium == 0.0  &  curtosis_R_VeryLow == 0.0  &  skewness_R_Low == 0.0  &  skewness_R_VeryLow == 0.0  &  variance_L_Low == 0.0  &  entropy_R_High == 1\n",
      "> ------------------------------\n",
      "> ------------------------------\n",
      " ** Target value: 1 ** Target: 9 ** Total: 9 ** Accuracy: 1.0 ** Complexity: 18 ** Chi2 critical_value: 3.841458820694124 ** P_value: 0.0003147565091940357\n",
      "\t Query: variance_R_Medium == 0.0  &  variance_L_High == 0.0  &  variance_L_Medium == 0.0  &  skewness_R_High == 0.0  &  variance_R_High == 0.0  &  variance_L_VeryHigh == 0.0  &  variance_R_Low == 0.0  &  skewness_R_VeryHigh == 0.0  &  curtosis_L_VeryLow == 0.0  &  variance_R_VeryLow == 1.0  &  skewness_R_Medium == 0.0  &  curtosis_R_VeryLow == 0.0  &  skewness_R_Low == 0.0  &  skewness_R_VeryLow == 1.0  &  variance_L_Low == 0.0  &  entropy_R_High == 0.0  &  variance_L_VeryLow == 0.0  &  curtosis_L_Low == 1\n",
      "> ------------------------------\n",
      "> ------------------------------\n",
      " ** Target value: 1 ** Target: 13 ** Total: 13 ** Accuracy: 1.0 ** Complexity: 9 ** Chi2 critical_value: 3.841458820694124 ** P_value: 5.386480573853962e-22\n",
      "\t Query: variance_R_Medium == 0.0  &  variance_L_High == 0.0  &  variance_L_Medium == 0.0  &  skewness_R_High == 0.0  &  variance_R_High == 0.0  &  variance_L_VeryHigh == 0.0  &  variance_R_Low == 1.0  &  skewness_R_VeryHigh == 0.0  &  curtosis_L_VeryLow == 1\n",
      "> ------------------------------\n",
      "> ------------------------------\n",
      " ** Target value: 1 ** Target: 3 ** Total: 3 ** Accuracy: 1.0 ** Complexity: 18 ** Chi2 critical_value: 3.841458820694124 ** P_value: 3.7402980424734784e-05\n",
      "\t Query: variance_R_Medium == 0.0  &  variance_L_High == 0.0  &  variance_L_Medium == 0.0  &  skewness_R_High == 0.0  &  variance_R_High == 0.0  &  variance_L_VeryHigh == 0.0  &  variance_R_Low == 1.0  &  skewness_R_VeryHigh == 0.0  &  curtosis_L_VeryLow == 0.0  &  variance_R_VeryLow == 0.0  &  skewness_R_Medium == 0.0  &  curtosis_R_VeryLow == 0.0  &  skewness_R_Low == 0.0  &  skewness_R_VeryLow == 1.0  &  variance_L_Low == 0.0  &  entropy_R_High == 1.0  &  variance_L_VeryLow == 0.0  &  curtosis_L_Low == 1\n",
      "> ------------------------------\n",
      "> ------------------------------\n",
      " ** Target value: 0 ** Target: 14 ** Total: 14 ** Accuracy: 1.0 ** Complexity: 18 ** Chi2 critical_value: 3.841458820694124 ** P_value: 3.7402980424734784e-05\n",
      "\t Query: variance_R_Medium == 0.0  &  variance_L_High == 0.0  &  variance_L_Medium == 0.0  &  skewness_R_High == 0.0  &  variance_R_High == 0.0  &  variance_L_VeryHigh == 0.0  &  variance_R_Low == 1.0  &  skewness_R_VeryHigh == 0.0  &  curtosis_L_VeryLow == 0.0  &  variance_R_VeryLow == 0.0  &  skewness_R_Medium == 0.0  &  curtosis_R_VeryLow == 0.0  &  skewness_R_Low == 0.0  &  skewness_R_VeryLow == 1.0  &  variance_L_Low == 0.0  &  entropy_R_High == 1.0  &  variance_L_VeryLow == 0.0  &  curtosis_L_Low == 0\n",
      "> ------------------------------\n",
      "> ------------------------------\n",
      " ** Target value: 0 ** Target: 6 ** Total: 6 ** Accuracy: 1.0 ** Complexity: 8 ** Chi2 critical_value: 3.841458820694124 ** P_value: 1.021745136298757e-08\n",
      "\t Query: variance_R_Medium == 0.0  &  variance_L_High == 0.0  &  variance_L_Medium == 0.0  &  skewness_R_High == 0.0  &  variance_R_High == 0.0  &  variance_L_VeryHigh == 1.0  &  variance_R_Low == 0.0  &  skewness_R_VeryHigh == 1\n",
      "> ------------------------------\n",
      "> ------------------------------\n",
      " ** Target value: 0 ** Target: 4 ** Total: 4 ** Accuracy: 1.0 ** Complexity: 11 ** Chi2 critical_value: 3.841458820694124 ** P_value: 4.1118927999425103e-07\n",
      "\t Query: variance_R_Medium == 0.0  &  variance_L_High == 0.0  &  variance_L_Medium == 0.0  &  skewness_R_High == 0.0  &  variance_R_High == 0.0  &  variance_L_VeryHigh == 1.0  &  variance_R_Low == 0.0  &  skewness_R_VeryHigh == 0.0  &  curtosis_L_VeryLow == 0.0  &  variance_R_VeryLow == 0.0  &  skewness_R_Medium == 1\n",
      "> ------------------------------\n",
      "> ------------------------------\n",
      " ** Target value: 0 ** Target: 25 ** Total: 25 ** Accuracy: 1.0 ** Complexity: 5 ** Chi2 critical_value: 3.841458820694124 ** P_value: 0.03458835882280685\n",
      "\t Query: variance_R_Medium == 0.0  &  variance_L_High == 0.0  &  variance_L_Medium == 0.0  &  skewness_R_High == 1.0  &  variance_R_High == 1\n",
      "> ------------------------------\n",
      "> ------------------------------\n",
      " ** Target value: 0 ** Target: 24 ** Total: 24 ** Accuracy: 1.0 ** Complexity: 6 ** Chi2 critical_value: 3.841458820694124 ** P_value: 0.017093824172952757\n",
      "\t Query: variance_R_Medium == 0.0  &  variance_L_High == 0.0  &  variance_L_Medium == 0.0  &  skewness_R_High == 1.0  &  variance_R_High == 0.0  &  variance_L_VeryHigh == 1\n",
      "> ------------------------------\n",
      "> ------------------------------\n",
      " ** Target value: 0 ** Target: 22 ** Total: 22 ** Accuracy: 1.0 ** Complexity: 7 ** Chi2 critical_value: 3.841458820694124 ** P_value: 0.0064489060661178065\n",
      "\t Query: variance_R_Medium == 0.0  &  variance_L_High == 0.0  &  variance_L_Medium == 0.0  &  skewness_R_High == 1.0  &  variance_R_High == 0.0  &  variance_L_VeryHigh == 0.0  &  variance_R_Low == 1\n",
      "> ------------------------------\n",
      "> ------------------------------\n",
      " ** Target value: 0 ** Target: 38 ** Total: 38 ** Accuracy: 1.0 ** Complexity: 10 ** Chi2 critical_value: 3.841458820694124 ** P_value: 1.3836347299868589e-11\n",
      "\t Query: variance_R_Medium == 0.0  &  variance_L_High == 0.0  &  variance_L_Medium == 0.0  &  skewness_R_High == 1.0  &  variance_R_High == 0.0  &  variance_L_VeryHigh == 0.0  &  variance_R_Low == 0.0  &  skewness_R_VeryHigh == 0.0  &  curtosis_L_VeryLow == 0.0  &  variance_R_VeryLow == 1\n",
      "> ------------------------------\n",
      "> ------------------------------\n",
      " ** Target value: 0 ** Target: 3 ** Total: 3 ** Accuracy: 1.0 ** Complexity: 4 ** Chi2 critical_value: 3.841458820694124 ** P_value: 0.00018732417352440822\n",
      "\t Query: variance_R_Medium == 0.0  &  variance_L_High == 1.0  &  variance_L_Medium == 0.0  &  skewness_R_High == 1\n",
      "> ------------------------------\n",
      "> ------------------------------\n",
      " ** Target value: 0 ** Target: 23 ** Total: 23 ** Accuracy: 1.0 ** Complexity: 8 ** Chi2 critical_value: 3.841458820694124 ** P_value: 1.0958774142004866e-30\n",
      "\t Query: variance_R_Medium == 0.0  &  variance_L_High == 1.0  &  variance_L_Medium == 0.0  &  skewness_R_High == 0.0  &  variance_R_High == 0.0  &  variance_L_VeryHigh == 0.0  &  variance_R_Low == 0.0  &  skewness_R_VeryHigh == 1\n",
      "> ------------------------------\n",
      "> ------------------------------\n",
      " ** Target value: 0 ** Target: 6 ** Total: 6 ** Accuracy: 1.0 ** Complexity: 14 ** Chi2 critical_value: 3.841458820694124 ** P_value: 7.241637482444399e-08\n",
      "\t Query: variance_R_Medium == 0.0  &  variance_L_High == 1.0  &  variance_L_Medium == 0.0  &  skewness_R_High == 0.0  &  variance_R_High == 0.0  &  variance_L_VeryHigh == 0.0  &  variance_R_Low == 0.0  &  skewness_R_VeryHigh == 0.0  &  curtosis_L_VeryLow == 0.0  &  variance_R_VeryLow == 0.0  &  skewness_R_Medium == 0.0  &  curtosis_R_VeryLow == 1.0  &  skewness_R_Low == 0.0  &  skewness_R_VeryLow == 1\n",
      "> ------------------------------\n",
      "> ------------------------------\n",
      " ** Target value: 1 ** Target: 23 ** Total: 23 ** Accuracy: 1.0 ** Complexity: 14 ** Chi2 critical_value: 3.841458820694124 ** P_value: 7.241637482444399e-08\n",
      "\t Query: variance_R_Medium == 0.0  &  variance_L_High == 1.0  &  variance_L_Medium == 0.0  &  skewness_R_High == 0.0  &  variance_R_High == 0.0  &  variance_L_VeryHigh == 0.0  &  variance_R_Low == 0.0  &  skewness_R_VeryHigh == 0.0  &  curtosis_L_VeryLow == 0.0  &  variance_R_VeryLow == 0.0  &  skewness_R_Medium == 0.0  &  curtosis_R_VeryLow == 1.0  &  skewness_R_Low == 0.0  &  skewness_R_VeryLow == 0\n",
      "> ------------------------------\n",
      "> ------------------------------\n",
      " ** Target value: 1 ** Target: 128 ** Total: 129 ** Accuracy: 0.9922480620155039 ** Complexity: 12 ** Chi2 critical_value: 3.841458820694124 ** P_value: 2.486071888827418e-06\n",
      "\t Query: variance_R_Medium == 0.0  &  variance_L_High == 1.0  &  variance_L_Medium == 0.0  &  skewness_R_High == 0.0  &  variance_R_High == 0.0  &  variance_L_VeryHigh == 0.0  &  variance_R_Low == 0.0  &  skewness_R_VeryHigh == 0.0  &  curtosis_L_VeryLow == 0.0  &  variance_R_VeryLow == 0.0  &  skewness_R_Medium == 0.0  &  curtosis_R_VeryLow == 0\n",
      "> ------------------------------\n",
      "> ------------------------------\n",
      " ** Target value: 1 ** Target: 96 ** Total: 98 ** Accuracy: 0.9795918367346939 ** Complexity: 12 ** Chi2 critical_value: 3.841458820694124 ** P_value: 3.0863608833320523e-16\n",
      "\t Query: variance_R_Medium == 0.0  &  variance_L_High == 0.0  &  variance_L_Medium == 0.0  &  skewness_R_High == 0.0  &  variance_R_High == 0.0  &  variance_L_VeryHigh == 1.0  &  variance_R_Low == 0.0  &  skewness_R_VeryHigh == 0.0  &  curtosis_L_VeryLow == 0.0  &  variance_R_VeryLow == 0.0  &  skewness_R_Medium == 0.0  &  curtosis_R_VeryLow == 0\n",
      "> ------------------------------\n",
      "> ------------------------------\n",
      " ** Target value: 0 ** Target: 109 ** Total: 113 ** Accuracy: 0.9646017699115044 ** Complexity: 9 ** Chi2 critical_value: 3.841458820694124 ** P_value: 5.386480573853962e-22\n",
      "\t Query: variance_R_Medium == 0.0  &  variance_L_High == 0.0  &  variance_L_Medium == 0.0  &  skewness_R_High == 0.0  &  variance_R_High == 0.0  &  variance_L_VeryHigh == 0.0  &  variance_R_Low == 1.0  &  skewness_R_VeryHigh == 0.0  &  curtosis_L_VeryLow == 0\n",
      "> ------------------------------\n",
      "> ------------------------------\n",
      " ** Target value: 1 ** Target: 151 ** Total: 158 ** Accuracy: 0.9556962025316456 ** Complexity: 8 ** Chi2 critical_value: 3.841458820694124 ** P_value: 1.0958774142004866e-30\n",
      "\t Query: variance_R_Medium == 0.0  &  variance_L_High == 1.0  &  variance_L_Medium == 0.0  &  skewness_R_High == 0.0  &  variance_R_High == 0.0  &  variance_L_VeryHigh == 0.0  &  variance_R_Low == 0.0  &  skewness_R_VeryHigh == 0\n",
      "> ------------------------------\n",
      "\n"
     ]
    }
   ],
   "source": [
    "# DISPLAY DESCRIPTION\n",
    "#print(rules.description())\n",
    "# DISPLAY ALL RULES\n",
    "print(rules)"
   ],
   "metadata": {
    "collapsed": false,
    "ExecuteTime": {
     "start_time": "2023-04-26T10:31:16.047273Z",
     "end_time": "2023-04-26T10:31:16.059328Z"
    }
   }
  },
  {
   "cell_type": "markdown",
   "metadata": {},
   "source": [
    "# Predict"
   ]
  },
  {
   "cell_type": "code",
   "execution_count": 16,
   "outputs": [],
   "source": [
    "# ENSEMBLE\n",
    "y_pred_test_ensemble = ensemble.predict(X_test)\n",
    "\n",
    "# RULES\n",
    "y_pred_test_rules = rules.predict(X_test)"
   ],
   "metadata": {
    "collapsed": false,
    "ExecuteTime": {
     "start_time": "2023-04-26T10:31:16.060402Z",
     "end_time": "2023-04-26T10:31:16.486098Z"
    }
   }
  },
  {
   "cell_type": "code",
   "execution_count": 17,
   "outputs": [
    {
     "name": "stdout",
     "output_type": "stream",
     "text": [
      "DATASET TEST: 275\n",
      "DATASET TEST categorizable: 237\n",
      "Cobertura: 86.18%\n",
      "RF accuracy: 99.58%\n",
      "RF F1-score: 99.49%\n",
      "Rules Accuracy: 99.58%\n",
      "Rules F1-score: 99.49%\n",
      "Rules roc_auc_score: 99.64%\n"
     ]
    }
   ],
   "source": [
    "# CATEGORIZABLES\n",
    "np_array_rules = np.array(y_pred_test_rules)\n",
    "#not_filter_indices = np.where(np.logical_and(np_array_rules != 0, np_array_rules!=1))[0]\n",
    "filter_indices = np.where(np_array_rules != None)[0]\n",
    "\n",
    "\n",
    "np_filterred_y_test = np.array(y_test)[filter_indices]\n",
    "np_filterred_y_pred_test_ensemble = np.array(y_pred_test_ensemble)[filter_indices]\n",
    "np_filterred_y_pred_test_rules = np.array(y_pred_test_rules)[filter_indices]\n",
    "# CHANGE FORMAT IN ORDER TO NOT HAVE PROBLEMS\n",
    "np_filterred_y_pred_test_rules = np_filterred_y_pred_test_rules.astype('int64')\n",
    "\n",
    "\n",
    "print(f'DATASET TEST: {len(y_test)}')\n",
    "print(f'DATASET TEST categorizable: {len(np_filterred_y_test)}')\n",
    "print('Cobertura:',str(\"{:.2f}\".format(100*(len(np_filterred_y_pred_test_rules)/len(y_test))))+'%')\n",
    "\n",
    "ensemble_accuracy = metrics.accuracy_score(np_filterred_y_test, np_filterred_y_pred_test_ensemble)\n",
    "print('RF accuracy:',str(\"{:.2f}\".format(100*ensemble_accuracy))+'%')\n",
    "ensemble_accuracy = metrics.f1_score(np_filterred_y_test, np_filterred_y_pred_test_ensemble)\n",
    "print('RF F1-score:',str(\"{:.2f}\".format(100*ensemble_accuracy))+'%')\n",
    "rules_accuracy = metrics.accuracy_score(np_filterred_y_test, np_filterred_y_pred_test_rules)\n",
    "print('Rules Accuracy:',str(\"{:.2f}\".format(100*rules_accuracy))+'%')\n",
    "rules_accuracy = metrics.f1_score(np_filterred_y_test, np_filterred_y_pred_test_rules)\n",
    "print('Rules F1-score:',str(\"{:.2f}\".format(100*rules_accuracy))+'%')\n",
    "rules_accuracy = metrics.roc_auc_score(np_filterred_y_test, np_filterred_y_pred_test_rules)\n",
    "print('Rules roc_auc_score:',str(\"{:.2f}\".format(100*rules_accuracy))+'%')\n"
   ],
   "metadata": {
    "collapsed": false,
    "ExecuteTime": {
     "start_time": "2023-04-26T10:31:16.490999Z",
     "end_time": "2023-04-26T10:31:16.497606Z"
    }
   }
  },
  {
   "cell_type": "markdown",
   "source": [
    "# CONFUSION MATRIX"
   ],
   "metadata": {
    "collapsed": false
   }
  },
  {
   "cell_type": "code",
   "execution_count": 18,
   "outputs": [
    {
     "name": "stdout",
     "output_type": "stream",
     "text": [
      "[[138   1]\n",
      " [  0  98]]\n"
     ]
    },
    {
     "ename": "TypeError",
     "evalue": "'numpy.ndarray' object is not callable",
     "output_type": "error",
     "traceback": [
      "\u001B[0;31m---------------------------------------------------------------------------\u001B[0m",
      "\u001B[0;31mTypeError\u001B[0m                                 Traceback (most recent call last)",
      "Cell \u001B[0;32mIn[18], line 3\u001B[0m\n\u001B[1;32m      1\u001B[0m confusion_matrix \u001B[38;5;241m=\u001B[39m metrics\u001B[38;5;241m.\u001B[39mconfusion_matrix(np_filterred_y_test, np_filterred_y_pred_test_rules)\n\u001B[1;32m      2\u001B[0m \u001B[38;5;28mprint\u001B[39m(confusion_matrix)\n\u001B[0;32m----> 3\u001B[0m \u001B[43mconfusion_matrix\u001B[49m\u001B[43m(\u001B[49m\u001B[43mnp_filterred_y_test\u001B[49m\u001B[43m,\u001B[49m\u001B[43m \u001B[49m\u001B[43mnp_filterred_y_pred_test_rules\u001B[49m\u001B[43m,\u001B[49m\u001B[43m \u001B[49m\u001B[43mlabels\u001B[49m\u001B[38;5;241;43m=\u001B[39;49m\u001B[43mencoded_dataset\u001B[49m\u001B[38;5;241;43m.\u001B[39;49m\u001B[43mfeature_names\u001B[49m\u001B[43m)\u001B[49m\n",
      "\u001B[0;31mTypeError\u001B[0m: 'numpy.ndarray' object is not callable"
     ]
    }
   ],
   "source": [
    "\n",
    "confusion_matrix = metrics.confusion_matrix(np_filterred_y_test, np_filterred_y_pred_test_rules)\n",
    "print(confusion_matrix)\n",
    "confusion_matrix(np_filterred_y_test, np_filterred_y_pred_test_rules, labels=encoded_dataset.feature_names)"
   ],
   "metadata": {
    "collapsed": false
   }
  },
  {
   "cell_type": "markdown",
   "metadata": {},
   "source": [
    "# SHAP explainer"
   ]
  },
  {
   "cell_type": "code",
   "execution_count": null,
   "metadata": {},
   "outputs": [],
   "source": [
    "import shap\n",
    "\n",
    "# Create Tree Explainer object that can calculate shap values\n",
    "explainer = shap.TreeExplainer(ensemble)\n",
    "\n",
    "# Evaluate SHAP values\n",
    "shap_values = explainer.shap_values(X_test)\n",
    "shap.summary_plot(shap_values, X_train, feature_names=encoded_dataset.feature_names)"
   ]
  }
 ],
 "metadata": {
  "colab": {
   "provenance": []
  },
  "kernelspec": {
   "display_name": "Python 3 (ipykernel)",
   "language": "python",
   "name": "python3"
  },
  "language_info": {
   "codemirror_mode": {
    "name": "ipython",
    "version": 3
   },
   "file_extension": ".py",
   "mimetype": "text/x-python",
   "name": "python",
   "nbconvert_exporter": "python",
   "pygments_lexer": "ipython3",
   "version": "3.10.10"
  }
 },
 "nbformat": 4,
 "nbformat_minor": 1
}
