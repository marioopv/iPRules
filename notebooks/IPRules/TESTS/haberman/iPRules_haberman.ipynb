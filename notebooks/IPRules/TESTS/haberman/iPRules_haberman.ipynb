{
 "cells": [
  {
   "cell_type": "markdown",
   "metadata": {},
   "source": [
    "\n"
   ]
  },
  {
   "cell_type": "markdown",
   "metadata": {},
   "source": [
    "# Rules Extraction"
   ]
  },
  {
   "cell_type": "markdown",
   "metadata": {},
   "source": [
    "# Statics"
   ]
  },
  {
   "cell_type": "code",
   "execution_count": 50,
   "metadata": {
    "ExecuteTime": {
     "start_time": "2023-04-26T11:12:04.587732Z",
     "end_time": "2023-04-26T11:12:04.626253Z"
    }
   },
   "outputs": [],
   "source": [
    "from sklearn.datasets import load_iris\n",
    "import pandas as pd\n",
    "from sklearn.model_selection import train_test_split\n",
    "import numpy as np\n",
    "import pandas as pd\n",
    "from sklearn.datasets import load_iris\n",
    "from sklearn.utils import Bunch\n",
    "from sklearn.datasets._base import load_csv_data\n",
    "from sklearn import metrics\n",
    "from sklearn.preprocessing import OneHotEncoder\n",
    "from sklearn.compose import make_column_transformer\n",
    "import csv"
   ]
  },
  {
   "cell_type": "markdown",
   "metadata": {},
   "source": [
    "## Load Dataset"
   ]
  },
  {
   "cell_type": "code",
   "execution_count": 51,
   "metadata": {
    "ExecuteTime": {
     "start_time": "2023-04-26T11:12:04.595102Z",
     "end_time": "2023-04-26T11:12:04.662651Z"
    }
   },
   "outputs": [
    {
     "data": {
      "text/plain": "   age  year  nodes  target_value\n0   30    64      1             1\n1   30    62      3             1\n2   30    65      0             1\n3   31    59      2             1\n4   31    65      4             1",
      "text/html": "<div>\n<style scoped>\n    .dataframe tbody tr th:only-of-type {\n        vertical-align: middle;\n    }\n\n    .dataframe tbody tr th {\n        vertical-align: top;\n    }\n\n    .dataframe thead th {\n        text-align: right;\n    }\n</style>\n<table border=\"1\" class=\"dataframe\">\n  <thead>\n    <tr style=\"text-align: right;\">\n      <th></th>\n      <th>age</th>\n      <th>year</th>\n      <th>nodes</th>\n      <th>target_value</th>\n    </tr>\n  </thead>\n  <tbody>\n    <tr>\n      <th>0</th>\n      <td>30</td>\n      <td>64</td>\n      <td>1</td>\n      <td>1</td>\n    </tr>\n    <tr>\n      <th>1</th>\n      <td>30</td>\n      <td>62</td>\n      <td>3</td>\n      <td>1</td>\n    </tr>\n    <tr>\n      <th>2</th>\n      <td>30</td>\n      <td>65</td>\n      <td>0</td>\n      <td>1</td>\n    </tr>\n    <tr>\n      <th>3</th>\n      <td>31</td>\n      <td>59</td>\n      <td>2</td>\n      <td>1</td>\n    </tr>\n    <tr>\n      <th>4</th>\n      <td>31</td>\n      <td>65</td>\n      <td>4</td>\n      <td>1</td>\n    </tr>\n  </tbody>\n</table>\n</div>"
     },
     "execution_count": 51,
     "metadata": {},
     "output_type": "execute_result"
    }
   ],
   "source": [
    "# Load Dataset\n",
    "#iris\n",
    "#dataset = load_iris()\n",
    "target_value_name = 'class'\n",
    "\n",
    "# Mushrooms\n",
    "filename = 'haberman'\n",
    "target_true = 1\n",
    "target_false = 2\n",
    "list_of_continuous_columns = [\"age\",\"year\"]\n",
    "number_of_divisions = 5\n",
    "test_size = 0.2\n",
    "\n",
    "\n",
    "data_file_name = f'../../../../data/{filename}.csv'\n",
    "pandas_dataset = pd.read_csv(data_file_name)\n",
    "pandas_dataset = pandas_dataset.replace('?', 'unknown')\n",
    "pandas_dataset = pandas_dataset.dropna()\n",
    "pandas_dataset.columns = [sub.replace('%', '') for sub in pandas_dataset.columns]\n",
    "target_value_name = pandas_dataset.columns[-1]\n",
    "\n",
    "pandas_dataset[target_value_name] = pandas_dataset[target_value_name].map({target_false: 0, target_true: 1})\n",
    "pandas_dataset.columns = [sub.replace('-', '_').replace(' ', '').replace('class', 'target_value') for sub in pandas_dataset.columns]\n",
    "target_value_name = pandas_dataset.columns[-1]\n",
    "feature_names = pandas_dataset.columns[0:-1]\n",
    "\n",
    "\n",
    "#dataset.feature_names = [sub.replace(' ', '').replace('(cm)', '') for sub in dataset.feature_names]\n",
    "\n",
    "pandas_dataset.head()"
   ]
  },
  {
   "cell_type": "markdown",
   "metadata": {},
   "source": [
    "# One Hot Encoding"
   ]
  },
  {
   "cell_type": "code",
   "execution_count": 52,
   "metadata": {
    "ExecuteTime": {
     "start_time": "2023-04-26T11:12:04.618791Z",
     "end_time": "2023-04-26T11:12:04.676132Z"
    }
   },
   "outputs": [
    {
     "data": {
      "text/plain": "   age_High  age_Low  age_Medium  age_VeryHigh  age_VeryLow  year_High  \\\n0       0.0      0.0         0.0           0.0          1.0        0.0   \n1       0.0      0.0         0.0           0.0          1.0        0.0   \n2       0.0      0.0         0.0           0.0          1.0        1.0   \n3       0.0      0.0         0.0           0.0          1.0        0.0   \n4       0.0      0.0         0.0           0.0          1.0        1.0   \n\n   year_Low  year_Medium  year_VeryHigh  year_VeryLow  ...  nodes_22  \\\n0       0.0          1.0            0.0           0.0  ...       0.0   \n1       1.0          0.0            0.0           0.0  ...       0.0   \n2       0.0          0.0            0.0           0.0  ...       0.0   \n3       0.0          0.0            0.0           1.0  ...       0.0   \n4       0.0          0.0            0.0           0.0  ...       0.0   \n\n   nodes_23  nodes_24  nodes_25  nodes_28  nodes_30  nodes_35  nodes_46  \\\n0       0.0       0.0       0.0       0.0       0.0       0.0       0.0   \n1       0.0       0.0       0.0       0.0       0.0       0.0       0.0   \n2       0.0       0.0       0.0       0.0       0.0       0.0       0.0   \n3       0.0       0.0       0.0       0.0       0.0       0.0       0.0   \n4       0.0       0.0       0.0       0.0       0.0       0.0       0.0   \n\n   nodes_52  target_value  \n0       0.0             1  \n1       0.0             1  \n2       0.0             1  \n3       0.0             1  \n4       0.0             1  \n\n[5 rows x 42 columns]",
      "text/html": "<div>\n<style scoped>\n    .dataframe tbody tr th:only-of-type {\n        vertical-align: middle;\n    }\n\n    .dataframe tbody tr th {\n        vertical-align: top;\n    }\n\n    .dataframe thead th {\n        text-align: right;\n    }\n</style>\n<table border=\"1\" class=\"dataframe\">\n  <thead>\n    <tr style=\"text-align: right;\">\n      <th></th>\n      <th>age_High</th>\n      <th>age_Low</th>\n      <th>age_Medium</th>\n      <th>age_VeryHigh</th>\n      <th>age_VeryLow</th>\n      <th>year_High</th>\n      <th>year_Low</th>\n      <th>year_Medium</th>\n      <th>year_VeryHigh</th>\n      <th>year_VeryLow</th>\n      <th>...</th>\n      <th>nodes_22</th>\n      <th>nodes_23</th>\n      <th>nodes_24</th>\n      <th>nodes_25</th>\n      <th>nodes_28</th>\n      <th>nodes_30</th>\n      <th>nodes_35</th>\n      <th>nodes_46</th>\n      <th>nodes_52</th>\n      <th>target_value</th>\n    </tr>\n  </thead>\n  <tbody>\n    <tr>\n      <th>0</th>\n      <td>0.0</td>\n      <td>0.0</td>\n      <td>0.0</td>\n      <td>0.0</td>\n      <td>1.0</td>\n      <td>0.0</td>\n      <td>0.0</td>\n      <td>1.0</td>\n      <td>0.0</td>\n      <td>0.0</td>\n      <td>...</td>\n      <td>0.0</td>\n      <td>0.0</td>\n      <td>0.0</td>\n      <td>0.0</td>\n      <td>0.0</td>\n      <td>0.0</td>\n      <td>0.0</td>\n      <td>0.0</td>\n      <td>0.0</td>\n      <td>1</td>\n    </tr>\n    <tr>\n      <th>1</th>\n      <td>0.0</td>\n      <td>0.0</td>\n      <td>0.0</td>\n      <td>0.0</td>\n      <td>1.0</td>\n      <td>0.0</td>\n      <td>1.0</td>\n      <td>0.0</td>\n      <td>0.0</td>\n      <td>0.0</td>\n      <td>...</td>\n      <td>0.0</td>\n      <td>0.0</td>\n      <td>0.0</td>\n      <td>0.0</td>\n      <td>0.0</td>\n      <td>0.0</td>\n      <td>0.0</td>\n      <td>0.0</td>\n      <td>0.0</td>\n      <td>1</td>\n    </tr>\n    <tr>\n      <th>2</th>\n      <td>0.0</td>\n      <td>0.0</td>\n      <td>0.0</td>\n      <td>0.0</td>\n      <td>1.0</td>\n      <td>1.0</td>\n      <td>0.0</td>\n      <td>0.0</td>\n      <td>0.0</td>\n      <td>0.0</td>\n      <td>...</td>\n      <td>0.0</td>\n      <td>0.0</td>\n      <td>0.0</td>\n      <td>0.0</td>\n      <td>0.0</td>\n      <td>0.0</td>\n      <td>0.0</td>\n      <td>0.0</td>\n      <td>0.0</td>\n      <td>1</td>\n    </tr>\n    <tr>\n      <th>3</th>\n      <td>0.0</td>\n      <td>0.0</td>\n      <td>0.0</td>\n      <td>0.0</td>\n      <td>1.0</td>\n      <td>0.0</td>\n      <td>0.0</td>\n      <td>0.0</td>\n      <td>0.0</td>\n      <td>1.0</td>\n      <td>...</td>\n      <td>0.0</td>\n      <td>0.0</td>\n      <td>0.0</td>\n      <td>0.0</td>\n      <td>0.0</td>\n      <td>0.0</td>\n      <td>0.0</td>\n      <td>0.0</td>\n      <td>0.0</td>\n      <td>1</td>\n    </tr>\n    <tr>\n      <th>4</th>\n      <td>0.0</td>\n      <td>0.0</td>\n      <td>0.0</td>\n      <td>0.0</td>\n      <td>1.0</td>\n      <td>1.0</td>\n      <td>0.0</td>\n      <td>0.0</td>\n      <td>0.0</td>\n      <td>0.0</td>\n      <td>...</td>\n      <td>0.0</td>\n      <td>0.0</td>\n      <td>0.0</td>\n      <td>0.0</td>\n      <td>0.0</td>\n      <td>0.0</td>\n      <td>0.0</td>\n      <td>0.0</td>\n      <td>0.0</td>\n      <td>1</td>\n    </tr>\n  </tbody>\n</table>\n<p>5 rows × 42 columns</p>\n</div>"
     },
     "execution_count": 52,
     "metadata": {},
     "output_type": "execute_result"
    }
   ],
   "source": [
    "from notebooks.IPRules.test_utils import continuous_to_discrete_column\n",
    "\n",
    "\n",
    "def one_hot_encode_dataframe(data, feature_names):\n",
    "    enc = OneHotEncoder(sparse_output=False)\n",
    "    encoded_array = enc.fit_transform(data.loc[:,feature_names])\n",
    "    encoded_feature_names = enc.get_feature_names_out()\n",
    "    df_encoded = pd.DataFrame(encoded_array,columns=encoded_feature_names)\n",
    "    encoded_pandas_dataset = pd.concat([df_encoded, data],axis=1)\n",
    "    encoded_pandas_dataset.drop(labels= feature_names,axis=1,inplace=True)\n",
    "    return encoded_pandas_dataset, encoded_feature_names\n",
    "\n",
    "pandas_dataset = continuous_to_discrete_column(pandas_dataset,list_of_continuous_columns, number_of_divisions)\n",
    "encoded_pandas_dataset, encoded_feature_names = one_hot_encode_dataframe(pandas_dataset, feature_names)\n",
    "encoded_pandas_dataset.head()"
   ]
  },
  {
   "cell_type": "code",
   "execution_count": 53,
   "metadata": {
    "ExecuteTime": {
     "start_time": "2023-04-26T11:12:04.641990Z",
     "end_time": "2023-04-26T11:12:04.676463Z"
    }
   },
   "outputs": [],
   "source": [
    "X = encoded_pandas_dataset[encoded_feature_names]\n",
    "y = encoded_pandas_dataset[target_value_name]\n",
    "\n",
    "encoded_dataset = Bunch(\n",
    "        data=X.to_numpy(),\n",
    "        target=y.to_numpy(),\n",
    "        target_names=target_value_name,\n",
    "        feature_names=X.columns\n",
    ")\n",
    "\n",
    "#X_display = pandas_dataset.drop([target_value_name], axis=1)\n",
    "#y_display = pandas_dataset[target_value_name]\n",
    "\n",
    "#encoded_pandas_dataset = pd.DataFrame(data= np.c_[dataset['data'], dataset['target']], columns= list(dataset['feature_names']) + ['target'])\n",
    "#encoded_pandas_dataset.head()\n"
   ]
  },
  {
   "cell_type": "markdown",
   "metadata": {},
   "source": [
    "# Divide dataset"
   ]
  },
  {
   "cell_type": "code",
   "execution_count": 54,
   "metadata": {
    "ExecuteTime": {
     "start_time": "2023-04-26T11:12:04.652580Z",
     "end_time": "2023-04-26T11:12:04.676658Z"
    }
   },
   "outputs": [
    {
     "name": "stdout",
     "output_type": "stream",
     "text": [
      "\n",
      "Sizes (without target):\n",
      "Original size (306, 41)\n",
      "Train size (244, 41)\n",
      "Test size (62, 41)\n"
     ]
    }
   ],
   "source": [
    "#Define dataset\n",
    "X_train, X_test, y_train, y_test = train_test_split(encoded_dataset.data, encoded_dataset.target, test_size=test_size, random_state=1)\n",
    "encoded_train_pandas_dataset = pd.DataFrame(data= np.c_[X_train, y_train], columns= list(encoded_dataset['feature_names']) + [target_value_name])\n",
    "encoded_test_pandas_dataset = pd.DataFrame(data= np.c_[X_test, y_test], columns= list(encoded_dataset['feature_names']) + [target_value_name])\n",
    "print()\n",
    "print('Sizes (without target):')\n",
    "print(f'Original size {encoded_dataset.data.shape}')\n",
    "print(f'Train size {X_train.shape}')\n",
    "print(f'Test size {X_test.shape}')"
   ]
  },
  {
   "cell_type": "markdown",
   "metadata": {},
   "source": [
    "## Define Random Forest"
   ]
  },
  {
   "cell_type": "code",
   "execution_count": 55,
   "metadata": {
    "ExecuteTime": {
     "start_time": "2023-04-26T11:12:04.656461Z",
     "end_time": "2023-04-26T11:12:04.868882Z"
    }
   },
   "outputs": [
    {
     "data": {
      "text/plain": "RandomForestClassifier()",
      "text/html": "<style>#sk-container-id-5 {color: black;background-color: white;}#sk-container-id-5 pre{padding: 0;}#sk-container-id-5 div.sk-toggleable {background-color: white;}#sk-container-id-5 label.sk-toggleable__label {cursor: pointer;display: block;width: 100%;margin-bottom: 0;padding: 0.3em;box-sizing: border-box;text-align: center;}#sk-container-id-5 label.sk-toggleable__label-arrow:before {content: \"▸\";float: left;margin-right: 0.25em;color: #696969;}#sk-container-id-5 label.sk-toggleable__label-arrow:hover:before {color: black;}#sk-container-id-5 div.sk-estimator:hover label.sk-toggleable__label-arrow:before {color: black;}#sk-container-id-5 div.sk-toggleable__content {max-height: 0;max-width: 0;overflow: hidden;text-align: left;background-color: #f0f8ff;}#sk-container-id-5 div.sk-toggleable__content pre {margin: 0.2em;color: black;border-radius: 0.25em;background-color: #f0f8ff;}#sk-container-id-5 input.sk-toggleable__control:checked~div.sk-toggleable__content {max-height: 200px;max-width: 100%;overflow: auto;}#sk-container-id-5 input.sk-toggleable__control:checked~label.sk-toggleable__label-arrow:before {content: \"▾\";}#sk-container-id-5 div.sk-estimator input.sk-toggleable__control:checked~label.sk-toggleable__label {background-color: #d4ebff;}#sk-container-id-5 div.sk-label input.sk-toggleable__control:checked~label.sk-toggleable__label {background-color: #d4ebff;}#sk-container-id-5 input.sk-hidden--visually {border: 0;clip: rect(1px 1px 1px 1px);clip: rect(1px, 1px, 1px, 1px);height: 1px;margin: -1px;overflow: hidden;padding: 0;position: absolute;width: 1px;}#sk-container-id-5 div.sk-estimator {font-family: monospace;background-color: #f0f8ff;border: 1px dotted black;border-radius: 0.25em;box-sizing: border-box;margin-bottom: 0.5em;}#sk-container-id-5 div.sk-estimator:hover {background-color: #d4ebff;}#sk-container-id-5 div.sk-parallel-item::after {content: \"\";width: 100%;border-bottom: 1px solid gray;flex-grow: 1;}#sk-container-id-5 div.sk-label:hover label.sk-toggleable__label {background-color: #d4ebff;}#sk-container-id-5 div.sk-serial::before {content: \"\";position: absolute;border-left: 1px solid gray;box-sizing: border-box;top: 0;bottom: 0;left: 50%;z-index: 0;}#sk-container-id-5 div.sk-serial {display: flex;flex-direction: column;align-items: center;background-color: white;padding-right: 0.2em;padding-left: 0.2em;position: relative;}#sk-container-id-5 div.sk-item {position: relative;z-index: 1;}#sk-container-id-5 div.sk-parallel {display: flex;align-items: stretch;justify-content: center;background-color: white;position: relative;}#sk-container-id-5 div.sk-item::before, #sk-container-id-5 div.sk-parallel-item::before {content: \"\";position: absolute;border-left: 1px solid gray;box-sizing: border-box;top: 0;bottom: 0;left: 50%;z-index: -1;}#sk-container-id-5 div.sk-parallel-item {display: flex;flex-direction: column;z-index: 1;position: relative;background-color: white;}#sk-container-id-5 div.sk-parallel-item:first-child::after {align-self: flex-end;width: 50%;}#sk-container-id-5 div.sk-parallel-item:last-child::after {align-self: flex-start;width: 50%;}#sk-container-id-5 div.sk-parallel-item:only-child::after {width: 0;}#sk-container-id-5 div.sk-dashed-wrapped {border: 1px dashed gray;margin: 0 0.4em 0.5em 0.4em;box-sizing: border-box;padding-bottom: 0.4em;background-color: white;}#sk-container-id-5 div.sk-label label {font-family: monospace;font-weight: bold;display: inline-block;line-height: 1.2em;}#sk-container-id-5 div.sk-label-container {text-align: center;}#sk-container-id-5 div.sk-container {/* jupyter's `normalize.less` sets `[hidden] { display: none; }` but bootstrap.min.css set `[hidden] { display: none !important; }` so we also need the `!important` here to be able to override the default hidden behavior on the sphinx rendered scikit-learn.org. See: https://github.com/scikit-learn/scikit-learn/issues/21755 */display: inline-block !important;position: relative;}#sk-container-id-5 div.sk-text-repr-fallback {display: none;}</style><div id=\"sk-container-id-5\" class=\"sk-top-container\"><div class=\"sk-text-repr-fallback\"><pre>RandomForestClassifier()</pre><b>In a Jupyter environment, please rerun this cell to show the HTML representation or trust the notebook. <br />On GitHub, the HTML representation is unable to render, please try loading this page with nbviewer.org.</b></div><div class=\"sk-container\" hidden><div class=\"sk-item\"><div class=\"sk-estimator sk-toggleable\"><input class=\"sk-toggleable__control sk-hidden--visually\" id=\"sk-estimator-id-5\" type=\"checkbox\" checked><label for=\"sk-estimator-id-5\" class=\"sk-toggleable__label sk-toggleable__label-arrow\">RandomForestClassifier</label><div class=\"sk-toggleable__content\"><pre>RandomForestClassifier()</pre></div></div></div></div></div>"
     },
     "execution_count": 55,
     "metadata": {},
     "output_type": "execute_result"
    }
   ],
   "source": [
    "from sklearn.ensemble import RandomForestClassifier\n",
    "from sklearn.model_selection import GridSearchCV\n",
    "from sklearn.metrics import precision_score, make_scorer, recall_score, accuracy_score\n",
    "\n",
    "# Define scorer\n",
    "ensemble = RandomForestClassifier(criterion=\"gini\")\n",
    "ensemble.fit(X_train, y_train)"
   ]
  },
  {
   "cell_type": "markdown",
   "metadata": {},
   "source": [
    "## iPRules"
   ]
  },
  {
   "cell_type": "code",
   "execution_count": 56,
   "outputs": [
    {
     "name": "stdout",
     "output_type": "stream",
     "text": [
      "->Extract feature importance list\n"
     ]
    },
    {
     "data": {
      "text/plain": "<Figure size 640x480 with 1 Axes>",
      "image/png": "[encoded data removed]"
     },
     "metadata": {},
     "output_type": "display_data"
    },
    {
     "name": "stdout",
     "output_type": "stream",
     "text": [
      "\t Original features 41\n",
      "\t Selected features 32\n",
      "\t Percentage of selected rules: 78.04878048780488 %\n",
      "->Generate new tree based on list\n",
      "Elapsed time to compute the binary_tree_generator: 105.476 seconds\n",
      "->Generate obtained patterns tree\n",
      "Elapsed time to compute the obtain_pattern_list_of_valid_nodes_with_pvalue: 0.386 seconds\n",
      "->Categorize patterns\n",
      "Elapsed time to compute the categorize_patterns: 0.139 seconds\n"
     ]
    },
    {
     "data": {
      "text/plain": "<iPRules.iPRules.iPRules at 0x7fdc66ba62f0>"
     },
     "execution_count": 56,
     "metadata": {},
     "output_type": "execute_result"
    }
   ],
   "source": [
    "from iPRules.iPRules import iPRules\n",
    "\n",
    "# initialize\n",
    "rules = iPRules(\n",
    "                feature_names=encoded_dataset.feature_names,\n",
    "                target_value_name = encoded_dataset.target_names,\n",
    "                display_features = True,\n",
    "                display_logs = True,\n",
    "                chi_square_percent_point_function = 0.95,\n",
    "                scale_feature_coefficient = 0.05,\n",
    "                min_accuracy_coefficient = 0.9,\n",
    "                min_number_class_per_node = 1\n",
    "            )\n",
    "# Fit model\n",
    "rules.fit(encoded_train_pandas_dataset, ensemble.feature_importances_)"
   ],
   "metadata": {
    "collapsed": false,
    "ExecuteTime": {
     "start_time": "2023-04-26T11:12:04.845048Z",
     "end_time": "2023-04-26T11:13:51.104181Z"
    }
   }
  },
  {
   "cell_type": "markdown",
   "source": [
    "# Print Model"
   ],
   "metadata": {
    "collapsed": false
   }
  },
  {
   "cell_type": "code",
   "execution_count": 57,
   "outputs": [
    {
     "name": "stdout",
     "output_type": "stream",
     "text": [
      "> ++++++++++++++++++++++++++++\n",
      "> iPRules --  Number of Rules 5:\n",
      "> ++++++++++++++++++++++++++++\n",
      "> ------------------------------\n",
      " ** Target value: 1 ** Target: 4 ** Total: 4 ** Accuracy: 1.0 ** Complexity: 6 ** Chi2 critical_value: 3.841458820694124 ** P_value: 0.04252966110510891\n",
      "\t Query: nodes_0 == 0.0  &  age_Low == 1.0  &  year_VeryHigh == 0.0  &  year_VeryLow == 1.0  &  age_Medium == 0.0  &  nodes_1 == 1\n",
      "> ------------------------------\n",
      "> ------------------------------\n",
      " ** Target value: 0 ** Target: 1 ** Total: 1 ** Accuracy: 1.0 ** Complexity: 13 ** Chi2 critical_value: 3.841458820694124 ** P_value: 0.04552366343877305\n",
      "\t Query: nodes_0 == 0.0  &  age_Low == 1.0  &  year_VeryHigh == 0.0  &  year_VeryLow == 0.0  &  age_Medium == 0.0  &  nodes_1 == 0.0  &  year_Medium == 0.0  &  age_High == 0.0  &  year_High == 0.0  &  nodes_9 == 0.0  &  age_VeryLow == 0.0  &  nodes_13 == 0.0  &  nodes_5 == 1\n",
      "> ------------------------------\n",
      "> ------------------------------\n",
      " ** Target value: 1 ** Target: 3 ** Total: 3 ** Accuracy: 1.0 ** Complexity: 13 ** Chi2 critical_value: 3.841458820694124 ** P_value: 0.04552366343877305\n",
      "\t Query: nodes_0 == 0.0  &  age_Low == 1.0  &  year_VeryHigh == 0.0  &  year_VeryLow == 0.0  &  age_Medium == 0.0  &  nodes_1 == 0.0  &  year_Medium == 0.0  &  age_High == 0.0  &  year_High == 0.0  &  nodes_9 == 0.0  &  age_VeryLow == 0.0  &  nodes_13 == 0.0  &  nodes_5 == 0\n",
      "> ------------------------------\n",
      "> ------------------------------\n",
      " ** Target value: 1 ** Target: 1 ** Total: 1 ** Accuracy: 1.0 ** Complexity: 17 ** Chi2 critical_value: 3.841458820694124 ** P_value: 0.04552366343877281\n",
      "\t Query: nodes_0 == 0.0  &  age_Low == 0.0  &  year_VeryHigh == 0.0  &  year_VeryLow == 0.0  &  age_Medium == 1.0  &  nodes_1 == 0.0  &  year_Medium == 0.0  &  age_High == 0.0  &  year_High == 0.0  &  nodes_9 == 0.0  &  age_VeryLow == 0.0  &  nodes_13 == 0.0  &  nodes_5 == 0.0  &  nodes_11 == 0.0  &  year_Low == 1.0  &  nodes_23 == 0.0  &  nodes_2 == 1\n",
      "> ------------------------------\n",
      "> ------------------------------\n",
      " ** Target value: 0 ** Target: 3 ** Total: 3 ** Accuracy: 1.0 ** Complexity: 17 ** Chi2 critical_value: 3.841458820694124 ** P_value: 0.04552366343877281\n",
      "\t Query: nodes_0 == 0.0  &  age_Low == 0.0  &  year_VeryHigh == 0.0  &  year_VeryLow == 0.0  &  age_Medium == 1.0  &  nodes_1 == 0.0  &  year_Medium == 0.0  &  age_High == 0.0  &  year_High == 0.0  &  nodes_9 == 0.0  &  age_VeryLow == 0.0  &  nodes_13 == 0.0  &  nodes_5 == 0.0  &  nodes_11 == 0.0  &  year_Low == 1.0  &  nodes_23 == 0.0  &  nodes_2 == 0\n",
      "> ------------------------------\n",
      "\n"
     ]
    }
   ],
   "source": [
    "# DISPLAY DESCRIPTION\n",
    "#print(rules.description())\n",
    "# DISPLAY ALL RULES\n",
    "print(rules)"
   ],
   "metadata": {
    "collapsed": false,
    "ExecuteTime": {
     "start_time": "2023-04-26T11:13:51.104939Z",
     "end_time": "2023-04-26T11:13:51.109982Z"
    }
   }
  },
  {
   "cell_type": "markdown",
   "metadata": {},
   "source": [
    "# Predict"
   ]
  },
  {
   "cell_type": "code",
   "execution_count": 58,
   "outputs": [],
   "source": [
    "# ENSEMBLE\n",
    "y_pred_test_ensemble = ensemble.predict(X_test)\n",
    "\n",
    "# RULES\n",
    "y_pred_test_rules = rules.predict(X_test)"
   ],
   "metadata": {
    "collapsed": false,
    "ExecuteTime": {
     "start_time": "2023-04-26T11:13:51.114390Z",
     "end_time": "2023-04-26T11:13:51.201428Z"
    }
   }
  },
  {
   "cell_type": "code",
   "execution_count": 59,
   "outputs": [
    {
     "name": "stdout",
     "output_type": "stream",
     "text": [
      "DATASET TEST: 62\n",
      "DATASET TEST categorizable: 3\n",
      "Cobertura: 4.84%\n",
      "RF accuracy: 66.67%\n",
      "RF F1-score: 80.00%\n",
      "Rules Accuracy: 66.67%\n",
      "Rules F1-score: 80.00%\n"
     ]
    },
    {
     "ename": "ValueError",
     "evalue": "Only one class present in y_true. ROC AUC score is not defined in that case.",
     "output_type": "error",
     "traceback": [
      "\u001B[0;31m---------------------------------------------------------------------------\u001B[0m",
      "\u001B[0;31mValueError\u001B[0m                                Traceback (most recent call last)",
      "Cell \u001B[0;32mIn[59], line 26\u001B[0m\n\u001B[1;32m     24\u001B[0m rules_accuracy \u001B[38;5;241m=\u001B[39m metrics\u001B[38;5;241m.\u001B[39mf1_score(np_filterred_y_test, np_filterred_y_pred_test_rules)\n\u001B[1;32m     25\u001B[0m \u001B[38;5;28mprint\u001B[39m(\u001B[38;5;124m'\u001B[39m\u001B[38;5;124mRules F1-score:\u001B[39m\u001B[38;5;124m'\u001B[39m,\u001B[38;5;28mstr\u001B[39m(\u001B[38;5;124m\"\u001B[39m\u001B[38;5;132;01m{:.2f}\u001B[39;00m\u001B[38;5;124m\"\u001B[39m\u001B[38;5;241m.\u001B[39mformat(\u001B[38;5;241m100\u001B[39m\u001B[38;5;241m*\u001B[39mrules_accuracy))\u001B[38;5;241m+\u001B[39m\u001B[38;5;124m'\u001B[39m\u001B[38;5;124m%\u001B[39m\u001B[38;5;124m'\u001B[39m)\n\u001B[0;32m---> 26\u001B[0m rules_accuracy \u001B[38;5;241m=\u001B[39m \u001B[43mmetrics\u001B[49m\u001B[38;5;241;43m.\u001B[39;49m\u001B[43mroc_auc_score\u001B[49m\u001B[43m(\u001B[49m\u001B[43mnp_filterred_y_test\u001B[49m\u001B[43m,\u001B[49m\u001B[43m \u001B[49m\u001B[43mnp_filterred_y_pred_test_rules\u001B[49m\u001B[43m)\u001B[49m\n\u001B[1;32m     27\u001B[0m \u001B[38;5;28mprint\u001B[39m(\u001B[38;5;124m'\u001B[39m\u001B[38;5;124mRules roc_auc_score:\u001B[39m\u001B[38;5;124m'\u001B[39m,\u001B[38;5;28mstr\u001B[39m(\u001B[38;5;124m\"\u001B[39m\u001B[38;5;132;01m{:.2f}\u001B[39;00m\u001B[38;5;124m\"\u001B[39m\u001B[38;5;241m.\u001B[39mformat(\u001B[38;5;241m100\u001B[39m\u001B[38;5;241m*\u001B[39mrules_accuracy))\u001B[38;5;241m+\u001B[39m\u001B[38;5;124m'\u001B[39m\u001B[38;5;124m%\u001B[39m\u001B[38;5;124m'\u001B[39m)\n",
      "File \u001B[0;32m~/anaconda3/envs/iPRules/lib/python3.10/site-packages/sklearn/metrics/_ranking.py:572\u001B[0m, in \u001B[0;36mroc_auc_score\u001B[0;34m(y_true, y_score, average, sample_weight, max_fpr, multi_class, labels)\u001B[0m\n\u001B[1;32m    570\u001B[0m     labels \u001B[38;5;241m=\u001B[39m np\u001B[38;5;241m.\u001B[39munique(y_true)\n\u001B[1;32m    571\u001B[0m     y_true \u001B[38;5;241m=\u001B[39m label_binarize(y_true, classes\u001B[38;5;241m=\u001B[39mlabels)[:, \u001B[38;5;241m0\u001B[39m]\n\u001B[0;32m--> 572\u001B[0m     \u001B[38;5;28;01mreturn\u001B[39;00m \u001B[43m_average_binary_score\u001B[49m\u001B[43m(\u001B[49m\n\u001B[1;32m    573\u001B[0m \u001B[43m        \u001B[49m\u001B[43mpartial\u001B[49m\u001B[43m(\u001B[49m\u001B[43m_binary_roc_auc_score\u001B[49m\u001B[43m,\u001B[49m\u001B[43m \u001B[49m\u001B[43mmax_fpr\u001B[49m\u001B[38;5;241;43m=\u001B[39;49m\u001B[43mmax_fpr\u001B[49m\u001B[43m)\u001B[49m\u001B[43m,\u001B[49m\n\u001B[1;32m    574\u001B[0m \u001B[43m        \u001B[49m\u001B[43my_true\u001B[49m\u001B[43m,\u001B[49m\n\u001B[1;32m    575\u001B[0m \u001B[43m        \u001B[49m\u001B[43my_score\u001B[49m\u001B[43m,\u001B[49m\n\u001B[1;32m    576\u001B[0m \u001B[43m        \u001B[49m\u001B[43maverage\u001B[49m\u001B[43m,\u001B[49m\n\u001B[1;32m    577\u001B[0m \u001B[43m        \u001B[49m\u001B[43msample_weight\u001B[49m\u001B[38;5;241;43m=\u001B[39;49m\u001B[43msample_weight\u001B[49m\u001B[43m,\u001B[49m\n\u001B[1;32m    578\u001B[0m \u001B[43m    \u001B[49m\u001B[43m)\u001B[49m\n\u001B[1;32m    579\u001B[0m \u001B[38;5;28;01melse\u001B[39;00m:  \u001B[38;5;66;03m# multilabel-indicator\u001B[39;00m\n\u001B[1;32m    580\u001B[0m     \u001B[38;5;28;01mreturn\u001B[39;00m _average_binary_score(\n\u001B[1;32m    581\u001B[0m         partial(_binary_roc_auc_score, max_fpr\u001B[38;5;241m=\u001B[39mmax_fpr),\n\u001B[1;32m    582\u001B[0m         y_true,\n\u001B[0;32m   (...)\u001B[0m\n\u001B[1;32m    585\u001B[0m         sample_weight\u001B[38;5;241m=\u001B[39msample_weight,\n\u001B[1;32m    586\u001B[0m     )\n",
      "File \u001B[0;32m~/anaconda3/envs/iPRules/lib/python3.10/site-packages/sklearn/metrics/_base.py:75\u001B[0m, in \u001B[0;36m_average_binary_score\u001B[0;34m(binary_metric, y_true, y_score, average, sample_weight)\u001B[0m\n\u001B[1;32m     72\u001B[0m     \u001B[38;5;28;01mraise\u001B[39;00m \u001B[38;5;167;01mValueError\u001B[39;00m(\u001B[38;5;124m\"\u001B[39m\u001B[38;5;132;01m{0}\u001B[39;00m\u001B[38;5;124m format is not supported\u001B[39m\u001B[38;5;124m\"\u001B[39m\u001B[38;5;241m.\u001B[39mformat(y_type))\n\u001B[1;32m     74\u001B[0m \u001B[38;5;28;01mif\u001B[39;00m y_type \u001B[38;5;241m==\u001B[39m \u001B[38;5;124m\"\u001B[39m\u001B[38;5;124mbinary\u001B[39m\u001B[38;5;124m\"\u001B[39m:\n\u001B[0;32m---> 75\u001B[0m     \u001B[38;5;28;01mreturn\u001B[39;00m \u001B[43mbinary_metric\u001B[49m\u001B[43m(\u001B[49m\u001B[43my_true\u001B[49m\u001B[43m,\u001B[49m\u001B[43m \u001B[49m\u001B[43my_score\u001B[49m\u001B[43m,\u001B[49m\u001B[43m \u001B[49m\u001B[43msample_weight\u001B[49m\u001B[38;5;241;43m=\u001B[39;49m\u001B[43msample_weight\u001B[49m\u001B[43m)\u001B[49m\n\u001B[1;32m     77\u001B[0m check_consistent_length(y_true, y_score, sample_weight)\n\u001B[1;32m     78\u001B[0m y_true \u001B[38;5;241m=\u001B[39m check_array(y_true)\n",
      "File \u001B[0;32m~/anaconda3/envs/iPRules/lib/python3.10/site-packages/sklearn/metrics/_ranking.py:339\u001B[0m, in \u001B[0;36m_binary_roc_auc_score\u001B[0;34m(y_true, y_score, sample_weight, max_fpr)\u001B[0m\n\u001B[1;32m    337\u001B[0m \u001B[38;5;124;03m\"\"\"Binary roc auc score.\"\"\"\u001B[39;00m\n\u001B[1;32m    338\u001B[0m \u001B[38;5;28;01mif\u001B[39;00m \u001B[38;5;28mlen\u001B[39m(np\u001B[38;5;241m.\u001B[39munique(y_true)) \u001B[38;5;241m!=\u001B[39m \u001B[38;5;241m2\u001B[39m:\n\u001B[0;32m--> 339\u001B[0m     \u001B[38;5;28;01mraise\u001B[39;00m \u001B[38;5;167;01mValueError\u001B[39;00m(\n\u001B[1;32m    340\u001B[0m         \u001B[38;5;124m\"\u001B[39m\u001B[38;5;124mOnly one class present in y_true. ROC AUC score \u001B[39m\u001B[38;5;124m\"\u001B[39m\n\u001B[1;32m    341\u001B[0m         \u001B[38;5;124m\"\u001B[39m\u001B[38;5;124mis not defined in that case.\u001B[39m\u001B[38;5;124m\"\u001B[39m\n\u001B[1;32m    342\u001B[0m     )\n\u001B[1;32m    344\u001B[0m fpr, tpr, _ \u001B[38;5;241m=\u001B[39m roc_curve(y_true, y_score, sample_weight\u001B[38;5;241m=\u001B[39msample_weight)\n\u001B[1;32m    345\u001B[0m \u001B[38;5;28;01mif\u001B[39;00m max_fpr \u001B[38;5;129;01mis\u001B[39;00m \u001B[38;5;28;01mNone\u001B[39;00m \u001B[38;5;129;01mor\u001B[39;00m max_fpr \u001B[38;5;241m==\u001B[39m \u001B[38;5;241m1\u001B[39m:\n",
      "\u001B[0;31mValueError\u001B[0m: Only one class present in y_true. ROC AUC score is not defined in that case."
     ]
    }
   ],
   "source": [
    "# CATEGORIZABLES\n",
    "np_array_rules = np.array(y_pred_test_rules)\n",
    "#not_filter_indices = np.where(np.logical_and(np_array_rules != 0, np_array_rules!=1))[0]\n",
    "filter_indices = np.where(np_array_rules != None)[0]\n",
    "\n",
    "\n",
    "np_filterred_y_test = np.array(y_test)[filter_indices]\n",
    "np_filterred_y_pred_test_ensemble = np.array(y_pred_test_ensemble)[filter_indices]\n",
    "np_filterred_y_pred_test_rules = np.array(y_pred_test_rules)[filter_indices]\n",
    "# CHANGE FORMAT IN ORDER TO NOT HAVE PROBLEMS\n",
    "np_filterred_y_pred_test_rules = np_filterred_y_pred_test_rules.astype('int64')\n",
    "\n",
    "\n",
    "print(f'DATASET TEST: {len(y_test)}')\n",
    "print(f'DATASET TEST categorizable: {len(np_filterred_y_test)}')\n",
    "print('Cobertura:',str(\"{:.2f}\".format(100*(len(np_filterred_y_pred_test_rules)/len(y_test))))+'%')\n",
    "\n",
    "ensemble_accuracy = metrics.accuracy_score(np_filterred_y_test, np_filterred_y_pred_test_ensemble)\n",
    "print('RF accuracy:',str(\"{:.2f}\".format(100*ensemble_accuracy))+'%')\n",
    "ensemble_accuracy = metrics.f1_score(np_filterred_y_test, np_filterred_y_pred_test_ensemble)\n",
    "print('RF F1-score:',str(\"{:.2f}\".format(100*ensemble_accuracy))+'%')\n",
    "rules_accuracy = metrics.accuracy_score(np_filterred_y_test, np_filterred_y_pred_test_rules)\n",
    "print('Rules Accuracy:',str(\"{:.2f}\".format(100*rules_accuracy))+'%')\n",
    "rules_accuracy = metrics.f1_score(np_filterred_y_test, np_filterred_y_pred_test_rules)\n",
    "print('Rules F1-score:',str(\"{:.2f}\".format(100*rules_accuracy))+'%')\n",
    "rules_accuracy = metrics.roc_auc_score(np_filterred_y_test, np_filterred_y_pred_test_rules)\n",
    "print('Rules roc_auc_score:',str(\"{:.2f}\".format(100*rules_accuracy))+'%')\n"
   ],
   "metadata": {
    "collapsed": false,
    "ExecuteTime": {
     "start_time": "2023-04-26T11:10:11.176271Z",
     "end_time": "2023-04-26T11:10:11.205302Z"
    }
   }
  },
  {
   "cell_type": "markdown",
   "source": [
    "# CONFUSION MATRIX"
   ],
   "metadata": {
    "collapsed": false
   }
  },
  {
   "cell_type": "markdown",
   "metadata": {},
   "source": [
    "# SHAP explainer"
   ]
  },
  {
   "cell_type": "code",
   "execution_count": null,
   "metadata": {
    "ExecuteTime": {
     "start_time": "2023-04-26T11:10:11.195652Z",
     "end_time": "2023-04-26T11:10:13.082143Z"
    }
   },
   "outputs": [],
   "source": [
    "import shap\n",
    "\n",
    "# Create Tree Explainer object that can calculate shap values\n",
    "explainer = shap.TreeExplainer(ensemble)\n",
    "\n",
    "# Evaluate SHAP values\n",
    "shap_values = explainer.shap_values(X_test)\n",
    "shap.summary_plot(shap_values, X_train, feature_names=encoded_dataset.feature_names)"
   ]
  }
 ],
 "metadata": {
  "colab": {
   "provenance": []
  },
  "kernelspec": {
   "display_name": "Python 3 (ipykernel)",
   "language": "python",
   "name": "python3"
  },
  "language_info": {
   "codemirror_mode": {
    "name": "ipython",
    "version": 3
   },
   "file_extension": ".py",
   "mimetype": "text/x-python",
   "name": "python",
   "nbconvert_exporter": "python",
   "pygments_lexer": "ipython3",
   "version": "3.10.10"
  }
 },
 "nbformat": 4,
 "nbformat_minor": 1
}
