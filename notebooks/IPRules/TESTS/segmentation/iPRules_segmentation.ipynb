{
 "cells": [
  {
   "cell_type": "markdown",
   "metadata": {},
   "source": [
    "\n"
   ]
  },
  {
   "cell_type": "markdown",
   "metadata": {},
   "source": [
    "# Rules Extraction"
   ]
  },
  {
   "cell_type": "markdown",
   "metadata": {},
   "source": [
    "# Statics"
   ]
  },
  {
   "cell_type": "code",
   "execution_count": 1,
   "metadata": {
    "ExecuteTime": {
     "start_time": "2023-04-26T12:21:39.449910Z",
     "end_time": "2023-04-26T12:21:42.584132Z"
    }
   },
   "outputs": [],
   "source": [
    "from sklearn.datasets import load_iris\n",
    "import pandas as pd\n",
    "from sklearn.model_selection import train_test_split\n",
    "import numpy as np\n",
    "import pandas as pd\n",
    "from sklearn.datasets import load_iris\n",
    "from sklearn.utils import Bunch\n",
    "from sklearn.datasets._base import load_csv_data\n",
    "from sklearn import metrics\n",
    "from sklearn.preprocessing import OneHotEncoder\n",
    "from sklearn.compose import make_column_transformer\n",
    "import csv"
   ]
  },
  {
   "cell_type": "markdown",
   "metadata": {},
   "source": [
    "## Load Dataset"
   ]
  },
  {
   "cell_type": "code",
   "execution_count": 2,
   "metadata": {
    "ExecuteTime": {
     "start_time": "2023-04-26T12:21:42.590072Z",
     "end_time": "2023-04-26T12:21:42.625875Z"
    }
   },
   "outputs": [
    {
     "data": {
      "text/plain": "   REGION_CENTROID_COL  REGION_CENTROID_ROW  REGION_PIXEL_COUNT  \\\n0                140.0                125.0                   9   \n1                188.0                133.0                   9   \n2                105.0                139.0                   9   \n3                 34.0                137.0                   9   \n4                 39.0                111.0                   9   \n\n   SHORT_LINE_DENSITY_5  SHORT_LINE_DENSITY_2  VEDGE_MEAN  VEDGE_SD  \\\n0                   0.0                   0.0    0.277778  0.062963   \n1                   0.0                   0.0    0.333333  0.266667   \n2                   0.0                   0.0    0.277778  0.107407   \n3                   0.0                   0.0    0.500000  0.166667   \n4                   0.0                   0.0    0.722222  0.374074   \n\n   HEDGE_MEAN  HEDGE_SD  INTENSITY_MEAN  RAWRED_MEAN  RAWBLUE_MEAN  \\\n0    0.666667  0.311111        6.185185     7.333334      7.666666   \n1    0.500000  0.077778        6.666666     8.333334      7.777778   \n2    0.833333  0.522222        6.111111     7.555555      7.222222   \n3    1.111111  0.474074        5.851852     7.777778      6.444445   \n4    0.888889  0.429629        6.037037     7.000000      7.666666   \n\n   RAWGREEN_MEAN  EXRED_MEAN  EXBLUE_MEAN  EXGREEN_MEAN  VALUE_MEAN  \\\n0       3.555556    3.444444     4.444445     -7.888889    7.777778   \n1       3.888889    5.000000     3.333333     -8.333333    8.444445   \n2       3.555556    4.333334     3.333333     -7.666666    7.555555   \n3       3.333333    5.777778     1.777778     -7.555555    7.777778   \n4       3.444444    2.888889     4.888889     -7.777778    7.888889   \n\n   SATURATION_MEAN  HUE_MEAN  target_value  \n0         0.545635 -1.121818             1  \n1         0.538580 -0.924817             1  \n2         0.532628 -0.965946             1  \n3         0.573633 -0.744272             1  \n4         0.562919 -1.175773             1  ",
      "text/html": "<div>\n<style scoped>\n    .dataframe tbody tr th:only-of-type {\n        vertical-align: middle;\n    }\n\n    .dataframe tbody tr th {\n        vertical-align: top;\n    }\n\n    .dataframe thead th {\n        text-align: right;\n    }\n</style>\n<table border=\"1\" class=\"dataframe\">\n  <thead>\n    <tr style=\"text-align: right;\">\n      <th></th>\n      <th>REGION_CENTROID_COL</th>\n      <th>REGION_CENTROID_ROW</th>\n      <th>REGION_PIXEL_COUNT</th>\n      <th>SHORT_LINE_DENSITY_5</th>\n      <th>SHORT_LINE_DENSITY_2</th>\n      <th>VEDGE_MEAN</th>\n      <th>VEDGE_SD</th>\n      <th>HEDGE_MEAN</th>\n      <th>HEDGE_SD</th>\n      <th>INTENSITY_MEAN</th>\n      <th>RAWRED_MEAN</th>\n      <th>RAWBLUE_MEAN</th>\n      <th>RAWGREEN_MEAN</th>\n      <th>EXRED_MEAN</th>\n      <th>EXBLUE_MEAN</th>\n      <th>EXGREEN_MEAN</th>\n      <th>VALUE_MEAN</th>\n      <th>SATURATION_MEAN</th>\n      <th>HUE_MEAN</th>\n      <th>target_value</th>\n    </tr>\n  </thead>\n  <tbody>\n    <tr>\n      <th>0</th>\n      <td>140.0</td>\n      <td>125.0</td>\n      <td>9</td>\n      <td>0.0</td>\n      <td>0.0</td>\n      <td>0.277778</td>\n      <td>0.062963</td>\n      <td>0.666667</td>\n      <td>0.311111</td>\n      <td>6.185185</td>\n      <td>7.333334</td>\n      <td>7.666666</td>\n      <td>3.555556</td>\n      <td>3.444444</td>\n      <td>4.444445</td>\n      <td>-7.888889</td>\n      <td>7.777778</td>\n      <td>0.545635</td>\n      <td>-1.121818</td>\n      <td>1</td>\n    </tr>\n    <tr>\n      <th>1</th>\n      <td>188.0</td>\n      <td>133.0</td>\n      <td>9</td>\n      <td>0.0</td>\n      <td>0.0</td>\n      <td>0.333333</td>\n      <td>0.266667</td>\n      <td>0.500000</td>\n      <td>0.077778</td>\n      <td>6.666666</td>\n      <td>8.333334</td>\n      <td>7.777778</td>\n      <td>3.888889</td>\n      <td>5.000000</td>\n      <td>3.333333</td>\n      <td>-8.333333</td>\n      <td>8.444445</td>\n      <td>0.538580</td>\n      <td>-0.924817</td>\n      <td>1</td>\n    </tr>\n    <tr>\n      <th>2</th>\n      <td>105.0</td>\n      <td>139.0</td>\n      <td>9</td>\n      <td>0.0</td>\n      <td>0.0</td>\n      <td>0.277778</td>\n      <td>0.107407</td>\n      <td>0.833333</td>\n      <td>0.522222</td>\n      <td>6.111111</td>\n      <td>7.555555</td>\n      <td>7.222222</td>\n      <td>3.555556</td>\n      <td>4.333334</td>\n      <td>3.333333</td>\n      <td>-7.666666</td>\n      <td>7.555555</td>\n      <td>0.532628</td>\n      <td>-0.965946</td>\n      <td>1</td>\n    </tr>\n    <tr>\n      <th>3</th>\n      <td>34.0</td>\n      <td>137.0</td>\n      <td>9</td>\n      <td>0.0</td>\n      <td>0.0</td>\n      <td>0.500000</td>\n      <td>0.166667</td>\n      <td>1.111111</td>\n      <td>0.474074</td>\n      <td>5.851852</td>\n      <td>7.777778</td>\n      <td>6.444445</td>\n      <td>3.333333</td>\n      <td>5.777778</td>\n      <td>1.777778</td>\n      <td>-7.555555</td>\n      <td>7.777778</td>\n      <td>0.573633</td>\n      <td>-0.744272</td>\n      <td>1</td>\n    </tr>\n    <tr>\n      <th>4</th>\n      <td>39.0</td>\n      <td>111.0</td>\n      <td>9</td>\n      <td>0.0</td>\n      <td>0.0</td>\n      <td>0.722222</td>\n      <td>0.374074</td>\n      <td>0.888889</td>\n      <td>0.429629</td>\n      <td>6.037037</td>\n      <td>7.000000</td>\n      <td>7.666666</td>\n      <td>3.444444</td>\n      <td>2.888889</td>\n      <td>4.888889</td>\n      <td>-7.777778</td>\n      <td>7.888889</td>\n      <td>0.562919</td>\n      <td>-1.175773</td>\n      <td>1</td>\n    </tr>\n  </tbody>\n</table>\n</div>"
     },
     "execution_count": 2,
     "metadata": {},
     "output_type": "execute_result"
    }
   ],
   "source": [
    "# Load Dataset\n",
    "#iris\n",
    "#dataset = load_iris()\n",
    "target_value_name = 'class'\n",
    "\n",
    "# Mushrooms\n",
    "filename = 'segmentation'\n",
    "target_true = 'BRICKFACE'\n",
    "target_false = 'REMAINDER'\n",
    "list_of_continuous_columns = [\"REGION-CENTROID-COL\", \"REGION-CENTROID-ROW\", \"VEDGE-MEAN\", \"VEDGE-SD\", \"HEDGE-MEAN\",\n",
    "                              \"HEDGE-SD\", \"INTENSITY-MEAN\", \"RAWRED-MEAN\", \"RAWBLUE-MEAN\", \"RAWGREEN-MEAN\",\n",
    "                              \"EXRED-MEAN\", \"EXBLUE-MEAN\", \"EXGREEN-MEAN\", \"VALUE-MEAN\", \"SATURATION-MEAN\",\n",
    "                              \"HUE-MEAN\"]\n",
    "list_of_continuous_columns = [sub.replace('-', '_').replace(' ', '') for sub in list_of_continuous_columns]\n",
    "number_of_divisions = 5\n",
    "test_size = 0.1\n",
    "\n",
    "\n",
    "data_file_name = f'../../../../data/{filename}.csv'\n",
    "pandas_dataset = pd.read_csv(data_file_name)\n",
    "pandas_dataset = pandas_dataset.replace('?', 'unknown')\n",
    "pandas_dataset = pandas_dataset.dropna()\n",
    "pandas_dataset.columns = [sub.replace('%', '') for sub in pandas_dataset.columns]\n",
    "target_value_name = pandas_dataset.columns[-1]\n",
    "\n",
    "\n",
    "pandas_dataset[target_value_name] = pandas_dataset[target_value_name].map({target_false: 0, target_true: 1})\n",
    "pandas_dataset.columns = [sub.replace('-', '_').replace(' ', '').replace('class', 'target_value') for sub in pandas_dataset.columns]\n",
    "target_value_name = pandas_dataset.columns[-1]\n",
    "feature_names = pandas_dataset.columns[0:-1]\n",
    "\n",
    "\n",
    "#dataset.feature_names = [sub.replace(' ', '').replace('(cm)', '') for sub in dataset.feature_names]\n",
    "\n",
    "pandas_dataset.head()"
   ]
  },
  {
   "cell_type": "markdown",
   "metadata": {},
   "source": [
    "# One Hot Encoding"
   ]
  },
  {
   "cell_type": "code",
   "execution_count": 3,
   "metadata": {
    "ExecuteTime": {
     "start_time": "2023-04-26T12:21:42.629487Z",
     "end_time": "2023-04-26T12:21:44.147033Z"
    }
   },
   "outputs": [
    {
     "data": {
      "text/plain": "   REGION_CENTROID_COL_High  REGION_CENTROID_COL_Low  \\\n0                       0.0                      0.0   \n1                       1.0                      0.0   \n2                       0.0                      0.0   \n3                       0.0                      0.0   \n4                       0.0                      0.0   \n\n   REGION_CENTROID_COL_Medium  REGION_CENTROID_COL_VeryHigh  \\\n0                         1.0                           0.0   \n1                         0.0                           0.0   \n2                         1.0                           0.0   \n3                         0.0                           0.0   \n4                         0.0                           0.0   \n\n   REGION_CENTROID_COL_VeryLow  REGION_CENTROID_ROW_High  \\\n0                          0.0                       0.0   \n1                          0.0                       0.0   \n2                          0.0                       0.0   \n3                          1.0                       0.0   \n4                          1.0                       0.0   \n\n   REGION_CENTROID_ROW_Low  REGION_CENTROID_ROW_Medium  \\\n0                      0.0                         1.0   \n1                      0.0                         1.0   \n2                      0.0                         1.0   \n3                      0.0                         1.0   \n4                      0.0                         1.0   \n\n   REGION_CENTROID_ROW_VeryHigh  REGION_CENTROID_ROW_VeryLow  ...  \\\n0                           0.0                          0.0  ...   \n1                           0.0                          0.0  ...   \n2                           0.0                          0.0  ...   \n3                           0.0                          0.0  ...   \n4                           0.0                          0.0  ...   \n\n   SATURATION_MEAN_Low  SATURATION_MEAN_Medium  SATURATION_MEAN_VeryHigh  \\\n0                  0.0                     1.0                       0.0   \n1                  0.0                     1.0                       0.0   \n2                  0.0                     1.0                       0.0   \n3                  0.0                     1.0                       0.0   \n4                  0.0                     1.0                       0.0   \n\n   SATURATION_MEAN_VeryLow  HUE_MEAN_High  HUE_MEAN_Low  HUE_MEAN_Medium  \\\n0                      0.0            0.0           1.0              0.0   \n1                      0.0            0.0           1.0              0.0   \n2                      0.0            0.0           1.0              0.0   \n3                      0.0            0.0           1.0              0.0   \n4                      0.0            0.0           1.0              0.0   \n\n   HUE_MEAN_VeryHigh  HUE_MEAN_VeryLow  target_value  \n0                0.0               0.0             1  \n1                0.0               0.0             1  \n2                0.0               0.0             1  \n3                0.0               0.0             1  \n4                0.0               0.0             1  \n\n[5 rows x 82 columns]",
      "text/html": "<div>\n<style scoped>\n    .dataframe tbody tr th:only-of-type {\n        vertical-align: middle;\n    }\n\n    .dataframe tbody tr th {\n        vertical-align: top;\n    }\n\n    .dataframe thead th {\n        text-align: right;\n    }\n</style>\n<table border=\"1\" class=\"dataframe\">\n  <thead>\n    <tr style=\"text-align: right;\">\n      <th></th>\n      <th>REGION_CENTROID_COL_High</th>\n      <th>REGION_CENTROID_COL_Low</th>\n      <th>REGION_CENTROID_COL_Medium</th>\n      <th>REGION_CENTROID_COL_VeryHigh</th>\n      <th>REGION_CENTROID_COL_VeryLow</th>\n      <th>REGION_CENTROID_ROW_High</th>\n      <th>REGION_CENTROID_ROW_Low</th>\n      <th>REGION_CENTROID_ROW_Medium</th>\n      <th>REGION_CENTROID_ROW_VeryHigh</th>\n      <th>REGION_CENTROID_ROW_VeryLow</th>\n      <th>...</th>\n      <th>SATURATION_MEAN_Low</th>\n      <th>SATURATION_MEAN_Medium</th>\n      <th>SATURATION_MEAN_VeryHigh</th>\n      <th>SATURATION_MEAN_VeryLow</th>\n      <th>HUE_MEAN_High</th>\n      <th>HUE_MEAN_Low</th>\n      <th>HUE_MEAN_Medium</th>\n      <th>HUE_MEAN_VeryHigh</th>\n      <th>HUE_MEAN_VeryLow</th>\n      <th>target_value</th>\n    </tr>\n  </thead>\n  <tbody>\n    <tr>\n      <th>0</th>\n      <td>0.0</td>\n      <td>0.0</td>\n      <td>1.0</td>\n      <td>0.0</td>\n      <td>0.0</td>\n      <td>0.0</td>\n      <td>0.0</td>\n      <td>1.0</td>\n      <td>0.0</td>\n      <td>0.0</td>\n      <td>...</td>\n      <td>0.0</td>\n      <td>1.0</td>\n      <td>0.0</td>\n      <td>0.0</td>\n      <td>0.0</td>\n      <td>1.0</td>\n      <td>0.0</td>\n      <td>0.0</td>\n      <td>0.0</td>\n      <td>1</td>\n    </tr>\n    <tr>\n      <th>1</th>\n      <td>1.0</td>\n      <td>0.0</td>\n      <td>0.0</td>\n      <td>0.0</td>\n      <td>0.0</td>\n      <td>0.0</td>\n      <td>0.0</td>\n      <td>1.0</td>\n      <td>0.0</td>\n      <td>0.0</td>\n      <td>...</td>\n      <td>0.0</td>\n      <td>1.0</td>\n      <td>0.0</td>\n      <td>0.0</td>\n      <td>0.0</td>\n      <td>1.0</td>\n      <td>0.0</td>\n      <td>0.0</td>\n      <td>0.0</td>\n      <td>1</td>\n    </tr>\n    <tr>\n      <th>2</th>\n      <td>0.0</td>\n      <td>0.0</td>\n      <td>1.0</td>\n      <td>0.0</td>\n      <td>0.0</td>\n      <td>0.0</td>\n      <td>0.0</td>\n      <td>1.0</td>\n      <td>0.0</td>\n      <td>0.0</td>\n      <td>...</td>\n      <td>0.0</td>\n      <td>1.0</td>\n      <td>0.0</td>\n      <td>0.0</td>\n      <td>0.0</td>\n      <td>1.0</td>\n      <td>0.0</td>\n      <td>0.0</td>\n      <td>0.0</td>\n      <td>1</td>\n    </tr>\n    <tr>\n      <th>3</th>\n      <td>0.0</td>\n      <td>0.0</td>\n      <td>0.0</td>\n      <td>0.0</td>\n      <td>1.0</td>\n      <td>0.0</td>\n      <td>0.0</td>\n      <td>1.0</td>\n      <td>0.0</td>\n      <td>0.0</td>\n      <td>...</td>\n      <td>0.0</td>\n      <td>1.0</td>\n      <td>0.0</td>\n      <td>0.0</td>\n      <td>0.0</td>\n      <td>1.0</td>\n      <td>0.0</td>\n      <td>0.0</td>\n      <td>0.0</td>\n      <td>1</td>\n    </tr>\n    <tr>\n      <th>4</th>\n      <td>0.0</td>\n      <td>0.0</td>\n      <td>0.0</td>\n      <td>0.0</td>\n      <td>1.0</td>\n      <td>0.0</td>\n      <td>0.0</td>\n      <td>1.0</td>\n      <td>0.0</td>\n      <td>0.0</td>\n      <td>...</td>\n      <td>0.0</td>\n      <td>1.0</td>\n      <td>0.0</td>\n      <td>0.0</td>\n      <td>0.0</td>\n      <td>1.0</td>\n      <td>0.0</td>\n      <td>0.0</td>\n      <td>0.0</td>\n      <td>1</td>\n    </tr>\n  </tbody>\n</table>\n<p>5 rows × 82 columns</p>\n</div>"
     },
     "execution_count": 3,
     "metadata": {},
     "output_type": "execute_result"
    }
   ],
   "source": [
    "from notebooks.IPRules.test_utils import continuous_to_discrete_column, one_hot_encode_dataframe\n",
    "\n",
    "pandas_dataset = continuous_to_discrete_column(pandas_dataset,list_of_continuous_columns, number_of_divisions)\n",
    "encoded_pandas_dataset, encoded_feature_names = one_hot_encode_dataframe(pandas_dataset, feature_names)\n",
    "encoded_pandas_dataset.head()"
   ]
  },
  {
   "cell_type": "code",
   "execution_count": 4,
   "metadata": {
    "ExecuteTime": {
     "start_time": "2023-04-26T12:21:44.149545Z",
     "end_time": "2023-04-26T12:21:44.154245Z"
    }
   },
   "outputs": [],
   "source": [
    "X = encoded_pandas_dataset[encoded_feature_names]\n",
    "y = encoded_pandas_dataset[target_value_name]\n",
    "\n",
    "encoded_dataset = Bunch(\n",
    "        data=X.to_numpy(),\n",
    "        target=y.to_numpy(),\n",
    "        target_names=target_value_name,\n",
    "        feature_names=X.columns\n",
    ")\n",
    "\n",
    "#X_display = pandas_dataset.drop([target_value_name], axis=1)\n",
    "#y_display = pandas_dataset[target_value_name]\n",
    "\n",
    "#encoded_pandas_dataset = pd.DataFrame(data= np.c_[dataset['data'], dataset['target']], columns= list(dataset['feature_names']) + ['target'])\n",
    "#encoded_pandas_dataset.head()\n"
   ]
  },
  {
   "cell_type": "markdown",
   "metadata": {},
   "source": [
    "# Divide dataset"
   ]
  },
  {
   "cell_type": "code",
   "execution_count": 5,
   "metadata": {
    "ExecuteTime": {
     "start_time": "2023-04-26T12:21:44.159026Z",
     "end_time": "2023-04-26T12:21:44.186079Z"
    }
   },
   "outputs": [
    {
     "name": "stdout",
     "output_type": "stream",
     "text": [
      "\n",
      "Sizes (without target):\n",
      "Original size (210, 81)\n",
      "Train size (189, 81)\n",
      "Test size (21, 81)\n"
     ]
    }
   ],
   "source": [
    "#Define dataset\n",
    "X_train, X_test, y_train, y_test = train_test_split(encoded_dataset.data, encoded_dataset.target, test_size=test_size, random_state=1)\n",
    "encoded_train_pandas_dataset = pd.DataFrame(data= np.c_[X_train, y_train], columns= list(encoded_dataset['feature_names']) + [target_value_name])\n",
    "encoded_test_pandas_dataset = pd.DataFrame(data= np.c_[X_test, y_test], columns= list(encoded_dataset['feature_names']) + [target_value_name])\n",
    "print()\n",
    "print('Sizes (without target):')\n",
    "print(f'Original size {encoded_dataset.data.shape}')\n",
    "print(f'Train size {X_train.shape}')\n",
    "print(f'Test size {X_test.shape}')"
   ]
  },
  {
   "cell_type": "markdown",
   "metadata": {},
   "source": [
    "## Define Random Forest"
   ]
  },
  {
   "cell_type": "code",
   "execution_count": 6,
   "metadata": {
    "ExecuteTime": {
     "start_time": "2023-04-26T12:21:44.180892Z",
     "end_time": "2023-04-26T12:21:44.400049Z"
    }
   },
   "outputs": [
    {
     "data": {
      "text/plain": "RandomForestClassifier()",
      "text/html": "<style>#sk-container-id-1 {color: black;background-color: white;}#sk-container-id-1 pre{padding: 0;}#sk-container-id-1 div.sk-toggleable {background-color: white;}#sk-container-id-1 label.sk-toggleable__label {cursor: pointer;display: block;width: 100%;margin-bottom: 0;padding: 0.3em;box-sizing: border-box;text-align: center;}#sk-container-id-1 label.sk-toggleable__label-arrow:before {content: \"▸\";float: left;margin-right: 0.25em;color: #696969;}#sk-container-id-1 label.sk-toggleable__label-arrow:hover:before {color: black;}#sk-container-id-1 div.sk-estimator:hover label.sk-toggleable__label-arrow:before {color: black;}#sk-container-id-1 div.sk-toggleable__content {max-height: 0;max-width: 0;overflow: hidden;text-align: left;background-color: #f0f8ff;}#sk-container-id-1 div.sk-toggleable__content pre {margin: 0.2em;color: black;border-radius: 0.25em;background-color: #f0f8ff;}#sk-container-id-1 input.sk-toggleable__control:checked~div.sk-toggleable__content {max-height: 200px;max-width: 100%;overflow: auto;}#sk-container-id-1 input.sk-toggleable__control:checked~label.sk-toggleable__label-arrow:before {content: \"▾\";}#sk-container-id-1 div.sk-estimator input.sk-toggleable__control:checked~label.sk-toggleable__label {background-color: #d4ebff;}#sk-container-id-1 div.sk-label input.sk-toggleable__control:checked~label.sk-toggleable__label {background-color: #d4ebff;}#sk-container-id-1 input.sk-hidden--visually {border: 0;clip: rect(1px 1px 1px 1px);clip: rect(1px, 1px, 1px, 1px);height: 1px;margin: -1px;overflow: hidden;padding: 0;position: absolute;width: 1px;}#sk-container-id-1 div.sk-estimator {font-family: monospace;background-color: #f0f8ff;border: 1px dotted black;border-radius: 0.25em;box-sizing: border-box;margin-bottom: 0.5em;}#sk-container-id-1 div.sk-estimator:hover {background-color: #d4ebff;}#sk-container-id-1 div.sk-parallel-item::after {content: \"\";width: 100%;border-bottom: 1px solid gray;flex-grow: 1;}#sk-container-id-1 div.sk-label:hover label.sk-toggleable__label {background-color: #d4ebff;}#sk-container-id-1 div.sk-serial::before {content: \"\";position: absolute;border-left: 1px solid gray;box-sizing: border-box;top: 0;bottom: 0;left: 50%;z-index: 0;}#sk-container-id-1 div.sk-serial {display: flex;flex-direction: column;align-items: center;background-color: white;padding-right: 0.2em;padding-left: 0.2em;position: relative;}#sk-container-id-1 div.sk-item {position: relative;z-index: 1;}#sk-container-id-1 div.sk-parallel {display: flex;align-items: stretch;justify-content: center;background-color: white;position: relative;}#sk-container-id-1 div.sk-item::before, #sk-container-id-1 div.sk-parallel-item::before {content: \"\";position: absolute;border-left: 1px solid gray;box-sizing: border-box;top: 0;bottom: 0;left: 50%;z-index: -1;}#sk-container-id-1 div.sk-parallel-item {display: flex;flex-direction: column;z-index: 1;position: relative;background-color: white;}#sk-container-id-1 div.sk-parallel-item:first-child::after {align-self: flex-end;width: 50%;}#sk-container-id-1 div.sk-parallel-item:last-child::after {align-self: flex-start;width: 50%;}#sk-container-id-1 div.sk-parallel-item:only-child::after {width: 0;}#sk-container-id-1 div.sk-dashed-wrapped {border: 1px dashed gray;margin: 0 0.4em 0.5em 0.4em;box-sizing: border-box;padding-bottom: 0.4em;background-color: white;}#sk-container-id-1 div.sk-label label {font-family: monospace;font-weight: bold;display: inline-block;line-height: 1.2em;}#sk-container-id-1 div.sk-label-container {text-align: center;}#sk-container-id-1 div.sk-container {/* jupyter's `normalize.less` sets `[hidden] { display: none; }` but bootstrap.min.css set `[hidden] { display: none !important; }` so we also need the `!important` here to be able to override the default hidden behavior on the sphinx rendered scikit-learn.org. See: https://github.com/scikit-learn/scikit-learn/issues/21755 */display: inline-block !important;position: relative;}#sk-container-id-1 div.sk-text-repr-fallback {display: none;}</style><div id=\"sk-container-id-1\" class=\"sk-top-container\"><div class=\"sk-text-repr-fallback\"><pre>RandomForestClassifier()</pre><b>In a Jupyter environment, please rerun this cell to show the HTML representation or trust the notebook. <br />On GitHub, the HTML representation is unable to render, please try loading this page with nbviewer.org.</b></div><div class=\"sk-container\" hidden><div class=\"sk-item\"><div class=\"sk-estimator sk-toggleable\"><input class=\"sk-toggleable__control sk-hidden--visually\" id=\"sk-estimator-id-1\" type=\"checkbox\" checked><label for=\"sk-estimator-id-1\" class=\"sk-toggleable__label sk-toggleable__label-arrow\">RandomForestClassifier</label><div class=\"sk-toggleable__content\"><pre>RandomForestClassifier()</pre></div></div></div></div></div>"
     },
     "execution_count": 6,
     "metadata": {},
     "output_type": "execute_result"
    }
   ],
   "source": [
    "from sklearn.ensemble import RandomForestClassifier\n",
    "from sklearn.model_selection import GridSearchCV\n",
    "from sklearn.metrics import precision_score, make_scorer, recall_score, accuracy_score\n",
    "\n",
    "# Define scorer\n",
    "ensemble = RandomForestClassifier(criterion=\"gini\")\n",
    "ensemble.fit(X_train, y_train)"
   ]
  },
  {
   "cell_type": "markdown",
   "metadata": {},
   "source": [
    "## iPRules"
   ]
  },
  {
   "cell_type": "code",
   "execution_count": 7,
   "outputs": [
    {
     "name": "stdout",
     "output_type": "stream",
     "text": [
      "->Extract feature importance list\n"
     ]
    },
    {
     "data": {
      "text/plain": "<Figure size 640x480 with 1 Axes>",
      "image/png": "[encoded data removed]"
     },
     "metadata": {},
     "output_type": "display_data"
    },
    {
     "name": "stdout",
     "output_type": "stream",
     "text": [
      "\t Original features 81\n",
      "\t Selected features 42\n",
      "\t Percentage of selected rules: 51.851851851851855 %\n",
      "->Generate new tree based on list\n",
      "Elapsed time to compute the binary_tree_generator: 26.374 seconds\n",
      "->Generate obtained patterns tree\n",
      "Elapsed time to compute the obtain_pattern_list_of_valid_nodes_with_pvalue: 0.098 seconds\n",
      "->Categorize patterns\n",
      "Elapsed time to compute the categorize_patterns: 0.087 seconds\n"
     ]
    },
    {
     "data": {
      "text/plain": "<iPRules.iPRules.iPRules at 0x7f7c755af160>"
     },
     "execution_count": 7,
     "metadata": {},
     "output_type": "execute_result"
    }
   ],
   "source": [
    "from iPRules.iPRules import iPRules\n",
    "\n",
    "# initialize\n",
    "rules = iPRules(\n",
    "                feature_names=encoded_dataset.feature_names,\n",
    "                target_value_name = encoded_dataset.target_names,\n",
    "                display_features = True,\n",
    "                display_logs = True,\n",
    "                chi_square_percent_point_function = 0.95,\n",
    "                scale_feature_coefficient = 0.01,\n",
    "                min_accuracy_coefficient = 0.9,\n",
    "                min_number_class_per_node = 3\n",
    "            )\n",
    "# Fit model\n",
    "rules.fit(encoded_train_pandas_dataset, ensemble.feature_importances_)"
   ],
   "metadata": {
    "collapsed": false,
    "ExecuteTime": {
     "start_time": "2023-04-26T12:21:44.400204Z",
     "end_time": "2023-04-26T12:22:11.201687Z"
    }
   }
  },
  {
   "cell_type": "markdown",
   "source": [
    "# Print Model"
   ],
   "metadata": {
    "collapsed": false
   }
  },
  {
   "cell_type": "code",
   "execution_count": 8,
   "outputs": [
    {
     "name": "stdout",
     "output_type": "stream",
     "text": [
      "> ++++++++++++++++++++++++++++\n",
      "> iPRules --  Number of Rules 8:\n",
      "> ++++++++++++++++++++++++++++\n",
      "> ------------------------------\n",
      " ** Target value: 1 ** Target: 16 ** Total: 16 ** Accuracy: 1.0 ** Complexity: 1 ** Chi2 critical_value: 3.841458820694124 ** P_value: 1.1792331556306833e-23\n",
      "\t Query: HUE_MEAN_Low == 1\n",
      "> ------------------------------\n",
      "> ------------------------------\n",
      " ** Target value: 0 ** Target: 58 ** Total: 58 ** Accuracy: 1.0 ** Complexity: 4 ** Chi2 critical_value: 3.841458820694124 ** P_value: 0.022970786500092946\n",
      "\t Query: HUE_MEAN_Low == 0.0  &  EXRED_MEAN_VeryHigh == 0.0  &  EXRED_MEAN_High == 1.0  &  SATURATION_MEAN_Medium == 0\n",
      "> ------------------------------\n",
      "> ------------------------------\n",
      " ** Target value: 0 ** Target: 13 ** Total: 13 ** Accuracy: 1.0 ** Complexity: 6 ** Chi2 critical_value: 3.841458820694124 ** P_value: 0.0005800891819825593\n",
      "\t Query: HUE_MEAN_Low == 0.0  &  EXRED_MEAN_VeryHigh == 1.0  &  EXRED_MEAN_High == 0.0  &  SATURATION_MEAN_Medium == 0.0  &  HUE_MEAN_VeryLow == 1.0  &  EXGREEN_MEAN_Low == 0\n",
      "> ------------------------------\n",
      "> ------------------------------\n",
      " ** Target value: 0 ** Target: 4 ** Total: 4 ** Accuracy: 1.0 ** Complexity: 5 ** Chi2 critical_value: 3.841458820694124 ** P_value: 0.041687104162325406\n",
      "\t Query: HUE_MEAN_Low == 0.0  &  EXRED_MEAN_VeryHigh == 1.0  &  EXRED_MEAN_High == 0.0  &  SATURATION_MEAN_Medium == 1.0  &  HUE_MEAN_VeryLow == 0\n",
      "> ------------------------------\n",
      "> ------------------------------\n",
      " ** Target value: 1 ** Target: 6 ** Total: 6 ** Accuracy: 1.0 ** Complexity: 6 ** Chi2 critical_value: 3.841458820694124 ** P_value: 0.0034153538662889007\n",
      "\t Query: HUE_MEAN_Low == 0.0  &  EXRED_MEAN_VeryHigh == 1.0  &  EXRED_MEAN_High == 0.0  &  SATURATION_MEAN_Medium == 1.0  &  HUE_MEAN_VeryLow == 1.0  &  EXGREEN_MEAN_Low == 1\n",
      "> ------------------------------\n",
      "> ------------------------------\n",
      " ** Target value: 0 ** Target: 131 ** Total: 133 ** Accuracy: 0.9849624060150376 ** Complexity: 2 ** Chi2 critical_value: 3.841458820694124 ** P_value: 2.923654300846693e-07\n",
      "\t Query: HUE_MEAN_Low == 0.0  &  EXRED_MEAN_VeryHigh == 0\n",
      "> ------------------------------\n",
      "> ------------------------------\n",
      " ** Target value: 0 ** Target: 161 ** Total: 173 ** Accuracy: 0.930635838150289 ** Complexity: 1 ** Chi2 critical_value: 3.841458820694124 ** P_value: 1.1792331556306833e-23\n",
      "\t Query: HUE_MEAN_Low == 0\n",
      "> ------------------------------\n",
      "> ------------------------------\n",
      " ** Target value: 0 ** Target: 21 ** Total: 23 ** Accuracy: 0.9130434782608695 ** Complexity: 4 ** Chi2 critical_value: 3.841458820694124 ** P_value: 0.022970786500092946\n",
      "\t Query: HUE_MEAN_Low == 0.0  &  EXRED_MEAN_VeryHigh == 0.0  &  EXRED_MEAN_High == 1.0  &  SATURATION_MEAN_Medium == 1\n",
      "> ------------------------------\n",
      "\n"
     ]
    }
   ],
   "source": [
    "# DISPLAY DESCRIPTION\n",
    "#print(rules.description())\n",
    "# DISPLAY ALL RULES\n",
    "print(rules)"
   ],
   "metadata": {
    "collapsed": false,
    "ExecuteTime": {
     "start_time": "2023-04-26T12:22:11.201759Z",
     "end_time": "2023-04-26T12:22:11.205685Z"
    }
   }
  },
  {
   "cell_type": "markdown",
   "metadata": {},
   "source": [
    "# Predict"
   ]
  },
  {
   "cell_type": "code",
   "execution_count": 9,
   "outputs": [],
   "source": [
    "# ENSEMBLE\n",
    "y_pred_test_ensemble = ensemble.predict(X_test)\n",
    "\n",
    "# RULES\n",
    "y_pred_test_rules = rules.predict(X_test)"
   ],
   "metadata": {
    "collapsed": false,
    "ExecuteTime": {
     "start_time": "2023-04-26T12:22:11.206195Z",
     "end_time": "2023-04-26T12:22:11.249964Z"
    }
   }
  },
  {
   "cell_type": "code",
   "execution_count": 10,
   "outputs": [
    {
     "name": "stdout",
     "output_type": "stream",
     "text": [
      "DATASET TEST: 21\n",
      "DATASET TEST categorizable: 21\n",
      "Cobertura: 100.00%\n",
      "RF accuracy: 100.00%\n",
      "RF F1-score: 100.00%\n",
      "Rules Accuracy: 100.00%\n",
      "Rules F1-score: 100.00%\n",
      "Rules roc_auc_score: 100.00%\n"
     ]
    }
   ],
   "source": [
    "# CATEGORIZABLES\n",
    "np_array_rules = np.array(y_pred_test_rules)\n",
    "#not_filter_indices = np.where(np.logical_and(np_array_rules != 0, np_array_rules!=1))[0]\n",
    "filter_indices = np.where(np_array_rules != None)[0]\n",
    "\n",
    "\n",
    "np_filterred_y_test = np.array(y_test)[filter_indices]\n",
    "np_filterred_y_pred_test_ensemble = np.array(y_pred_test_ensemble)[filter_indices]\n",
    "np_filterred_y_pred_test_rules = np.array(y_pred_test_rules)[filter_indices]\n",
    "# CHANGE FORMAT IN ORDER TO NOT HAVE PROBLEMS\n",
    "np_filterred_y_pred_test_rules = np_filterred_y_pred_test_rules.astype('int64')\n",
    "\n",
    "\n",
    "print(f'DATASET TEST: {len(y_test)}')\n",
    "print(f'DATASET TEST categorizable: {len(np_filterred_y_test)}')\n",
    "print('Cobertura:',str(\"{:.2f}\".format(100*(len(np_filterred_y_pred_test_rules)/len(y_test))))+'%')\n",
    "\n",
    "ensemble_accuracy = metrics.accuracy_score(np_filterred_y_test, np_filterred_y_pred_test_ensemble)\n",
    "print('RF accuracy:',str(\"{:.2f}\".format(100*ensemble_accuracy))+'%')\n",
    "ensemble_accuracy = metrics.f1_score(np_filterred_y_test, np_filterred_y_pred_test_ensemble)\n",
    "print('RF F1-score:',str(\"{:.2f}\".format(100*ensemble_accuracy))+'%')\n",
    "rules_accuracy = metrics.accuracy_score(np_filterred_y_test, np_filterred_y_pred_test_rules)\n",
    "print('Rules Accuracy:',str(\"{:.2f}\".format(100*rules_accuracy))+'%')\n",
    "rules_accuracy = metrics.f1_score(np_filterred_y_test, np_filterred_y_pred_test_rules)\n",
    "print('Rules F1-score:',str(\"{:.2f}\".format(100*rules_accuracy))+'%')\n",
    "rules_accuracy = metrics.roc_auc_score(np_filterred_y_test, np_filterred_y_pred_test_rules)\n",
    "print('Rules roc_auc_score:',str(\"{:.2f}\".format(100*rules_accuracy))+'%')\n"
   ],
   "metadata": {
    "collapsed": false,
    "ExecuteTime": {
     "start_time": "2023-04-26T12:22:11.234137Z",
     "end_time": "2023-04-26T12:22:11.268022Z"
    }
   }
  },
  {
   "cell_type": "markdown",
   "source": [
    "# CONFUSION MATRIX"
   ],
   "metadata": {
    "collapsed": false
   }
  },
  {
   "cell_type": "code",
   "execution_count": 11,
   "outputs": [
    {
     "name": "stdout",
     "output_type": "stream",
     "text": [
      "[[19  0]\n",
      " [ 0  2]]\n"
     ]
    },
    {
     "ename": "TypeError",
     "evalue": "'numpy.ndarray' object is not callable",
     "output_type": "error",
     "traceback": [
      "\u001B[0;31m---------------------------------------------------------------------------\u001B[0m",
      "\u001B[0;31mTypeError\u001B[0m                                 Traceback (most recent call last)",
      "Cell \u001B[0;32mIn[11], line 3\u001B[0m\n\u001B[1;32m      1\u001B[0m confusion_matrix \u001B[38;5;241m=\u001B[39m metrics\u001B[38;5;241m.\u001B[39mconfusion_matrix(np_filterred_y_test, np_filterred_y_pred_test_rules)\n\u001B[1;32m      2\u001B[0m \u001B[38;5;28mprint\u001B[39m(confusion_matrix)\n\u001B[0;32m----> 3\u001B[0m \u001B[43mconfusion_matrix\u001B[49m\u001B[43m(\u001B[49m\u001B[43mnp_filterred_y_test\u001B[49m\u001B[43m,\u001B[49m\u001B[43m \u001B[49m\u001B[43mnp_filterred_y_pred_test_rules\u001B[49m\u001B[43m,\u001B[49m\u001B[43m \u001B[49m\u001B[43mlabels\u001B[49m\u001B[38;5;241;43m=\u001B[39;49m\u001B[43mencoded_dataset\u001B[49m\u001B[38;5;241;43m.\u001B[39;49m\u001B[43mfeature_names\u001B[49m\u001B[43m)\u001B[49m\n",
      "\u001B[0;31mTypeError\u001B[0m: 'numpy.ndarray' object is not callable"
     ]
    }
   ],
   "source": [
    "\n",
    "confusion_matrix = metrics.confusion_matrix(np_filterred_y_test, np_filterred_y_pred_test_rules)\n",
    "print(confusion_matrix)\n",
    "confusion_matrix(np_filterred_y_test, np_filterred_y_pred_test_rules, labels=encoded_dataset.feature_names)"
   ],
   "metadata": {
    "collapsed": false
   }
  },
  {
   "cell_type": "markdown",
   "metadata": {},
   "source": [
    "# SHAP explainer"
   ]
  },
  {
   "cell_type": "code",
   "execution_count": null,
   "metadata": {},
   "outputs": [],
   "source": [
    "import shap\n",
    "\n",
    "# Create Tree Explainer object that can calculate shap values\n",
    "explainer = shap.TreeExplainer(ensemble)\n",
    "\n",
    "# Evaluate SHAP values\n",
    "shap_values = explainer.shap_values(X_test)\n",
    "shap.summary_plot(shap_values, X_train, feature_names=encoded_dataset.feature_names)"
   ]
  }
 ],
 "metadata": {
  "colab": {
   "provenance": []
  },
  "kernelspec": {
   "display_name": "Python 3 (ipykernel)",
   "language": "python",
   "name": "python3"
  },
  "language_info": {
   "codemirror_mode": {
    "name": "ipython",
    "version": 3
   },
   "file_extension": ".py",
   "mimetype": "text/x-python",
   "name": "python",
   "nbconvert_exporter": "python",
   "pygments_lexer": "ipython3",
   "version": "3.10.10"
  }
 },
 "nbformat": 4,
 "nbformat_minor": 1
}
