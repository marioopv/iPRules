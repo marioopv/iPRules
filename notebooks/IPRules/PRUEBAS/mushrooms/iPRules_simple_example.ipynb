{
 "cells": [
  {
   "cell_type": "markdown",
   "metadata": {},
   "source": [
    "\n"
   ]
  },
  {
   "cell_type": "markdown",
   "metadata": {},
   "source": [
    "# Rules Extraction"
   ]
  },
  {
   "cell_type": "markdown",
   "metadata": {},
   "source": [
    "# Statics"
   ]
  },
  {
   "cell_type": "code",
   "execution_count": 8,
   "metadata": {
    "ExecuteTime": {
     "start_time": "2023-04-21T12:13:56.900420Z",
     "end_time": "2023-04-21T12:13:56.948636Z"
    }
   },
   "outputs": [],
   "source": [
    "from sklearn.datasets import load_iris\n",
    "import pandas as pd\n",
    "from sklearn.model_selection import train_test_split\n",
    "import numpy as np\n",
    "import pandas as pd\n",
    "from sklearn.datasets import load_iris\n",
    "from sklearn.utils import Bunch\n",
    "from sklearn.datasets._base import load_csv_data\n",
    "from sklearn import metrics\n",
    "from sklearn.preprocessing import OneHotEncoder\n",
    "from sklearn.compose import make_column_transformer\n",
    "import csv"
   ]
  },
  {
   "cell_type": "markdown",
   "metadata": {},
   "source": [
    "## Load Dataset"
   ]
  },
  {
   "cell_type": "code",
   "execution_count": 9,
   "metadata": {
    "ExecuteTime": {
     "start_time": "2023-04-21T12:13:56.908112Z",
     "end_time": "2023-04-21T12:13:57.013061Z"
    }
   },
   "outputs": [
    {
     "data": {
      "text/plain": "  cap_shape cap_surface cap_color bruises3F odor gill_attachment gill_spacing  \\\n0         x           s         n         t    p               f            c   \n1         x           s         y         t    a               f            c   \n2         b           s         w         t    l               f            c   \n3         x           y         w         t    p               f            c   \n4         x           s         g         f    n               f            w   \n\n  gill_size gill_color stalk_shape  ... stalk_color_above_ring  \\\n0         n          k           e  ...                      w   \n1         b          k           e  ...                      w   \n2         b          n           e  ...                      w   \n3         n          n           e  ...                      w   \n4         b          k           t  ...                      w   \n\n  stalk_color_below_ring veil_type veil_color ring_number ring_type  \\\n0                      w         p          w           o         p   \n1                      w         p          w           o         p   \n2                      w         p          w           o         p   \n3                      w         p          w           o         p   \n4                      w         p          w           o         e   \n\n  spore_print_color population habitat target_value  \n0                 k          s       u            1  \n1                 n          n       g            0  \n2                 n          n       m            0  \n3                 k          s       u            1  \n4                 n          a       g            0  \n\n[5 rows x 23 columns]",
      "text/html": "<div>\n<style scoped>\n    .dataframe tbody tr th:only-of-type {\n        vertical-align: middle;\n    }\n\n    .dataframe tbody tr th {\n        vertical-align: top;\n    }\n\n    .dataframe thead th {\n        text-align: right;\n    }\n</style>\n<table border=\"1\" class=\"dataframe\">\n  <thead>\n    <tr style=\"text-align: right;\">\n      <th></th>\n      <th>cap_shape</th>\n      <th>cap_surface</th>\n      <th>cap_color</th>\n      <th>bruises3F</th>\n      <th>odor</th>\n      <th>gill_attachment</th>\n      <th>gill_spacing</th>\n      <th>gill_size</th>\n      <th>gill_color</th>\n      <th>stalk_shape</th>\n      <th>...</th>\n      <th>stalk_color_above_ring</th>\n      <th>stalk_color_below_ring</th>\n      <th>veil_type</th>\n      <th>veil_color</th>\n      <th>ring_number</th>\n      <th>ring_type</th>\n      <th>spore_print_color</th>\n      <th>population</th>\n      <th>habitat</th>\n      <th>target_value</th>\n    </tr>\n  </thead>\n  <tbody>\n    <tr>\n      <th>0</th>\n      <td>x</td>\n      <td>s</td>\n      <td>n</td>\n      <td>t</td>\n      <td>p</td>\n      <td>f</td>\n      <td>c</td>\n      <td>n</td>\n      <td>k</td>\n      <td>e</td>\n      <td>...</td>\n      <td>w</td>\n      <td>w</td>\n      <td>p</td>\n      <td>w</td>\n      <td>o</td>\n      <td>p</td>\n      <td>k</td>\n      <td>s</td>\n      <td>u</td>\n      <td>1</td>\n    </tr>\n    <tr>\n      <th>1</th>\n      <td>x</td>\n      <td>s</td>\n      <td>y</td>\n      <td>t</td>\n      <td>a</td>\n      <td>f</td>\n      <td>c</td>\n      <td>b</td>\n      <td>k</td>\n      <td>e</td>\n      <td>...</td>\n      <td>w</td>\n      <td>w</td>\n      <td>p</td>\n      <td>w</td>\n      <td>o</td>\n      <td>p</td>\n      <td>n</td>\n      <td>n</td>\n      <td>g</td>\n      <td>0</td>\n    </tr>\n    <tr>\n      <th>2</th>\n      <td>b</td>\n      <td>s</td>\n      <td>w</td>\n      <td>t</td>\n      <td>l</td>\n      <td>f</td>\n      <td>c</td>\n      <td>b</td>\n      <td>n</td>\n      <td>e</td>\n      <td>...</td>\n      <td>w</td>\n      <td>w</td>\n      <td>p</td>\n      <td>w</td>\n      <td>o</td>\n      <td>p</td>\n      <td>n</td>\n      <td>n</td>\n      <td>m</td>\n      <td>0</td>\n    </tr>\n    <tr>\n      <th>3</th>\n      <td>x</td>\n      <td>y</td>\n      <td>w</td>\n      <td>t</td>\n      <td>p</td>\n      <td>f</td>\n      <td>c</td>\n      <td>n</td>\n      <td>n</td>\n      <td>e</td>\n      <td>...</td>\n      <td>w</td>\n      <td>w</td>\n      <td>p</td>\n      <td>w</td>\n      <td>o</td>\n      <td>p</td>\n      <td>k</td>\n      <td>s</td>\n      <td>u</td>\n      <td>1</td>\n    </tr>\n    <tr>\n      <th>4</th>\n      <td>x</td>\n      <td>s</td>\n      <td>g</td>\n      <td>f</td>\n      <td>n</td>\n      <td>f</td>\n      <td>w</td>\n      <td>b</td>\n      <td>k</td>\n      <td>t</td>\n      <td>...</td>\n      <td>w</td>\n      <td>w</td>\n      <td>p</td>\n      <td>w</td>\n      <td>o</td>\n      <td>e</td>\n      <td>n</td>\n      <td>a</td>\n      <td>g</td>\n      <td>0</td>\n    </tr>\n  </tbody>\n</table>\n<p>5 rows × 23 columns</p>\n</div>"
     },
     "execution_count": 9,
     "metadata": {},
     "output_type": "execute_result"
    }
   ],
   "source": [
    "# Load Dataset\n",
    "#iris\n",
    "#dataset = load_iris()\n",
    "target_value_name = 'class'\n",
    "\n",
    "# Mushrooms\n",
    "filename = 'mushrooms'\n",
    "target_true = 'p'\n",
    "target_false = 'e'\n",
    "test_size = 0.2\n",
    "\n",
    "\n",
    "data_file_name = f'../../../data/{filename}.csv'\n",
    "pandas_dataset = pd.read_csv(data_file_name)\n",
    "pandas_dataset = pandas_dataset.replace('?', 'unknown')\n",
    "pandas_dataset = pandas_dataset.dropna()\n",
    "pandas_dataset.columns = [sub.replace('%', '') for sub in pandas_dataset.columns]\n",
    "target_value_name = pandas_dataset.columns[-1]\n",
    "\n",
    "pandas_dataset[target_value_name] = pandas_dataset[target_value_name].map({target_false:0,target_true:1})\n",
    "\n",
    "pandas_dataset.columns = [sub.replace('-', '_').replace(' ', '').replace('class', 'target_value') for sub in pandas_dataset.columns]\n",
    "target_value_name = pandas_dataset.columns[-1]\n",
    "feature_names = pandas_dataset.columns[0:-1]\n",
    "\n",
    "\n",
    "#dataset.feature_names = [sub.replace(' ', '').replace('(cm)', '') for sub in dataset.feature_names]\n",
    "\n",
    "pandas_dataset.head()"
   ]
  },
  {
   "cell_type": "markdown",
   "metadata": {},
   "source": [
    "# One Hot Encoding"
   ]
  },
  {
   "cell_type": "code",
   "execution_count": 10,
   "metadata": {
    "ExecuteTime": {
     "start_time": "2023-04-21T12:13:56.980035Z",
     "end_time": "2023-04-21T12:13:57.134465Z"
    }
   },
   "outputs": [
    {
     "data": {
      "text/plain": "   cap_shape_b  cap_shape_c  cap_shape_f  cap_shape_k  cap_shape_s  \\\n0          0.0          0.0          0.0          0.0          0.0   \n1          0.0          0.0          0.0          0.0          0.0   \n2          1.0          0.0          0.0          0.0          0.0   \n3          0.0          0.0          0.0          0.0          0.0   \n4          0.0          0.0          0.0          0.0          0.0   \n\n   cap_shape_x  cap_surface_f  cap_surface_g  cap_surface_s  cap_surface_y  \\\n0          1.0            0.0            0.0            1.0            0.0   \n1          1.0            0.0            0.0            1.0            0.0   \n2          0.0            0.0            0.0            1.0            0.0   \n3          1.0            0.0            0.0            0.0            1.0   \n4          1.0            0.0            0.0            1.0            0.0   \n\n   ...  population_v  population_y  habitat_d  habitat_g  habitat_l  \\\n0  ...           0.0           0.0        0.0        0.0        0.0   \n1  ...           0.0           0.0        0.0        1.0        0.0   \n2  ...           0.0           0.0        0.0        0.0        0.0   \n3  ...           0.0           0.0        0.0        0.0        0.0   \n4  ...           0.0           0.0        0.0        1.0        0.0   \n\n   habitat_m  habitat_p  habitat_u  habitat_w  target_value  \n0        0.0        0.0        1.0        0.0             1  \n1        0.0        0.0        0.0        0.0             0  \n2        1.0        0.0        0.0        0.0             0  \n3        0.0        0.0        1.0        0.0             1  \n4        0.0        0.0        0.0        0.0             0  \n\n[5 rows x 118 columns]",
      "text/html": "<div>\n<style scoped>\n    .dataframe tbody tr th:only-of-type {\n        vertical-align: middle;\n    }\n\n    .dataframe tbody tr th {\n        vertical-align: top;\n    }\n\n    .dataframe thead th {\n        text-align: right;\n    }\n</style>\n<table border=\"1\" class=\"dataframe\">\n  <thead>\n    <tr style=\"text-align: right;\">\n      <th></th>\n      <th>cap_shape_b</th>\n      <th>cap_shape_c</th>\n      <th>cap_shape_f</th>\n      <th>cap_shape_k</th>\n      <th>cap_shape_s</th>\n      <th>cap_shape_x</th>\n      <th>cap_surface_f</th>\n      <th>cap_surface_g</th>\n      <th>cap_surface_s</th>\n      <th>cap_surface_y</th>\n      <th>...</th>\n      <th>population_v</th>\n      <th>population_y</th>\n      <th>habitat_d</th>\n      <th>habitat_g</th>\n      <th>habitat_l</th>\n      <th>habitat_m</th>\n      <th>habitat_p</th>\n      <th>habitat_u</th>\n      <th>habitat_w</th>\n      <th>target_value</th>\n    </tr>\n  </thead>\n  <tbody>\n    <tr>\n      <th>0</th>\n      <td>0.0</td>\n      <td>0.0</td>\n      <td>0.0</td>\n      <td>0.0</td>\n      <td>0.0</td>\n      <td>1.0</td>\n      <td>0.0</td>\n      <td>0.0</td>\n      <td>1.0</td>\n      <td>0.0</td>\n      <td>...</td>\n      <td>0.0</td>\n      <td>0.0</td>\n      <td>0.0</td>\n      <td>0.0</td>\n      <td>0.0</td>\n      <td>0.0</td>\n      <td>0.0</td>\n      <td>1.0</td>\n      <td>0.0</td>\n      <td>1</td>\n    </tr>\n    <tr>\n      <th>1</th>\n      <td>0.0</td>\n      <td>0.0</td>\n      <td>0.0</td>\n      <td>0.0</td>\n      <td>0.0</td>\n      <td>1.0</td>\n      <td>0.0</td>\n      <td>0.0</td>\n      <td>1.0</td>\n      <td>0.0</td>\n      <td>...</td>\n      <td>0.0</td>\n      <td>0.0</td>\n      <td>0.0</td>\n      <td>1.0</td>\n      <td>0.0</td>\n      <td>0.0</td>\n      <td>0.0</td>\n      <td>0.0</td>\n      <td>0.0</td>\n      <td>0</td>\n    </tr>\n    <tr>\n      <th>2</th>\n      <td>1.0</td>\n      <td>0.0</td>\n      <td>0.0</td>\n      <td>0.0</td>\n      <td>0.0</td>\n      <td>0.0</td>\n      <td>0.0</td>\n      <td>0.0</td>\n      <td>1.0</td>\n      <td>0.0</td>\n      <td>...</td>\n      <td>0.0</td>\n      <td>0.0</td>\n      <td>0.0</td>\n      <td>0.0</td>\n      <td>0.0</td>\n      <td>1.0</td>\n      <td>0.0</td>\n      <td>0.0</td>\n      <td>0.0</td>\n      <td>0</td>\n    </tr>\n    <tr>\n      <th>3</th>\n      <td>0.0</td>\n      <td>0.0</td>\n      <td>0.0</td>\n      <td>0.0</td>\n      <td>0.0</td>\n      <td>1.0</td>\n      <td>0.0</td>\n      <td>0.0</td>\n      <td>0.0</td>\n      <td>1.0</td>\n      <td>...</td>\n      <td>0.0</td>\n      <td>0.0</td>\n      <td>0.0</td>\n      <td>0.0</td>\n      <td>0.0</td>\n      <td>0.0</td>\n      <td>0.0</td>\n      <td>1.0</td>\n      <td>0.0</td>\n      <td>1</td>\n    </tr>\n    <tr>\n      <th>4</th>\n      <td>0.0</td>\n      <td>0.0</td>\n      <td>0.0</td>\n      <td>0.0</td>\n      <td>0.0</td>\n      <td>1.0</td>\n      <td>0.0</td>\n      <td>0.0</td>\n      <td>1.0</td>\n      <td>0.0</td>\n      <td>...</td>\n      <td>0.0</td>\n      <td>0.0</td>\n      <td>0.0</td>\n      <td>1.0</td>\n      <td>0.0</td>\n      <td>0.0</td>\n      <td>0.0</td>\n      <td>0.0</td>\n      <td>0.0</td>\n      <td>0</td>\n    </tr>\n  </tbody>\n</table>\n<p>5 rows × 118 columns</p>\n</div>"
     },
     "execution_count": 10,
     "metadata": {},
     "output_type": "execute_result"
    }
   ],
   "source": [
    "def one_hot_encode_dataframe(data, feature_names):\n",
    "    enc = OneHotEncoder(sparse_output=False)\n",
    "    encoded_array = enc.fit_transform(data.loc[:,feature_names])\n",
    "    encoded_feature_names = enc.get_feature_names_out()\n",
    "    df_encoded = pd.DataFrame(encoded_array,columns=encoded_feature_names)\n",
    "    encoded_pandas_dataset = pd.concat([df_encoded, data],axis=1)\n",
    "    encoded_pandas_dataset.drop(labels= feature_names,axis=1,inplace=True)\n",
    "    return encoded_pandas_dataset, encoded_feature_names\n",
    "\n",
    "encoded_pandas_dataset, encoded_feature_names = one_hot_encode_dataframe(pandas_dataset, feature_names)\n",
    "encoded_pandas_dataset.head()"
   ]
  },
  {
   "cell_type": "code",
   "execution_count": 11,
   "metadata": {
    "ExecuteTime": {
     "start_time": "2023-04-21T12:13:57.072282Z",
     "end_time": "2023-04-21T12:13:57.145058Z"
    }
   },
   "outputs": [],
   "source": [
    "X = encoded_pandas_dataset[encoded_feature_names]\n",
    "y = encoded_pandas_dataset[target_value_name]\n",
    "\n",
    "encoded_dataset = Bunch(\n",
    "        data=X.to_numpy(),\n",
    "        target=y.to_numpy(),\n",
    "        target_names=target_value_name,\n",
    "        feature_names=X.columns\n",
    ")\n",
    "\n",
    "#X_display = pandas_dataset.drop([target_value_name], axis=1)\n",
    "#y_display = pandas_dataset[target_value_name]\n",
    "\n",
    "#encoded_pandas_dataset = pd.DataFrame(data= np.c_[dataset['data'], dataset['target']], columns= list(dataset['feature_names']) + ['target'])\n",
    "#encoded_pandas_dataset.head()\n"
   ]
  },
  {
   "cell_type": "markdown",
   "metadata": {},
   "source": [
    "# Divide dataset"
   ]
  },
  {
   "cell_type": "code",
   "execution_count": 12,
   "metadata": {
    "ExecuteTime": {
     "start_time": "2023-04-21T12:13:57.085548Z",
     "end_time": "2023-04-21T12:13:57.151919Z"
    }
   },
   "outputs": [
    {
     "name": "stdout",
     "output_type": "stream",
     "text": [
      "\n",
      "Sizes (without target):\n",
      "Original size (8124, 117)\n",
      "Train size (6499, 117)\n",
      "Test size (1625, 117)\n"
     ]
    }
   ],
   "source": [
    "#Define dataset\n",
    "X_train, X_test, y_train, y_test = train_test_split(encoded_dataset.data, encoded_dataset.target, test_size=test_size, random_state=1)\n",
    "encoded_train_pandas_dataset = pd.DataFrame(data= np.c_[X_train, y_train], columns= list(encoded_dataset['feature_names']) + [target_value_name])\n",
    "encoded_test_pandas_dataset = pd.DataFrame(data= np.c_[X_test, y_test], columns= list(encoded_dataset['feature_names']) + [target_value_name])\n",
    "print()\n",
    "print('Sizes (without target):')\n",
    "print(f'Original size {encoded_dataset.data.shape}')\n",
    "print(f'Train size {X_train.shape}')\n",
    "print(f'Test size {X_test.shape}')"
   ]
  },
  {
   "cell_type": "markdown",
   "metadata": {},
   "source": [
    "## Define Random Forest"
   ]
  },
  {
   "cell_type": "code",
   "execution_count": 13,
   "metadata": {
    "ExecuteTime": {
     "start_time": "2023-04-21T12:13:57.105865Z",
     "end_time": "2023-04-21T12:13:57.490636Z"
    }
   },
   "outputs": [
    {
     "data": {
      "text/plain": "RandomForestClassifier(criterion='entropy')",
      "text/html": "<style>#sk-container-id-2 {color: black;background-color: white;}#sk-container-id-2 pre{padding: 0;}#sk-container-id-2 div.sk-toggleable {background-color: white;}#sk-container-id-2 label.sk-toggleable__label {cursor: pointer;display: block;width: 100%;margin-bottom: 0;padding: 0.3em;box-sizing: border-box;text-align: center;}#sk-container-id-2 label.sk-toggleable__label-arrow:before {content: \"▸\";float: left;margin-right: 0.25em;color: #696969;}#sk-container-id-2 label.sk-toggleable__label-arrow:hover:before {color: black;}#sk-container-id-2 div.sk-estimator:hover label.sk-toggleable__label-arrow:before {color: black;}#sk-container-id-2 div.sk-toggleable__content {max-height: 0;max-width: 0;overflow: hidden;text-align: left;background-color: #f0f8ff;}#sk-container-id-2 div.sk-toggleable__content pre {margin: 0.2em;color: black;border-radius: 0.25em;background-color: #f0f8ff;}#sk-container-id-2 input.sk-toggleable__control:checked~div.sk-toggleable__content {max-height: 200px;max-width: 100%;overflow: auto;}#sk-container-id-2 input.sk-toggleable__control:checked~label.sk-toggleable__label-arrow:before {content: \"▾\";}#sk-container-id-2 div.sk-estimator input.sk-toggleable__control:checked~label.sk-toggleable__label {background-color: #d4ebff;}#sk-container-id-2 div.sk-label input.sk-toggleable__control:checked~label.sk-toggleable__label {background-color: #d4ebff;}#sk-container-id-2 input.sk-hidden--visually {border: 0;clip: rect(1px 1px 1px 1px);clip: rect(1px, 1px, 1px, 1px);height: 1px;margin: -1px;overflow: hidden;padding: 0;position: absolute;width: 1px;}#sk-container-id-2 div.sk-estimator {font-family: monospace;background-color: #f0f8ff;border: 1px dotted black;border-radius: 0.25em;box-sizing: border-box;margin-bottom: 0.5em;}#sk-container-id-2 div.sk-estimator:hover {background-color: #d4ebff;}#sk-container-id-2 div.sk-parallel-item::after {content: \"\";width: 100%;border-bottom: 1px solid gray;flex-grow: 1;}#sk-container-id-2 div.sk-label:hover label.sk-toggleable__label {background-color: #d4ebff;}#sk-container-id-2 div.sk-serial::before {content: \"\";position: absolute;border-left: 1px solid gray;box-sizing: border-box;top: 0;bottom: 0;left: 50%;z-index: 0;}#sk-container-id-2 div.sk-serial {display: flex;flex-direction: column;align-items: center;background-color: white;padding-right: 0.2em;padding-left: 0.2em;position: relative;}#sk-container-id-2 div.sk-item {position: relative;z-index: 1;}#sk-container-id-2 div.sk-parallel {display: flex;align-items: stretch;justify-content: center;background-color: white;position: relative;}#sk-container-id-2 div.sk-item::before, #sk-container-id-2 div.sk-parallel-item::before {content: \"\";position: absolute;border-left: 1px solid gray;box-sizing: border-box;top: 0;bottom: 0;left: 50%;z-index: -1;}#sk-container-id-2 div.sk-parallel-item {display: flex;flex-direction: column;z-index: 1;position: relative;background-color: white;}#sk-container-id-2 div.sk-parallel-item:first-child::after {align-self: flex-end;width: 50%;}#sk-container-id-2 div.sk-parallel-item:last-child::after {align-self: flex-start;width: 50%;}#sk-container-id-2 div.sk-parallel-item:only-child::after {width: 0;}#sk-container-id-2 div.sk-dashed-wrapped {border: 1px dashed gray;margin: 0 0.4em 0.5em 0.4em;box-sizing: border-box;padding-bottom: 0.4em;background-color: white;}#sk-container-id-2 div.sk-label label {font-family: monospace;font-weight: bold;display: inline-block;line-height: 1.2em;}#sk-container-id-2 div.sk-label-container {text-align: center;}#sk-container-id-2 div.sk-container {/* jupyter's `normalize.less` sets `[hidden] { display: none; }` but bootstrap.min.css set `[hidden] { display: none !important; }` so we also need the `!important` here to be able to override the default hidden behavior on the sphinx rendered scikit-learn.org. See: https://github.com/scikit-learn/scikit-learn/issues/21755 */display: inline-block !important;position: relative;}#sk-container-id-2 div.sk-text-repr-fallback {display: none;}</style><div id=\"sk-container-id-2\" class=\"sk-top-container\"><div class=\"sk-text-repr-fallback\"><pre>RandomForestClassifier(criterion=&#x27;entropy&#x27;)</pre><b>In a Jupyter environment, please rerun this cell to show the HTML representation or trust the notebook. <br />On GitHub, the HTML representation is unable to render, please try loading this page with nbviewer.org.</b></div><div class=\"sk-container\" hidden><div class=\"sk-item\"><div class=\"sk-estimator sk-toggleable\"><input class=\"sk-toggleable__control sk-hidden--visually\" id=\"sk-estimator-id-2\" type=\"checkbox\" checked><label for=\"sk-estimator-id-2\" class=\"sk-toggleable__label sk-toggleable__label-arrow\">RandomForestClassifier</label><div class=\"sk-toggleable__content\"><pre>RandomForestClassifier(criterion=&#x27;entropy&#x27;)</pre></div></div></div></div></div>"
     },
     "execution_count": 13,
     "metadata": {},
     "output_type": "execute_result"
    }
   ],
   "source": [
    "from sklearn.ensemble import RandomForestClassifier\n",
    "from sklearn.model_selection import GridSearchCV\n",
    "from sklearn.metrics import precision_score, make_scorer, recall_score, accuracy_score\n",
    "\n",
    "# Define scorer\n",
    "ensemble = RandomForestClassifier(criterion=\"entropy\")\n",
    "ensemble.fit(X_train, y_train)"
   ]
  },
  {
   "cell_type": "markdown",
   "metadata": {},
   "source": [
    "## iPRules"
   ]
  },
  {
   "cell_type": "code",
   "execution_count": 14,
   "outputs": [
    {
     "name": "stdout",
     "output_type": "stream",
     "text": [
      "->Extract feature importance list\n"
     ]
    },
    {
     "data": {
      "text/plain": "<Figure size 640x480 with 1 Axes>",
      "image/png": "[encoded data removed]"
     },
     "metadata": {},
     "output_type": "display_data"
    },
    {
     "name": "stdout",
     "output_type": "stream",
     "text": [
      "\t Original features 117\n",
      "\t Selected features 20\n",
      "\t Percentage of selected rules: 17.094017094017094 %\n",
      "->Generate new tree based on list\n",
      "Elapsed time to compute the binary_tree_generator: 12.009 seconds\n",
      "->Generate obtained patterns tree\n",
      "Elapsed time to compute the obtain_pattern_list_of_valid_nodes_with_pvalue: 0.071 seconds\n",
      "->Categorize patterns\n",
      "Elapsed time to compute the categorize_patterns: 0.381 seconds\n"
     ]
    },
    {
     "data": {
      "text/plain": "<iPRules.iPRules.iPRules at 0x7fa7a5d58d30>"
     },
     "execution_count": 14,
     "metadata": {},
     "output_type": "execute_result"
    }
   ],
   "source": [
    "from iPRules.iPRules import iPRules\n",
    "\n",
    "# initialize\n",
    "rules = iPRules(\n",
    "                feature_names=encoded_dataset.feature_names,\n",
    "                target_value_name = encoded_dataset.target_names,\n",
    "                display_features = True,\n",
    "                display_logs = True,\n",
    "                chi_square_percent_point_function = 0.95,\n",
    "                scale_feature_coefficient = 0.1,\n",
    "                min_accuracy_coefficient = 0.9,\n",
    "                min_number_class_per_node = 3\n",
    "            )\n",
    "# Fit model\n",
    "rules.fit(encoded_train_pandas_dataset, ensemble.feature_importances_)"
   ],
   "metadata": {
    "collapsed": false,
    "ExecuteTime": {
     "start_time": "2023-04-21T12:13:57.491229Z",
     "end_time": "2023-04-21T12:14:10.135300Z"
    }
   }
  },
  {
   "cell_type": "markdown",
   "source": [
    "# Print Model"
   ],
   "metadata": {
    "collapsed": false
   }
  },
  {
   "cell_type": "code",
   "execution_count": 15,
   "outputs": [
    {
     "name": "stdout",
     "output_type": "stream",
     "text": [
      "> ++++++++++++++++++++++++++++\n",
      "> iPRules --  Number of Rules 27:\n",
      "> ++++++++++++++++++++++++++++\n",
      "> ------------------------------\n",
      " ** Target value: 0 ** Target: 771 ** Total: 771 ** Accuracy: 1.0 ** Complexity: 7 ** Chi2 critical_value: 3.841458820694124 ** P_value: 1.5613960945816251e-06\n",
      "\t Query: odor_n == 1.0  &  odor_f == 0.0  &  gill_size_b == 1.0  &  gill_color_b == 0.0  &  gill_size_n == 0.0  &  spore_print_color_h == 0.0  &  ring_type_p == 0\n",
      "> ------------------------------\n",
      "> ------------------------------\n",
      " ** Target value: 0 ** Target: 120 ** Total: 120 ** Accuracy: 1.0 ** Complexity: 8 ** Chi2 critical_value: 3.841458820694124 ** P_value: 0.049168637138606024\n",
      "\t Query: odor_n == 1.0  &  odor_f == 0.0  &  gill_size_b == 1.0  &  gill_color_b == 0.0  &  gill_size_n == 0.0  &  spore_print_color_h == 0.0  &  ring_type_p == 1.0  &  stalk_surface_above_ring_k == 1\n",
      "> ------------------------------\n",
      "> ------------------------------\n",
      " ** Target value: 0 ** Target: 286 ** Total: 286 ** Accuracy: 1.0 ** Complexity: 9 ** Chi2 critical_value: 3.841458820694124 ** P_value: 0.0008922746609230551\n",
      "\t Query: odor_n == 1.0  &  odor_f == 0.0  &  gill_size_b == 1.0  &  gill_color_b == 0.0  &  gill_size_n == 0.0  &  spore_print_color_h == 0.0  &  ring_type_p == 1.0  &  stalk_surface_above_ring_k == 0.0  &  bruises3F_t == 0\n",
      "> ------------------------------\n",
      "> ------------------------------\n",
      " ** Target value: 0 ** Target: 1391 ** Total: 1391 ** Accuracy: 1.0 ** Complexity: 11 ** Chi2 critical_value: 3.841458820694124 ** P_value: 4.751187260307397e-218\n",
      "\t Query: odor_n == 1.0  &  odor_f == 0.0  &  gill_size_b == 1.0  &  gill_color_b == 0.0  &  gill_size_n == 0.0  &  spore_print_color_h == 0.0  &  ring_type_p == 1.0  &  stalk_surface_above_ring_k == 0.0  &  bruises3F_t == 1.0  &  stalk_surface_above_ring_s == 1.0  &  stalk_shape_t == 1\n",
      "> ------------------------------\n",
      "> ------------------------------\n",
      " ** Target value: 0 ** Target: 12 ** Total: 12 ** Accuracy: 1.0 ** Complexity: 20 ** Chi2 critical_value: 3.841458820694124 ** P_value: 2.503772245951759e-08\n",
      "\t Query: odor_n == 1.0  &  odor_f == 0.0  &  gill_size_b == 1.0  &  gill_color_b == 0.0  &  gill_size_n == 0.0  &  spore_print_color_h == 0.0  &  ring_type_p == 1.0  &  stalk_surface_above_ring_k == 0.0  &  bruises3F_t == 1.0  &  stalk_surface_above_ring_s == 1.0  &  stalk_shape_t == 0.0  &  ring_type_l == 0.0  &  gill_spacing_w == 0.0  &  stalk_surface_below_ring_k == 0.0  &  odor_p == 0.0  &  stalk_shape_e == 1.0  &  gill_spacing_c == 1.0  &  stalk_root_b == 1.0  &  bruises3F_f == 0.0  &  population_v == 0\n",
      "> ------------------------------\n",
      "> ------------------------------\n",
      " ** Target value: 0 ** Target: 41 ** Total: 41 ** Accuracy: 1.0 ** Complexity: 6 ** Chi2 critical_value: 3.841458820694124 ** P_value: 0.0009597332516157962\n",
      "\t Query: odor_n == 1.0  &  odor_f == 0.0  &  gill_size_b == 0.0  &  gill_color_b == 0.0  &  gill_size_n == 1.0  &  spore_print_color_h == 1\n",
      "> ------------------------------\n",
      "> ------------------------------\n",
      " ** Target value: 1 ** Target: 24 ** Total: 24 ** Accuracy: 1.0 ** Complexity: 8 ** Chi2 critical_value: 3.841458820694124 ** P_value: 8.137636831581318e-13\n",
      "\t Query: odor_n == 1.0  &  odor_f == 0.0  &  gill_size_b == 0.0  &  gill_color_b == 0.0  &  gill_size_n == 1.0  &  spore_print_color_h == 0.0  &  ring_type_p == 0.0  &  stalk_surface_above_ring_k == 1\n",
      "> ------------------------------\n",
      "> ------------------------------\n",
      " ** Target value: 0 ** Target: 22 ** Total: 22 ** Accuracy: 1.0 ** Complexity: 10 ** Chi2 critical_value: 3.841458820694124 ** P_value: 0.01826267197221281\n",
      "\t Query: odor_n == 1.0  &  odor_f == 0.0  &  gill_size_b == 0.0  &  gill_color_b == 0.0  &  gill_size_n == 1.0  &  spore_print_color_h == 0.0  &  ring_type_p == 0.0  &  stalk_surface_above_ring_k == 0.0  &  bruises3F_t == 0.0  &  stalk_surface_above_ring_s == 1\n",
      "> ------------------------------\n",
      "> ------------------------------\n",
      " ** Target value: 0 ** Target: 21 ** Total: 21 ** Accuracy: 1.0 ** Complexity: 18 ** Chi2 critical_value: 3.841458820694124 ** P_value: 2.0355623072491876e-07\n",
      "\t Query: odor_n == 1.0  &  odor_f == 0.0  &  gill_size_b == 0.0  &  gill_color_b == 0.0  &  gill_size_n == 1.0  &  spore_print_color_h == 0.0  &  ring_type_p == 0.0  &  stalk_surface_above_ring_k == 0.0  &  bruises3F_t == 0.0  &  stalk_surface_above_ring_s == 0.0  &  stalk_shape_t == 0.0  &  ring_type_l == 0.0  &  gill_spacing_w == 1.0  &  stalk_surface_below_ring_k == 0.0  &  odor_p == 0.0  &  stalk_shape_e == 1.0  &  gill_spacing_c == 0.0  &  stalk_root_b == 1\n",
      "> ------------------------------\n",
      "> ------------------------------\n",
      " ** Target value: 1 ** Target: 6 ** Total: 6 ** Accuracy: 1.0 ** Complexity: 18 ** Chi2 critical_value: 3.841458820694124 ** P_value: 2.0355623072491876e-07\n",
      "\t Query: odor_n == 1.0  &  odor_f == 0.0  &  gill_size_b == 0.0  &  gill_color_b == 0.0  &  gill_size_n == 1.0  &  spore_print_color_h == 0.0  &  ring_type_p == 0.0  &  stalk_surface_above_ring_k == 0.0  &  bruises3F_t == 0.0  &  stalk_surface_above_ring_s == 0.0  &  stalk_shape_t == 0.0  &  ring_type_l == 0.0  &  gill_spacing_w == 1.0  &  stalk_surface_below_ring_k == 0.0  &  odor_p == 0.0  &  stalk_shape_e == 1.0  &  gill_spacing_c == 0.0  &  stalk_root_b == 0\n",
      "> ------------------------------\n",
      "> ------------------------------\n",
      " ** Target value: 1 ** Target: 3 ** Total: 3 ** Accuracy: 1.0 ** Complexity: 9 ** Chi2 critical_value: 3.841458820694124 ** P_value: 1.714035703560213e-18\n",
      "\t Query: odor_n == 1.0  &  odor_f == 0.0  &  gill_size_b == 0.0  &  gill_color_b == 0.0  &  gill_size_n == 1.0  &  spore_print_color_h == 0.0  &  ring_type_p == 1.0  &  stalk_surface_above_ring_k == 0.0  &  bruises3F_t == 1\n",
      "> ------------------------------\n",
      "> ------------------------------\n",
      " ** Target value: 0 ** Target: 74 ** Total: 74 ** Accuracy: 1.0 ** Complexity: 9 ** Chi2 critical_value: 3.841458820694124 ** P_value: 1.714035703560213e-18\n",
      "\t Query: odor_n == 1.0  &  odor_f == 0.0  &  gill_size_b == 0.0  &  gill_color_b == 0.0  &  gill_size_n == 1.0  &  spore_print_color_h == 0.0  &  ring_type_p == 1.0  &  stalk_surface_above_ring_k == 0.0  &  bruises3F_t == 0\n",
      "> ------------------------------\n",
      "> ------------------------------\n",
      " ** Target value: 1 ** Target: 1741 ** Total: 1741 ** Accuracy: 1.0 ** Complexity: 2 ** Chi2 critical_value: 3.841458820694124 ** P_value: 3.4914369986436615e-154\n",
      "\t Query: odor_n == 0.0  &  odor_f == 1\n",
      "> ------------------------------\n",
      "> ------------------------------\n",
      " ** Target value: 0 ** Target: 550 ** Total: 550 ** Accuracy: 1.0 ** Complexity: 7 ** Chi2 critical_value: 3.841458820694124 ** P_value: 3.757717931065603e-128\n",
      "\t Query: odor_n == 0.0  &  odor_f == 0.0  &  gill_size_b == 1.0  &  gill_color_b == 0.0  &  gill_size_n == 0.0  &  spore_print_color_h == 0.0  &  ring_type_p == 1\n",
      "> ------------------------------\n",
      "> ------------------------------\n",
      " ** Target value: 1 ** Target: 30 ** Total: 30 ** Accuracy: 1.0 ** Complexity: 7 ** Chi2 critical_value: 3.841458820694124 ** P_value: 3.757717931065603e-128\n",
      "\t Query: odor_n == 0.0  &  odor_f == 0.0  &  gill_size_b == 1.0  &  gill_color_b == 0.0  &  gill_size_n == 0.0  &  spore_print_color_h == 0.0  &  ring_type_p == 0\n",
      "> ------------------------------\n",
      "> ------------------------------\n",
      " ** Target value: 1 ** Target: 895 ** Total: 895 ** Accuracy: 1.0 ** Complexity: 4 ** Chi2 critical_value: 3.841458820694124 ** P_value: 1.085108790840035e-42\n",
      "\t Query: odor_n == 0.0  &  odor_f == 0.0  &  gill_size_b == 0.0  &  gill_color_b == 1\n",
      "> ------------------------------\n",
      "> ------------------------------\n",
      " ** Target value: 1 ** Target: 147 ** Total: 147 ** Accuracy: 1.0 ** Complexity: 9 ** Chi2 critical_value: 3.841458820694124 ** P_value: 2.515681623218704e-13\n",
      "\t Query: odor_n == 0.0  &  odor_f == 0.0  &  gill_size_b == 0.0  &  gill_color_b == 0.0  &  gill_size_n == 1.0  &  spore_print_color_h == 0.0  &  ring_type_p == 1.0  &  stalk_surface_above_ring_k == 0.0  &  bruises3F_t == 0\n",
      "> ------------------------------\n",
      "> ------------------------------\n",
      " ** Target value: 0 ** Target: 87 ** Total: 87 ** Accuracy: 1.0 ** Complexity: 11 ** Chi2 critical_value: 3.841458820694124 ** P_value: 1.484389656337506e-66\n",
      "\t Query: odor_n == 0.0  &  odor_f == 0.0  &  gill_size_b == 0.0  &  gill_color_b == 0.0  &  gill_size_n == 1.0  &  spore_print_color_h == 0.0  &  ring_type_p == 1.0  &  stalk_surface_above_ring_k == 0.0  &  bruises3F_t == 1.0  &  stalk_surface_above_ring_s == 1.0  &  stalk_shape_t == 1\n",
      "> ------------------------------\n",
      "> ------------------------------\n",
      " ** Target value: 1 ** Target: 210 ** Total: 210 ** Accuracy: 1.0 ** Complexity: 11 ** Chi2 critical_value: 3.841458820694124 ** P_value: 1.484389656337506e-66\n",
      "\t Query: odor_n == 0.0  &  odor_f == 0.0  &  gill_size_b == 0.0  &  gill_color_b == 0.0  &  gill_size_n == 1.0  &  spore_print_color_h == 0.0  &  ring_type_p == 1.0  &  stalk_surface_above_ring_k == 0.0  &  bruises3F_t == 1.0  &  stalk_surface_above_ring_s == 1.0  &  stalk_shape_t == 0\n",
      "> ------------------------------\n",
      "> ------------------------------\n",
      " ** Target value: 0 ** Target: 2593 ** Total: 2648 ** Accuracy: 0.9792296072507553 ** Complexity: 3 ** Chi2 critical_value: 3.841458820694124 ** P_value: 1.1801362367167314e-31\n",
      "\t Query: odor_n == 1.0  &  odor_f == 0.0  &  gill_size_b == 1\n",
      "> ------------------------------\n",
      "> ------------------------------\n",
      " ** Target value: 0 ** Target: 1822 ** Total: 1877 ** Accuracy: 0.9706979222163026 ** Complexity: 7 ** Chi2 critical_value: 3.841458820694124 ** P_value: 1.5613960945816251e-06\n",
      "\t Query: odor_n == 1.0  &  odor_f == 0.0  &  gill_size_b == 1.0  &  gill_color_b == 0.0  &  gill_size_n == 0.0  &  spore_print_color_h == 0.0  &  ring_type_p == 1\n",
      "> ------------------------------\n",
      "> ------------------------------\n",
      " ** Target value: 0 ** Target: 2751 ** Total: 2839 ** Accuracy: 0.9690031701303276 ** Complexity: 1 ** Chi2 critical_value: 3.841458820694124 ** P_value: 0.0\n",
      "\t Query: odor_n == 1\n",
      "> ------------------------------\n",
      "> ------------------------------\n",
      " ** Target value: 0 ** Target: 1702 ** Total: 1757 ** Accuracy: 0.9686966420034149 ** Complexity: 8 ** Chi2 critical_value: 3.841458820694124 ** P_value: 0.049168637138606024\n",
      "\t Query: odor_n == 1.0  &  odor_f == 0.0  &  gill_size_b == 1.0  &  gill_color_b == 0.0  &  gill_size_n == 0.0  &  spore_print_color_h == 0.0  &  ring_type_p == 1.0  &  stalk_surface_above_ring_k == 0\n",
      "> ------------------------------\n",
      "> ------------------------------\n",
      " ** Target value: 0 ** Target: 1416 ** Total: 1471 ** Accuracy: 0.9626104690686608 ** Complexity: 9 ** Chi2 critical_value: 3.841458820694124 ** P_value: 0.0008922746609230551\n",
      "\t Query: odor_n == 1.0  &  odor_f == 0.0  &  gill_size_b == 1.0  &  gill_color_b == 0.0  &  gill_size_n == 0.0  &  spore_print_color_h == 0.0  &  ring_type_p == 1.0  &  stalk_surface_above_ring_k == 0.0  &  bruises3F_t == 1\n",
      "> ------------------------------\n",
      "> ------------------------------\n",
      " ** Target value: 0 ** Target: 74 ** Total: 77 ** Accuracy: 0.961038961038961 ** Complexity: 7 ** Chi2 critical_value: 3.841458820694124 ** P_value: 3.8582936519580685e-08\n",
      "\t Query: odor_n == 1.0  &  odor_f == 0.0  &  gill_size_b == 0.0  &  gill_color_b == 0.0  &  gill_size_n == 1.0  &  spore_print_color_h == 0.0  &  ring_type_p == 1\n",
      "> ------------------------------\n",
      "> ------------------------------\n",
      " ** Target value: 0 ** Target: 550 ** Total: 580 ** Accuracy: 0.9482758620689655 ** Complexity: 3 ** Chi2 critical_value: 3.841458820694124 ** P_value: 1.356697260359e-311\n",
      "\t Query: odor_n == 0.0  &  odor_f == 0.0  &  gill_size_b == 1\n",
      "> ------------------------------\n",
      "> ------------------------------\n",
      " ** Target value: 1 ** Target: 1252 ** Total: 1339 ** Accuracy: 0.935026138909634 ** Complexity: 3 ** Chi2 critical_value: 3.841458820694124 ** P_value: 1.356697260359e-311\n",
      "\t Query: odor_n == 0.0  &  odor_f == 0.0  &  gill_size_b == 0\n",
      "> ------------------------------\n",
      "\n"
     ]
    }
   ],
   "source": [
    "# DISPLAY DESCRIPTION\n",
    "#print(rules.description())\n",
    "# DISPLAY ALL RULES\n",
    "print(rules)"
   ],
   "metadata": {
    "collapsed": false,
    "ExecuteTime": {
     "start_time": "2023-04-21T12:14:10.137978Z",
     "end_time": "2023-04-21T12:14:10.142310Z"
    }
   }
  },
  {
   "cell_type": "markdown",
   "metadata": {},
   "source": [
    "# Predict"
   ]
  },
  {
   "cell_type": "code",
   "execution_count": 16,
   "outputs": [],
   "source": [
    "# ENSEMBLE\n",
    "y_pred_test_ensemble = ensemble.predict(X_test)\n",
    "\n",
    "# RULES\n",
    "y_pred_test_rules = rules.predict(X_test)"
   ],
   "metadata": {
    "collapsed": false,
    "ExecuteTime": {
     "start_time": "2023-04-21T12:14:10.141872Z",
     "end_time": "2023-04-21T12:14:11.155955Z"
    }
   }
  },
  {
   "cell_type": "code",
   "execution_count": 17,
   "outputs": [
    {
     "name": "stdout",
     "output_type": "stream",
     "text": [
      "DATASET TEST: 1625\n",
      "DATASET TEST categorizable: 1625\n",
      "Cobertura: 100.00%\n",
      "RF accuracy: 100.00%\n",
      "Rules Accuracy: 98.95%\n"
     ]
    }
   ],
   "source": [
    "# CATEGORIZABLES\n",
    "np_array_rules = np.array(y_pred_test_rules)\n",
    "#not_filter_indices = np.where(np.logical_and(np_array_rules != 0, np_array_rules!=1))[0]\n",
    "filter_indices = np.where(np_array_rules != None)[0]\n",
    "\n",
    "\n",
    "np_filterred_y_test = np.array(y_test)[filter_indices]\n",
    "np_filterred_y_pred_test_ensemble = np.array(y_pred_test_ensemble)[filter_indices]\n",
    "np_filterred_y_pred_test_rules = np.array(y_pred_test_rules)[filter_indices]\n",
    "# CHANGE FORMAT IN ORDER TO NOT HAVE PROBLEMS\n",
    "np_filterred_y_pred_test_rules = np_filterred_y_pred_test_rules.astype('int64')\n",
    "\n",
    "\n",
    "print(f'DATASET TEST: {len(y_test)}')\n",
    "print(f'DATASET TEST categorizable: {len(np_filterred_y_test)}')\n",
    "print('Cobertura:',str(\"{:.2f}\".format(100*(len(np_filterred_y_pred_test_rules)/len(y_test))))+'%')\n",
    "\n",
    "ensemble_accuracy = metrics.accuracy_score(np_filterred_y_test, np_filterred_y_pred_test_ensemble, normalize=True)\n",
    "print('RF accuracy:',str(\"{:.2f}\".format(100*ensemble_accuracy))+'%')\n",
    "rules_accuracy = metrics.accuracy_score(np_filterred_y_test, np_filterred_y_pred_test_rules, normalize=True)\n",
    "print('Rules Accuracy:',str(\"{:.2f}\".format(100*rules_accuracy))+'%')\n"
   ],
   "metadata": {
    "collapsed": false,
    "ExecuteTime": {
     "start_time": "2023-04-21T12:14:11.155144Z",
     "end_time": "2023-04-21T12:14:11.165314Z"
    }
   }
  },
  {
   "cell_type": "markdown",
   "source": [
    "# CONFUSION MATRIX"
   ],
   "metadata": {
    "collapsed": false
   }
  },
  {
   "cell_type": "code",
   "execution_count": 18,
   "outputs": [
    {
     "name": "stdout",
     "output_type": "stream",
     "text": [
      "[[820   0]\n",
      " [ 17 788]]\n"
     ]
    },
    {
     "ename": "TypeError",
     "evalue": "'numpy.ndarray' object is not callable",
     "output_type": "error",
     "traceback": [
      "\u001B[0;31m---------------------------------------------------------------------------\u001B[0m",
      "\u001B[0;31mTypeError\u001B[0m                                 Traceback (most recent call last)",
      "Cell \u001B[0;32mIn[18], line 3\u001B[0m\n\u001B[1;32m      1\u001B[0m confusion_matrix \u001B[38;5;241m=\u001B[39m metrics\u001B[38;5;241m.\u001B[39mconfusion_matrix(np_filterred_y_test, np_filterred_y_pred_test_rules)\n\u001B[1;32m      2\u001B[0m \u001B[38;5;28mprint\u001B[39m(confusion_matrix)\n\u001B[0;32m----> 3\u001B[0m \u001B[43mconfusion_matrix\u001B[49m\u001B[43m(\u001B[49m\u001B[43mnp_filterred_y_test\u001B[49m\u001B[43m,\u001B[49m\u001B[43m \u001B[49m\u001B[43mnp_filterred_y_pred_test_rules\u001B[49m\u001B[43m,\u001B[49m\u001B[43m \u001B[49m\u001B[43mlabels\u001B[49m\u001B[38;5;241;43m=\u001B[39;49m\u001B[43mencoded_dataset\u001B[49m\u001B[38;5;241;43m.\u001B[39;49m\u001B[43mfeature_names\u001B[49m\u001B[43m)\u001B[49m\n",
      "\u001B[0;31mTypeError\u001B[0m: 'numpy.ndarray' object is not callable"
     ]
    }
   ],
   "source": [
    "\n",
    "confusion_matrix = metrics.confusion_matrix(np_filterred_y_test, np_filterred_y_pred_test_rules)\n",
    "print(confusion_matrix)\n",
    "confusion_matrix(np_filterred_y_test, np_filterred_y_pred_test_rules, labels=encoded_dataset.feature_names)"
   ],
   "metadata": {
    "collapsed": false
   }
  },
  {
   "cell_type": "markdown",
   "metadata": {},
   "source": [
    "# SHAP explainer"
   ]
  },
  {
   "cell_type": "code",
   "execution_count": null,
   "metadata": {},
   "outputs": [],
   "source": [
    "import shap\n",
    "\n",
    "# Create Tree Explainer object that can calculate shap values\n",
    "explainer = shap.TreeExplainer(ensemble)\n",
    "\n",
    "# Evaluate SHAP values\n",
    "shap_values = explainer.shap_values(X_test)\n",
    "shap.summary_plot(shap_values, X_train, feature_names=encoded_dataset.feature_names)"
   ]
  }
 ],
 "metadata": {
  "colab": {
   "provenance": []
  },
  "kernelspec": {
   "display_name": "Python 3 (ipykernel)",
   "language": "python",
   "name": "python3"
  },
  "language_info": {
   "codemirror_mode": {
    "name": "ipython",
    "version": 3
   },
   "file_extension": ".py",
   "mimetype": "text/x-python",
   "name": "python",
   "nbconvert_exporter": "python",
   "pygments_lexer": "ipython3",
   "version": "3.10.10"
  }
 },
 "nbformat": 4,
 "nbformat_minor": 1
}
