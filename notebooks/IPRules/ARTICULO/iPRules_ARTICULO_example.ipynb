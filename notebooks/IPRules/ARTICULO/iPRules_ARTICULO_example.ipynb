{
 "cells": [
  {
   "cell_type": "markdown",
   "metadata": {},
   "source": [
    "\n"
   ]
  },
  {
   "cell_type": "markdown",
   "metadata": {},
   "source": [
    "# Rules Extraction"
   ]
  },
  {
   "cell_type": "markdown",
   "metadata": {},
   "source": [
    "# Statics"
   ]
  },
  {
   "cell_type": "code",
   "execution_count": 1,
   "metadata": {
    "ExecuteTime": {
     "start_time": "2023-04-19T14:43:57.448796Z",
     "end_time": "2023-04-19T14:43:59.737585Z"
    }
   },
   "outputs": [],
   "source": [
    "from sklearn.datasets import load_iris\n",
    "import pandas as pd\n",
    "from sklearn.model_selection import train_test_split\n",
    "import numpy as np\n",
    "import pandas as pd\n",
    "from sklearn.datasets import load_iris\n",
    "from sklearn.utils import Bunch\n",
    "from sklearn.datasets._base import load_csv_data\n",
    "from sklearn import metrics\n",
    "from sklearn.preprocessing import OneHotEncoder\n",
    "from sklearn.compose import make_column_transformer\n",
    "import csv"
   ]
  },
  {
   "cell_type": "markdown",
   "metadata": {},
   "source": [
    "## Load Dataset"
   ]
  },
  {
   "cell_type": "code",
   "execution_count": 2,
   "metadata": {
    "ExecuteTime": {
     "start_time": "2023-04-19T14:43:59.740546Z",
     "end_time": "2023-04-19T14:43:59.789622Z"
    }
   },
   "outputs": [
    {
     "data": {
      "text/plain": "   EMERGENCY_DIA_SHORT_F05  EMERGENCY_DIA_SHORT_J12  EMERGENCY_DIA_SHORT_R06  \\\n0                      0.0                      0.0                      0.0   \n1                      0.0                      0.0                      0.0   \n2                      0.0                      0.0                      0.0   \n3                      0.0                      0.0                      0.0   \n4                      0.0                      0.0                      0.0   \n\n   EMERGENCY_DIA_SHORT_K52  EMERGENCY_DIA_SHORT_I10  EMERGENCY_DIA_SHORT_J22  \\\n0                      0.0                      0.0                      0.0   \n1                      0.0                      0.0                      0.0   \n2                      0.0                      0.0                      0.0   \n3                      0.0                      0.0                      0.0   \n4                      0.0                      0.0                      0.0   \n\n   EMERGENCY_DIA_SHORT_J84  EMERGENCY_DIA_SHORT_E87  EMERGENCY_DIA_SHORT_R09  \\\n0                      0.0                      0.0                      0.0   \n1                      0.0                      0.0                      0.0   \n2                      0.0                      0.0                      0.0   \n3                      0.0                      0.0                      0.0   \n4                      0.0                      0.0                      0.0   \n\n   EMERGENCY_DIA_SHORT_J98  ...  ANTECEDENTS_PROC_BW03ZZZ  \\\n0                      0.0  ...                       1.0   \n1                      0.0  ...                       1.0   \n2                      0.0  ...                       1.0   \n3                      0.0  ...                       0.0   \n4                      0.0  ...                       1.0   \n\n   ANTECEDENTS_PROC_0TPBX0Z  ANTECEDENTS_PROC_F0796FZ  \\\n0                       0.0                       0.0   \n1                       0.0                       0.0   \n2                       0.0                       0.0   \n3                       0.0                       0.0   \n4                       0.0                       0.0   \n\n   ANTECEDENTS_PROC_4A12X4Z  ANTECEDENTS_PROC_3E03329  SEXO  AGE_LOWER_40  \\\n0                       0.0                       1.0     0             0   \n1                       0.0                       1.0     0             0   \n2                       0.0                       1.0     0             0   \n3                       0.0                       0.0     1             0   \n4                       0.0                       0.0     1             0   \n\n   AGE_40_60  AGE_HIGHER_60  RESULT  \n0          0              1       1  \n1          1              0       0  \n2          0              1       0  \n3          1              0       0  \n4          0              1       1  \n\n[5 rows x 120 columns]",
      "text/html": "<div>\n<style scoped>\n    .dataframe tbody tr th:only-of-type {\n        vertical-align: middle;\n    }\n\n    .dataframe tbody tr th {\n        vertical-align: top;\n    }\n\n    .dataframe thead th {\n        text-align: right;\n    }\n</style>\n<table border=\"1\" class=\"dataframe\">\n  <thead>\n    <tr style=\"text-align: right;\">\n      <th></th>\n      <th>EMERGENCY_DIA_SHORT_F05</th>\n      <th>EMERGENCY_DIA_SHORT_J12</th>\n      <th>EMERGENCY_DIA_SHORT_R06</th>\n      <th>EMERGENCY_DIA_SHORT_K52</th>\n      <th>EMERGENCY_DIA_SHORT_I10</th>\n      <th>EMERGENCY_DIA_SHORT_J22</th>\n      <th>EMERGENCY_DIA_SHORT_J84</th>\n      <th>EMERGENCY_DIA_SHORT_E87</th>\n      <th>EMERGENCY_DIA_SHORT_R09</th>\n      <th>EMERGENCY_DIA_SHORT_J98</th>\n      <th>...</th>\n      <th>ANTECEDENTS_PROC_BW03ZZZ</th>\n      <th>ANTECEDENTS_PROC_0TPBX0Z</th>\n      <th>ANTECEDENTS_PROC_F0796FZ</th>\n      <th>ANTECEDENTS_PROC_4A12X4Z</th>\n      <th>ANTECEDENTS_PROC_3E03329</th>\n      <th>SEXO</th>\n      <th>AGE_LOWER_40</th>\n      <th>AGE_40_60</th>\n      <th>AGE_HIGHER_60</th>\n      <th>RESULT</th>\n    </tr>\n  </thead>\n  <tbody>\n    <tr>\n      <th>0</th>\n      <td>0.0</td>\n      <td>0.0</td>\n      <td>0.0</td>\n      <td>0.0</td>\n      <td>0.0</td>\n      <td>0.0</td>\n      <td>0.0</td>\n      <td>0.0</td>\n      <td>0.0</td>\n      <td>0.0</td>\n      <td>...</td>\n      <td>1.0</td>\n      <td>0.0</td>\n      <td>0.0</td>\n      <td>0.0</td>\n      <td>1.0</td>\n      <td>0</td>\n      <td>0</td>\n      <td>0</td>\n      <td>1</td>\n      <td>1</td>\n    </tr>\n    <tr>\n      <th>1</th>\n      <td>0.0</td>\n      <td>0.0</td>\n      <td>0.0</td>\n      <td>0.0</td>\n      <td>0.0</td>\n      <td>0.0</td>\n      <td>0.0</td>\n      <td>0.0</td>\n      <td>0.0</td>\n      <td>0.0</td>\n      <td>...</td>\n      <td>1.0</td>\n      <td>0.0</td>\n      <td>0.0</td>\n      <td>0.0</td>\n      <td>1.0</td>\n      <td>0</td>\n      <td>0</td>\n      <td>1</td>\n      <td>0</td>\n      <td>0</td>\n    </tr>\n    <tr>\n      <th>2</th>\n      <td>0.0</td>\n      <td>0.0</td>\n      <td>0.0</td>\n      <td>0.0</td>\n      <td>0.0</td>\n      <td>0.0</td>\n      <td>0.0</td>\n      <td>0.0</td>\n      <td>0.0</td>\n      <td>0.0</td>\n      <td>...</td>\n      <td>1.0</td>\n      <td>0.0</td>\n      <td>0.0</td>\n      <td>0.0</td>\n      <td>1.0</td>\n      <td>0</td>\n      <td>0</td>\n      <td>0</td>\n      <td>1</td>\n      <td>0</td>\n    </tr>\n    <tr>\n      <th>3</th>\n      <td>0.0</td>\n      <td>0.0</td>\n      <td>0.0</td>\n      <td>0.0</td>\n      <td>0.0</td>\n      <td>0.0</td>\n      <td>0.0</td>\n      <td>0.0</td>\n      <td>0.0</td>\n      <td>0.0</td>\n      <td>...</td>\n      <td>0.0</td>\n      <td>0.0</td>\n      <td>0.0</td>\n      <td>0.0</td>\n      <td>0.0</td>\n      <td>1</td>\n      <td>0</td>\n      <td>1</td>\n      <td>0</td>\n      <td>0</td>\n    </tr>\n    <tr>\n      <th>4</th>\n      <td>0.0</td>\n      <td>0.0</td>\n      <td>0.0</td>\n      <td>0.0</td>\n      <td>0.0</td>\n      <td>0.0</td>\n      <td>0.0</td>\n      <td>0.0</td>\n      <td>0.0</td>\n      <td>0.0</td>\n      <td>...</td>\n      <td>1.0</td>\n      <td>0.0</td>\n      <td>0.0</td>\n      <td>0.0</td>\n      <td>0.0</td>\n      <td>1</td>\n      <td>0</td>\n      <td>0</td>\n      <td>1</td>\n      <td>1</td>\n    </tr>\n  </tbody>\n</table>\n<p>5 rows × 120 columns</p>\n</div>"
     },
     "execution_count": 2,
     "metadata": {},
     "output_type": "execute_result"
    }
   ],
   "source": [
    "# Load Dataset\n",
    "target_true = '1'\n",
    "target_false = '0'\n",
    "test_size = 0.2\n",
    "filename = 'clean_dataset'\n",
    "\n",
    "\n",
    "\n",
    "data_file_name = f'../../../data/{filename}.csv'\n",
    "pandas_dataset = pd.read_csv(data_file_name)\n",
    "\n",
    "target_value_name = pandas_dataset.columns[-1]\n",
    "feature_names = pandas_dataset.columns[0:-1]\n",
    "\n",
    "pandas_dataset.head()\n"
   ]
  },
  {
   "cell_type": "markdown",
   "metadata": {},
   "source": [
    "# Divide dataset"
   ]
  },
  {
   "cell_type": "code",
   "execution_count": 3,
   "metadata": {
    "ExecuteTime": {
     "start_time": "2023-04-19T14:43:59.788316Z",
     "end_time": "2023-04-19T14:43:59.803230Z"
    }
   },
   "outputs": [
    {
     "name": "stdout",
     "output_type": "stream",
     "text": [
      "\n",
      "Sizes (without target):\n",
      "Original size (1744, 119)\n",
      "Train size (1395, 119)\n",
      "Test size (349, 119)\n"
     ]
    }
   ],
   "source": [
    "X = pandas_dataset[feature_names]\n",
    "y = pandas_dataset[target_value_name]\n",
    "\n",
    "dataset = Bunch(\n",
    "        data=X.to_numpy(),\n",
    "        target=y.to_numpy(),\n",
    "        target_names=target_value_name,\n",
    "        feature_names=X.columns\n",
    ")\n",
    "\n",
    "#Define dataset\n",
    "X_train, X_test, y_train, y_test = train_test_split(dataset.data, dataset.target, test_size=test_size, random_state=1)\n",
    "encoded_train_pandas_dataset = pd.DataFrame(data= np.c_[X_train, y_train], columns= list(dataset['feature_names']) + [target_value_name])\n",
    "encoded_test_pandas_dataset = pd.DataFrame(data= np.c_[X_test, y_test], columns= list(dataset['feature_names']) + [target_value_name])\n",
    "print()\n",
    "print('Sizes (without target):')\n",
    "print(f'Original size {dataset.data.shape}')\n",
    "print(f'Train size {X_train.shape}')\n",
    "print(f'Test size {X_test.shape}')"
   ]
  },
  {
   "cell_type": "markdown",
   "metadata": {},
   "source": [
    "## Define Random Forest"
   ]
  },
  {
   "cell_type": "code",
   "execution_count": 4,
   "metadata": {
    "ExecuteTime": {
     "start_time": "2023-04-19T14:43:59.805841Z",
     "end_time": "2023-04-19T14:44:00.278435Z"
    }
   },
   "outputs": [
    {
     "data": {
      "text/plain": "RandomForestClassifier()",
      "text/html": "<style>#sk-container-id-1 {color: black;background-color: white;}#sk-container-id-1 pre{padding: 0;}#sk-container-id-1 div.sk-toggleable {background-color: white;}#sk-container-id-1 label.sk-toggleable__label {cursor: pointer;display: block;width: 100%;margin-bottom: 0;padding: 0.3em;box-sizing: border-box;text-align: center;}#sk-container-id-1 label.sk-toggleable__label-arrow:before {content: \"▸\";float: left;margin-right: 0.25em;color: #696969;}#sk-container-id-1 label.sk-toggleable__label-arrow:hover:before {color: black;}#sk-container-id-1 div.sk-estimator:hover label.sk-toggleable__label-arrow:before {color: black;}#sk-container-id-1 div.sk-toggleable__content {max-height: 0;max-width: 0;overflow: hidden;text-align: left;background-color: #f0f8ff;}#sk-container-id-1 div.sk-toggleable__content pre {margin: 0.2em;color: black;border-radius: 0.25em;background-color: #f0f8ff;}#sk-container-id-1 input.sk-toggleable__control:checked~div.sk-toggleable__content {max-height: 200px;max-width: 100%;overflow: auto;}#sk-container-id-1 input.sk-toggleable__control:checked~label.sk-toggleable__label-arrow:before {content: \"▾\";}#sk-container-id-1 div.sk-estimator input.sk-toggleable__control:checked~label.sk-toggleable__label {background-color: #d4ebff;}#sk-container-id-1 div.sk-label input.sk-toggleable__control:checked~label.sk-toggleable__label {background-color: #d4ebff;}#sk-container-id-1 input.sk-hidden--visually {border: 0;clip: rect(1px 1px 1px 1px);clip: rect(1px, 1px, 1px, 1px);height: 1px;margin: -1px;overflow: hidden;padding: 0;position: absolute;width: 1px;}#sk-container-id-1 div.sk-estimator {font-family: monospace;background-color: #f0f8ff;border: 1px dotted black;border-radius: 0.25em;box-sizing: border-box;margin-bottom: 0.5em;}#sk-container-id-1 div.sk-estimator:hover {background-color: #d4ebff;}#sk-container-id-1 div.sk-parallel-item::after {content: \"\";width: 100%;border-bottom: 1px solid gray;flex-grow: 1;}#sk-container-id-1 div.sk-label:hover label.sk-toggleable__label {background-color: #d4ebff;}#sk-container-id-1 div.sk-serial::before {content: \"\";position: absolute;border-left: 1px solid gray;box-sizing: border-box;top: 0;bottom: 0;left: 50%;z-index: 0;}#sk-container-id-1 div.sk-serial {display: flex;flex-direction: column;align-items: center;background-color: white;padding-right: 0.2em;padding-left: 0.2em;position: relative;}#sk-container-id-1 div.sk-item {position: relative;z-index: 1;}#sk-container-id-1 div.sk-parallel {display: flex;align-items: stretch;justify-content: center;background-color: white;position: relative;}#sk-container-id-1 div.sk-item::before, #sk-container-id-1 div.sk-parallel-item::before {content: \"\";position: absolute;border-left: 1px solid gray;box-sizing: border-box;top: 0;bottom: 0;left: 50%;z-index: -1;}#sk-container-id-1 div.sk-parallel-item {display: flex;flex-direction: column;z-index: 1;position: relative;background-color: white;}#sk-container-id-1 div.sk-parallel-item:first-child::after {align-self: flex-end;width: 50%;}#sk-container-id-1 div.sk-parallel-item:last-child::after {align-self: flex-start;width: 50%;}#sk-container-id-1 div.sk-parallel-item:only-child::after {width: 0;}#sk-container-id-1 div.sk-dashed-wrapped {border: 1px dashed gray;margin: 0 0.4em 0.5em 0.4em;box-sizing: border-box;padding-bottom: 0.4em;background-color: white;}#sk-container-id-1 div.sk-label label {font-family: monospace;font-weight: bold;display: inline-block;line-height: 1.2em;}#sk-container-id-1 div.sk-label-container {text-align: center;}#sk-container-id-1 div.sk-container {/* jupyter's `normalize.less` sets `[hidden] { display: none; }` but bootstrap.min.css set `[hidden] { display: none !important; }` so we also need the `!important` here to be able to override the default hidden behavior on the sphinx rendered scikit-learn.org. See: https://github.com/scikit-learn/scikit-learn/issues/21755 */display: inline-block !important;position: relative;}#sk-container-id-1 div.sk-text-repr-fallback {display: none;}</style><div id=\"sk-container-id-1\" class=\"sk-top-container\"><div class=\"sk-text-repr-fallback\"><pre>RandomForestClassifier()</pre><b>In a Jupyter environment, please rerun this cell to show the HTML representation or trust the notebook. <br />On GitHub, the HTML representation is unable to render, please try loading this page with nbviewer.org.</b></div><div class=\"sk-container\" hidden><div class=\"sk-item\"><div class=\"sk-estimator sk-toggleable\"><input class=\"sk-toggleable__control sk-hidden--visually\" id=\"sk-estimator-id-1\" type=\"checkbox\" checked><label for=\"sk-estimator-id-1\" class=\"sk-toggleable__label sk-toggleable__label-arrow\">RandomForestClassifier</label><div class=\"sk-toggleable__content\"><pre>RandomForestClassifier()</pre></div></div></div></div></div>"
     },
     "execution_count": 4,
     "metadata": {},
     "output_type": "execute_result"
    }
   ],
   "source": [
    "from sklearn.ensemble import RandomForestClassifier\n",
    "from sklearn.model_selection import GridSearchCV\n",
    "from sklearn.metrics import precision_score, make_scorer, recall_score, accuracy_score\n",
    "\n",
    "# Define scorer\n",
    "ensemble = RandomForestClassifier(n_estimators=100)\n",
    "ensemble.fit(X_train, y_train)"
   ]
  },
  {
   "cell_type": "markdown",
   "metadata": {},
   "source": [
    "## iPRules"
   ]
  },
  {
   "cell_type": "code",
   "execution_count": 5,
   "outputs": [
    {
     "data": {
      "text/plain": "<iPRules.iPRules.iPRules at 0x7f9a5c8d7340>"
     },
     "execution_count": 5,
     "metadata": {},
     "output_type": "execute_result"
    }
   ],
   "source": [
    "from iPRules.iPRules import iPRules\n",
    "\n",
    "rules = iPRules(\n",
    "                feature_names=dataset.feature_names,\n",
    "                target_value_name = dataset.target_names,\n",
    "                display_features = False,\n",
    "                display_logs = False,\n",
    "                chi_square_percent_point_function = 0.95,\n",
    "                scale_feature_coefficient = 0.05,\n",
    "                min_accuracy_coefficient = 0.9,\n",
    "                min_number_class_per_node = 2\n",
    "            )\n",
    "# Fit model\n",
    "rules.fit(encoded_train_pandas_dataset, ensemble.feature_importances_)"
   ],
   "metadata": {
    "collapsed": false,
    "ExecuteTime": {
     "start_time": "2023-04-19T14:44:00.283340Z",
     "end_time": "2023-04-19T14:47:30.204851Z"
    }
   }
  },
  {
   "cell_type": "markdown",
   "source": [
    "# Print Model"
   ],
   "metadata": {
    "collapsed": false
   }
  },
  {
   "cell_type": "code",
   "execution_count": 6,
   "outputs": [
    {
     "name": "stdout",
     "output_type": "stream",
     "text": [
      "> ++++++++++++++++++++++++++++\n",
      "> iPRules --  Number of Rules 24:\n",
      "> ++++++++++++++++++++++++++++\n",
      "> ------------------------------\n",
      " ** Target value: 0 ** Target: 12 ** Total: 12 ** Accuracy: 1.0 ** Complexity: 2 ** Chi2 critical_value: 3.841458820694124 ** P_value: 4.425834452817086e-06\n",
      "\t Query: ANTECEDENTS_PROC_3E0337Z == 1.0  &  ANTECEDENTS_DIA_SHORT_R99 == 1\n",
      "> ------------------------------\n",
      "> ------------------------------\n",
      " ** Target value: 0 ** Target: 2 ** Total: 2 ** Accuracy: 1.0 ** Complexity: 7 ** Chi2 critical_value: 3.841458820694124 ** P_value: 9.645676136883248e-07\n",
      "\t Query: ANTECEDENTS_PROC_3E0337Z == 1.0  &  ANTECEDENTS_DIA_SHORT_R99 == 0.0  &  ANTECEDENTS_PROC_3E013NZ == 0.0  &  AGE_HIGHER_60 == 0.0  &  SEXO == 1.0  &  AGE_40_60 == 1.0  &  EMERGENCY_DIA_SHORT_J96 == 1\n",
      "> ------------------------------\n",
      "> ------------------------------\n",
      " ** Target value: 1 ** Target: 22 ** Total: 22 ** Accuracy: 1.0 ** Complexity: 7 ** Chi2 critical_value: 3.841458820694124 ** P_value: 9.645676136883248e-07\n",
      "\t Query: ANTECEDENTS_PROC_3E0337Z == 1.0  &  ANTECEDENTS_DIA_SHORT_R99 == 0.0  &  ANTECEDENTS_PROC_3E013NZ == 0.0  &  AGE_HIGHER_60 == 0.0  &  SEXO == 1.0  &  AGE_40_60 == 1.0  &  EMERGENCY_DIA_SHORT_J96 == 0\n",
      "> ------------------------------\n",
      "> ------------------------------\n",
      " ** Target value: 0 ** Target: 2 ** Total: 2 ** Accuracy: 1.0 ** Complexity: 17 ** Chi2 critical_value: 3.841458820694124 ** P_value: 0.045516463143543906\n",
      "\t Query: ANTECEDENTS_PROC_3E0337Z == 1.0  &  ANTECEDENTS_DIA_SHORT_R99 == 0.0  &  ANTECEDENTS_PROC_3E013NZ == 0.0  &  AGE_HIGHER_60 == 1.0  &  SEXO == 0.0  &  AGE_40_60 == 0.0  &  EMERGENCY_DIA_SHORT_J96 == 0.0  &  ANTECEDENTS_PROC_3E013GC == 0.0  &  ANTECEDENTS_PROC_3E0333Z == 0.0  &  EMERGENCY_DIA_SHORT_J18 == 0.0  &  ANTECEDENTS_DIA_SHORT_F05 == 0.0  &  ANTECEDENTS_DIA_SHORT_I10 == 0.0  &  ANTECEDENTS_PROC_3E033GC == 0.0  &  ANTECEDENTS_PROC_3E033NZ == 1.0  &  ANTECEDENTS_DIA_SHORT_F09 == 0.0  &  ANTECEDENTS_PROC_3E0F7GC == 0.0  &  ANTECEDENTS_PROC_4A02X4Z == 1\n",
      "> ------------------------------\n",
      "> ------------------------------\n",
      " ** Target value: 1 ** Target: 2 ** Total: 2 ** Accuracy: 1.0 ** Complexity: 17 ** Chi2 critical_value: 3.841458820694124 ** P_value: 0.045516463143543906\n",
      "\t Query: ANTECEDENTS_PROC_3E0337Z == 1.0  &  ANTECEDENTS_DIA_SHORT_R99 == 0.0  &  ANTECEDENTS_PROC_3E013NZ == 0.0  &  AGE_HIGHER_60 == 1.0  &  SEXO == 0.0  &  AGE_40_60 == 0.0  &  EMERGENCY_DIA_SHORT_J96 == 0.0  &  ANTECEDENTS_PROC_3E013GC == 0.0  &  ANTECEDENTS_PROC_3E0333Z == 0.0  &  EMERGENCY_DIA_SHORT_J18 == 0.0  &  ANTECEDENTS_DIA_SHORT_F05 == 0.0  &  ANTECEDENTS_DIA_SHORT_I10 == 0.0  &  ANTECEDENTS_PROC_3E033GC == 0.0  &  ANTECEDENTS_PROC_3E033NZ == 1.0  &  ANTECEDENTS_DIA_SHORT_F09 == 0.0  &  ANTECEDENTS_PROC_3E0F7GC == 0.0  &  ANTECEDENTS_PROC_4A02X4Z == 0\n",
      "> ------------------------------\n",
      "> ------------------------------\n",
      " ** Target value: 0 ** Target: 17 ** Total: 17 ** Accuracy: 1.0 ** Complexity: 4 ** Chi2 critical_value: 3.841458820694124 ** P_value: 1.3085028670676294e-05\n",
      "\t Query: ANTECEDENTS_PROC_3E0337Z == 1.0  &  ANTECEDENTS_DIA_SHORT_R99 == 0.0  &  ANTECEDENTS_PROC_3E013NZ == 1.0  &  AGE_HIGHER_60 == 1\n",
      "> ------------------------------\n",
      "> ------------------------------\n",
      " ** Target value: 1 ** Target: 2 ** Total: 2 ** Accuracy: 1.0 ** Complexity: 4 ** Chi2 critical_value: 3.841458820694124 ** P_value: 1.3085028670676294e-05\n",
      "\t Query: ANTECEDENTS_PROC_3E0337Z == 1.0  &  ANTECEDENTS_DIA_SHORT_R99 == 0.0  &  ANTECEDENTS_PROC_3E013NZ == 1.0  &  AGE_HIGHER_60 == 0\n",
      "> ------------------------------\n",
      "> ------------------------------\n",
      " ** Target value: 0 ** Target: 8 ** Total: 8 ** Accuracy: 1.0 ** Complexity: 2 ** Chi2 critical_value: 3.841458820694124 ** P_value: 8.966504326085467e-19\n",
      "\t Query: ANTECEDENTS_PROC_3E0337Z == 0.0  &  ANTECEDENTS_DIA_SHORT_R99 == 1\n",
      "> ------------------------------\n",
      "> ------------------------------\n",
      " ** Target value: 1 ** Target: 179 ** Total: 179 ** Accuracy: 1.0 ** Complexity: 7 ** Chi2 critical_value: 3.841458820694124 ** P_value: 0.005166109444407042\n",
      "\t Query: ANTECEDENTS_PROC_3E0337Z == 0.0  &  ANTECEDENTS_DIA_SHORT_R99 == 0.0  &  ANTECEDENTS_PROC_3E013NZ == 0.0  &  AGE_HIGHER_60 == 0.0  &  SEXO == 0.0  &  AGE_40_60 == 1.0  &  EMERGENCY_DIA_SHORT_J96 == 0\n",
      "> ------------------------------\n",
      "> ------------------------------\n",
      " ** Target value: 1 ** Target: 8 ** Total: 8 ** Accuracy: 1.0 ** Complexity: 12 ** Chi2 critical_value: 3.841458820694124 ** P_value: 0.03844095533679469\n",
      "\t Query: ANTECEDENTS_PROC_3E0337Z == 0.0  &  ANTECEDENTS_DIA_SHORT_R99 == 0.0  &  ANTECEDENTS_PROC_3E013NZ == 0.0  &  AGE_HIGHER_60 == 1.0  &  SEXO == 0.0  &  AGE_40_60 == 0.0  &  EMERGENCY_DIA_SHORT_J96 == 0.0  &  ANTECEDENTS_PROC_3E013GC == 0.0  &  ANTECEDENTS_PROC_3E0333Z == 1.0  &  EMERGENCY_DIA_SHORT_J18 == 0.0  &  ANTECEDENTS_DIA_SHORT_F05 == 0.0  &  ANTECEDENTS_DIA_SHORT_I10 == 0\n",
      "> ------------------------------\n",
      "> ------------------------------\n",
      " ** Target value: 1 ** Target: 8 ** Total: 8 ** Accuracy: 1.0 ** Complexity: 12 ** Chi2 critical_value: 3.841458820694124 ** P_value: 0.028466014502881748\n",
      "\t Query: ANTECEDENTS_PROC_3E0337Z == 0.0  &  ANTECEDENTS_DIA_SHORT_R99 == 0.0  &  ANTECEDENTS_PROC_3E013NZ == 0.0  &  AGE_HIGHER_60 == 1.0  &  SEXO == 0.0  &  AGE_40_60 == 0.0  &  EMERGENCY_DIA_SHORT_J96 == 0.0  &  ANTECEDENTS_PROC_3E013GC == 0.0  &  ANTECEDENTS_PROC_3E0333Z == 1.0  &  EMERGENCY_DIA_SHORT_J18 == 1.0  &  ANTECEDENTS_DIA_SHORT_F05 == 0.0  &  ANTECEDENTS_DIA_SHORT_I10 == 0\n",
      "> ------------------------------\n",
      "> ------------------------------\n",
      " ** Target value: 1 ** Target: 7 ** Total: 7 ** Accuracy: 1.0 ** Complexity: 17 ** Chi2 critical_value: 3.841458820694124 ** P_value: 0.04723546753524112\n",
      "\t Query: ANTECEDENTS_PROC_3E0337Z == 0.0  &  ANTECEDENTS_DIA_SHORT_R99 == 0.0  &  ANTECEDENTS_PROC_3E013NZ == 0.0  &  AGE_HIGHER_60 == 1.0  &  SEXO == 0.0  &  AGE_40_60 == 0.0  &  EMERGENCY_DIA_SHORT_J96 == 0.0  &  ANTECEDENTS_PROC_3E013GC == 0.0  &  ANTECEDENTS_PROC_3E0333Z == 0.0  &  EMERGENCY_DIA_SHORT_J18 == 0.0  &  ANTECEDENTS_DIA_SHORT_F05 == 0.0  &  ANTECEDENTS_DIA_SHORT_I10 == 0.0  &  ANTECEDENTS_PROC_3E033GC == 0.0  &  ANTECEDENTS_PROC_3E033NZ == 1.0  &  ANTECEDENTS_DIA_SHORT_F09 == 0.0  &  ANTECEDENTS_PROC_3E0F7GC == 0.0  &  ANTECEDENTS_PROC_4A02X4Z == 0\n",
      "> ------------------------------\n",
      "> ------------------------------\n",
      " ** Target value: 1 ** Target: 13 ** Total: 13 ** Accuracy: 1.0 ** Complexity: 13 ** Chi2 critical_value: 3.841458820694124 ** P_value: 0.01558094620520269\n",
      "\t Query: ANTECEDENTS_PROC_3E0337Z == 0.0  &  ANTECEDENTS_DIA_SHORT_R99 == 0.0  &  ANTECEDENTS_PROC_3E013NZ == 0.0  &  AGE_HIGHER_60 == 1.0  &  SEXO == 0.0  &  AGE_40_60 == 0.0  &  EMERGENCY_DIA_SHORT_J96 == 0.0  &  ANTECEDENTS_PROC_3E013GC == 1.0  &  ANTECEDENTS_PROC_3E0333Z == 1.0  &  EMERGENCY_DIA_SHORT_J18 == 0.0  &  ANTECEDENTS_DIA_SHORT_F05 == 0.0  &  ANTECEDENTS_DIA_SHORT_I10 == 1.0  &  ANTECEDENTS_PROC_3E033GC == 0\n",
      "> ------------------------------\n",
      "> ------------------------------\n",
      " ** Target value: 0 ** Target: 2 ** Total: 2 ** Accuracy: 1.0 ** Complexity: 10 ** Chi2 critical_value: 3.841458820694124 ** P_value: 0.014311555346746989\n",
      "\t Query: ANTECEDENTS_PROC_3E0337Z == 0.0  &  ANTECEDENTS_DIA_SHORT_R99 == 0.0  &  ANTECEDENTS_PROC_3E013NZ == 0.0  &  AGE_HIGHER_60 == 1.0  &  SEXO == 0.0  &  AGE_40_60 == 0.0  &  EMERGENCY_DIA_SHORT_J96 == 1.0  &  ANTECEDENTS_PROC_3E013GC == 0.0  &  ANTECEDENTS_PROC_3E0333Z == 1.0  &  EMERGENCY_DIA_SHORT_J18 == 1\n",
      "> ------------------------------\n",
      "> ------------------------------\n",
      " ** Target value: 1 ** Target: 4 ** Total: 4 ** Accuracy: 1.0 ** Complexity: 10 ** Chi2 critical_value: 3.841458820694124 ** P_value: 0.014311555346746989\n",
      "\t Query: ANTECEDENTS_PROC_3E0337Z == 0.0  &  ANTECEDENTS_DIA_SHORT_R99 == 0.0  &  ANTECEDENTS_PROC_3E013NZ == 0.0  &  AGE_HIGHER_60 == 1.0  &  SEXO == 0.0  &  AGE_40_60 == 0.0  &  EMERGENCY_DIA_SHORT_J96 == 1.0  &  ANTECEDENTS_PROC_3E013GC == 0.0  &  ANTECEDENTS_PROC_3E0333Z == 1.0  &  EMERGENCY_DIA_SHORT_J18 == 0\n",
      "> ------------------------------\n",
      "> ------------------------------\n",
      " ** Target value: 1 ** Target: 357 ** Total: 359 ** Accuracy: 0.9944289693593314 ** Complexity: 4 ** Chi2 critical_value: 3.841458820694124 ** P_value: 6.40443385507499e-11\n",
      "\t Query: ANTECEDENTS_PROC_3E0337Z == 0.0  &  ANTECEDENTS_DIA_SHORT_R99 == 0.0  &  ANTECEDENTS_PROC_3E013NZ == 0.0  &  AGE_HIGHER_60 == 0\n",
      "> ------------------------------\n",
      "> ------------------------------\n",
      " ** Target value: 1 ** Target: 74 ** Total: 76 ** Accuracy: 0.9736842105263158 ** Complexity: 4 ** Chi2 critical_value: 3.841458820694124 ** P_value: 5.149221119113554e-10\n",
      "\t Query: ANTECEDENTS_PROC_3E0337Z == 1.0  &  ANTECEDENTS_DIA_SHORT_R99 == 0.0  &  ANTECEDENTS_PROC_3E013NZ == 0.0  &  AGE_HIGHER_60 == 0\n",
      "> ------------------------------\n",
      "> ------------------------------\n",
      " ** Target value: 1 ** Target: 130 ** Total: 135 ** Accuracy: 0.9629629629629629 ** Complexity: 8 ** Chi2 critical_value: 3.841458820694124 ** P_value: 1.5893278416388236e-05\n",
      "\t Query: ANTECEDENTS_PROC_3E0337Z == 0.0  &  ANTECEDENTS_DIA_SHORT_R99 == 0.0  &  ANTECEDENTS_PROC_3E013NZ == 0.0  &  AGE_HIGHER_60 == 1.0  &  SEXO == 0.0  &  AGE_40_60 == 0.0  &  EMERGENCY_DIA_SHORT_J96 == 0.0  &  ANTECEDENTS_PROC_3E013GC == 1\n",
      "> ------------------------------\n",
      "> ------------------------------\n",
      " ** Target value: 1 ** Target: 22 ** Total: 23 ** Accuracy: 0.9565217391304348 ** Complexity: 7 ** Chi2 critical_value: 3.841458820694124 ** P_value: 0.005166109444407042\n",
      "\t Query: ANTECEDENTS_PROC_3E0337Z == 0.0  &  ANTECEDENTS_DIA_SHORT_R99 == 0.0  &  ANTECEDENTS_PROC_3E013NZ == 0.0  &  AGE_HIGHER_60 == 0.0  &  SEXO == 0.0  &  AGE_40_60 == 1.0  &  EMERGENCY_DIA_SHORT_J96 == 1\n",
      "> ------------------------------\n",
      "> ------------------------------\n",
      " ** Target value: 1 ** Target: 23 ** Total: 25 ** Accuracy: 0.92 ** Complexity: 10 ** Chi2 critical_value: 3.841458820694124 ** P_value: 0.024767279634537086\n",
      "\t Query: ANTECEDENTS_PROC_3E0337Z == 1.0  &  ANTECEDENTS_DIA_SHORT_R99 == 0.0  &  ANTECEDENTS_PROC_3E013NZ == 0.0  &  AGE_HIGHER_60 == 1.0  &  SEXO == 1.0  &  AGE_40_60 == 0.0  &  EMERGENCY_DIA_SHORT_J96 == 0.0  &  ANTECEDENTS_PROC_3E013GC == 1.0  &  ANTECEDENTS_PROC_3E0333Z == 0.0  &  EMERGENCY_DIA_SHORT_J18 == 0\n",
      "> ------------------------------\n",
      "> ------------------------------\n",
      " ** Target value: 1 ** Target: 928 ** Total: 1010 ** Accuracy: 0.9188118811881189 ** Complexity: 3 ** Chi2 critical_value: 3.841458820694124 ** P_value: 6.077150551843687e-09\n",
      "\t Query: ANTECEDENTS_PROC_3E0337Z == 0.0  &  ANTECEDENTS_DIA_SHORT_R99 == 0.0  &  ANTECEDENTS_PROC_3E013NZ == 0\n",
      "> ------------------------------\n",
      "> ------------------------------\n",
      " ** Target value: 1 ** Target: 932 ** Total: 1020 ** Accuracy: 0.9137254901960784 ** Complexity: 2 ** Chi2 critical_value: 3.841458820694124 ** P_value: 8.966504326085467e-19\n",
      "\t Query: ANTECEDENTS_PROC_3E0337Z == 0.0  &  ANTECEDENTS_DIA_SHORT_R99 == 0\n",
      "> ------------------------------\n",
      "> ------------------------------\n",
      " ** Target value: 1 ** Target: 239 ** Total: 262 ** Accuracy: 0.9122137404580153 ** Complexity: 5 ** Chi2 critical_value: 3.841458820694124 ** P_value: 0.02517028792207548\n",
      "\t Query: ANTECEDENTS_PROC_3E0337Z == 0.0  &  ANTECEDENTS_DIA_SHORT_R99 == 0.0  &  ANTECEDENTS_PROC_3E013NZ == 0.0  &  AGE_HIGHER_60 == 1.0  &  SEXO == 1\n",
      "> ------------------------------\n",
      "> ------------------------------\n",
      " ** Target value: 1 ** Target: 932 ** Total: 1028 ** Accuracy: 0.9066147859922179 ** Complexity: 1 ** Chi2 critical_value: 3.841458820694124 ** P_value: 1.8519343283259382e-34\n",
      "\t Query: ANTECEDENTS_PROC_3E0337Z == 0\n",
      "> ------------------------------\n",
      "\n"
     ]
    }
   ],
   "source": [
    "# DISPLAY DESCRIPTION\n",
    "# print(rules.description())\n",
    "# DISPLAY ALL RULES\n",
    "print(rules)"
   ],
   "metadata": {
    "collapsed": false,
    "ExecuteTime": {
     "start_time": "2023-04-19T14:47:30.206486Z",
     "end_time": "2023-04-19T14:47:30.211713Z"
    }
   }
  },
  {
   "cell_type": "markdown",
   "metadata": {},
   "source": [
    "# Predict"
   ]
  },
  {
   "cell_type": "code",
   "execution_count": 7,
   "outputs": [],
   "source": [
    "# ENSEMBLE\n",
    "y_pred_test_ensemble = ensemble.predict(X_test)\n",
    "\n",
    "# RULES\n",
    "y_pred_test_rules = rules.predict(X_test, sorting_method=\"target_accuracy\")"
   ],
   "metadata": {
    "collapsed": false,
    "ExecuteTime": {
     "start_time": "2023-04-19T14:47:30.212472Z",
     "end_time": "2023-04-19T14:47:30.672738Z"
    }
   }
  },
  {
   "cell_type": "code",
   "execution_count": 8,
   "outputs": [
    {
     "name": "stdout",
     "output_type": "stream",
     "text": [
      "DATASET TEST: 349\n",
      "DATASET TEST categorizable: 285\n",
      "Cobertura: 81.66%\n",
      "RF accuracy: 88.42%\n",
      "Rules Accuracy: 10.88%\n"
     ]
    }
   ],
   "source": [
    "# CATEGORIZABLES\n",
    "np_array_rules = np.array(y_pred_test_rules)\n",
    "#not_filter_indices = np.where(np.logical_and(np_array_rules != 0, np_array_rules!=1))[0]\n",
    "filter_indices = np.where(np_array_rules != None)[0]\n",
    "\n",
    "\n",
    "np_filterred_y_test = np.array(y_test)[filter_indices]\n",
    "np_filterred_y_pred_test_ensemble = np.array(y_pred_test_ensemble)[filter_indices]\n",
    "np_filterred_y_pred_test_rules = np.array(y_pred_test_rules)[filter_indices]\n",
    "# CHANGE FORMAT IN ORDER TO NOT HAVE PROBLEMS\n",
    "np_filterred_y_pred_test_rules = np_filterred_y_pred_test_rules.astype('int64')\n",
    "\n",
    "\n",
    "print(f'DATASET TEST: {len(y_test)}')\n",
    "print(f'DATASET TEST categorizable: {len(np_filterred_y_test)}')\n",
    "print('Cobertura:',str(\"{:.2f}\".format(100*(len(np_filterred_y_pred_test_rules)/len(y_test))))+'%')\n",
    "\n",
    "ensemble_accuracy = metrics.accuracy_score(np_filterred_y_test, np_filterred_y_pred_test_ensemble, normalize=True)\n",
    "print('RF accuracy:',str(\"{:.2f}\".format(100*ensemble_accuracy))+'%')\n",
    "rules_accuracy = metrics.accuracy_score(np_filterred_y_test, np_filterred_y_pred_test_rules, normalize=True)\n",
    "print('Rules Accuracy:',str(\"{:.2f}\".format(100*rules_accuracy))+'%')\n"
   ],
   "metadata": {
    "collapsed": false,
    "ExecuteTime": {
     "start_time": "2023-04-19T14:47:30.671717Z",
     "end_time": "2023-04-19T14:47:30.679857Z"
    }
   }
  },
  {
   "cell_type": "markdown",
   "source": [
    "# CONFUSION MATRIX"
   ],
   "metadata": {
    "collapsed": false
   }
  },
  {
   "cell_type": "code",
   "execution_count": 9,
   "outputs": [
    {
     "name": "stdout",
     "output_type": "stream",
     "text": [
      "[[  1 244]\n",
      " [ 10  30]]\n"
     ]
    },
    {
     "ename": "TypeError",
     "evalue": "'numpy.ndarray' object is not callable",
     "output_type": "error",
     "traceback": [
      "\u001B[0;31m---------------------------------------------------------------------------\u001B[0m",
      "\u001B[0;31mTypeError\u001B[0m                                 Traceback (most recent call last)",
      "Cell \u001B[0;32mIn[9], line 3\u001B[0m\n\u001B[1;32m      1\u001B[0m confusion_matrix \u001B[38;5;241m=\u001B[39m metrics\u001B[38;5;241m.\u001B[39mconfusion_matrix(np_filterred_y_test, np_filterred_y_pred_test_rules)\n\u001B[1;32m      2\u001B[0m \u001B[38;5;28mprint\u001B[39m(confusion_matrix)\n\u001B[0;32m----> 3\u001B[0m \u001B[43mconfusion_matrix\u001B[49m\u001B[43m(\u001B[49m\u001B[43mnp_filterred_y_test\u001B[49m\u001B[43m,\u001B[49m\u001B[43m \u001B[49m\u001B[43mnp_filterred_y_pred_test_rules\u001B[49m\u001B[43m,\u001B[49m\u001B[43m \u001B[49m\u001B[43mlabels\u001B[49m\u001B[38;5;241;43m=\u001B[39;49m\u001B[43mdataset\u001B[49m\u001B[38;5;241;43m.\u001B[39;49m\u001B[43mfeature_names\u001B[49m\u001B[43m)\u001B[49m\n",
      "\u001B[0;31mTypeError\u001B[0m: 'numpy.ndarray' object is not callable"
     ]
    }
   ],
   "source": [
    "\n",
    "confusion_matrix = metrics.confusion_matrix(np_filterred_y_test, np_filterred_y_pred_test_rules)\n",
    "print(confusion_matrix)\n",
    "confusion_matrix(np_filterred_y_test, np_filterred_y_pred_test_rules, labels=dataset.feature_names)"
   ],
   "metadata": {
    "collapsed": false
   }
  },
  {
   "cell_type": "markdown",
   "metadata": {},
   "source": [
    "# SHAP explainer"
   ]
  },
  {
   "cell_type": "code",
   "execution_count": null,
   "metadata": {},
   "outputs": [],
   "source": [
    "import shap\n",
    "\n",
    "# Create Tree Explainer object that can calculate shap values\n",
    "explainer = shap.TreeExplainer(ensemble)\n",
    "\n",
    "# Evaluate SHAP values\n",
    "shap_values = explainer.shap_values(X_test)\n",
    "shap.summary_plot(shap_values, X_train, feature_names=dataset.feature_names)"
   ]
  },
  {
   "cell_type": "code",
   "execution_count": null,
   "outputs": [],
   "source": [],
   "metadata": {
    "collapsed": false
   }
  }
 ],
 "metadata": {
  "colab": {
   "provenance": []
  },
  "kernelspec": {
   "display_name": "Python 3 (ipykernel)",
   "language": "python",
   "name": "python3"
  },
  "language_info": {
   "codemirror_mode": {
    "name": "ipython",
    "version": 3
   },
   "file_extension": ".py",
   "mimetype": "text/x-python",
   "name": "python",
   "nbconvert_exporter": "python",
   "pygments_lexer": "ipython3",
   "version": "3.10.10"
  }
 },
 "nbformat": 4,
 "nbformat_minor": 1
}
